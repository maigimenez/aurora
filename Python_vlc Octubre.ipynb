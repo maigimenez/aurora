{
 "metadata": {
  "name": "",
  "signature": "sha256:8daedceac6ee8e3b35e6fd51cbc794752716a48678601d63350e29644a070e81"
 },
 "nbformat": 3,
 "nbformat_minor": 0,
 "worksheets": [
  {
   "cells": [
    {
     "cell_type": "heading",
     "level": 1,
     "metadata": {},
     "source": [
      "Marvelous data"
     ]
    },
    {
     "cell_type": "markdown",
     "metadata": {},
     "source": [
      "Examinando datos con pandas"
     ]
    },
    {
     "cell_type": "code",
     "collapsed": false,
     "input": [
      "speaker = {'name':'Mai Gim\u00e9nez', \n",
      "           'twitter': '@adahopper'}\n",
      "\n",
      "print('\\n'.join([\"{}: {}\".format(k, v) for k,v in speaker.items()]))"
     ],
     "language": "python",
     "metadata": {},
     "outputs": [
      {
       "output_type": "stream",
       "stream": "stdout",
       "text": [
        "name: Mai Gim\u00e9nez\n",
        "twitter: @adahopper\n"
       ]
      }
     ],
     "prompt_number": 16
    },
    {
     "cell_type": "code",
     "collapsed": false,
     "input": [
      "from IPython.display import Image\n",
      "Image(filename='marvel_logo.jpg')"
     ],
     "language": "python",
     "metadata": {},
     "outputs": [
      {
       "jpeg": "[encoded data removed]",
       "metadata": {},
       "output_type": "pyout",
       "prompt_number": 22,
       "text": [
        "<IPython.core.display.Image at 0x108db02d0>"
       ]
      }
     ],
     "prompt_number": 22
    },
    {
     "cell_type": "markdown",
     "metadata": {},
     "source": [
      "Marvel, es una editorial de c\u00f3mics estadounidense fundada por Martin Goodman en 1939. Aunque la marvel tal y como hoy la conocemos data de 1961 con la publicaci\u00f3n de *Los cuatro fant\u00e1sticos* y otras historias de superh\u00e9roes creadas por Stan Lee, Jack Kirbi, Steve Ditko,... \n",
      "\n",
      "Marvel publica a personajes archiconocidos como:\n",
      "*   Spider-Man\n",
      "*   X-Men\n",
      "*   Captain America\n",
      "*   Guardians of the Galaxy\n",
      "*   ...\n",
      "\n",
      "[Wikipedia]\n",
      "\n",
      "\u00a1Y todos estos datos son **nuestros**!"
     ]
    },
    {
     "cell_type": "heading",
     "level": 2,
     "metadata": {},
     "source": [
      "Recopilar datos"
     ]
    },
    {
     "cell_type": "code",
     "collapsed": false,
     "input": [
      "from IPython.core.display import HTML\n",
      "MARVEL_DEV_SITE = \"http://developer.marvel.com/\"\n",
      "HTML(\"<iframe src={} width=800 height=600></iframe>\".format(MARVEL_DEV_SITE))"
     ],
     "language": "python",
     "metadata": {},
     "outputs": [
      {
       "html": [
        "<iframe src=http://developer.marvel.com/ width=800 height=600></iframe>"
       ],
       "metadata": {},
       "output_type": "pyout",
       "prompt_number": 23,
       "text": [
        "<IPython.core.display.HTML at 0x108db0490>"
       ]
      }
     ],
     "prompt_number": 23
    },
    {
     "cell_type": "heading",
     "level": 2,
     "metadata": {},
     "source": [
      "Pandas time!"
     ]
    },
    {
     "cell_type": "markdown",
     "metadata": {},
     "source": [
      "Pandas es una librer\u00eda de c\u00f3digo abierto, con licencia BSD, que permite trabajar eficientemente analizando datos en python.\n",
      "\n",
      "A pandas se le da bien:\n",
      "- Estrucutras de datos eficientes (**DataFrames**) para trabajar con datos indexados.\n",
      "- Herramientas para **leer y escribir datos eficientemente**. Es capaz de trabajar con distintos formatos:\n",
      "    - Csv.\n",
      "    - Ficheros de texto.\n",
      "    - Microsoft Excel.\n",
      "    - Bases de datos SQL.\n",
      "    - HDF5 format.\n",
      "    - ...\n",
      "- **Remodelado** flexible y alternancia entre conjuntos de datos.\n",
      "- Selecci\u00f3n inteligente basado en etiquetas, indexaci\u00f3n compleja, selecci\u00f3n de **subconjuntos** en grandes conjuntos de datos.\n",
      "- Se pueden insertar y borrar columnas: **mutabilidad** de los conjuntos de datos.\n",
      "- **Agrupado y fusionados** sencillo de conjuntos de datos.\n",
      "- **Funciones para series de tiempos**: gestiona eficientemente rangos de fechas.\n",
      "- ..."
     ]
    },
    {
     "cell_type": "code",
     "collapsed": false,
     "input": [
      "PANDAS_DEV_SITE = \"http://pandas.pydata.org/\"\n",
      "HTML(\"<iframe src={} width=800 height=600></iframe>\".format(PANDAS_DEV_SITE))"
     ],
     "language": "python",
     "metadata": {},
     "outputs": [
      {
       "html": [
        "<iframe src=http://pandas.pydata.org/ width=800 height=600></iframe>"
       ],
       "metadata": {},
       "output_type": "pyout",
       "prompt_number": 101,
       "text": [
        "<IPython.core.display.HTML at 0x10a08a050>"
       ]
      }
     ],
     "prompt_number": 101
    },
    {
     "cell_type": "code",
     "collapsed": false,
     "input": [
      "import pandas as pd\n",
      "import sys\n",
      "import datetime as dt\n",
      "import numpy as np\n",
      "import matplotlib.pyplot as plt\n",
      "import matplotlib\n",
      "\n",
      "%matplotlib inline\n",
      "\n",
      "print(\"Versi\u00f3n de Python:     \", sys.version)\n",
      "print(\"Versi\u00f3n de Pandas:     \", pd.version.short_version)\n",
      "print(\"Versi\u00f3n de Numpy:      \", np.version.short_version)\n",
      "print(\"Versi\u00f3n de Matplotlib: \", matplotlib.__version__)"
     ],
     "language": "python",
     "metadata": {},
     "outputs": [
      {
       "output_type": "stream",
       "stream": "stdout",
       "text": [
        "Versi\u00f3n de Python:      3.3.4 (default, Jul 25 2014, 00:04:27) \n",
        "[GCC 4.2.1 Compatible Apple LLVM 5.1 (clang-503.0.40)]\n",
        "Versi\u00f3n de Pandas:      0.14.1\n",
        "Versi\u00f3n de Numpy:       1.8.2\n",
        "Versi\u00f3n de Matplotlib:  1.4.0\n"
       ]
      }
     ],
     "prompt_number": 191
    },
    {
     "cell_type": "heading",
     "level": 3,
     "metadata": {},
     "source": [
      "Leer los datos"
     ]
    },
    {
     "cell_type": "markdown",
     "metadata": {},
     "source": [
      "Marvel s\u00f3lo nos deja buscar hasta 100 personajes/c\u00f3mics cada vez. \n",
      "Tenemos una liber\u00eda para acceder directamente a la api de Marvel en python desarrollada por Garrett Pennington [pymarvel](https://github.com/gpennington/PyMarvel \"pymarvel\") en python 2 y est\u00e1 portada a python 3 en [pymarvel3](https://github.com/mshopper/PyMarvel \"pymarvel3\")\n",
      "\n",
      "Lo primero que deber\u00edamos hacer es recoger informaci\u00f3n de las web y almacenarnoslas. \n",
      "Pero, a alguien m\u00e1s se le ha ocurrido eso, y no vamos a reinventar la rueda. @asamiller ha desarrollado una app en node.js que explora la api de marvel y almacena los datos usando Orches [Orchestrate](https://orchestrate.io/ \"Orchestrate\"). Tenemos el c\u00f3digo disponible en [github]( https://github.com/asamiller/marvelousdb \"Marvelus DB\")."
     ]
    },
    {
     "cell_type": "code",
     "collapsed": false,
     "input": [
      "from os.path import join, abspath, isfile \n",
      "from os import listdir, getcwd, pardir\n",
      "\n",
      "MARVELOUSDB_PATH = join(abspath(join(getcwd(), pardir)),\"marvelousdb\",\"data\")\n",
      "MARVELOUSDB_CHARACTERS = join(MARVELOUSDB_PATH,\"characters\")\n",
      "MARVELOUSDB_COMICS = join(MARVELOUSDB_PATH,\"comics\")"
     ],
     "language": "python",
     "metadata": {},
     "outputs": [],
     "prompt_number": 80
    },
    {
     "cell_type": "code",
     "collapsed": false,
     "input": [
      "characters_json_db = [join(MARVELOUSDB_CHARACTERS,json_file) for json_file in listdir(MARVELOUSDB_CHARACTERS)]\n",
      "comics_json_db = [join(MARVELOUSDB_COMICS,json_file) for json_file in listdir(MARVELOUSDB_COMICS)]\n",
      "print(\"En MarvelousDB tenemos un backup de {} personajes y {} c\u00f3mics\".format(len(characters_json_db),\n",
      "                                                                             len(comics_json_db)))"
     ],
     "language": "python",
     "metadata": {},
     "outputs": [
      {
       "output_type": "stream",
       "stream": "stdout",
       "text": [
        "En MarvelousDB tenemos un backup de 1402 personajes y 30180 c\u00f3mics\n"
       ]
      }
     ],
     "prompt_number": 64
    },
    {
     "cell_type": "heading",
     "level": 3,
     "metadata": {},
     "source": [
      "DataFrame"
     ]
    },
    {
     "cell_type": "markdown",
     "metadata": {},
     "source": [
      "Un DataFrame es una estructura de 2 dimensiones con datos etiqueatados en columnas. Los datos que componen un dataframe pueden ser de distintos tipos. \n",
      "Piensa en un dataframe como si fuera una hoja de c\u00e1culo o una tabla SQL. \n",
      "\n",
      "Puedes formar un dataframe usando:\n",
      "- Diccionarios 1D de ndarrays, listas, diccionarios o series (Pandas).\n",
      "- Una matriz 2D ndarray.\n",
      "- Otro dataframe\n",
      "- ...\n",
      "\n",
      "Al crear un dataframe, tambi\u00e9n puedes indicar los \u00edndices (etiquetas para las filas) y las columnas. Si no pasamos estas etiquetas como argumentos pandas crear\u00e1 un dataframe usando el sentido com\u00fan."
     ]
    },
    {
     "cell_type": "markdown",
     "metadata": {},
     "source": [
      "En nuestro caso, leeremos todos los ficheros json y crearemos un DataFrame. Como tenemos informaci\u00f3n jer\u00e1rquica en los ficheros json necesitamos normalizar los datos, pero pandas tiene funciones que lo hacen por nosotros."
     ]
    },
    {
     "cell_type": "heading",
     "level": 4,
     "metadata": {},
     "source": [
      "Idiomatic"
     ]
    },
    {
     "cell_type": "code",
     "collapsed": false,
     "input": [
      "import json"
     ],
     "language": "python",
     "metadata": {},
     "outputs": [],
     "prompt_number": 72
    },
    {
     "cell_type": "code",
     "collapsed": false,
     "input": [
      "json_to_dataframe = []\n",
      "for json_file in characters_json_db:\n",
      "    with open(json_file, 'r') as jf:\n",
      "        json_character = json.loads(''.join(jf.readlines()))\n",
      "        json_plain = pd.io.json.json_normalize(json_character)\n",
      "        json_to_dataframe.append(json_plain)\n",
      "        \n",
      "characters_df = pd.concat(json_to_dataframe)"
     ],
     "language": "python",
     "metadata": {},
     "outputs": [],
     "prompt_number": 127
    },
    {
     "cell_type": "heading",
     "level": 4,
     "metadata": {},
     "source": [
      "Non idiomatic"
     ]
    },
    {
     "cell_type": "code",
     "collapsed": false,
     "input": [
      "df = pd.concat([pd.io.json.json_normalize(json.loads(''.join(open(json_file,'r').readlines()))) \n",
      "                for json_file in characters_json_db])"
     ],
     "language": "python",
     "metadata": {},
     "outputs": [],
     "prompt_number": 74
    },
    {
     "cell_type": "code",
     "collapsed": false,
     "input": [
      "comics_df = pd.concat([pd.io.json.json_normalize(json.loads(''.join(open(json_file,'r').readlines()))) \n",
      "                       for json_file in comics_json_db if isfile(json_file)])"
     ],
     "language": "python",
     "metadata": {},
     "outputs": [],
     "prompt_number": 82
    },
    {
     "cell_type": "markdown",
     "metadata": {},
     "source": [
      "Podemos realizar operaciones l\u00f3gica sobre todos los elementos de un DataFrame, son operaciones vectoiales. "
     ]
    },
    {
     "cell_type": "code",
     "collapsed": false,
     "input": [
      "all(df == characters_df)"
     ],
     "language": "python",
     "metadata": {},
     "outputs": [
      {
       "metadata": {},
       "output_type": "pyout",
       "prompt_number": 75,
       "text": [
        "True"
       ]
      }
     ],
     "prompt_number": 75
    },
    {
     "cell_type": "markdown",
     "metadata": {},
     "source": [
      "\u00bfY que pinta tiene un DataFrame?"
     ]
    },
    {
     "cell_type": "code",
     "collapsed": false,
     "input": [
      "characters_df.head()"
     ],
     "language": "python",
     "metadata": {},
     "outputs": [
      {
       "html": [
        "<div style=\"max-height:1000px;max-width:1500px;overflow:auto;\">\n",
        "<table border=\"1\" class=\"dataframe\">\n",
        "  <thead>\n",
        "    <tr style=\"text-align: right;\">\n",
        "      <th></th>\n",
        "      <th>comics.available</th>\n",
        "      <th>comics.collectionURI</th>\n",
        "      <th>comics.items</th>\n",
        "      <th>comics.returned</th>\n",
        "      <th>description</th>\n",
        "      <th>events.available</th>\n",
        "      <th>events.collectionURI</th>\n",
        "      <th>events.items</th>\n",
        "      <th>events.returned</th>\n",
        "      <th>id</th>\n",
        "      <th>...</th>\n",
        "      <th>wiki.specieshistory</th>\n",
        "      <th>wiki.team_name</th>\n",
        "      <th>wiki.teamicon</th>\n",
        "      <th>wiki.technology</th>\n",
        "      <th>wiki.tie-ins</th>\n",
        "      <th>wiki.title_graphic</th>\n",
        "      <th>wiki.universe</th>\n",
        "      <th>wiki.weapons</th>\n",
        "      <th>wiki.weaponss</th>\n",
        "      <th>wiki.weight</th>\n",
        "    </tr>\n",
        "  </thead>\n",
        "  <tbody>\n",
        "    <tr>\n",
        "      <th>0</th>\n",
        "      <td> 36</td>\n",
        "      <td> http://gateway.marvel.com/v1/public/characters...</td>\n",
        "      <td> [{'name': 'Marvel Adventures Super Heroes (201...</td>\n",
        "      <td> 36</td>\n",
        "      <td> AIM is a terrorist organization bent on destro...</td>\n",
        "      <td> 0</td>\n",
        "      <td> http://gateway.marvel.com/v1/public/characters...</td>\n",
        "      <td>                                                []</td>\n",
        "      <td> 0</td>\n",
        "      <td> 1009144</td>\n",
        "      <td>...</td>\n",
        "      <td> NaN</td>\n",
        "      <td> NaN</td>\n",
        "      <td> NaN</td>\n",
        "      <td> NaN</td>\n",
        "      <td> NaN</td>\n",
        "      <td> NaN</td>\n",
        "      <td> [[Marvel Universe]]</td>\n",
        "      <td>                                               NaN</td>\n",
        "      <td> NaN</td>\n",
        "      <td>                                        NaN</td>\n",
        "    </tr>\n",
        "    <tr>\n",
        "      <th>0</th>\n",
        "      <td> 43</td>\n",
        "      <td> http://gateway.marvel.com/v1/public/characters...</td>\n",
        "      <td> [{'name': 'Incredible Hulks (2009) #619', 'id'...</td>\n",
        "      <td> 43</td>\n",
        "      <td> Formerly known as Emil Blonsky, a spy of Sovie...</td>\n",
        "      <td> 2</td>\n",
        "      <td> http://gateway.marvel.com/v1/public/characters...</td>\n",
        "      <td> [{'name': 'Chaos War', 'resourceURI': 'http://...</td>\n",
        "      <td> 2</td>\n",
        "      <td> 1009146</td>\n",
        "      <td>...</td>\n",
        "      <td> NaN</td>\n",
        "      <td> NaN</td>\n",
        "      <td> NaN</td>\n",
        "      <td> NaN</td>\n",
        "      <td> NaN</td>\n",
        "      <td> NaN</td>\n",
        "      <td>     Marvel Universe</td>\n",
        "      <td>                                              None</td>\n",
        "      <td> NaN</td>\n",
        "      <td> (Abomination) 980 lbs.; (Blonsky) 180 lbs.</td>\n",
        "    </tr>\n",
        "    <tr>\n",
        "      <th>0</th>\n",
        "      <td> 43</td>\n",
        "      <td> http://gateway.marvel.com/v1/public/characters...</td>\n",
        "      <td> [{'name': 'Avengers Academy (2010) #21', 'id':...</td>\n",
        "      <td> 43</td>\n",
        "      <td>                                                  </td>\n",
        "      <td> 4</td>\n",
        "      <td> http://gateway.marvel.com/v1/public/characters...</td>\n",
        "      <td> [{'name': 'Fear Itself', 'resourceURI': 'http:...</td>\n",
        "      <td> 4</td>\n",
        "      <td> 1009148</td>\n",
        "      <td>...</td>\n",
        "      <td> NaN</td>\n",
        "      <td> NaN</td>\n",
        "      <td> NaN</td>\n",
        "      <td> NaN</td>\n",
        "      <td> NaN</td>\n",
        "      <td> NaN</td>\n",
        "      <td> [[Marvel Universe]]</td>\n",
        "      <td> He uses a prison ball-and-chain as a weapon, a...</td>\n",
        "      <td> NaN</td>\n",
        "      <td>                        365 lbs. (variable)</td>\n",
        "    </tr>\n",
        "    <tr>\n",
        "      <th>0</th>\n",
        "      <td>  8</td>\n",
        "      <td> http://gateway.marvel.com/v1/public/characters...</td>\n",
        "      <td> [{'name': 'Uncanny X-Men (1963) #402', 'resour...</td>\n",
        "      <td>  8</td>\n",
        "      <td>                                                  </td>\n",
        "      <td> 1</td>\n",
        "      <td> http://gateway.marvel.com/v1/public/characters...</td>\n",
        "      <td> [{'name': 'Age of Apocalypse', 'resourceURI': ...</td>\n",
        "      <td> 1</td>\n",
        "      <td> 1009149</td>\n",
        "      <td>...</td>\n",
        "      <td> NaN</td>\n",
        "      <td> NaN</td>\n",
        "      <td> NaN</td>\n",
        "      <td> NaN</td>\n",
        "      <td> NaN</td>\n",
        "      <td> NaN</td>\n",
        "      <td> [[Marvel Universe]]</td>\n",
        "      <td>                                        Unrevealed</td>\n",
        "      <td> NaN</td>\n",
        "      <td>                                 Unrevealed</td>\n",
        "    </tr>\n",
        "    <tr>\n",
        "      <th>0</th>\n",
        "      <td> 20</td>\n",
        "      <td> http://gateway.marvel.com/v1/public/characters...</td>\n",
        "      <td> [{'name': 'Weapon X: Days of Future Now (Trade...</td>\n",
        "      <td> 20</td>\n",
        "      <td>                                                  </td>\n",
        "      <td> 0</td>\n",
        "      <td> http://gateway.marvel.com/v1/public/characters...</td>\n",
        "      <td>                                                []</td>\n",
        "      <td> 0</td>\n",
        "      <td> 1009150</td>\n",
        "      <td>...</td>\n",
        "      <td> NaN</td>\n",
        "      <td> NaN</td>\n",
        "      <td> NaN</td>\n",
        "      <td> NaN</td>\n",
        "      <td> NaN</td>\n",
        "      <td> NaN</td>\n",
        "      <td> [[Marvel Universe]]</td>\n",
        "      <td> Agent Zero carries a wide array of weapons inc...</td>\n",
        "      <td> NaN</td>\n",
        "      <td>                                   230 lbs.</td>\n",
        "    </tr>\n",
        "  </tbody>\n",
        "</table>\n",
        "<p>5 rows \u00d7 89 columns</p>\n",
        "</div>"
       ],
       "metadata": {},
       "output_type": "pyout",
       "prompt_number": 79,
       "text": [
        "   comics.available                               comics.collectionURI  \\\n",
        "0                36  http://gateway.marvel.com/v1/public/characters...   \n",
        "0                43  http://gateway.marvel.com/v1/public/characters...   \n",
        "0                43  http://gateway.marvel.com/v1/public/characters...   \n",
        "0                 8  http://gateway.marvel.com/v1/public/characters...   \n",
        "0                20  http://gateway.marvel.com/v1/public/characters...   \n",
        "\n",
        "                                        comics.items  comics.returned  \\\n",
        "0  [{'name': 'Marvel Adventures Super Heroes (201...               36   \n",
        "0  [{'name': 'Incredible Hulks (2009) #619', 'id'...               43   \n",
        "0  [{'name': 'Avengers Academy (2010) #21', 'id':...               43   \n",
        "0  [{'name': 'Uncanny X-Men (1963) #402', 'resour...                8   \n",
        "0  [{'name': 'Weapon X: Days of Future Now (Trade...               20   \n",
        "\n",
        "                                         description  events.available  \\\n",
        "0  AIM is a terrorist organization bent on destro...                 0   \n",
        "0  Formerly known as Emil Blonsky, a spy of Sovie...                 2   \n",
        "0                                                                    4   \n",
        "0                                                                    1   \n",
        "0                                                                    0   \n",
        "\n",
        "                                events.collectionURI  \\\n",
        "0  http://gateway.marvel.com/v1/public/characters...   \n",
        "0  http://gateway.marvel.com/v1/public/characters...   \n",
        "0  http://gateway.marvel.com/v1/public/characters...   \n",
        "0  http://gateway.marvel.com/v1/public/characters...   \n",
        "0  http://gateway.marvel.com/v1/public/characters...   \n",
        "\n",
        "                                        events.items  events.returned  \\\n",
        "0                                                 []                0   \n",
        "0  [{'name': 'Chaos War', 'resourceURI': 'http://...                2   \n",
        "0  [{'name': 'Fear Itself', 'resourceURI': 'http:...                4   \n",
        "0  [{'name': 'Age of Apocalypse', 'resourceURI': ...                1   \n",
        "0                                                 []                0   \n",
        "\n",
        "        id   ...    wiki.specieshistory wiki.team_name wiki.teamicon  \\\n",
        "0  1009144   ...                    NaN            NaN           NaN   \n",
        "0  1009146   ...                    NaN            NaN           NaN   \n",
        "0  1009148   ...                    NaN            NaN           NaN   \n",
        "0  1009149   ...                    NaN            NaN           NaN   \n",
        "0  1009150   ...                    NaN            NaN           NaN   \n",
        "\n",
        "   wiki.technology wiki.tie-ins wiki.title_graphic        wiki.universe  \\\n",
        "0              NaN          NaN                NaN  [[Marvel Universe]]   \n",
        "0              NaN          NaN                NaN      Marvel Universe   \n",
        "0              NaN          NaN                NaN  [[Marvel Universe]]   \n",
        "0              NaN          NaN                NaN  [[Marvel Universe]]   \n",
        "0              NaN          NaN                NaN  [[Marvel Universe]]   \n",
        "\n",
        "                                        wiki.weapons wiki.weaponss  \\\n",
        "0                                                NaN           NaN   \n",
        "0                                               None           NaN   \n",
        "0  He uses a prison ball-and-chain as a weapon, a...           NaN   \n",
        "0                                         Unrevealed           NaN   \n",
        "0  Agent Zero carries a wide array of weapons inc...           NaN   \n",
        "\n",
        "                                  wiki.weight  \n",
        "0                                         NaN  \n",
        "0  (Abomination) 980 lbs.; (Blonsky) 180 lbs.  \n",
        "0                         365 lbs. (variable)  \n",
        "0                                  Unrevealed  \n",
        "0                                    230 lbs.  \n",
        "\n",
        "[5 rows x 89 columns]"
       ]
      }
     ],
     "prompt_number": 79
    },
    {
     "cell_type": "code",
     "collapsed": false,
     "input": [
      "comics_df.tail()"
     ],
     "language": "python",
     "metadata": {},
     "outputs": [
      {
       "html": [
        "<div style=\"max-height:1000px;max-width:1500px;overflow:auto;\">\n",
        "<table border=\"1\" class=\"dataframe\">\n",
        "  <thead>\n",
        "    <tr style=\"text-align: right;\">\n",
        "      <th></th>\n",
        "      <th>characters.available</th>\n",
        "      <th>characters.collectionURI</th>\n",
        "      <th>characters.items</th>\n",
        "      <th>characters.returned</th>\n",
        "      <th>collectedIssues</th>\n",
        "      <th>collections</th>\n",
        "      <th>creators.available</th>\n",
        "      <th>creators.collectionURI</th>\n",
        "      <th>creators.items</th>\n",
        "      <th>creators.returned</th>\n",
        "      <th>...</th>\n",
        "      <th>stories.items</th>\n",
        "      <th>stories.returned</th>\n",
        "      <th>textObjects</th>\n",
        "      <th>thumbnail.extension</th>\n",
        "      <th>thumbnail.path</th>\n",
        "      <th>title</th>\n",
        "      <th>upc</th>\n",
        "      <th>urls</th>\n",
        "      <th>variantDescription</th>\n",
        "      <th>variants</th>\n",
        "    </tr>\n",
        "  </thead>\n",
        "  <tbody>\n",
        "    <tr>\n",
        "      <th>0</th>\n",
        "      <td> 0</td>\n",
        "      <td> http://gateway.marvel.com/v1/public/comics/999...</td>\n",
        "      <td>                                                []</td>\n",
        "      <td> 0</td>\n",
        "      <td> []</td>\n",
        "      <td> []</td>\n",
        "      <td> 0</td>\n",
        "      <td> http://gateway.marvel.com/v1/public/comics/999...</td>\n",
        "      <td>                                                []</td>\n",
        "      <td> 0</td>\n",
        "      <td>...</td>\n",
        "      <td> [{'type': '', 'name': '', 'resourceURI': 'http...</td>\n",
        "      <td> 2</td>\n",
        "      <td> []</td>\n",
        "      <td> jpg</td>\n",
        "      <td> http://i.annihil.us/u/prod/marvel/i/mg/b/40/im...</td>\n",
        "      <td> Love Romances (1949) #94</td>\n",
        "      <td> </td>\n",
        "      <td> [{'type': 'detail', 'url': 'http://marvel.com/...</td>\n",
        "      <td> </td>\n",
        "      <td> []</td>\n",
        "    </tr>\n",
        "    <tr>\n",
        "      <th>0</th>\n",
        "      <td> 0</td>\n",
        "      <td> http://gateway.marvel.com/v1/public/comics/999...</td>\n",
        "      <td>                                                []</td>\n",
        "      <td> 0</td>\n",
        "      <td> []</td>\n",
        "      <td> []</td>\n",
        "      <td> 1</td>\n",
        "      <td> http://gateway.marvel.com/v1/public/comics/999...</td>\n",
        "      <td> [{'role': 'penciller (cover)', 'name': 'Jack K...</td>\n",
        "      <td> 1</td>\n",
        "      <td>...</td>\n",
        "      <td> [{'type': 'cover', 'name': 'Too Young!', 'reso...</td>\n",
        "      <td> 1</td>\n",
        "      <td> []</td>\n",
        "      <td> jpg</td>\n",
        "      <td> http://i.annihil.us/u/prod/marvel/i/mg/b/40/im...</td>\n",
        "      <td> Love Romances (1949) #96</td>\n",
        "      <td> </td>\n",
        "      <td> [{'type': 'detail', 'url': 'http://marvel.com/...</td>\n",
        "      <td> </td>\n",
        "      <td> []</td>\n",
        "    </tr>\n",
        "    <tr>\n",
        "      <th>0</th>\n",
        "      <td> 0</td>\n",
        "      <td> http://gateway.marvel.com/v1/public/comics/999...</td>\n",
        "      <td>                                                []</td>\n",
        "      <td> 0</td>\n",
        "      <td> []</td>\n",
        "      <td> []</td>\n",
        "      <td> 2</td>\n",
        "      <td> http://gateway.marvel.com/v1/public/comics/999...</td>\n",
        "      <td> [{'role': 'inker', 'name': 'Vince Colletta', '...</td>\n",
        "      <td> 2</td>\n",
        "      <td>...</td>\n",
        "      <td> [{'type': 'cover', 'name': 'Little Girl', 'res...</td>\n",
        "      <td> 1</td>\n",
        "      <td> []</td>\n",
        "      <td> jpg</td>\n",
        "      <td> http://i.annihil.us/u/prod/marvel/i/mg/b/40/im...</td>\n",
        "      <td> Love Romances (1949) #97</td>\n",
        "      <td> </td>\n",
        "      <td> [{'type': 'detail', 'url': 'http://marvel.com/...</td>\n",
        "      <td> </td>\n",
        "      <td> []</td>\n",
        "    </tr>\n",
        "    <tr>\n",
        "      <th>0</th>\n",
        "      <td> 0</td>\n",
        "      <td> http://gateway.marvel.com/v1/public/comics/999...</td>\n",
        "      <td>                                                []</td>\n",
        "      <td> 0</td>\n",
        "      <td> []</td>\n",
        "      <td> []</td>\n",
        "      <td> 2</td>\n",
        "      <td> http://gateway.marvel.com/v1/public/comics/999...</td>\n",
        "      <td> [{'role': 'inker', 'name': 'Vince Colletta', '...</td>\n",
        "      <td> 2</td>\n",
        "      <td>...</td>\n",
        "      <td> [{'type': 'cover', 'name': 'The Teen Ager and ...</td>\n",
        "      <td> 1</td>\n",
        "      <td> []</td>\n",
        "      <td> jpg</td>\n",
        "      <td> http://i.annihil.us/u/prod/marvel/i/mg/b/40/im...</td>\n",
        "      <td> Love Romances (1949) #99</td>\n",
        "      <td> </td>\n",
        "      <td> [{'type': 'detail', 'url': 'http://marvel.com/...</td>\n",
        "      <td> </td>\n",
        "      <td> []</td>\n",
        "    </tr>\n",
        "    <tr>\n",
        "      <th>0</th>\n",
        "      <td> 3</td>\n",
        "      <td> http://gateway.marvel.com/v1/public/comics/999...</td>\n",
        "      <td> [{'name': 'Magneto', 'resourceURI': 'http://ga...</td>\n",
        "      <td> 3</td>\n",
        "      <td> []</td>\n",
        "      <td> []</td>\n",
        "      <td> 8</td>\n",
        "      <td> http://gateway.marvel.com/v1/public/comics/999...</td>\n",
        "      <td> [{'role': 'letterer', 'name': 'Jon Babcock', '...</td>\n",
        "      <td> 8</td>\n",
        "      <td>...</td>\n",
        "      <td> [{'type': 'cover', 'name': 'Long Live The King...</td>\n",
        "      <td> 2</td>\n",
        "      <td> []</td>\n",
        "      <td> jpg</td>\n",
        "      <td> http://i.annihil.us/u/prod/marvel/i/mg/c/a0/4b...</td>\n",
        "      <td>    Magneto Rex (1999) #1</td>\n",
        "      <td> </td>\n",
        "      <td> [{'type': 'detail', 'url': 'http://marvel.com/...</td>\n",
        "      <td> </td>\n",
        "      <td> []</td>\n",
        "    </tr>\n",
        "  </tbody>\n",
        "</table>\n",
        "<p>5 rows \u00d7 43 columns</p>\n",
        "</div>"
       ],
       "metadata": {},
       "output_type": "pyout",
       "prompt_number": 84,
       "text": [
        "   characters.available                           characters.collectionURI  \\\n",
        "0                     0  http://gateway.marvel.com/v1/public/comics/999...   \n",
        "0                     0  http://gateway.marvel.com/v1/public/comics/999...   \n",
        "0                     0  http://gateway.marvel.com/v1/public/comics/999...   \n",
        "0                     0  http://gateway.marvel.com/v1/public/comics/999...   \n",
        "0                     3  http://gateway.marvel.com/v1/public/comics/999...   \n",
        "\n",
        "                                    characters.items  characters.returned  \\\n",
        "0                                                 []                    0   \n",
        "0                                                 []                    0   \n",
        "0                                                 []                    0   \n",
        "0                                                 []                    0   \n",
        "0  [{'name': 'Magneto', 'resourceURI': 'http://ga...                    3   \n",
        "\n",
        "  collectedIssues collections  creators.available  \\\n",
        "0              []          []                   0   \n",
        "0              []          []                   1   \n",
        "0              []          []                   2   \n",
        "0              []          []                   2   \n",
        "0              []          []                   8   \n",
        "\n",
        "                              creators.collectionURI  \\\n",
        "0  http://gateway.marvel.com/v1/public/comics/999...   \n",
        "0  http://gateway.marvel.com/v1/public/comics/999...   \n",
        "0  http://gateway.marvel.com/v1/public/comics/999...   \n",
        "0  http://gateway.marvel.com/v1/public/comics/999...   \n",
        "0  http://gateway.marvel.com/v1/public/comics/999...   \n",
        "\n",
        "                                      creators.items  creators.returned  \\\n",
        "0                                                 []                  0   \n",
        "0  [{'role': 'penciller (cover)', 'name': 'Jack K...                  1   \n",
        "0  [{'role': 'inker', 'name': 'Vince Colletta', '...                  2   \n",
        "0  [{'role': 'inker', 'name': 'Vince Colletta', '...                  2   \n",
        "0  [{'role': 'letterer', 'name': 'Jon Babcock', '...                  8   \n",
        "\n",
        "         ...                                              stories.items  \\\n",
        "0        ...          [{'type': '', 'name': '', 'resourceURI': 'http...   \n",
        "0        ...          [{'type': 'cover', 'name': 'Too Young!', 'reso...   \n",
        "0        ...          [{'type': 'cover', 'name': 'Little Girl', 'res...   \n",
        "0        ...          [{'type': 'cover', 'name': 'The Teen Ager and ...   \n",
        "0        ...          [{'type': 'cover', 'name': 'Long Live The King...   \n",
        "\n",
        "  stories.returned textObjects  thumbnail.extension  \\\n",
        "0                2          []                  jpg   \n",
        "0                1          []                  jpg   \n",
        "0                1          []                  jpg   \n",
        "0                1          []                  jpg   \n",
        "0                2          []                  jpg   \n",
        "\n",
        "                                      thumbnail.path  \\\n",
        "0  http://i.annihil.us/u/prod/marvel/i/mg/b/40/im...   \n",
        "0  http://i.annihil.us/u/prod/marvel/i/mg/b/40/im...   \n",
        "0  http://i.annihil.us/u/prod/marvel/i/mg/b/40/im...   \n",
        "0  http://i.annihil.us/u/prod/marvel/i/mg/b/40/im...   \n",
        "0  http://i.annihil.us/u/prod/marvel/i/mg/c/a0/4b...   \n",
        "\n",
        "                      title upc  \\\n",
        "0  Love Romances (1949) #94       \n",
        "0  Love Romances (1949) #96       \n",
        "0  Love Romances (1949) #97       \n",
        "0  Love Romances (1949) #99       \n",
        "0     Magneto Rex (1999) #1       \n",
        "\n",
        "                                                urls  variantDescription  \\\n",
        "0  [{'type': 'detail', 'url': 'http://marvel.com/...                       \n",
        "0  [{'type': 'detail', 'url': 'http://marvel.com/...                       \n",
        "0  [{'type': 'detail', 'url': 'http://marvel.com/...                       \n",
        "0  [{'type': 'detail', 'url': 'http://marvel.com/...                       \n",
        "0  [{'type': 'detail', 'url': 'http://marvel.com/...                       \n",
        "\n",
        "  variants  \n",
        "0       []  \n",
        "0       []  \n",
        "0       []  \n",
        "0       []  \n",
        "0       []  \n",
        "\n",
        "[5 rows x 43 columns]"
       ]
      }
     ],
     "prompt_number": 84
    },
    {
     "cell_type": "markdown",
     "metadata": {},
     "source": [
      "Los DataFrames de pandas est\u00e1n implementados basandose en numpy, de modo que si queremos saber la longitud que tiene un Dataframe es ex\u00e1ctamente igual que en numpy, f\u00e1cil \u00bfverdad?"
     ]
    },
    {
     "cell_type": "code",
     "collapsed": false,
     "input": [
      "characters_df.shape"
     ],
     "language": "python",
     "metadata": {},
     "outputs": [
      {
       "metadata": {},
       "output_type": "pyout",
       "prompt_number": 85,
       "text": [
        "(1402, 89)"
       ]
      }
     ],
     "prompt_number": 85
    },
    {
     "cell_type": "code",
     "collapsed": false,
     "input": [
      "comics_df.shape"
     ],
     "language": "python",
     "metadata": {},
     "outputs": [
      {
       "metadata": {},
       "output_type": "pyout",
       "prompt_number": 86,
       "text": [
        "(30179, 43)"
       ]
      }
     ],
     "prompt_number": 86
    },
    {
     "cell_type": "markdown",
     "metadata": {},
     "source": [
      "Vamos a ver que podemos saber de los personajes"
     ]
    },
    {
     "cell_type": "code",
     "collapsed": false,
     "input": [
      "', '.join(characters_df.columns.values)"
     ],
     "language": "python",
     "metadata": {},
     "outputs": [
      {
       "metadata": {},
       "output_type": "pyout",
       "prompt_number": 93,
       "text": [
        "'comics.available, comics.collectionURI, comics.items, comics.returned, description, events.available, events.collectionURI, events.items, events.returned, id, modified, name, resourceURI, series.available, series.collectionURI, series.items, series.returned, stories.available, stories.collectionURI, stories.items, stories.returned, thumbnail.extension, thumbnail.path, urls, wiki.Date_of_birth, wiki.Place_of_birth, wiki.abilities, wiki.aliases, wiki.appearance, wiki.base_of_operations, wiki.bio, wiki.bio_text, wiki.blurb, wiki.builder, wiki.categories, wiki.categorytext, wiki.citizenship, wiki.creator, wiki.creators, wiki.current_members, wiki.debut, wiki.distinguishing_features, wiki.dstinguishing_features, wiki.education, wiki.event_text, wiki.eyes, wiki.features, wiki.former_members, wiki.govenment, wiki.government, wiki.groups, wiki.hair, wiki.height, wiki.home_world, wiki.identity, wiki.key_characters, wiki.key_issues, wiki.leader, wiki.location, wiki.main_image, wiki.members, wiki.object_text, wiki.occupation, wiki.origin, wiki.other_members, wiki.owner, wiki.paraphernalia, wiki.place_of_birth, wiki.place_of_creation, wiki.place_text, wiki.points_of_interest, wiki.power, wiki.powers, wiki.real_name, wiki.relatives, wiki.significant_citizens, wiki.significant_issues, wiki.skin, wiki.special_limitations, wiki.specieshistory, wiki.team_name, wiki.teamicon, wiki.technology, wiki.tie-ins, wiki.title_graphic, wiki.universe, wiki.weapons, wiki.weaponss, wiki.weight'"
       ]
      }
     ],
     "prompt_number": 93
    },
    {
     "cell_type": "markdown",
     "metadata": {},
     "source": [
      " *En realidad no deber\u00edamos lanzar las campanas al vuelo porque __spoiler__ muchos de los campos est\u00e1n vacios *"
     ]
    },
    {
     "cell_type": "code",
     "collapsed": false,
     "input": [
      "characters_df.dropna()"
     ],
     "language": "python",
     "metadata": {},
     "outputs": [
      {
       "html": [
        "<div style=\"max-height:1000px;max-width:1500px;overflow:auto;\">\n",
        "<table border=\"1\" class=\"dataframe\">\n",
        "  <thead>\n",
        "    <tr style=\"text-align: right;\">\n",
        "      <th></th>\n",
        "      <th>comics.available</th>\n",
        "      <th>comics.collectionURI</th>\n",
        "      <th>comics.items</th>\n",
        "      <th>comics.returned</th>\n",
        "      <th>description</th>\n",
        "      <th>events.available</th>\n",
        "      <th>events.collectionURI</th>\n",
        "      <th>events.items</th>\n",
        "      <th>events.returned</th>\n",
        "      <th>id</th>\n",
        "      <th>...</th>\n",
        "      <th>wiki.specieshistory</th>\n",
        "      <th>wiki.team_name</th>\n",
        "      <th>wiki.teamicon</th>\n",
        "      <th>wiki.technology</th>\n",
        "      <th>wiki.tie-ins</th>\n",
        "      <th>wiki.title_graphic</th>\n",
        "      <th>wiki.universe</th>\n",
        "      <th>wiki.weapons</th>\n",
        "      <th>wiki.weaponss</th>\n",
        "      <th>wiki.weight</th>\n",
        "    </tr>\n",
        "  </thead>\n",
        "  <tbody>\n",
        "  </tbody>\n",
        "</table>\n",
        "<p>0 rows \u00d7 89 columns</p>\n",
        "</div>"
       ],
       "metadata": {},
       "output_type": "pyout",
       "prompt_number": 94,
       "text": [
        "Empty DataFrame\n",
        "Columns: [comics.available, comics.collectionURI, comics.items, comics.returned, description, events.available, events.collectionURI, events.items, events.returned, id, modified, name, resourceURI, series.available, series.collectionURI, series.items, series.returned, stories.available, stories.collectionURI, stories.items, stories.returned, thumbnail.extension, thumbnail.path, urls, wiki.Date_of_birth, wiki.Place_of_birth, wiki.abilities, wiki.aliases, wiki.appearance, wiki.base_of_operations, wiki.bio, wiki.bio_text, wiki.blurb, wiki.builder, wiki.categories, wiki.categorytext, wiki.citizenship, wiki.creator, wiki.creators, wiki.current_members, wiki.debut, wiki.distinguishing_features, wiki.dstinguishing_features, wiki.education, wiki.event_text, wiki.eyes, wiki.features, wiki.former_members, wiki.govenment, wiki.government, wiki.groups, wiki.hair, wiki.height, wiki.home_world, wiki.identity, wiki.key_characters, wiki.key_issues, wiki.leader, wiki.location, wiki.main_image, wiki.members, wiki.object_text, wiki.occupation, wiki.origin, wiki.other_members, wiki.owner, wiki.paraphernalia, wiki.place_of_birth, wiki.place_of_creation, wiki.place_text, wiki.points_of_interest, wiki.power, wiki.powers, wiki.real_name, wiki.relatives, wiki.significant_citizens, wiki.significant_issues, wiki.skin, wiki.special_limitations, wiki.specieshistory, wiki.team_name, wiki.teamicon, wiki.technology, wiki.tie-ins, wiki.title_graphic, wiki.universe, wiki.weapons, wiki.weaponss, wiki.weight]\n",
        "Index: []\n",
        "\n",
        "[0 rows x 89 columns]"
       ]
      }
     ],
     "prompt_number": 94
    },
    {
     "cell_type": "markdown",
     "metadata": {},
     "source": [
      "\u00bfY qu\u00e9 pasa con los c\u00f3mics? "
     ]
    },
    {
     "cell_type": "code",
     "collapsed": false,
     "input": [
      "comics_df.dropna().shape"
     ],
     "language": "python",
     "metadata": {},
     "outputs": [
      {
       "metadata": {},
       "output_type": "pyout",
       "prompt_number": 97,
       "text": [
        "(17516, 43)"
       ]
      }
     ],
     "prompt_number": 97
    },
    {
     "cell_type": "markdown",
     "metadata": {},
     "source": [
      "Con una simple instrucci\u00f3n somos capaces de tratar con todos los nulos de un dataframe. "
     ]
    },
    {
     "cell_type": "heading",
     "level": 2,
     "metadata": {},
     "source": [
      "Stan Lee"
     ]
    },
    {
     "cell_type": "markdown",
     "metadata": {},
     "source": [
      "Stanley Martin Lieber, m\u00e1s conocido como Stan Lee, naci\u00f3 el 28 de diciembre de 1922 en la ciudad de Nueva York. Es un guionista y editor de c\u00f3mics estadounidense, creador de personajes notables por su complejidad y su realismo.\n",
      "\n",
      "Es el cocreador, junto a dibujantes como Steve Ditko o Jack Kirby, de superh\u00e9roes como Los 4 Fant\u00e1sticos, Spider-Man, Hulk, Iron Man, Thor, The Avengers, Daredevil, Doctor Strange, X-Men y muchos otros personajes, expandiendo Marvel Comics, llev\u00e1ndola de una peque\u00f1a casa publicitaria a una gran corporaci\u00f3n multimedia. Todav\u00eda hoy, los c\u00f3mics Marvel se distinguen por indicar siempre \u00abStan Lee presenta\u00bb en los r\u00f3tulos de presentaci\u00f3n. Tambi\u00e9n tiene un programa en History Channel en donde busca super humanos reales.\n",
      "*[Wikipedia]*\n",
      "\n",
      "Vamos a ver cuantos personajes ha creado. Y quien ostenta el top de creadores seg\u00fan la api de Marvel."
     ]
    },
    {
     "cell_type": "heading",
     "level": 3,
     "metadata": {},
     "source": [
      "Series"
     ]
    },
    {
     "cell_type": "markdown",
     "metadata": {},
     "source": [
      "Series es un array de 1 dimensi\u00f3n etiquetado. Como una tabla con una \u00fanica columna. Puede almacenar cualquier tipo de datos:\n",
      "- Enteros\n",
      "- Cadenas\n",
      "- N\u00fameros en coma flotante.\n",
      "- Objetos Python.\n",
      "- ...\n",
      "\n",
      "Se etiquetan en funci\u00f3n del \u00edndice, si el \u00edndice que le pasamos son fechas se crear\u00e1 una instancie de *TimeSerie*, esta bien pensado, \u00bfverdad?\n",
      "\n",
      "Cuando hacemos una selecci\u00f3n de 1 columna en un Dataframe creamos una Serie."
     ]
    },
    {
     "cell_type": "code",
     "collapsed": false,
     "input": [
      "#Stan Lee \n",
      "creators_serie = characters_df['wiki.creators'].dropna()\n",
      "creators_serie.describe()"
     ],
     "language": "python",
     "metadata": {},
     "outputs": [
      {
       "metadata": {},
       "output_type": "pyout",
       "prompt_number": 102,
       "text": [
        "count                               119\n",
        "unique                               37\n",
        "top       this has not been updated yet\n",
        "freq                                 44\n",
        "dtype: object"
       ]
      }
     ],
     "prompt_number": 102
    },
    {
     "cell_type": "code",
     "collapsed": false,
     "input": [
      "#Renombramos la serie y el \u00edndice\n",
      "creators_serie.name = 'Creadorers de personajes'\n",
      "creators_serie.index.name = 'creators'\n",
      "\n",
      "# Podemos usar head o como estamos sobre series tambi\u00e9n podemos coger una porci\u00f3n de la lista\n",
      "# creators_serie.head()\n",
      "creators_serie[:20]"
     ],
     "language": "python",
     "metadata": {},
     "outputs": [
      {
       "metadata": {},
       "output_type": "pyout",
       "prompt_number": 106,
       "text": [
        "creators\n",
        "0            this has not been updated yet\n",
        "0                                         \n",
        "0                                         \n",
        "0                                         \n",
        "0                                         \n",
        "0                                         \n",
        "0                                         \n",
        "0                  Peter David & Sam Keith\n",
        "0               Bill Mantlo and Ed Hanigan\n",
        "0                                         \n",
        "0                 Stan Lee and Steve Ditko\n",
        "0             Grant Morrison & Igor Kordey\n",
        "0                          Chris Claremont\n",
        "0                                         \n",
        "0           Chris Claremont & Dave Cockrum\n",
        "0            this has not been updated yet\n",
        "0            this has not been updated yet\n",
        "0                                         \n",
        "0                     Stan Lee, Jack Kirby\n",
        "0                           Grant Morrison\n",
        "Name: Creadorers de personajes, dtype: object"
       ]
      }
     ],
     "prompt_number": 106
    },
    {
     "cell_type": "heading",
     "level": 4,
     "metadata": {},
     "source": [
      "Usando m\u00e1scaras para extraer informaci\u00f3n"
     ]
    },
    {
     "cell_type": "code",
     "collapsed": false,
     "input": [
      "default_string = creators_serie != \"this has not been updated yet\"\n",
      "default_string.head()\n",
      "#creators_serie[ creators_serie != \"this has not been updated yet\" ]"
     ],
     "language": "python",
     "metadata": {},
     "outputs": [
      {
       "metadata": {},
       "output_type": "pyout",
       "prompt_number": 107,
       "text": [
        "creators\n",
        "0           False\n",
        "0            True\n",
        "0            True\n",
        "0            True\n",
        "0            True\n",
        "Name: Creadorers de personajes, dtype: bool"
       ]
      }
     ],
     "prompt_number": 107
    },
    {
     "cell_type": "code",
     "collapsed": false,
     "input": [
      "empty_string = creators_serie != \"\"\n",
      "empty_string[:10]"
     ],
     "language": "python",
     "metadata": {},
     "outputs": [
      {
       "metadata": {},
       "output_type": "pyout",
       "prompt_number": 108,
       "text": [
        "creators\n",
        "0            True\n",
        "0           False\n",
        "0           False\n",
        "0           False\n",
        "0           False\n",
        "0           False\n",
        "0           False\n",
        "0            True\n",
        "0            True\n",
        "0           False\n",
        "Name: Creadorers de personajes, dtype: bool"
       ]
      }
     ],
     "prompt_number": 108
    },
    {
     "cell_type": "code",
     "collapsed": false,
     "input": [
      "default_string and empty_string"
     ],
     "language": "python",
     "metadata": {},
     "outputs": [
      {
       "ename": "ValueError",
       "evalue": "The truth value of a Series is ambiguous. Use a.empty, a.bool(), a.item(), a.any() or a.all().",
       "output_type": "pyerr",
       "traceback": [
        "\u001b[0;31m---------------------------------------------------------------------------\u001b[0m\n\u001b[0;31mValueError\u001b[0m                                Traceback (most recent call last)",
        "\u001b[0;32m<ipython-input-111-544bf713079b>\u001b[0m in \u001b[0;36m<module>\u001b[0;34m()\u001b[0m\n\u001b[0;32m----> 1\u001b[0;31m \u001b[0mdefault_string\u001b[0m \u001b[0;32mand\u001b[0m \u001b[0mempty_string\u001b[0m\u001b[0;34m\u001b[0m\u001b[0m\n\u001b[0m",
        "\u001b[0;32m/Users/ada/Dev/.virtualenvs/marvel/lib/python3.3/site-packages/pandas/core/generic.py\u001b[0m in \u001b[0;36m__nonzero__\u001b[0;34m(self)\u001b[0m\n\u001b[1;32m    690\u001b[0m         raise ValueError(\"The truth value of a {0} is ambiguous. \"\n\u001b[1;32m    691\u001b[0m                          \u001b[0;34m\"Use a.empty, a.bool(), a.item(), a.any() or a.all().\"\u001b[0m\u001b[0;34m\u001b[0m\u001b[0m\n\u001b[0;32m--> 692\u001b[0;31m                          .format(self.__class__.__name__))\n\u001b[0m\u001b[1;32m    693\u001b[0m \u001b[0;34m\u001b[0m\u001b[0m\n\u001b[1;32m    694\u001b[0m     \u001b[0m__bool__\u001b[0m \u001b[0;34m=\u001b[0m \u001b[0m__nonzero__\u001b[0m\u001b[0;34m\u001b[0m\u001b[0m\n",
        "\u001b[0;31mValueError\u001b[0m: The truth value of a Series is ambiguous. Use a.empty, a.bool(), a.item(), a.any() or a.all()."
       ]
      }
     ],
     "prompt_number": 111
    },
    {
     "cell_type": "markdown",
     "metadata": {},
     "source": [
      "A pesar de que la palabra reservada *and* podr\u00edamos creer que funcionar\u00eda para unir series no funciona porque la operaci\u00f3n no se aplica elemento a elemento. Pero pandas sabe que esto nos podr\u00eda hacer falta y tenemos operadores que funcionan para elementos (& (and), | (or), ~(not))"
     ]
    },
    {
     "cell_type": "code",
     "collapsed": false,
     "input": [
      "creators_mask = default_string & empty_string\n",
      "creators_mask[:10]"
     ],
     "language": "python",
     "metadata": {},
     "outputs": [
      {
       "metadata": {},
       "output_type": "pyout",
       "prompt_number": 109,
       "text": [
        "creators\n",
        "0           False\n",
        "0           False\n",
        "0           False\n",
        "0           False\n",
        "0           False\n",
        "0           False\n",
        "0           False\n",
        "0            True\n",
        "0            True\n",
        "0           False\n",
        "Name: Creadorers de personajes, dtype: bool"
       ]
      }
     ],
     "prompt_number": 109
    },
    {
     "cell_type": "code",
     "collapsed": false,
     "input": [
      "creators_serie[creators_mask].head()"
     ],
     "language": "python",
     "metadata": {},
     "outputs": [
      {
       "metadata": {},
       "output_type": "pyout",
       "prompt_number": 112,
       "text": [
        "creators\n",
        "0                Peter David & Sam Keith\n",
        "0             Bill Mantlo and Ed Hanigan\n",
        "0               Stan Lee and Steve Ditko\n",
        "0           Grant Morrison & Igor Kordey\n",
        "0                        Chris Claremont\n",
        "Name: Creadorers de personajes, dtype: object"
       ]
      }
     ],
     "prompt_number": 112
    },
    {
     "cell_type": "markdown",
     "metadata": {},
     "source": [
      "Aqu\u00ed ya tenemos buena parte de la informaci\u00f3n que queremos, pero vamos a separar los autores que trabajan junto para poder contar cuantos personajes a creado cada uno."
     ]
    },
    {
     "cell_type": "code",
     "collapsed": false,
     "input": [
      "import re\n",
      "creators = [re.split('&|and|,', line) for line in creators_serie[creators_mask]]\n",
      "clean_cretors =  pd.Series([c for creator in creators for c in creator])\n",
      "clean_cretors.head()"
     ],
     "language": "python",
     "metadata": {},
     "outputs": [
      {
       "metadata": {},
       "output_type": "pyout",
       "prompt_number": 114,
       "text": [
        "0    Peter David \n",
        "1       Sam Keith\n",
        "2    Bill Mantlo \n",
        "3      Ed Hanigan\n",
        "4       Stan Lee \n",
        "dtype: object"
       ]
      }
     ],
     "prompt_number": 114
    },
    {
     "cell_type": "code",
     "collapsed": false,
     "input": [
      "clean_cretors.value_counts().head()"
     ],
     "language": "python",
     "metadata": {},
     "outputs": [
      {
       "metadata": {},
       "output_type": "pyout",
       "prompt_number": 115,
       "text": [
        "Chris Claremont     10\n",
        "Stan Lee             7\n",
        " John Byrne          6\n",
        "Chris Claremont      5\n",
        " Adrian Alphona      4\n",
        "dtype: int64"
       ]
      }
     ],
     "prompt_number": 115
    },
    {
     "cell_type": "markdown",
     "metadata": {},
     "source": [
      "\u00a1Vaya Stan Lee parece que Chris Claremont te gana! \n",
      "\n",
      "Obviamente es un problema de falta de datos. Por eso debemos ser muy cuidadosos con la confianza que tenemos en nuestros resultados. Un corpus con errores nos llevar\u00e1 a conclusiones err\u00f3neas, hay que ser conscientes de esto. \n"
     ]
    },
    {
     "cell_type": "heading",
     "level": 3,
     "metadata": {},
     "source": [
      "Explorando a los superh\u00e9roes"
     ]
    },
    {
     "cell_type": "heading",
     "level": 4,
     "metadata": {},
     "source": [
      "Limpiando los datos: eliminar grupos"
     ]
    },
    {
     "cell_type": "markdown",
     "metadata": {},
     "source": [
      "Marvel no distingue personajes de grupos de personajes. Es decir, \"Los vengadores\" es un personaje igual que podr\u00eda serlo \"Iron Man\", pero tenemos un campo en la wiki que nos permite diferenciar grupos de personajes: \"Former members\". As\u00ed que vamos a quedarnos solo con los personajes.</br>\n",
      "\n",
      "Lo normal es que quisieramos eliminar las filas que contienen nulos, y pandas tiene implementada una funci\u00f3n para ello *dropna*, que ya hemos visto. Pero lo que queremos es quedarnos con aquellas filas en cuya columna *current_members* tengamos un nulo, porque si no hay miembros es porque es un personaje."
     ]
    },
    {
     "cell_type": "code",
     "collapsed": false,
     "input": [
      " characters_df.dropna(subset=['wiki.current_members'])['name']"
     ],
     "language": "python",
     "metadata": {},
     "outputs": [
      {
       "metadata": {},
       "output_type": "pyout",
       "prompt_number": 117,
       "text": [
        "0                         A.I.M.\n",
        "0                       Avengers\n",
        "0    Brotherhood of Evil Mutants\n",
        "0                         Exiles\n",
        "0                 Fantastic Four\n",
        "0                    Force Works\n",
        "0                  Hellfire Club\n",
        "0                          Hydra\n",
        "0                 Imperial Guard\n",
        "0                      Marauders\n",
        "0                        Reavers\n",
        "0                   S.H.I.E.L.D.\n",
        "0                Serpent Society\n",
        "0                        X-Force\n",
        "0                          X-Men\n",
        "...\n",
        "0                         Sinister Six\n",
        "0                          ClanDestine\n",
        "0                            New X-Men\n",
        "0                      Masters of Evil\n",
        "0                         Generation X\n",
        "0              Guardians of the Galaxy\n",
        "0                               U-Foes\n",
        "0                            Sentinels\n",
        "0                          New Mutants\n",
        "0             Lightning Lords of Nepal\n",
        "0           Nine-Fold Daughters of Xao\n",
        "0          Confederates of the Curious\n",
        "0                             X-Babies\n",
        "0                        Lethal Legion\n",
        "0    Brotherhood of Mutants (Ultimate)\n",
        "Name: name, Length: 70, dtype: object"
       ]
      }
     ],
     "prompt_number": 117
    },
    {
     "cell_type": "code",
     "collapsed": false,
     "input": [
      "%timeit (~characters_df['wiki.current_members'].isnull())\n",
      "\n",
      "import numpy as np\n",
      "%timeit (np.invert(characters_df['wiki.current_members'].isnull()))"
     ],
     "language": "python",
     "metadata": {},
     "outputs": [
      {
       "output_type": "stream",
       "stream": "stdout",
       "text": [
        "1000 loops, best of 3: 223 \u00b5s per loop\n",
        "1000 loops, best of 3: 240 \u00b5s per loop"
       ]
      },
      {
       "output_type": "stream",
       "stream": "stdout",
       "text": [
        "\n"
       ]
      }
     ],
     "prompt_number": 120
    },
    {
     "cell_type": "code",
     "collapsed": false,
     "input": [
      "not_groups_mask = characters_df['wiki.current_members'].isnull()\n",
      "not_groups_mask.head()"
     ],
     "language": "python",
     "metadata": {},
     "outputs": [
      {
       "metadata": {},
       "output_type": "pyout",
       "prompt_number": 121,
       "text": [
        "0    False\n",
        "0     True\n",
        "0     True\n",
        "0     True\n",
        "0     True\n",
        "Name: wiki.current_members, dtype: bool"
       ]
      }
     ],
     "prompt_number": 121
    },
    {
     "cell_type": "code",
     "collapsed": false,
     "input": [
      "characters_df=characters_df[not_groups_mask]"
     ],
     "language": "python",
     "metadata": {},
     "outputs": [],
     "prompt_number": 128
    },
    {
     "cell_type": "code",
     "collapsed": false,
     "input": [
      "characters_df[:3]"
     ],
     "language": "python",
     "metadata": {},
     "outputs": [
      {
       "html": [
        "<div style=\"max-height:1000px;max-width:1500px;overflow:auto;\">\n",
        "<table border=\"1\" class=\"dataframe\">\n",
        "  <thead>\n",
        "    <tr style=\"text-align: right;\">\n",
        "      <th></th>\n",
        "      <th>comics.available</th>\n",
        "      <th>comics.collectionURI</th>\n",
        "      <th>comics.items</th>\n",
        "      <th>comics.returned</th>\n",
        "      <th>description</th>\n",
        "      <th>events.available</th>\n",
        "      <th>events.collectionURI</th>\n",
        "      <th>events.items</th>\n",
        "      <th>events.returned</th>\n",
        "      <th>id</th>\n",
        "      <th>...</th>\n",
        "      <th>wiki.specieshistory</th>\n",
        "      <th>wiki.team_name</th>\n",
        "      <th>wiki.teamicon</th>\n",
        "      <th>wiki.technology</th>\n",
        "      <th>wiki.tie-ins</th>\n",
        "      <th>wiki.title_graphic</th>\n",
        "      <th>wiki.universe</th>\n",
        "      <th>wiki.weapons</th>\n",
        "      <th>wiki.weaponss</th>\n",
        "      <th>wiki.weight</th>\n",
        "    </tr>\n",
        "  </thead>\n",
        "  <tbody>\n",
        "    <tr>\n",
        "      <th>0</th>\n",
        "      <td> 43</td>\n",
        "      <td> http://gateway.marvel.com/v1/public/characters...</td>\n",
        "      <td> [{'name': 'Incredible Hulks (2009) #619', 'id'...</td>\n",
        "      <td> 43</td>\n",
        "      <td> Formerly known as Emil Blonsky, a spy of Sovie...</td>\n",
        "      <td> 2</td>\n",
        "      <td> http://gateway.marvel.com/v1/public/characters...</td>\n",
        "      <td> [{'name': 'Chaos War', 'resourceURI': 'http://...</td>\n",
        "      <td> 2</td>\n",
        "      <td> 1009146</td>\n",
        "      <td>...</td>\n",
        "      <td> NaN</td>\n",
        "      <td> NaN</td>\n",
        "      <td> NaN</td>\n",
        "      <td> NaN</td>\n",
        "      <td> NaN</td>\n",
        "      <td> NaN</td>\n",
        "      <td>     Marvel Universe</td>\n",
        "      <td>                                              None</td>\n",
        "      <td> NaN</td>\n",
        "      <td> (Abomination) 980 lbs.; (Blonsky) 180 lbs.</td>\n",
        "    </tr>\n",
        "    <tr>\n",
        "      <th>0</th>\n",
        "      <td> 43</td>\n",
        "      <td> http://gateway.marvel.com/v1/public/characters...</td>\n",
        "      <td> [{'name': 'Avengers Academy (2010) #21', 'id':...</td>\n",
        "      <td> 43</td>\n",
        "      <td>                                                  </td>\n",
        "      <td> 4</td>\n",
        "      <td> http://gateway.marvel.com/v1/public/characters...</td>\n",
        "      <td> [{'name': 'Fear Itself', 'resourceURI': 'http:...</td>\n",
        "      <td> 4</td>\n",
        "      <td> 1009148</td>\n",
        "      <td>...</td>\n",
        "      <td> NaN</td>\n",
        "      <td> NaN</td>\n",
        "      <td> NaN</td>\n",
        "      <td> NaN</td>\n",
        "      <td> NaN</td>\n",
        "      <td> NaN</td>\n",
        "      <td> [[Marvel Universe]]</td>\n",
        "      <td> He uses a prison ball-and-chain as a weapon, a...</td>\n",
        "      <td> NaN</td>\n",
        "      <td>                        365 lbs. (variable)</td>\n",
        "    </tr>\n",
        "    <tr>\n",
        "      <th>0</th>\n",
        "      <td>  8</td>\n",
        "      <td> http://gateway.marvel.com/v1/public/characters...</td>\n",
        "      <td> [{'name': 'Uncanny X-Men (1963) #402', 'resour...</td>\n",
        "      <td>  8</td>\n",
        "      <td>                                                  </td>\n",
        "      <td> 1</td>\n",
        "      <td> http://gateway.marvel.com/v1/public/characters...</td>\n",
        "      <td> [{'name': 'Age of Apocalypse', 'resourceURI': ...</td>\n",
        "      <td> 1</td>\n",
        "      <td> 1009149</td>\n",
        "      <td>...</td>\n",
        "      <td> NaN</td>\n",
        "      <td> NaN</td>\n",
        "      <td> NaN</td>\n",
        "      <td> NaN</td>\n",
        "      <td> NaN</td>\n",
        "      <td> NaN</td>\n",
        "      <td> [[Marvel Universe]]</td>\n",
        "      <td>                                        Unrevealed</td>\n",
        "      <td> NaN</td>\n",
        "      <td>                                 Unrevealed</td>\n",
        "    </tr>\n",
        "  </tbody>\n",
        "</table>\n",
        "<p>3 rows \u00d7 89 columns</p>\n",
        "</div>"
       ],
       "metadata": {},
       "output_type": "pyout",
       "prompt_number": 133,
       "text": [
        "   comics.available                               comics.collectionURI  \\\n",
        "0                43  http://gateway.marvel.com/v1/public/characters...   \n",
        "0                43  http://gateway.marvel.com/v1/public/characters...   \n",
        "0                 8  http://gateway.marvel.com/v1/public/characters...   \n",
        "\n",
        "                                        comics.items  comics.returned  \\\n",
        "0  [{'name': 'Incredible Hulks (2009) #619', 'id'...               43   \n",
        "0  [{'name': 'Avengers Academy (2010) #21', 'id':...               43   \n",
        "0  [{'name': 'Uncanny X-Men (1963) #402', 'resour...                8   \n",
        "\n",
        "                                         description  events.available  \\\n",
        "0  Formerly known as Emil Blonsky, a spy of Sovie...                 2   \n",
        "0                                                                    4   \n",
        "0                                                                    1   \n",
        "\n",
        "                                events.collectionURI  \\\n",
        "0  http://gateway.marvel.com/v1/public/characters...   \n",
        "0  http://gateway.marvel.com/v1/public/characters...   \n",
        "0  http://gateway.marvel.com/v1/public/characters...   \n",
        "\n",
        "                                        events.items  events.returned  \\\n",
        "0  [{'name': 'Chaos War', 'resourceURI': 'http://...                2   \n",
        "0  [{'name': 'Fear Itself', 'resourceURI': 'http:...                4   \n",
        "0  [{'name': 'Age of Apocalypse', 'resourceURI': ...                1   \n",
        "\n",
        "        id   ...    wiki.specieshistory wiki.team_name wiki.teamicon  \\\n",
        "0  1009146   ...                    NaN            NaN           NaN   \n",
        "0  1009148   ...                    NaN            NaN           NaN   \n",
        "0  1009149   ...                    NaN            NaN           NaN   \n",
        "\n",
        "   wiki.technology wiki.tie-ins wiki.title_graphic        wiki.universe  \\\n",
        "0              NaN          NaN                NaN      Marvel Universe   \n",
        "0              NaN          NaN                NaN  [[Marvel Universe]]   \n",
        "0              NaN          NaN                NaN  [[Marvel Universe]]   \n",
        "\n",
        "                                        wiki.weapons wiki.weaponss  \\\n",
        "0                                               None           NaN   \n",
        "0  He uses a prison ball-and-chain as a weapon, a...           NaN   \n",
        "0                                         Unrevealed           NaN   \n",
        "\n",
        "                                  wiki.weight  \n",
        "0  (Abomination) 980 lbs.; (Blonsky) 180 lbs.  \n",
        "0                         365 lbs. (variable)  \n",
        "0                                  Unrevealed  \n",
        "\n",
        "[3 rows x 89 columns]"
       ]
      }
     ],
     "prompt_number": 133
    },
    {
     "cell_type": "markdown",
     "metadata": {},
     "source": [
      "Vamos a limpiar lo datos, quedarnos con los campos que nos puedan ser \u00fatililes y indexar el dataframe usando el nombre del superh\u00e9roe o de la superhero\u00edna, porque pandas ha hecho lo que ha podido pero los n\u00fameros no son muy intuitivos."
     ]
    },
    {
     "cell_type": "code",
     "collapsed": false,
     "input": [
      "# Agrupamos los datos para tener claro con que queremos trabajar\n",
      "physical_data = ['wiki.hair', 'wiki.weight', 'wiki.height', 'wiki.eyes']\n",
      "cultural_data = ['wiki.education', 'wiki.citizenship', 'wiki.place_of_birth', 'wiki.occupation']\n",
      "personal_data = ['wiki.bio', 'wiki.bio_text', 'wiki.categories']\n",
      "\n",
      "data_keys = (physical_data + cultural_data + personal_data + ['name','comics.available'])"
     ],
     "language": "python",
     "metadata": {},
     "outputs": [],
     "prompt_number": 156
    },
    {
     "cell_type": "markdown",
     "metadata": {},
     "source": [
      "\u00bfOs acord\u00e1is de dropna()? Pues puede hacer mucho m\u00e1s."
     ]
    },
    {
     "cell_type": "code",
     "collapsed": false,
     "input": [
      "clean_df = characters_df.dropna(subset = data_keys)\n",
      "clean_df = clean_df[data_keys].set_index('name')\n",
      "clean_df.shape"
     ],
     "language": "python",
     "metadata": {},
     "outputs": [
      {
       "metadata": {},
       "output_type": "pyout",
       "prompt_number": 157,
       "text": [
        "(762, 12)"
       ]
      }
     ],
     "prompt_number": 157
    },
    {
     "cell_type": "heading",
     "level": 3,
     "metadata": {},
     "source": [
      "Representaci\u00f3n racial, cultural y de g\u00e9nero en los c\u00f3mics de Marvel"
     ]
    },
    {
     "cell_type": "markdown",
     "metadata": {},
     "source": [
      "Por ejemplo, ser\u00eda muy interesante saber cuantas razas est\u00e1n representadas en los c\u00f3mics de Marvel, y existe un campo *skin* en la wiki, pero..."
     ]
    },
    {
     "cell_type": "code",
     "collapsed": false,
     "input": [
      "characters_df['wiki.skin'].dropna()"
     ],
     "language": "python",
     "metadata": {},
     "outputs": [
      {
       "metadata": {},
       "output_type": "pyout",
       "prompt_number": 158,
       "text": [
        "0    White (as GAmbit), Black (as Death)\n",
        "Name: wiki.skin, dtype: object"
       ]
      }
     ],
     "prompt_number": 158
    },
    {
     "cell_type": "markdown",
     "metadata": {},
     "source": [
      "Pero vamos a explorar lo que tenemos."
     ]
    },
    {
     "cell_type": "code",
     "collapsed": false,
     "input": [
      "clean_df[personal_data].head()"
     ],
     "language": "python",
     "metadata": {},
     "outputs": [
      {
       "html": [
        "<div style=\"max-height:1000px;max-width:1500px;overflow:auto;\">\n",
        "<table border=\"1\" class=\"dataframe\">\n",
        "  <thead>\n",
        "    <tr style=\"text-align: right;\">\n",
        "      <th></th>\n",
        "      <th>wiki.bio</th>\n",
        "      <th>wiki.bio_text</th>\n",
        "      <th>wiki.categories</th>\n",
        "    </tr>\n",
        "    <tr>\n",
        "      <th>name</th>\n",
        "      <th></th>\n",
        "      <th></th>\n",
        "      <th></th>\n",
        "    </tr>\n",
        "  </thead>\n",
        "  <tbody>\n",
        "    <tr>\n",
        "      <th>Abomination (Emil Blonsky)</th>\n",
        "      <td> Formerly known as Emil Blonsky, a spy of Sovie...</td>\n",
        "      <td> Formerly known as Emil Blonsky, a spy of Sovie...</td>\n",
        "      <td> [Avengers, Deceased, Hulk, International, Vill...</td>\n",
        "    </tr>\n",
        "    <tr>\n",
        "      <th>Absorbing Man</th>\n",
        "      <td> Crusher Creel's life was little more than that...</td>\n",
        "      <td> Crusher Creel's life was little more than that...</td>\n",
        "      <td>                   [Avengers, Civil War, Villains]</td>\n",
        "    </tr>\n",
        "    <tr>\n",
        "      <th>Abyss</th>\n",
        "      <td> Sealed in a coffin-like prison, Abyss was take...</td>\n",
        "      <td> Sealed in a coffin-like prison, Abyss was take...</td>\n",
        "      <td>                         [Cosmic, Magic, Villains]</td>\n",
        "    </tr>\n",
        "    <tr>\n",
        "      <th>Agent Zero</th>\n",
        "      <td> Born in the former East Germany, Christoph Nor...</td>\n",
        "      <td> Born in the former East Germany, Christoph Nor...</td>\n",
        "      <td> [Heroes, X-Men, Villains, International, Mutants]</td>\n",
        "    </tr>\n",
        "    <tr>\n",
        "      <th>Annihilus</th>\n",
        "      <td> Untold millennia ago, the Tyannans, a technolo...</td>\n",
        "      <td> Untold millennia ago, the Tyannans, a technolo...</td>\n",
        "      <td>  [Annihilation, Cosmic, Fantastic Four, Villains]</td>\n",
        "    </tr>\n",
        "  </tbody>\n",
        "</table>\n",
        "</div>"
       ],
       "metadata": {},
       "output_type": "pyout",
       "prompt_number": 162,
       "text": [
        "                                                                     wiki.bio  \\\n",
        "name                                                                            \n",
        "Abomination (Emil Blonsky)  Formerly known as Emil Blonsky, a spy of Sovie...   \n",
        "Absorbing Man               Crusher Creel's life was little more than that...   \n",
        "Abyss                       Sealed in a coffin-like prison, Abyss was take...   \n",
        "Agent Zero                  Born in the former East Germany, Christoph Nor...   \n",
        "Annihilus                   Untold millennia ago, the Tyannans, a technolo...   \n",
        "\n",
        "                                                                wiki.bio_text  \\\n",
        "name                                                                            \n",
        "Abomination (Emil Blonsky)  Formerly known as Emil Blonsky, a spy of Sovie...   \n",
        "Absorbing Man               Crusher Creel's life was little more than that...   \n",
        "Abyss                       Sealed in a coffin-like prison, Abyss was take...   \n",
        "Agent Zero                  Born in the former East Germany, Christoph Nor...   \n",
        "Annihilus                   Untold millennia ago, the Tyannans, a technolo...   \n",
        "\n",
        "                                                              wiki.categories  \n",
        "name                                                                           \n",
        "Abomination (Emil Blonsky)  [Avengers, Deceased, Hulk, International, Vill...  \n",
        "Absorbing Man                                 [Avengers, Civil War, Villains]  \n",
        "Abyss                                               [Cosmic, Magic, Villains]  \n",
        "Agent Zero                  [Heroes, X-Men, Villains, International, Mutants]  \n",
        "Annihilus                    [Annihilation, Cosmic, Fantastic Four, Villains]  "
       ]
      }
     ],
     "prompt_number": 162
    },
    {
     "cell_type": "code",
     "collapsed": false,
     "input": [
      "clean_df[cultural_data].head()"
     ],
     "language": "python",
     "metadata": {},
     "outputs": [
      {
       "html": [
        "<div style=\"max-height:1000px;max-width:1500px;overflow:auto;\">\n",
        "<table border=\"1\" class=\"dataframe\">\n",
        "  <thead>\n",
        "    <tr style=\"text-align: right;\">\n",
        "      <th></th>\n",
        "      <th>wiki.education</th>\n",
        "      <th>wiki.citizenship</th>\n",
        "      <th>wiki.place_of_birth</th>\n",
        "      <th>wiki.occupation</th>\n",
        "    </tr>\n",
        "    <tr>\n",
        "      <th>name</th>\n",
        "      <th></th>\n",
        "      <th></th>\n",
        "      <th></th>\n",
        "      <th></th>\n",
        "    </tr>\n",
        "  </thead>\n",
        "  <tbody>\n",
        "    <tr>\n",
        "      <th>Abomination (Emil Blonsky)</th>\n",
        "      <td>          Unrevealed</td>\n",
        "      <td> Citizen of Croatia; former citizen of Yugoslavia</td>\n",
        "      <td>                                Zagreb, Yugoslavia</td>\n",
        "      <td>                 Professional Criminal, Former Spy</td>\n",
        "    </tr>\n",
        "    <tr>\n",
        "      <th>Absorbing Man</th>\n",
        "      <td> High school dropout</td>\n",
        "      <td>                    U.S.A. with a criminal record</td>\n",
        "      <td>                           New York City, New York</td>\n",
        "      <td>               Professional criminal; former boxer</td>\n",
        "    </tr>\n",
        "    <tr>\n",
        "      <th>Abyss</th>\n",
        "      <td>          Unrevealed</td>\n",
        "      <td>                                       Unrevealed</td>\n",
        "      <td>                                        Unrevealed</td>\n",
        "      <td>                                   Cosmic sorcerer</td>\n",
        "    </tr>\n",
        "    <tr>\n",
        "      <th>Agent Zero</th>\n",
        "      <td>          Unrevealed</td>\n",
        "      <td>                                           German</td>\n",
        "      <td>        Unrevealed location in former East Germany</td>\n",
        "      <td> Mercenary, former government operative, freedo...</td>\n",
        "    </tr>\n",
        "    <tr>\n",
        "      <th>Annihilus</th>\n",
        "      <td>          Unrevealed</td>\n",
        "      <td>                                          Arthros</td>\n",
        "      <td> Planet of [[Arthros]], Sector 17A, [[Negative ...</td>\n",
        "      <td>                              Conqueror, scavenger</td>\n",
        "    </tr>\n",
        "  </tbody>\n",
        "</table>\n",
        "</div>"
       ],
       "metadata": {},
       "output_type": "pyout",
       "prompt_number": 161,
       "text": [
        "                                 wiki.education  \\\n",
        "name                                              \n",
        "Abomination (Emil Blonsky)           Unrevealed   \n",
        "Absorbing Man               High school dropout   \n",
        "Abyss                                Unrevealed   \n",
        "Agent Zero                           Unrevealed   \n",
        "Annihilus                            Unrevealed   \n",
        "\n",
        "                                                            wiki.citizenship  \\\n",
        "name                                                                           \n",
        "Abomination (Emil Blonsky)  Citizen of Croatia; former citizen of Yugoslavia   \n",
        "Absorbing Man                                  U.S.A. with a criminal record   \n",
        "Abyss                                                             Unrevealed   \n",
        "Agent Zero                                                            German   \n",
        "Annihilus                                                            Arthros   \n",
        "\n",
        "                                                          wiki.place_of_birth  \\\n",
        "name                                                                            \n",
        "Abomination (Emil Blonsky)                                 Zagreb, Yugoslavia   \n",
        "Absorbing Man                                         New York City, New York   \n",
        "Abyss                                                              Unrevealed   \n",
        "Agent Zero                         Unrevealed location in former East Germany   \n",
        "Annihilus                   Planet of [[Arthros]], Sector 17A, [[Negative ...   \n",
        "\n",
        "                                                              wiki.occupation  \n",
        "name                                                                           \n",
        "Abomination (Emil Blonsky)                  Professional Criminal, Former Spy  \n",
        "Absorbing Man                             Professional criminal; former boxer  \n",
        "Abyss                                                         Cosmic sorcerer  \n",
        "Agent Zero                  Mercenary, former government operative, freedo...  \n",
        "Annihilus                                                Conqueror, scavenger  "
       ]
      }
     ],
     "prompt_number": 161
    },
    {
     "cell_type": "code",
     "collapsed": false,
     "input": [
      "clean_df[cultural_data].describe()"
     ],
     "language": "python",
     "metadata": {},
     "outputs": [
      {
       "html": [
        "<div style=\"max-height:1000px;max-width:1500px;overflow:auto;\">\n",
        "<table border=\"1\" class=\"dataframe\">\n",
        "  <thead>\n",
        "    <tr style=\"text-align: right;\">\n",
        "      <th></th>\n",
        "      <th>wiki.education</th>\n",
        "      <th>wiki.citizenship</th>\n",
        "      <th>wiki.place_of_birth</th>\n",
        "      <th>wiki.occupation</th>\n",
        "    </tr>\n",
        "  </thead>\n",
        "  <tbody>\n",
        "    <tr>\n",
        "      <th>count</th>\n",
        "      <td>        762</td>\n",
        "      <td>    762</td>\n",
        "      <td>        762</td>\n",
        "      <td>        762</td>\n",
        "    </tr>\n",
        "    <tr>\n",
        "      <th>unique</th>\n",
        "      <td>        357</td>\n",
        "      <td>    262</td>\n",
        "      <td>        412</td>\n",
        "      <td>        636</td>\n",
        "    </tr>\n",
        "    <tr>\n",
        "      <th>top</th>\n",
        "      <td> Unrevealed</td>\n",
        "      <td> U.S.A.</td>\n",
        "      <td> Unrevealed</td>\n",
        "      <td> Adventurer</td>\n",
        "    </tr>\n",
        "    <tr>\n",
        "      <th>freq</th>\n",
        "      <td>        236</td>\n",
        "      <td>    230</td>\n",
        "      <td>        156</td>\n",
        "      <td>         31</td>\n",
        "    </tr>\n",
        "  </tbody>\n",
        "</table>\n",
        "</div>"
       ],
       "metadata": {},
       "output_type": "pyout",
       "prompt_number": 163,
       "text": [
        "       wiki.education wiki.citizenship wiki.place_of_birth wiki.occupation\n",
        "count             762              762                 762             762\n",
        "unique            357              262                 412             636\n",
        "top        Unrevealed           U.S.A.          Unrevealed      Adventurer\n",
        "freq              236              230                 156              31"
       ]
      }
     ],
     "prompt_number": 163
    },
    {
     "cell_type": "code",
     "collapsed": false,
     "input": [
      "clean_df[physical_data].head()"
     ],
     "language": "python",
     "metadata": {},
     "outputs": [
      {
       "html": [
        "<div style=\"max-height:1000px;max-width:1500px;overflow:auto;\">\n",
        "<table border=\"1\" class=\"dataframe\">\n",
        "  <thead>\n",
        "    <tr style=\"text-align: right;\">\n",
        "      <th></th>\n",
        "      <th>wiki.hair</th>\n",
        "      <th>wiki.weight</th>\n",
        "      <th>wiki.height</th>\n",
        "      <th>wiki.eyes</th>\n",
        "    </tr>\n",
        "    <tr>\n",
        "      <th>name</th>\n",
        "      <th></th>\n",
        "      <th></th>\n",
        "      <th></th>\n",
        "      <th></th>\n",
        "    </tr>\n",
        "  </thead>\n",
        "  <tbody>\n",
        "    <tr>\n",
        "      <th>Abomination (Emil Blonsky)</th>\n",
        "      <td>   (Abomination) None; (Blonsky) Blond</td>\n",
        "      <td> (Abomination) 980 lbs.; (Blonsky) 180 lbs.</td>\n",
        "      <td> (Abomination) 6'8\"; (Blonsky) 5'10\"</td>\n",
        "      <td> (Abomination) Green; (Blonsky) Blue</td>\n",
        "    </tr>\n",
        "    <tr>\n",
        "      <th>Absorbing Man</th>\n",
        "      <td>                                  Bald</td>\n",
        "      <td>                        365 lbs. (variable)</td>\n",
        "      <td>                     6'4\" (variable)</td>\n",
        "      <td>                                Blue</td>\n",
        "    </tr>\n",
        "    <tr>\n",
        "      <th>Abyss</th>\n",
        "      <td>                            Unrevealed</td>\n",
        "      <td>                                 Unrevealed</td>\n",
        "      <td>                          Unrevealed</td>\n",
        "      <td>                          Unrevealed</td>\n",
        "    </tr>\n",
        "    <tr>\n",
        "      <th>Agent Zero</th>\n",
        "      <td> (Originally) Brown; (currently) Black</td>\n",
        "      <td>                                   230 lbs.</td>\n",
        "      <td>                                6'3\"</td>\n",
        "      <td>                                Blue</td>\n",
        "    </tr>\n",
        "    <tr>\n",
        "      <th>Annihilus</th>\n",
        "      <td>                                  None</td>\n",
        "      <td>                                   200 lbs.</td>\n",
        "      <td>                               5'11\"</td>\n",
        "      <td>                               Green</td>\n",
        "    </tr>\n",
        "  </tbody>\n",
        "</table>\n",
        "</div>"
       ],
       "metadata": {},
       "output_type": "pyout",
       "prompt_number": 159,
       "text": [
        "                                                        wiki.hair  \\\n",
        "name                                                                \n",
        "Abomination (Emil Blonsky)    (Abomination) None; (Blonsky) Blond   \n",
        "Absorbing Man                                                Bald   \n",
        "Abyss                                                  Unrevealed   \n",
        "Agent Zero                  (Originally) Brown; (currently) Black   \n",
        "Annihilus                                                    None   \n",
        "\n",
        "                                                           wiki.weight  \\\n",
        "name                                                                     \n",
        "Abomination (Emil Blonsky)  (Abomination) 980 lbs.; (Blonsky) 180 lbs.   \n",
        "Absorbing Man                                      365 lbs. (variable)   \n",
        "Abyss                                                       Unrevealed   \n",
        "Agent Zero                                                    230 lbs.   \n",
        "Annihilus                                                     200 lbs.   \n",
        "\n",
        "                                                    wiki.height  \\\n",
        "name                                                              \n",
        "Abomination (Emil Blonsky)  (Abomination) 6'8\"; (Blonsky) 5'10\"   \n",
        "Absorbing Man                                   6'4\" (variable)   \n",
        "Abyss                                                Unrevealed   \n",
        "Agent Zero                                                 6'3\"   \n",
        "Annihilus                                                 5'11\"   \n",
        "\n",
        "                                                      wiki.eyes  \n",
        "name                                                             \n",
        "Abomination (Emil Blonsky)  (Abomination) Green; (Blonsky) Blue  \n",
        "Absorbing Man                                              Blue  \n",
        "Abyss                                                Unrevealed  \n",
        "Agent Zero                                                 Blue  \n",
        "Annihilus                                                 Green  "
       ]
      }
     ],
     "prompt_number": 159
    },
    {
     "cell_type": "markdown",
     "metadata": {},
     "source": [
      "\u00bfC\u00f3mo diri\u00e1is que es f\u00edsicamente el personaje t\u00edpico de la marvel?\n",
      "(*pandas lo sabe*)"
     ]
    },
    {
     "cell_type": "code",
     "collapsed": false,
     "input": [
      "clean_df[physical_data].describe()"
     ],
     "language": "python",
     "metadata": {},
     "outputs": [
      {
       "html": [
        "<div style=\"max-height:1000px;max-width:1500px;overflow:auto;\">\n",
        "<table border=\"1\" class=\"dataframe\">\n",
        "  <thead>\n",
        "    <tr style=\"text-align: right;\">\n",
        "      <th></th>\n",
        "      <th>wiki.hair</th>\n",
        "      <th>wiki.weight</th>\n",
        "      <th>wiki.height</th>\n",
        "      <th>wiki.eyes</th>\n",
        "    </tr>\n",
        "  </thead>\n",
        "  <tbody>\n",
        "    <tr>\n",
        "      <th>count</th>\n",
        "      <td>   762</td>\n",
        "      <td>        762</td>\n",
        "      <td>        762</td>\n",
        "      <td>  762</td>\n",
        "    </tr>\n",
        "    <tr>\n",
        "      <th>unique</th>\n",
        "      <td>   223</td>\n",
        "      <td>        307</td>\n",
        "      <td>        213</td>\n",
        "      <td>  165</td>\n",
        "    </tr>\n",
        "    <tr>\n",
        "      <th>top</th>\n",
        "      <td> Black</td>\n",
        "      <td> Unrevealed</td>\n",
        "      <td> Unrevealed</td>\n",
        "      <td> Blue</td>\n",
        "    </tr>\n",
        "    <tr>\n",
        "      <th>freq</th>\n",
        "      <td>   165</td>\n",
        "      <td>         48</td>\n",
        "      <td>         44</td>\n",
        "      <td>  236</td>\n",
        "    </tr>\n",
        "  </tbody>\n",
        "</table>\n",
        "</div>"
       ],
       "metadata": {},
       "output_type": "pyout",
       "prompt_number": 160,
       "text": [
        "       wiki.hair wiki.weight wiki.height wiki.eyes\n",
        "count        762         762         762       762\n",
        "unique       223         307         213       165\n",
        "top        Black  Unrevealed  Unrevealed      Blue\n",
        "freq         165          48          44       236"
       ]
      }
     ],
     "prompt_number": 160
    },
    {
     "cell_type": "markdown",
     "metadata": {},
     "source": [
      "De modo que el personaje arquet\u00edpico de la Marvel tiene el pelo negro y los ojos azules, es de EE.UU. se dedica a ser aventurero. A m\u00ed la profesi\u00f3n ya me gusta."
     ]
    },
    {
     "cell_type": "heading",
     "level": 3,
     "metadata": {},
     "source": [
      "\u00bfQu\u00e9 personaje aparece en m\u00e1s c\u00f3mics?"
     ]
    },
    {
     "cell_type": "code",
     "collapsed": false,
     "input": [
      "clean_df['comics.available'].describe()"
     ],
     "language": "python",
     "metadata": {},
     "outputs": [
      {
       "metadata": {},
       "output_type": "pyout",
       "prompt_number": 167,
       "text": [
        "count     762.000000\n",
        "mean       53.292651\n",
        "std       179.820372\n",
        "min         0.000000\n",
        "25%         2.000000\n",
        "50%        10.000000\n",
        "75%        33.750000\n",
        "max      2575.000000\n",
        "dtype: float64"
       ]
      }
     ],
     "prompt_number": 167
    },
    {
     "cell_type": "markdown",
     "metadata": {},
     "source": [
      "\u00bf2575.000000? Debe ser un error, \u00bfno? \u00bfQui\u00e9n es el pluriempleado? "
     ]
    },
    {
     "cell_type": "code",
     "collapsed": false,
     "input": [
      "clean_df[clean_df['comics.available'] == 2575.000000]"
     ],
     "language": "python",
     "metadata": {},
     "outputs": [
      {
       "html": [
        "<div style=\"max-height:1000px;max-width:1500px;overflow:auto;\">\n",
        "<table border=\"1\" class=\"dataframe\">\n",
        "  <thead>\n",
        "    <tr style=\"text-align: right;\">\n",
        "      <th></th>\n",
        "      <th>wiki.hair</th>\n",
        "      <th>wiki.weight</th>\n",
        "      <th>wiki.height</th>\n",
        "      <th>wiki.eyes</th>\n",
        "      <th>wiki.education</th>\n",
        "      <th>wiki.citizenship</th>\n",
        "      <th>wiki.place_of_birth</th>\n",
        "      <th>wiki.occupation</th>\n",
        "      <th>wiki.bio</th>\n",
        "      <th>wiki.bio_text</th>\n",
        "      <th>wiki.categories</th>\n",
        "      <th>comics.available</th>\n",
        "    </tr>\n",
        "    <tr>\n",
        "      <th>name</th>\n",
        "      <th></th>\n",
        "      <th></th>\n",
        "      <th></th>\n",
        "      <th></th>\n",
        "      <th></th>\n",
        "      <th></th>\n",
        "      <th></th>\n",
        "      <th></th>\n",
        "      <th></th>\n",
        "      <th></th>\n",
        "      <th></th>\n",
        "      <th></th>\n",
        "    </tr>\n",
        "  </thead>\n",
        "  <tbody>\n",
        "    <tr>\n",
        "      <th>Spider-Man</th>\n",
        "      <td> Brown</td>\n",
        "      <td> 167 lbs.</td>\n",
        "      <td> 5'10\"</td>\n",
        "      <td> Hazel</td>\n",
        "      <td> College graduate (biophysics major), doctorate...</td>\n",
        "      <td> U.S.A.</td>\n",
        "      <td> Forest Hills, New York</td>\n",
        "      <td> Scientist and inventor; former freelance photo...</td>\n",
        "      <td> The bite of an irradiated spider granted high-...</td>\n",
        "      <td> The bite of an irradiated spider granted high-...</td>\n",
        "      <td> [Avengers, Civil War, Heroes, Marvel Knights, ...</td>\n",
        "      <td> 2575</td>\n",
        "    </tr>\n",
        "  </tbody>\n",
        "</table>\n",
        "</div>"
       ],
       "metadata": {},
       "output_type": "pyout",
       "prompt_number": 168,
       "text": [
        "           wiki.hair wiki.weight wiki.height wiki.eyes  \\\n",
        "name                                                     \n",
        "Spider-Man     Brown    167 lbs.       5'10\"     Hazel   \n",
        "\n",
        "                                               wiki.education  \\\n",
        "name                                                            \n",
        "Spider-Man  College graduate (biophysics major), doctorate...   \n",
        "\n",
        "           wiki.citizenship     wiki.place_of_birth  \\\n",
        "name                                                  \n",
        "Spider-Man           U.S.A.  Forest Hills, New York   \n",
        "\n",
        "                                              wiki.occupation  \\\n",
        "name                                                            \n",
        "Spider-Man  Scientist and inventor; former freelance photo...   \n",
        "\n",
        "                                                     wiki.bio  \\\n",
        "name                                                            \n",
        "Spider-Man  The bite of an irradiated spider granted high-...   \n",
        "\n",
        "                                                wiki.bio_text  \\\n",
        "name                                                            \n",
        "Spider-Man  The bite of an irradiated spider granted high-...   \n",
        "\n",
        "                                              wiki.categories  \\\n",
        "name                                                            \n",
        "Spider-Man  [Avengers, Civil War, Heroes, Marvel Knights, ...   \n",
        "\n",
        "            comics.available  \n",
        "name                          \n",
        "Spider-Man              2575  "
       ]
      }
     ],
     "prompt_number": 168
    },
    {
     "cell_type": "markdown",
     "metadata": {},
     "source": [
      "No se si es un error, pero sino lo es el llor\u00f3n de spiderman aparece en muchos c\u00f3mics. "
     ]
    },
    {
     "cell_type": "heading",
     "level": 3,
     "metadata": {},
     "source": [
      "Distribuci\u00f3n de h\u00e9roes y villanos en funci\u00f3n de g\u00e9nero"
     ]
    },
    {
     "cell_type": "markdown",
     "metadata": {},
     "source": [
      "Antes de ponernos a jugar con los datos (m\u00e1s), tenemos una columna de la que se pude sacar mucho partido \"wiki.categories\""
     ]
    },
    {
     "cell_type": "code",
     "collapsed": false,
     "input": [
      "clean_df.iloc[1]"
     ],
     "language": "python",
     "metadata": {},
     "outputs": [
      {
       "metadata": {},
       "output_type": "pyout",
       "prompt_number": 174,
       "text": [
        "wiki.hair                                                           Bald\n",
        "wiki.weight                                          365 lbs. (variable)\n",
        "wiki.height                                              6'4\" (variable)\n",
        "wiki.eyes                                                           Blue\n",
        "wiki.education                                       High school dropout\n",
        "wiki.citizenship                           U.S.A. with a criminal record\n",
        "wiki.place_of_birth                              New York City, New York\n",
        "wiki.occupation                      Professional criminal; former boxer\n",
        "wiki.bio               Crusher Creel's life was little more than that...\n",
        "wiki.bio_text          Crusher Creel's life was little more than that...\n",
        "wiki.categories                          [Avengers, Civil War, Villains]\n",
        "comics.available                                                      43\n",
        "Name: Absorbing Man, dtype: object"
       ]
      }
     ],
     "prompt_number": 174
    },
    {
     "cell_type": "markdown",
     "metadata": {},
     "source": [
      "A priori no tenemos informaci\u00f3n de que personajes son hombres, mujeres o alienigenas. Pero Marvel debi\u00f3 intuir que nos podr\u00eda interesar el papel de las mujeres en los c\u00f3mics y nos incluyo una categor\u00eda: \"Mujeres\", que nos va a facilitar la vida un mont\u00f3n. Vamos a crear dos nuevas columnas en el dataframe:\n",
      "\n",
      "- *woman*: que simplemente contendr\u00e1 True o False si el personaje es femenino o no respectivamente.\n",
      "- *villan*: \u00eddem T/F si el personaje es villano o no."
     ]
    },
    {
     "cell_type": "code",
     "collapsed": false,
     "input": [
      "women = clean_df['wiki.categories'].map(lambda x: 'Women' in x)\n",
      "clean_df['Women'] = women \n",
      "women[:5]"
     ],
     "language": "python",
     "metadata": {},
     "outputs": [
      {
       "metadata": {},
       "output_type": "pyout",
       "prompt_number": 175,
       "text": [
        "name\n",
        "Abomination (Emil Blonsky)    False\n",
        "Absorbing Man                 False\n",
        "Abyss                         False\n",
        "Agent Zero                    False\n",
        "Annihilus                     False\n",
        "Name: wiki.categories, dtype: bool"
       ]
      }
     ],
     "prompt_number": 175
    },
    {
     "cell_type": "code",
     "collapsed": false,
     "input": [
      "# ~ Esto es una negaci\u00f3n element-wise\n",
      "print(\"Mujeres: #{}, hombres #{}\".format(clean_df[women].shape[0],clean_df[~women].shape[0]))"
     ],
     "language": "python",
     "metadata": {},
     "outputs": [
      {
       "output_type": "stream",
       "stream": "stdout",
       "text": [
        "Women: #199, men #563\n"
       ]
      }
     ],
     "prompt_number": 176
    },
    {
     "cell_type": "markdown",
     "metadata": {},
     "source": [
      "Es decir, tenemos 199 personajes femeninos y 563 masculinos. Es decir solo el 26% de los personajes son femeninos. "
     ]
    },
    {
     "cell_type": "code",
     "collapsed": false,
     "input": [
      "villan = clean_df['wiki.categories'].map(lambda x: 'Villains' in x)\n",
      "clean_df['Villan'] = villan "
     ],
     "language": "python",
     "metadata": {},
     "outputs": [],
     "prompt_number": 177
    },
    {
     "cell_type": "code",
     "collapsed": false,
     "input": [
      "print(\"Villanos: #{}, H\u00e9roes #{}\".format(clean_df[villan].shape[0],clean_df[~villan].shape[0]))"
     ],
     "language": "python",
     "metadata": {},
     "outputs": [
      {
       "output_type": "stream",
       "stream": "stdout",
       "text": [
        "Villanos: #231, H\u00e9roes #531\n"
       ]
      }
     ],
     "prompt_number": 181
    },
    {
     "cell_type": "markdown",
     "metadata": {},
     "source": [
      "Los villanos tambi\u00e9n tienen mucho trabajo porque al parecer son s\u00f3lo el 30'31% de los personajes. \n",
      "\n",
      "Vamos a ver c\u00f3mo se distribuyen hombres y mujeres los roles de h\u00e9roes y villanos."
     ]
    },
    {
     "cell_type": "code",
     "collapsed": false,
     "input": [
      "men = ~women\n",
      "gender_data = {'Women':{'Heroes':0,'Villans':0},'Men':{'Heroes':0,'Villans':0}}\n",
      "# Women and villans\n",
      "gender_data['Women']['Villans'] = clean_df[villan & women].shape[0]\n",
      "# Women and heroes\n",
      "gender_data['Women']['Heroes'] = clean_df[~villan & women].shape[0]\n",
      "\n",
      "# Men and villans\n",
      "gender_data['Men']['Villans'] = clean_df[villan & men].shape[0]\n",
      "# Men and heroes\n",
      "gender_data['Men']['Heroes'] = clean_df[~villan & men].shape[0]\n",
      "gender_data"
     ],
     "language": "python",
     "metadata": {},
     "outputs": [
      {
       "metadata": {},
       "output_type": "pyout",
       "prompt_number": 183,
       "text": [
        "{'Women': {'Villans': 30, 'Heroes': 169},\n",
        " 'Men': {'Villans': 201, 'Heroes': 362}}"
       ]
      }
     ],
     "prompt_number": 183
    },
    {
     "cell_type": "code",
     "collapsed": false,
     "input": [
      "n_groups = 2\n",
      "opacity = 0.3\n",
      "men_data = (gender_data['Men']['Villans'], gender_data['Men']['Heroes'])\n",
      "women_data = (gender_data['Women']['Villans'], gender_data['Women']['Heroes'])\n",
      "\n",
      "fig, ax = plt.subplots()\n",
      "\n",
      "index = np.arange(n_groups)\n",
      "bar_width = 0.4\n",
      "\n",
      "\n",
      "rects1 = plt.bar(index, men_data, bar_width,\n",
      "                 alpha=opacity,\n",
      "                 color='b',\n",
      "                 label='Hombres')\n",
      "\n",
      "rects2 = plt.bar(index + bar_width, women_data, bar_width,\n",
      "                 alpha=opacity,\n",
      "                 color='r',\n",
      "                 label='Mujeres')\n",
      "\n",
      "plt.xlabel('Rol')\n",
      "plt.ylabel('N\u00famero de personajes')\n",
      "plt.title('Distribuci\u00f3n por g\u00e9nero y roles')\n",
      "plt.xticks(index + bar_width, ('H\u00e9roes', 'Villanos'))\n",
      "plt.legend(loc=0, borderaxespad=1.)\n",
      "\n",
      "plt.show()"
     ],
     "language": "python",
     "metadata": {},
     "outputs": [
      {
       "metadata": {},
       "output_type": "display_data",
       "png": "[encoded data removed]",
       "text": [
        "<matplotlib.figure.Figure at 0x10acaae90>"
       ]
      }
     ],
     "prompt_number": 194
    },
    {
     "cell_type": "heading",
     "level": 3,
     "metadata": {},
     "source": [
      "Explorando los c\u00f3mics"
     ]
    },
    {
     "cell_type": "code",
     "collapsed": false,
     "input": [
      "comics_df.dtypes"
     ],
     "language": "python",
     "metadata": {},
     "outputs": [
      {
       "metadata": {},
       "output_type": "pyout",
       "prompt_number": 202,
       "text": [
        "characters.available          int64\n",
        "characters.collectionURI     object\n",
        "characters.items             object\n",
        "characters.returned           int64\n",
        "collectedIssues              object\n",
        "collections                  object\n",
        "creators.available            int64\n",
        "creators.collectionURI       object\n",
        "creators.items               object\n",
        "creators.returned             int64\n",
        "dates                        object\n",
        "description                  object\n",
        "diamondCode                  object\n",
        "digitalId                     int64\n",
        "ean                          object\n",
        "events.available              int64\n",
        "events.collectionURI         object\n",
        "events.items                 object\n",
        "events.returned               int64\n",
        "format                       object\n",
        "id                            int64\n",
        "images                       object\n",
        "isbn                         object\n",
        "issn                         object\n",
        "issueNumber                 float64\n",
        "modified                     object\n",
        "pageCount                     int64\n",
        "prices                       object\n",
        "resourceURI                  object\n",
        "series.name                  object\n",
        "series.resourceURI           object\n",
        "stories.available             int64\n",
        "stories.collectionURI        object\n",
        "stories.items                object\n",
        "stories.returned              int64\n",
        "textObjects                  object\n",
        "thumbnail.extension          object\n",
        "thumbnail.path               object\n",
        "title                        object\n",
        "upc                          object\n",
        "urls                         object\n",
        "variantDescription           object\n",
        "variants                     object\n",
        "dtype: object"
       ]
      }
     ],
     "prompt_number": 202
    },
    {
     "cell_type": "markdown",
     "metadata": {},
     "source": [
      "<font color='red'> # TODO </font> </br> \n",
      "The dtype object comes from NumPy, it describes the type of element in a ndarray. Every element in a ndarray must has the same size in byte. For int64 and float64, they are 8 bytes. But for strings, the length of the string is not fixed. So instead of save the bytes of strings in the ndarray directly, Pandas use object ndarray, which save pointers to objects, because of this the dtype of this kind ndarray is object.\n",
      "\n"
     ]
    },
    {
     "cell_type": "markdown",
     "metadata": {},
     "source": [
      "En el campo precio aun tenemos un objeto json. \u00a1Mal! As\u00ed no podemos analizarlo. Lo que vamos a hacer es convertirlo a una serie, quedarnos \u00fanicamente con el precio impreso y arreglar esta columna del dataframe."
     ]
    },
    {
     "cell_type": "code",
     "collapsed": false,
     "input": [
      "prices = comics_df.prices"
     ],
     "language": "python",
     "metadata": {},
     "outputs": [],
     "prompt_number": 243
    },
    {
     "cell_type": "code",
     "collapsed": false,
     "input": [
      "prices_serie = prices.apply(pd.Series)"
     ],
     "language": "python",
     "metadata": {},
     "outputs": [],
     "prompt_number": 248
    },
    {
     "cell_type": "code",
     "collapsed": false,
     "input": [
      "prices_serie[20:30]"
     ],
     "language": "python",
     "metadata": {},
     "outputs": [
      {
       "html": [
        "<div style=\"max-height:1000px;max-width:1500px;overflow:auto;\">\n",
        "<table border=\"1\" class=\"dataframe\">\n",
        "  <thead>\n",
        "    <tr style=\"text-align: right;\">\n",
        "      <th></th>\n",
        "      <th>0</th>\n",
        "      <th>1</th>\n",
        "    </tr>\n",
        "  </thead>\n",
        "  <tbody>\n",
        "    <tr>\n",
        "      <th>0</th>\n",
        "      <td>  {'type': 'printPrice', 'price': 1.5}</td>\n",
        "      <td>                                             NaN</td>\n",
        "    </tr>\n",
        "    <tr>\n",
        "      <th>0</th>\n",
        "      <td>  {'type': 'printPrice', 'price': 1.5}</td>\n",
        "      <td>                                             NaN</td>\n",
        "    </tr>\n",
        "    <tr>\n",
        "      <th>0</th>\n",
        "      <td>  {'type': 'printPrice', 'price': 1.5}</td>\n",
        "      <td>                                             NaN</td>\n",
        "    </tr>\n",
        "    <tr>\n",
        "      <th>0</th>\n",
        "      <td>  {'type': 'printPrice', 'price': 1.5}</td>\n",
        "      <td> {'type': 'digitalPurchasePrice', 'price': 0.99}</td>\n",
        "    </tr>\n",
        "    <tr>\n",
        "      <th>0</th>\n",
        "      <td>  {'type': 'printPrice', 'price': 1.5}</td>\n",
        "      <td> {'type': 'digitalPurchasePrice', 'price': 0.99}</td>\n",
        "    </tr>\n",
        "    <tr>\n",
        "      <th>0</th>\n",
        "      <td> {'type': 'printPrice', 'price': 1.25}</td>\n",
        "      <td>                                             NaN</td>\n",
        "    </tr>\n",
        "    <tr>\n",
        "      <th>0</th>\n",
        "      <td>  {'type': 'printPrice', 'price': 1.5}</td>\n",
        "      <td> {'type': 'digitalPurchasePrice', 'price': 0.99}</td>\n",
        "    </tr>\n",
        "    <tr>\n",
        "      <th>0</th>\n",
        "      <td>  {'type': 'printPrice', 'price': 1.5}</td>\n",
        "      <td> {'type': 'digitalPurchasePrice', 'price': 0.99}</td>\n",
        "    </tr>\n",
        "    <tr>\n",
        "      <th>0</th>\n",
        "      <td>  {'type': 'printPrice', 'price': 1.5}</td>\n",
        "      <td>                                             NaN</td>\n",
        "    </tr>\n",
        "    <tr>\n",
        "      <th>0</th>\n",
        "      <td>  {'type': 'printPrice', 'price': 1.5}</td>\n",
        "      <td>                                             NaN</td>\n",
        "    </tr>\n",
        "  </tbody>\n",
        "</table>\n",
        "</div>"
       ],
       "metadata": {},
       "output_type": "pyout",
       "prompt_number": 251,
       "text": [
        "                                       0  \\\n",
        "0   {'type': 'printPrice', 'price': 1.5}   \n",
        "0   {'type': 'printPrice', 'price': 1.5}   \n",
        "0   {'type': 'printPrice', 'price': 1.5}   \n",
        "0   {'type': 'printPrice', 'price': 1.5}   \n",
        "0   {'type': 'printPrice', 'price': 1.5}   \n",
        "0  {'type': 'printPrice', 'price': 1.25}   \n",
        "0   {'type': 'printPrice', 'price': 1.5}   \n",
        "0   {'type': 'printPrice', 'price': 1.5}   \n",
        "0   {'type': 'printPrice', 'price': 1.5}   \n",
        "0   {'type': 'printPrice', 'price': 1.5}   \n",
        "\n",
        "                                                 1  \n",
        "0                                              NaN  \n",
        "0                                              NaN  \n",
        "0                                              NaN  \n",
        "0  {'type': 'digitalPurchasePrice', 'price': 0.99}  \n",
        "0  {'type': 'digitalPurchasePrice', 'price': 0.99}  \n",
        "0                                              NaN  \n",
        "0  {'type': 'digitalPurchasePrice', 'price': 0.99}  \n",
        "0  {'type': 'digitalPurchasePrice', 'price': 0.99}  \n",
        "0                                              NaN  \n",
        "0                                              NaN  "
       ]
      }
     ],
     "prompt_number": 251
    },
    {
     "cell_type": "code",
     "collapsed": false,
     "input": [
      "print_price = prices_serie[0].apply(pd.Series)['price']"
     ],
     "language": "python",
     "metadata": {},
     "outputs": [],
     "prompt_number": 260
    },
    {
     "cell_type": "code",
     "collapsed": false,
     "input": [
      "print_price.shape"
     ],
     "language": "python",
     "metadata": {},
     "outputs": [
      {
       "metadata": {},
       "output_type": "pyout",
       "prompt_number": 272,
       "text": [
        "(30179,)"
       ]
      }
     ],
     "prompt_number": 272
    },
    {
     "cell_type": "code",
     "collapsed": false,
     "input": [
      "digital_price = prices_serie[1].apply(pd.Series)['price']"
     ],
     "language": "python",
     "metadata": {},
     "outputs": [],
     "prompt_number": 267
    },
    {
     "cell_type": "code",
     "collapsed": false,
     "input": [
      "digital_price.value_counts()"
     ],
     "language": "python",
     "metadata": {},
     "outputs": [
      {
       "metadata": {},
       "output_type": "pyout",
       "prompt_number": 273,
       "text": [
        "1.99     7040\n",
        "3.99      137\n",
        "2.99       88\n",
        "0.99       44\n",
        "0.00       44\n",
        "7.99        3\n",
        "6.99        3\n",
        "4.99        3\n",
        "19.99       1\n",
        "dtype: int64"
       ]
      }
     ],
     "prompt_number": 273
    },
    {
     "cell_type": "code",
     "collapsed": false,
     "input": [
      "digital_price.count()"
     ],
     "language": "python",
     "metadata": {},
     "outputs": [
      {
       "metadata": {},
       "output_type": "pyout",
       "prompt_number": 280,
       "text": [
        "7363"
       ]
      }
     ],
     "prompt_number": 280
    },
    {
     "cell_type": "markdown",
     "metadata": {},
     "source": [
      "S\u00f3lo el 24'4% se ha editado digitalmente.  "
     ]
    },
    {
     "cell_type": "code",
     "collapsed": false,
     "input": [
      "#del tambi\u00e9n funcionaria del df.column_name\n",
      "comics_df = comics_df.drop('price')"
     ],
     "language": "python",
     "metadata": {},
     "outputs": [],
     "prompt_number": 283
    },
    {
     "cell_type": "code",
     "collapsed": false,
     "input": [
      "comics_df['print price'] = print_price\n",
      "comics_df['digital price'] = digital_price"
     ],
     "language": "python",
     "metadata": {},
     "outputs": [],
     "prompt_number": 287
    },
    {
     "cell_type": "markdown",
     "metadata": {},
     "source": [
      "A las fechas les pasa ex\u00e1ctamente lo mismo que a los precios. Vamos a limpiar los datos (data munging again)"
     ]
    },
    {
     "cell_type": "code",
     "collapsed": false,
     "input": [
      "dates = comics_df.dates\n",
      "dates_serie = dates.apply(pd.Series)[0].apply(pd.Series)"
     ],
     "language": "python",
     "metadata": {},
     "outputs": [],
     "prompt_number": 296
    },
    {
     "cell_type": "code",
     "collapsed": false,
     "input": [
      "on_sale_date = dates_serie.date.astype('datetime64[ns]')\n",
      "on_sale_date.head()"
     ],
     "language": "python",
     "metadata": {},
     "outputs": [
      {
       "metadata": {},
       "output_type": "pyout",
       "prompt_number": 321,
       "text": [
        "0   2004-11-24 05:00:00\n",
        "0   2003-10-08 04:00:00\n",
        "0   2005-11-02 05:00:00\n",
        "0   1999-06-01 04:00:00\n",
        "0   1999-07-01 04:00:00\n",
        "Name: date, dtype: datetime64[ns]"
       ]
      }
     ],
     "prompt_number": 321
    },
    {
     "cell_type": "code",
     "collapsed": false,
     "input": [
      "start = comics_df['On sale Date'].min()\n",
      "end =  comics_df['On sale Date'].max()\n",
      "\n",
      "yearly_range = pd.date_range(start, end, freq='365D6H')"
     ],
     "language": "python",
     "metadata": {},
     "outputs": [],
     "prompt_number": 328
    },
    {
     "cell_type": "code",
     "collapsed": false,
     "input": [
      "comics_per_year = comics_df.groupby(on_sale_date.map(lambda x: x.year)).size()\n",
      "comics_per_year.plot()"
     ],
     "language": "python",
     "metadata": {},
     "outputs": [
      {
       "metadata": {},
       "output_type": "pyout",
       "prompt_number": 354,
       "text": [
        "<matplotlib.axes._subplots.AxesSubplot at 0x126356650>"
       ]
      },
      {
       "metadata": {},
       "output_type": "display_data",
       "png": "[encoded data removed]",
       "text": [
        "<matplotlib.figure.Figure at 0x121af8e50>"
       ]
      }
     ],
     "prompt_number": 354
    },
    {
     "cell_type": "code",
     "collapsed": false,
     "input": [
      "really_old = comics_df[on_sale_date==start]\n",
      "really_old['On sale Date'].shape"
     ],
     "language": "python",
     "metadata": {},
     "outputs": [
      {
       "metadata": {},
       "output_type": "pyout",
       "prompt_number": 355,
       "text": [
        "(945,)"
       ]
      }
     ],
     "prompt_number": 355
    },
    {
     "cell_type": "code",
     "collapsed": false,
     "input": [
      "really_old.dates.iloc[1]"
     ],
     "language": "python",
     "metadata": {},
     "outputs": [
      {
       "metadata": {},
       "output_type": "pyout",
       "prompt_number": 356,
       "text": [
        "[{'type': 'onsaleDate', 'date': '-0001-11-30T00:00:00-0500'},\n",
        " {'type': 'focDate', 'date': '-0001-11-30T00:00:00-0500'}]"
       ]
      }
     ],
     "prompt_number": 356
    },
    {
     "cell_type": "code",
     "collapsed": false,
     "input": [
      "comics_df['On sale Date'] = on_sale_date\n",
      "comics_df = comics_df['On sale Date'][on_sale_date != start]"
     ],
     "language": "python",
     "metadata": {},
     "outputs": [],
     "prompt_number": 360
    },
    {
     "cell_type": "code",
     "collapsed": false,
     "input": [
      "comics_df"
     ],
     "language": "python",
     "metadata": {},
     "outputs": [
      {
       "metadata": {},
       "output_type": "pyout",
       "prompt_number": 361,
       "text": [
        "0   2004-11-24 05:00:00\n",
        "0   2003-10-08 04:00:00\n",
        "0   2005-11-02 05:00:00\n",
        "0   1999-06-01 04:00:00\n",
        "0   1999-07-01 04:00:00\n",
        "0   2000-08-01 04:00:00\n",
        "0   2000-09-01 04:00:00\n",
        "0   2000-10-01 04:00:00\n",
        "0   2000-11-01 05:00:00\n",
        "0   2000-12-01 05:00:00\n",
        "0   2001-03-01 05:00:00\n",
        "0   1939-11-10 05:00:00\n",
        "0   1939-11-10 05:00:00\n",
        "0   1999-11-30 05:00:00\n",
        "0   1988-09-10 04:00:00\n",
        "...\n",
        "0   1959-03-10 05:00:00\n",
        "0   1959-05-10 04:00:00\n",
        "0   1999-11-30 05:00:00\n",
        "0   1959-07-10 04:00:00\n",
        "0   1959-09-10 04:00:00\n",
        "0   1959-11-10 05:00:00\n",
        "0   1960-01-10 05:00:00\n",
        "0   1960-03-10 05:00:00\n",
        "0   1960-05-10 04:00:00\n",
        "0   1960-07-10 04:00:00\n",
        "0   1960-09-10 04:00:00\n",
        "0   1960-11-10 05:00:00\n",
        "0   2002-11-27 05:00:00\n",
        "0   1961-01-10 05:00:00\n",
        "0   1999-04-01 05:00:00\n",
        "Name: On sale Date, Length: 29234, dtype: datetime64[ns]"
       ]
      }
     ],
     "prompt_number": 361
    },
    {
     "cell_type": "code",
     "collapsed": false,
     "input": [],
     "language": "python",
     "metadata": {},
     "outputs": []
    }
   ],
   "metadata": {}
  }
 ]
}