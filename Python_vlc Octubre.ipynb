{
 "metadata": {
  "name": "",
  "signature": "sha256:3ee26a8ea74af9931cf6d4db6e8b57d65316372161356c29066c0d09399a7916"
 },
 "nbformat": 3,
 "nbformat_minor": 0,
 "worksheets": [
  {
   "cells": [
    {
     "cell_type": "heading",
     "level": 1,
     "metadata": {},
     "source": [
      "Marvelous data"
     ]
    },
    {
     "cell_type": "markdown",
     "metadata": {},
     "source": [
      "Examinando datos con pandas"
     ]
    },
    {
     "cell_type": "code",
     "collapsed": false,
     "input": [
      "speaker = {'name':'Mai Gim\u00e9nez', \n",
      "           'twitter': '@adahopper',\n",
      "           'weapons': ['python', 'bash','C++ ']}\n",
      "\n",
      "print('\\n'.join([\"{}: {}\".format(k, v) for k,v in speaker.items()]))"
     ],
     "language": "python",
     "metadata": {},
     "outputs": [
      {
       "output_type": "stream",
       "stream": "stdout",
       "text": [
        "name: Mai Gim\u00e9nez\n",
        "weapons: ['python', 'bash', 'C++']\n",
        "twitter: @adahopper\n"
       ]
      }
     ],
     "prompt_number": 85
    },
    {
     "cell_type": "code",
     "collapsed": false,
     "input": [
      "from IPython.display import Image\n",
      "Image(filename='marvel_logo.jpg')"
     ],
     "language": "python",
     "metadata": {},
     "outputs": [
      {
       "jpeg": "[encoded data removed]",
       "metadata": {},
       "output_type": "pyout",
       "prompt_number": 2,
       "text": [
        "<IPython.core.display.Image at 0x10753a1d0>"
       ]
      }
     ],
     "prompt_number": 2
    },
    {
     "cell_type": "markdown",
     "metadata": {},
     "source": [
      "Marvel, es una editorial de c\u00f3mics estadounidense fundada por Martin Goodman en 1939. Aunque la marvel tal y como hoy la conocemos data de 1961 con la publicaci\u00f3n de *Los cuatro fant\u00e1sticos* y otras historias de superh\u00e9roes creadas por Stan Lee, Jack Kirbi, Steve Ditko,... \n",
      "\n",
      "Marvel publica a personajes archiconocidos como:\n",
      "*   Spider-Man\n",
      "*   X-Men\n",
      "*   Captain America\n",
      "*   Guardians of the Galaxy\n",
      "*   ...\n",
      "\n",
      "[Wikipedia]\n",
      "\n",
      "\u00a1Y todos estos datos son **nuestros**!"
     ]
    },
    {
     "cell_type": "heading",
     "level": 2,
     "metadata": {},
     "source": [
      "Recopilar datos"
     ]
    },
    {
     "cell_type": "code",
     "collapsed": false,
     "input": [
      "from IPython.core.display import HTML\n",
      "MARVEL_DEV_SITE = \"http://developer.marvel.com/\"\n",
      "HTML(\"<iframe src={} width=800 height=600></iframe>\".format(MARVEL_DEV_SITE))"
     ],
     "language": "python",
     "metadata": {},
     "outputs": [
      {
       "html": [
        "<iframe src=http://developer.marvel.com/ width=800 height=600></iframe>"
       ],
       "metadata": {},
       "output_type": "pyout",
       "prompt_number": 3,
       "text": [
        "<IPython.core.display.HTML at 0x10755d350>"
       ]
      }
     ],
     "prompt_number": 3
    },
    {
     "cell_type": "heading",
     "level": 2,
     "metadata": {},
     "source": [
      "Pandas time!"
     ]
    },
    {
     "cell_type": "markdown",
     "metadata": {},
     "source": [
      "Pandas es una librer\u00eda de c\u00f3digo abierto, con licencia BSD, que permite trabajar eficientemente analizando datos en python.\n",
      "\n",
      "A pandas se le da bien:\n",
      "- Estrucutras de datos eficientes (**DataFrames**) para trabajar con datos indexados.\n",
      "- Herramientas para **leer y escribir datos eficientemente**. Es capaz de trabajar con distintos formatos:\n",
      "    - Csv.\n",
      "    - Ficheros de texto.\n",
      "    - Microsoft Excel.\n",
      "    - Bases de datos SQL.\n",
      "    - HDF5 format.\n",
      "    - ...\n",
      "- **Remodelado** flexible y alternancia entre conjuntos de datos.\n",
      "- Selecci\u00f3n inteligente basado en etiquetas, indexaci\u00f3n compleja, selecci\u00f3n de **subconjuntos** en grandes conjuntos de datos.\n",
      "- Se pueden insertar y borrar columnas: **mutabilidad** de los conjuntos de datos.\n",
      "- **Agrupado y fusionados** sencillo de conjuntos de datos.\n",
      "- **Funciones para series de tiempos**: gestiona eficientemente rangos de fechas.\n",
      "- ..."
     ]
    },
    {
     "cell_type": "code",
     "collapsed": false,
     "input": [
      "PANDAS_DEV_SITE = \"http://pandas.pydata.org/\"\n",
      "HTML(\"<iframe src={} width=800 height=600></iframe>\".format(PANDAS_DEV_SITE))"
     ],
     "language": "python",
     "metadata": {},
     "outputs": [
      {
       "html": [
        "<iframe src=http://pandas.pydata.org/ width=800 height=600></iframe>"
       ],
       "metadata": {},
       "output_type": "pyout",
       "prompt_number": 4,
       "text": [
        "<IPython.core.display.HTML at 0x10755d210>"
       ]
      }
     ],
     "prompt_number": 4
    },
    {
     "cell_type": "code",
     "collapsed": false,
     "input": [
      "import pandas as pd\n",
      "import sys\n",
      "import datetime as dt\n",
      "import numpy as np\n",
      "import matplotlib.pyplot as plt\n",
      "import matplotlib\n",
      "\n",
      "%matplotlib inline\n",
      "\n",
      "print(\"Versi\u00f3n de Python:     \", sys.version)\n",
      "print(\"Versi\u00f3n de Pandas:     \", pd.version.short_version)\n",
      "print(\"Versi\u00f3n de Numpy:      \", np.version.short_version)\n",
      "print(\"Versi\u00f3n de Matplotlib: \", matplotlib.__version__)"
     ],
     "language": "python",
     "metadata": {},
     "outputs": [
      {
       "output_type": "stream",
       "stream": "stdout",
       "text": [
        "Versi\u00f3n de Python:      3.3.4 (default, Jul 25 2014, 00:04:27) \n",
        "[GCC 4.2.1 Compatible Apple LLVM 5.1 (clang-503.0.40)]\n",
        "Versi\u00f3n de Pandas:      0.14.1\n",
        "Versi\u00f3n de Numpy:       1.8.2\n",
        "Versi\u00f3n de Matplotlib:  1.4.0\n"
       ]
      }
     ],
     "prompt_number": 5
    },
    {
     "cell_type": "heading",
     "level": 3,
     "metadata": {},
     "source": [
      "Leer los datos"
     ]
    },
    {
     "cell_type": "markdown",
     "metadata": {},
     "source": [
      "Marvel s\u00f3lo nos deja buscar hasta 100 personajes/c\u00f3mics cada vez. \n",
      "Tenemos una liber\u00eda para acceder directamente a la api de Marvel en python desarrollada por Garrett Pennington [pymarvel](https://github.com/gpennington/PyMarvel \"pymarvel\") en python 2 y est\u00e1 portada a python 3 en [pymarvel3](https://github.com/mshopper/PyMarvel \"pymarvel3\")\n",
      "\n",
      "Lo primero que deber\u00edamos hacer es recoger informaci\u00f3n de las web y almacenarnoslas. \n",
      "Pero, a alguien m\u00e1s se le ha ocurrido eso, y no vamos a reinventar la rueda. @asamiller ha desarrollado una app en node.js que explora la api de marvel y almacena los datos usando Orches [Orchestrate](https://orchestrate.io/ \"Orchestrate\"). Tenemos el c\u00f3digo disponible en [github]( https://github.com/asamiller/marvelousdb \"Marvelus DB\")."
     ]
    },
    {
     "cell_type": "code",
     "collapsed": false,
     "input": [
      "from os.path import join, abspath, isfile \n",
      "from os import listdir, getcwd, pardir\n",
      "\n",
      "MARVELOUSDB_PATH = join(abspath(join(getcwd(), pardir)),\"marvelousdb\",\"data\")\n",
      "MARVELOUSDB_CHARACTERS = join(MARVELOUSDB_PATH,\"characters\")\n",
      "MARVELOUSDB_COMICS = join(MARVELOUSDB_PATH,\"comics\")"
     ],
     "language": "python",
     "metadata": {},
     "outputs": [],
     "prompt_number": 6
    },
    {
     "cell_type": "code",
     "collapsed": false,
     "input": [
      "characters_json_db = [join(MARVELOUSDB_CHARACTERS,json_file) for json_file in listdir(MARVELOUSDB_CHARACTERS)]\n",
      "comics_json_db = [join(MARVELOUSDB_COMICS,json_file) for json_file in listdir(MARVELOUSDB_COMICS)]\n",
      "print(\"En MarvelousDB tenemos un backup de {} personajes y {} c\u00f3mics\".format(len(characters_json_db),\n",
      "                                                                             len(comics_json_db)))"
     ],
     "language": "python",
     "metadata": {},
     "outputs": [
      {
       "output_type": "stream",
       "stream": "stdout",
       "text": [
        "En MarvelousDB tenemos un backup de 1402 personajes y 30180 c\u00f3mics\n"
       ]
      }
     ],
     "prompt_number": 7
    },
    {
     "cell_type": "heading",
     "level": 3,
     "metadata": {},
     "source": [
      "DataFrame"
     ]
    },
    {
     "cell_type": "markdown",
     "metadata": {},
     "source": [
      "Un DataFrame es una estructura de 2 dimensiones con datos etiqueatados en columnas. Los datos que componen un dataframe pueden ser de distintos tipos. \n",
      "Piensa en un dataframe como si fuera una hoja de c\u00e1culo o una tabla SQL. \n",
      "\n",
      "Puedes formar un dataframe usando:\n",
      "- Diccionarios 1D de ndarrays, listas, diccionarios o series (Pandas).\n",
      "- Una matriz 2D ndarray.\n",
      "- Otro dataframe\n",
      "- ...\n",
      "\n",
      "Al crear un dataframe, tambi\u00e9n puedes indicar los \u00edndices (etiquetas para las filas) y las columnas. Si no pasamos estas etiquetas como argumentos pandas crear\u00e1 un dataframe usando el sentido com\u00fan."
     ]
    },
    {
     "cell_type": "markdown",
     "metadata": {},
     "source": [
      "En nuestro caso, leeremos todos los ficheros json y crearemos un DataFrame. Como tenemos informaci\u00f3n jer\u00e1rquica en los ficheros json necesitamos normalizar los datos, pero pandas tiene funciones que lo hacen por nosotros."
     ]
    },
    {
     "cell_type": "heading",
     "level": 4,
     "metadata": {},
     "source": [
      "Idiomatic"
     ]
    },
    {
     "cell_type": "code",
     "collapsed": false,
     "input": [
      "import json"
     ],
     "language": "python",
     "metadata": {},
     "outputs": [],
     "prompt_number": 8
    },
    {
     "cell_type": "code",
     "collapsed": false,
     "input": [
      "json_to_dataframe = []\n",
      "for json_file in characters_json_db:\n",
      "    with open(json_file, 'r') as jf:\n",
      "        json_character = json.loads(''.join(jf.readlines()))\n",
      "        json_plain = pd.io.json.json_normalize(json_character)\n",
      "        json_to_dataframe.append(json_plain)\n",
      "        \n",
      "characters_df = pd.concat(json_to_dataframe)"
     ],
     "language": "python",
     "metadata": {},
     "outputs": [],
     "prompt_number": 9
    },
    {
     "cell_type": "heading",
     "level": 4,
     "metadata": {},
     "source": [
      "Non idiomatic"
     ]
    },
    {
     "cell_type": "code",
     "collapsed": false,
     "input": [
      "df = pd.concat([pd.io.json.json_normalize(json.loads(''.join(open(json_file,'r').readlines()))) \n",
      "                for json_file in characters_json_db])"
     ],
     "language": "python",
     "metadata": {},
     "outputs": [],
     "prompt_number": 10
    },
    {
     "cell_type": "markdown",
     "metadata": {},
     "source": [
      "Podemos realizar operaciones l\u00f3gica sobre todos los elementos de un DataFrame, son operaciones vectoiales. "
     ]
    },
    {
     "cell_type": "code",
     "collapsed": false,
     "input": [
      "all(df == characters_df)"
     ],
     "language": "python",
     "metadata": {},
     "outputs": [
      {
       "metadata": {},
       "output_type": "pyout",
       "prompt_number": 12,
       "text": [
        "True"
       ]
      }
     ],
     "prompt_number": 12
    },
    {
     "cell_type": "code",
     "collapsed": false,
     "input": [
      "comics_df = pd.concat([pd.io.json.json_normalize(json.loads(''.join(open(json_file,'r').readlines()))) \n",
      "                       for json_file in comics_json_db if isfile(json_file)])"
     ],
     "language": "python",
     "metadata": {},
     "outputs": [],
     "prompt_number": 13
    },
    {
     "cell_type": "markdown",
     "metadata": {},
     "source": [
      "\u00bfY que pinta tiene un DataFrame?"
     ]
    },
    {
     "cell_type": "code",
     "collapsed": false,
     "input": [
      "characters_df.head()"
     ],
     "language": "python",
     "metadata": {},
     "outputs": [
      {
       "html": [
        "<div style=\"max-height:1000px;max-width:1500px;overflow:auto;\">\n",
        "<table border=\"1\" class=\"dataframe\">\n",
        "  <thead>\n",
        "    <tr style=\"text-align: right;\">\n",
        "      <th></th>\n",
        "      <th>comics.available</th>\n",
        "      <th>comics.collectionURI</th>\n",
        "      <th>comics.items</th>\n",
        "      <th>comics.returned</th>\n",
        "      <th>description</th>\n",
        "      <th>events.available</th>\n",
        "      <th>events.collectionURI</th>\n",
        "      <th>events.items</th>\n",
        "      <th>events.returned</th>\n",
        "      <th>id</th>\n",
        "      <th>...</th>\n",
        "      <th>wiki.specieshistory</th>\n",
        "      <th>wiki.team_name</th>\n",
        "      <th>wiki.teamicon</th>\n",
        "      <th>wiki.technology</th>\n",
        "      <th>wiki.tie-ins</th>\n",
        "      <th>wiki.title_graphic</th>\n",
        "      <th>wiki.universe</th>\n",
        "      <th>wiki.weapons</th>\n",
        "      <th>wiki.weaponss</th>\n",
        "      <th>wiki.weight</th>\n",
        "    </tr>\n",
        "  </thead>\n",
        "  <tbody>\n",
        "    <tr>\n",
        "      <th>0</th>\n",
        "      <td> 36</td>\n",
        "      <td> http://gateway.marvel.com/v1/public/characters...</td>\n",
        "      <td> [{'id': 36737, 'resourceURI': 'http://gateway....</td>\n",
        "      <td> 36</td>\n",
        "      <td> AIM is a terrorist organization bent on destro...</td>\n",
        "      <td> 0</td>\n",
        "      <td> http://gateway.marvel.com/v1/public/characters...</td>\n",
        "      <td>                                                []</td>\n",
        "      <td> 0</td>\n",
        "      <td> 1009144</td>\n",
        "      <td>...</td>\n",
        "      <td> NaN</td>\n",
        "      <td> NaN</td>\n",
        "      <td> NaN</td>\n",
        "      <td> NaN</td>\n",
        "      <td> NaN</td>\n",
        "      <td> NaN</td>\n",
        "      <td> [[Marvel Universe]]</td>\n",
        "      <td>                                               NaN</td>\n",
        "      <td> NaN</td>\n",
        "      <td>                                        NaN</td>\n",
        "    </tr>\n",
        "    <tr>\n",
        "      <th>0</th>\n",
        "      <td> 43</td>\n",
        "      <td> http://gateway.marvel.com/v1/public/characters...</td>\n",
        "      <td> [{'id': 34050, 'resourceURI': 'http://gateway....</td>\n",
        "      <td> 43</td>\n",
        "      <td> Formerly known as Emil Blonsky, a spy of Sovie...</td>\n",
        "      <td> 2</td>\n",
        "      <td> http://gateway.marvel.com/v1/public/characters...</td>\n",
        "      <td> [{'resourceURI': 'http://gateway.marvel.com/v1...</td>\n",
        "      <td> 2</td>\n",
        "      <td> 1009146</td>\n",
        "      <td>...</td>\n",
        "      <td> NaN</td>\n",
        "      <td> NaN</td>\n",
        "      <td> NaN</td>\n",
        "      <td> NaN</td>\n",
        "      <td> NaN</td>\n",
        "      <td> NaN</td>\n",
        "      <td>     Marvel Universe</td>\n",
        "      <td>                                              None</td>\n",
        "      <td> NaN</td>\n",
        "      <td> (Abomination) 980 lbs.; (Blonsky) 180 lbs.</td>\n",
        "    </tr>\n",
        "    <tr>\n",
        "      <th>0</th>\n",
        "      <td> 43</td>\n",
        "      <td> http://gateway.marvel.com/v1/public/characters...</td>\n",
        "      <td> [{'id': 36489, 'resourceURI': 'http://gateway....</td>\n",
        "      <td> 43</td>\n",
        "      <td>                                                  </td>\n",
        "      <td> 4</td>\n",
        "      <td> http://gateway.marvel.com/v1/public/characters...</td>\n",
        "      <td> [{'resourceURI': 'http://gateway.marvel.com/v1...</td>\n",
        "      <td> 4</td>\n",
        "      <td> 1009148</td>\n",
        "      <td>...</td>\n",
        "      <td> NaN</td>\n",
        "      <td> NaN</td>\n",
        "      <td> NaN</td>\n",
        "      <td> NaN</td>\n",
        "      <td> NaN</td>\n",
        "      <td> NaN</td>\n",
        "      <td> [[Marvel Universe]]</td>\n",
        "      <td> He uses a prison ball-and-chain as a weapon, a...</td>\n",
        "      <td> NaN</td>\n",
        "      <td>                        365 lbs. (variable)</td>\n",
        "    </tr>\n",
        "    <tr>\n",
        "      <th>0</th>\n",
        "      <td>  8</td>\n",
        "      <td> http://gateway.marvel.com/v1/public/characters...</td>\n",
        "      <td> [{'resourceURI': 'http://gateway.marvel.com/v1...</td>\n",
        "      <td>  8</td>\n",
        "      <td>                                                  </td>\n",
        "      <td> 1</td>\n",
        "      <td> http://gateway.marvel.com/v1/public/characters...</td>\n",
        "      <td> [{'resourceURI': 'http://gateway.marvel.com/v1...</td>\n",
        "      <td> 1</td>\n",
        "      <td> 1009149</td>\n",
        "      <td>...</td>\n",
        "      <td> NaN</td>\n",
        "      <td> NaN</td>\n",
        "      <td> NaN</td>\n",
        "      <td> NaN</td>\n",
        "      <td> NaN</td>\n",
        "      <td> NaN</td>\n",
        "      <td> [[Marvel Universe]]</td>\n",
        "      <td>                                        Unrevealed</td>\n",
        "      <td> NaN</td>\n",
        "      <td>                                 Unrevealed</td>\n",
        "    </tr>\n",
        "    <tr>\n",
        "      <th>0</th>\n",
        "      <td> 20</td>\n",
        "      <td> http://gateway.marvel.com/v1/public/characters...</td>\n",
        "      <td> [{'resourceURI': 'http://gateway.marvel.com/v1...</td>\n",
        "      <td> 20</td>\n",
        "      <td>                                                  </td>\n",
        "      <td> 0</td>\n",
        "      <td> http://gateway.marvel.com/v1/public/characters...</td>\n",
        "      <td>                                                []</td>\n",
        "      <td> 0</td>\n",
        "      <td> 1009150</td>\n",
        "      <td>...</td>\n",
        "      <td> NaN</td>\n",
        "      <td> NaN</td>\n",
        "      <td> NaN</td>\n",
        "      <td> NaN</td>\n",
        "      <td> NaN</td>\n",
        "      <td> NaN</td>\n",
        "      <td> [[Marvel Universe]]</td>\n",
        "      <td> Agent Zero carries a wide array of weapons inc...</td>\n",
        "      <td> NaN</td>\n",
        "      <td>                                   230 lbs.</td>\n",
        "    </tr>\n",
        "  </tbody>\n",
        "</table>\n",
        "<p>5 rows \u00d7 89 columns</p>\n",
        "</div>"
       ],
       "metadata": {},
       "output_type": "pyout",
       "prompt_number": 14,
       "text": [
        "   comics.available                               comics.collectionURI  \\\n",
        "0                36  http://gateway.marvel.com/v1/public/characters...   \n",
        "0                43  http://gateway.marvel.com/v1/public/characters...   \n",
        "0                43  http://gateway.marvel.com/v1/public/characters...   \n",
        "0                 8  http://gateway.marvel.com/v1/public/characters...   \n",
        "0                20  http://gateway.marvel.com/v1/public/characters...   \n",
        "\n",
        "                                        comics.items  comics.returned  \\\n",
        "0  [{'id': 36737, 'resourceURI': 'http://gateway....               36   \n",
        "0  [{'id': 34050, 'resourceURI': 'http://gateway....               43   \n",
        "0  [{'id': 36489, 'resourceURI': 'http://gateway....               43   \n",
        "0  [{'resourceURI': 'http://gateway.marvel.com/v1...                8   \n",
        "0  [{'resourceURI': 'http://gateway.marvel.com/v1...               20   \n",
        "\n",
        "                                         description  events.available  \\\n",
        "0  AIM is a terrorist organization bent on destro...                 0   \n",
        "0  Formerly known as Emil Blonsky, a spy of Sovie...                 2   \n",
        "0                                                                    4   \n",
        "0                                                                    1   \n",
        "0                                                                    0   \n",
        "\n",
        "                                events.collectionURI  \\\n",
        "0  http://gateway.marvel.com/v1/public/characters...   \n",
        "0  http://gateway.marvel.com/v1/public/characters...   \n",
        "0  http://gateway.marvel.com/v1/public/characters...   \n",
        "0  http://gateway.marvel.com/v1/public/characters...   \n",
        "0  http://gateway.marvel.com/v1/public/characters...   \n",
        "\n",
        "                                        events.items  events.returned  \\\n",
        "0                                                 []                0   \n",
        "0  [{'resourceURI': 'http://gateway.marvel.com/v1...                2   \n",
        "0  [{'resourceURI': 'http://gateway.marvel.com/v1...                4   \n",
        "0  [{'resourceURI': 'http://gateway.marvel.com/v1...                1   \n",
        "0                                                 []                0   \n",
        "\n",
        "        id   ...    wiki.specieshistory wiki.team_name wiki.teamicon  \\\n",
        "0  1009144   ...                    NaN            NaN           NaN   \n",
        "0  1009146   ...                    NaN            NaN           NaN   \n",
        "0  1009148   ...                    NaN            NaN           NaN   \n",
        "0  1009149   ...                    NaN            NaN           NaN   \n",
        "0  1009150   ...                    NaN            NaN           NaN   \n",
        "\n",
        "   wiki.technology wiki.tie-ins wiki.title_graphic        wiki.universe  \\\n",
        "0              NaN          NaN                NaN  [[Marvel Universe]]   \n",
        "0              NaN          NaN                NaN      Marvel Universe   \n",
        "0              NaN          NaN                NaN  [[Marvel Universe]]   \n",
        "0              NaN          NaN                NaN  [[Marvel Universe]]   \n",
        "0              NaN          NaN                NaN  [[Marvel Universe]]   \n",
        "\n",
        "                                        wiki.weapons wiki.weaponss  \\\n",
        "0                                                NaN           NaN   \n",
        "0                                               None           NaN   \n",
        "0  He uses a prison ball-and-chain as a weapon, a...           NaN   \n",
        "0                                         Unrevealed           NaN   \n",
        "0  Agent Zero carries a wide array of weapons inc...           NaN   \n",
        "\n",
        "                                  wiki.weight  \n",
        "0                                         NaN  \n",
        "0  (Abomination) 980 lbs.; (Blonsky) 180 lbs.  \n",
        "0                         365 lbs. (variable)  \n",
        "0                                  Unrevealed  \n",
        "0                                    230 lbs.  \n",
        "\n",
        "[5 rows x 89 columns]"
       ]
      }
     ],
     "prompt_number": 14
    },
    {
     "cell_type": "code",
     "collapsed": false,
     "input": [
      "comics_df.tail()"
     ],
     "language": "python",
     "metadata": {},
     "outputs": [
      {
       "html": [
        "<div style=\"max-height:1000px;max-width:1500px;overflow:auto;\">\n",
        "<table border=\"1\" class=\"dataframe\">\n",
        "  <thead>\n",
        "    <tr style=\"text-align: right;\">\n",
        "      <th></th>\n",
        "      <th>characters.available</th>\n",
        "      <th>characters.collectionURI</th>\n",
        "      <th>characters.items</th>\n",
        "      <th>characters.returned</th>\n",
        "      <th>collectedIssues</th>\n",
        "      <th>collections</th>\n",
        "      <th>creators.available</th>\n",
        "      <th>creators.collectionURI</th>\n",
        "      <th>creators.items</th>\n",
        "      <th>creators.returned</th>\n",
        "      <th>...</th>\n",
        "      <th>stories.items</th>\n",
        "      <th>stories.returned</th>\n",
        "      <th>textObjects</th>\n",
        "      <th>thumbnail.extension</th>\n",
        "      <th>thumbnail.path</th>\n",
        "      <th>title</th>\n",
        "      <th>upc</th>\n",
        "      <th>urls</th>\n",
        "      <th>variantDescription</th>\n",
        "      <th>variants</th>\n",
        "    </tr>\n",
        "  </thead>\n",
        "  <tbody>\n",
        "    <tr>\n",
        "      <th>0</th>\n",
        "      <td> 0</td>\n",
        "      <td> http://gateway.marvel.com/v1/public/comics/999...</td>\n",
        "      <td>                                                []</td>\n",
        "      <td> 0</td>\n",
        "      <td> []</td>\n",
        "      <td> []</td>\n",
        "      <td> 0</td>\n",
        "      <td> http://gateway.marvel.com/v1/public/comics/999...</td>\n",
        "      <td>                                                []</td>\n",
        "      <td> 0</td>\n",
        "      <td>...</td>\n",
        "      <td> [{'resourceURI': 'http://gateway.marvel.com/v1...</td>\n",
        "      <td> 2</td>\n",
        "      <td> []</td>\n",
        "      <td> jpg</td>\n",
        "      <td> http://i.annihil.us/u/prod/marvel/i/mg/b/40/im...</td>\n",
        "      <td> Love Romances (1949) #94</td>\n",
        "      <td> </td>\n",
        "      <td> [{'type': 'detail', 'url': 'http://marvel.com/...</td>\n",
        "      <td> </td>\n",
        "      <td> []</td>\n",
        "    </tr>\n",
        "    <tr>\n",
        "      <th>0</th>\n",
        "      <td> 0</td>\n",
        "      <td> http://gateway.marvel.com/v1/public/comics/999...</td>\n",
        "      <td>                                                []</td>\n",
        "      <td> 0</td>\n",
        "      <td> []</td>\n",
        "      <td> []</td>\n",
        "      <td> 1</td>\n",
        "      <td> http://gateway.marvel.com/v1/public/comics/999...</td>\n",
        "      <td> [{'resourceURI': 'http://gateway.marvel.com/v1...</td>\n",
        "      <td> 1</td>\n",
        "      <td>...</td>\n",
        "      <td> [{'resourceURI': 'http://gateway.marvel.com/v1...</td>\n",
        "      <td> 1</td>\n",
        "      <td> []</td>\n",
        "      <td> jpg</td>\n",
        "      <td> http://i.annihil.us/u/prod/marvel/i/mg/b/40/im...</td>\n",
        "      <td> Love Romances (1949) #96</td>\n",
        "      <td> </td>\n",
        "      <td> [{'type': 'detail', 'url': 'http://marvel.com/...</td>\n",
        "      <td> </td>\n",
        "      <td> []</td>\n",
        "    </tr>\n",
        "    <tr>\n",
        "      <th>0</th>\n",
        "      <td> 0</td>\n",
        "      <td> http://gateway.marvel.com/v1/public/comics/999...</td>\n",
        "      <td>                                                []</td>\n",
        "      <td> 0</td>\n",
        "      <td> []</td>\n",
        "      <td> []</td>\n",
        "      <td> 2</td>\n",
        "      <td> http://gateway.marvel.com/v1/public/comics/999...</td>\n",
        "      <td> [{'resourceURI': 'http://gateway.marvel.com/v1...</td>\n",
        "      <td> 2</td>\n",
        "      <td>...</td>\n",
        "      <td> [{'resourceURI': 'http://gateway.marvel.com/v1...</td>\n",
        "      <td> 1</td>\n",
        "      <td> []</td>\n",
        "      <td> jpg</td>\n",
        "      <td> http://i.annihil.us/u/prod/marvel/i/mg/b/40/im...</td>\n",
        "      <td> Love Romances (1949) #97</td>\n",
        "      <td> </td>\n",
        "      <td> [{'type': 'detail', 'url': 'http://marvel.com/...</td>\n",
        "      <td> </td>\n",
        "      <td> []</td>\n",
        "    </tr>\n",
        "    <tr>\n",
        "      <th>0</th>\n",
        "      <td> 0</td>\n",
        "      <td> http://gateway.marvel.com/v1/public/comics/999...</td>\n",
        "      <td>                                                []</td>\n",
        "      <td> 0</td>\n",
        "      <td> []</td>\n",
        "      <td> []</td>\n",
        "      <td> 2</td>\n",
        "      <td> http://gateway.marvel.com/v1/public/comics/999...</td>\n",
        "      <td> [{'resourceURI': 'http://gateway.marvel.com/v1...</td>\n",
        "      <td> 2</td>\n",
        "      <td>...</td>\n",
        "      <td> [{'resourceURI': 'http://gateway.marvel.com/v1...</td>\n",
        "      <td> 1</td>\n",
        "      <td> []</td>\n",
        "      <td> jpg</td>\n",
        "      <td> http://i.annihil.us/u/prod/marvel/i/mg/b/40/im...</td>\n",
        "      <td> Love Romances (1949) #99</td>\n",
        "      <td> </td>\n",
        "      <td> [{'type': 'detail', 'url': 'http://marvel.com/...</td>\n",
        "      <td> </td>\n",
        "      <td> []</td>\n",
        "    </tr>\n",
        "    <tr>\n",
        "      <th>0</th>\n",
        "      <td> 3</td>\n",
        "      <td> http://gateway.marvel.com/v1/public/comics/999...</td>\n",
        "      <td> [{'resourceURI': 'http://gateway.marvel.com/v1...</td>\n",
        "      <td> 3</td>\n",
        "      <td> []</td>\n",
        "      <td> []</td>\n",
        "      <td> 8</td>\n",
        "      <td> http://gateway.marvel.com/v1/public/comics/999...</td>\n",
        "      <td> [{'resourceURI': 'http://gateway.marvel.com/v1...</td>\n",
        "      <td> 8</td>\n",
        "      <td>...</td>\n",
        "      <td> [{'resourceURI': 'http://gateway.marvel.com/v1...</td>\n",
        "      <td> 2</td>\n",
        "      <td> []</td>\n",
        "      <td> jpg</td>\n",
        "      <td> http://i.annihil.us/u/prod/marvel/i/mg/c/a0/4b...</td>\n",
        "      <td>    Magneto Rex (1999) #1</td>\n",
        "      <td> </td>\n",
        "      <td> [{'type': 'detail', 'url': 'http://marvel.com/...</td>\n",
        "      <td> </td>\n",
        "      <td> []</td>\n",
        "    </tr>\n",
        "  </tbody>\n",
        "</table>\n",
        "<p>5 rows \u00d7 43 columns</p>\n",
        "</div>"
       ],
       "metadata": {},
       "output_type": "pyout",
       "prompt_number": 15,
       "text": [
        "   characters.available                           characters.collectionURI  \\\n",
        "0                     0  http://gateway.marvel.com/v1/public/comics/999...   \n",
        "0                     0  http://gateway.marvel.com/v1/public/comics/999...   \n",
        "0                     0  http://gateway.marvel.com/v1/public/comics/999...   \n",
        "0                     0  http://gateway.marvel.com/v1/public/comics/999...   \n",
        "0                     3  http://gateway.marvel.com/v1/public/comics/999...   \n",
        "\n",
        "                                    characters.items  characters.returned  \\\n",
        "0                                                 []                    0   \n",
        "0                                                 []                    0   \n",
        "0                                                 []                    0   \n",
        "0                                                 []                    0   \n",
        "0  [{'resourceURI': 'http://gateway.marvel.com/v1...                    3   \n",
        "\n",
        "  collectedIssues collections  creators.available  \\\n",
        "0              []          []                   0   \n",
        "0              []          []                   1   \n",
        "0              []          []                   2   \n",
        "0              []          []                   2   \n",
        "0              []          []                   8   \n",
        "\n",
        "                              creators.collectionURI  \\\n",
        "0  http://gateway.marvel.com/v1/public/comics/999...   \n",
        "0  http://gateway.marvel.com/v1/public/comics/999...   \n",
        "0  http://gateway.marvel.com/v1/public/comics/999...   \n",
        "0  http://gateway.marvel.com/v1/public/comics/999...   \n",
        "0  http://gateway.marvel.com/v1/public/comics/999...   \n",
        "\n",
        "                                      creators.items  creators.returned  \\\n",
        "0                                                 []                  0   \n",
        "0  [{'resourceURI': 'http://gateway.marvel.com/v1...                  1   \n",
        "0  [{'resourceURI': 'http://gateway.marvel.com/v1...                  2   \n",
        "0  [{'resourceURI': 'http://gateway.marvel.com/v1...                  2   \n",
        "0  [{'resourceURI': 'http://gateway.marvel.com/v1...                  8   \n",
        "\n",
        "         ...                                              stories.items  \\\n",
        "0        ...          [{'resourceURI': 'http://gateway.marvel.com/v1...   \n",
        "0        ...          [{'resourceURI': 'http://gateway.marvel.com/v1...   \n",
        "0        ...          [{'resourceURI': 'http://gateway.marvel.com/v1...   \n",
        "0        ...          [{'resourceURI': 'http://gateway.marvel.com/v1...   \n",
        "0        ...          [{'resourceURI': 'http://gateway.marvel.com/v1...   \n",
        "\n",
        "  stories.returned textObjects  thumbnail.extension  \\\n",
        "0                2          []                  jpg   \n",
        "0                1          []                  jpg   \n",
        "0                1          []                  jpg   \n",
        "0                1          []                  jpg   \n",
        "0                2          []                  jpg   \n",
        "\n",
        "                                      thumbnail.path  \\\n",
        "0  http://i.annihil.us/u/prod/marvel/i/mg/b/40/im...   \n",
        "0  http://i.annihil.us/u/prod/marvel/i/mg/b/40/im...   \n",
        "0  http://i.annihil.us/u/prod/marvel/i/mg/b/40/im...   \n",
        "0  http://i.annihil.us/u/prod/marvel/i/mg/b/40/im...   \n",
        "0  http://i.annihil.us/u/prod/marvel/i/mg/c/a0/4b...   \n",
        "\n",
        "                      title upc  \\\n",
        "0  Love Romances (1949) #94       \n",
        "0  Love Romances (1949) #96       \n",
        "0  Love Romances (1949) #97       \n",
        "0  Love Romances (1949) #99       \n",
        "0     Magneto Rex (1999) #1       \n",
        "\n",
        "                                                urls  variantDescription  \\\n",
        "0  [{'type': 'detail', 'url': 'http://marvel.com/...                       \n",
        "0  [{'type': 'detail', 'url': 'http://marvel.com/...                       \n",
        "0  [{'type': 'detail', 'url': 'http://marvel.com/...                       \n",
        "0  [{'type': 'detail', 'url': 'http://marvel.com/...                       \n",
        "0  [{'type': 'detail', 'url': 'http://marvel.com/...                       \n",
        "\n",
        "  variants  \n",
        "0       []  \n",
        "0       []  \n",
        "0       []  \n",
        "0       []  \n",
        "0       []  \n",
        "\n",
        "[5 rows x 43 columns]"
       ]
      }
     ],
     "prompt_number": 15
    },
    {
     "cell_type": "markdown",
     "metadata": {},
     "source": [
      "Los DataFrames de pandas est\u00e1n implementados basandose en numpy, de modo que si queremos saber la longitud que tiene un Dataframe es ex\u00e1ctamente igual que en numpy, f\u00e1cil \u00bfverdad?"
     ]
    },
    {
     "cell_type": "code",
     "collapsed": false,
     "input": [
      "characters_df.shape"
     ],
     "language": "python",
     "metadata": {},
     "outputs": [
      {
       "metadata": {},
       "output_type": "pyout",
       "prompt_number": 16,
       "text": [
        "(1402, 89)"
       ]
      }
     ],
     "prompt_number": 16
    },
    {
     "cell_type": "code",
     "collapsed": false,
     "input": [
      "comics_df.shape"
     ],
     "language": "python",
     "metadata": {},
     "outputs": [
      {
       "metadata": {},
       "output_type": "pyout",
       "prompt_number": 17,
       "text": [
        "(30179, 43)"
       ]
      }
     ],
     "prompt_number": 17
    },
    {
     "cell_type": "markdown",
     "metadata": {},
     "source": [
      "Vamos a ver que podemos saber de los personajes"
     ]
    },
    {
     "cell_type": "code",
     "collapsed": false,
     "input": [
      "', '.join(characters_df.columns.values)"
     ],
     "language": "python",
     "metadata": {},
     "outputs": [
      {
       "metadata": {},
       "output_type": "pyout",
       "prompt_number": 18,
       "text": [
        "'comics.available, comics.collectionURI, comics.items, comics.returned, description, events.available, events.collectionURI, events.items, events.returned, id, modified, name, resourceURI, series.available, series.collectionURI, series.items, series.returned, stories.available, stories.collectionURI, stories.items, stories.returned, thumbnail.extension, thumbnail.path, urls, wiki.Date_of_birth, wiki.Place_of_birth, wiki.abilities, wiki.aliases, wiki.appearance, wiki.base_of_operations, wiki.bio, wiki.bio_text, wiki.blurb, wiki.builder, wiki.categories, wiki.categorytext, wiki.citizenship, wiki.creator, wiki.creators, wiki.current_members, wiki.debut, wiki.distinguishing_features, wiki.dstinguishing_features, wiki.education, wiki.event_text, wiki.eyes, wiki.features, wiki.former_members, wiki.govenment, wiki.government, wiki.groups, wiki.hair, wiki.height, wiki.home_world, wiki.identity, wiki.key_characters, wiki.key_issues, wiki.leader, wiki.location, wiki.main_image, wiki.members, wiki.object_text, wiki.occupation, wiki.origin, wiki.other_members, wiki.owner, wiki.paraphernalia, wiki.place_of_birth, wiki.place_of_creation, wiki.place_text, wiki.points_of_interest, wiki.power, wiki.powers, wiki.real_name, wiki.relatives, wiki.significant_citizens, wiki.significant_issues, wiki.skin, wiki.special_limitations, wiki.specieshistory, wiki.team_name, wiki.teamicon, wiki.technology, wiki.tie-ins, wiki.title_graphic, wiki.universe, wiki.weapons, wiki.weaponss, wiki.weight'"
       ]
      }
     ],
     "prompt_number": 18
    },
    {
     "cell_type": "markdown",
     "metadata": {},
     "source": [
      " *En realidad no deber\u00edamos lanzar las campanas al vuelo porque __spoiler__ muchos de los campos est\u00e1n vacios *"
     ]
    },
    {
     "cell_type": "code",
     "collapsed": false,
     "input": [
      "characters_df.dropna()"
     ],
     "language": "python",
     "metadata": {},
     "outputs": [
      {
       "html": [
        "<div style=\"max-height:1000px;max-width:1500px;overflow:auto;\">\n",
        "<table border=\"1\" class=\"dataframe\">\n",
        "  <thead>\n",
        "    <tr style=\"text-align: right;\">\n",
        "      <th></th>\n",
        "      <th>comics.available</th>\n",
        "      <th>comics.collectionURI</th>\n",
        "      <th>comics.items</th>\n",
        "      <th>comics.returned</th>\n",
        "      <th>description</th>\n",
        "      <th>events.available</th>\n",
        "      <th>events.collectionURI</th>\n",
        "      <th>events.items</th>\n",
        "      <th>events.returned</th>\n",
        "      <th>id</th>\n",
        "      <th>...</th>\n",
        "      <th>wiki.specieshistory</th>\n",
        "      <th>wiki.team_name</th>\n",
        "      <th>wiki.teamicon</th>\n",
        "      <th>wiki.technology</th>\n",
        "      <th>wiki.tie-ins</th>\n",
        "      <th>wiki.title_graphic</th>\n",
        "      <th>wiki.universe</th>\n",
        "      <th>wiki.weapons</th>\n",
        "      <th>wiki.weaponss</th>\n",
        "      <th>wiki.weight</th>\n",
        "    </tr>\n",
        "  </thead>\n",
        "  <tbody>\n",
        "  </tbody>\n",
        "</table>\n",
        "<p>0 rows \u00d7 89 columns</p>\n",
        "</div>"
       ],
       "metadata": {},
       "output_type": "pyout",
       "prompt_number": 19,
       "text": [
        "Empty DataFrame\n",
        "Columns: [comics.available, comics.collectionURI, comics.items, comics.returned, description, events.available, events.collectionURI, events.items, events.returned, id, modified, name, resourceURI, series.available, series.collectionURI, series.items, series.returned, stories.available, stories.collectionURI, stories.items, stories.returned, thumbnail.extension, thumbnail.path, urls, wiki.Date_of_birth, wiki.Place_of_birth, wiki.abilities, wiki.aliases, wiki.appearance, wiki.base_of_operations, wiki.bio, wiki.bio_text, wiki.blurb, wiki.builder, wiki.categories, wiki.categorytext, wiki.citizenship, wiki.creator, wiki.creators, wiki.current_members, wiki.debut, wiki.distinguishing_features, wiki.dstinguishing_features, wiki.education, wiki.event_text, wiki.eyes, wiki.features, wiki.former_members, wiki.govenment, wiki.government, wiki.groups, wiki.hair, wiki.height, wiki.home_world, wiki.identity, wiki.key_characters, wiki.key_issues, wiki.leader, wiki.location, wiki.main_image, wiki.members, wiki.object_text, wiki.occupation, wiki.origin, wiki.other_members, wiki.owner, wiki.paraphernalia, wiki.place_of_birth, wiki.place_of_creation, wiki.place_text, wiki.points_of_interest, wiki.power, wiki.powers, wiki.real_name, wiki.relatives, wiki.significant_citizens, wiki.significant_issues, wiki.skin, wiki.special_limitations, wiki.specieshistory, wiki.team_name, wiki.teamicon, wiki.technology, wiki.tie-ins, wiki.title_graphic, wiki.universe, wiki.weapons, wiki.weaponss, wiki.weight]\n",
        "Index: []\n",
        "\n",
        "[0 rows x 89 columns]"
       ]
      }
     ],
     "prompt_number": 19
    },
    {
     "cell_type": "markdown",
     "metadata": {},
     "source": [
      "\u00bfY qu\u00e9 pasa con los c\u00f3mics? "
     ]
    },
    {
     "cell_type": "code",
     "collapsed": false,
     "input": [
      "comics_df.dropna().shape"
     ],
     "language": "python",
     "metadata": {},
     "outputs": [
      {
       "metadata": {},
       "output_type": "pyout",
       "prompt_number": 20,
       "text": [
        "(17516, 43)"
       ]
      }
     ],
     "prompt_number": 20
    },
    {
     "cell_type": "markdown",
     "metadata": {},
     "source": [
      "Con una simple instrucci\u00f3n somos capaces de tratar con todos los nulos de un dataframe. "
     ]
    },
    {
     "cell_type": "heading",
     "level": 2,
     "metadata": {},
     "source": [
      "Stan Lee"
     ]
    },
    {
     "cell_type": "markdown",
     "metadata": {},
     "source": [
      "Stanley Martin Lieber, m\u00e1s conocido como Stan Lee, naci\u00f3 el 28 de diciembre de 1922 en la ciudad de Nueva York. Es un guionista y editor de c\u00f3mics estadounidense, creador de personajes notables por su complejidad y su realismo.\n",
      "\n",
      "Es el cocreador, junto a dibujantes como Steve Ditko o Jack Kirby, de superh\u00e9roes como Los 4 Fant\u00e1sticos, Spider-Man, Hulk, Iron Man, Thor, The Avengers, Daredevil, Doctor Strange, X-Men y muchos otros personajes, expandiendo Marvel Comics, llev\u00e1ndola de una peque\u00f1a casa publicitaria a una gran corporaci\u00f3n multimedia. Todav\u00eda hoy, los c\u00f3mics Marvel se distinguen por indicar siempre \u00abStan Lee presenta\u00bb en los r\u00f3tulos de presentaci\u00f3n. Tambi\u00e9n tiene un programa en History Channel en donde busca super humanos reales.\n",
      "*[Wikipedia]*\n",
      "\n",
      "Vamos a ver cuantos personajes ha creado. Y quien ostenta el top de creadores seg\u00fan la api de Marvel."
     ]
    },
    {
     "cell_type": "heading",
     "level": 3,
     "metadata": {},
     "source": [
      "Series"
     ]
    },
    {
     "cell_type": "markdown",
     "metadata": {},
     "source": [
      "Series es un array de 1 dimensi\u00f3n etiquetado. Como una tabla con una \u00fanica columna. Puede almacenar cualquier tipo de datos:\n",
      "- Enteros\n",
      "- Cadenas\n",
      "- N\u00fameros en coma flotante.\n",
      "- Objetos Python.\n",
      "- ...\n",
      "\n",
      "Se etiquetan en funci\u00f3n del \u00edndice, si el \u00edndice que le pasamos son fechas se crear\u00e1 una instancie de *TimeSerie*, esta bien pensado, \u00bfverdad?\n",
      "\n",
      "Cuando hacemos una selecci\u00f3n de 1 columna en un Dataframe creamos una Serie."
     ]
    },
    {
     "cell_type": "code",
     "collapsed": false,
     "input": [
      "#Stan Lee \n",
      "creators_serie = characters_df['wiki.creators'].dropna()\n",
      "creators_serie.describe()"
     ],
     "language": "python",
     "metadata": {},
     "outputs": [
      {
       "metadata": {},
       "output_type": "pyout",
       "prompt_number": 21,
       "text": [
        "count                               119\n",
        "unique                               37\n",
        "top       this has not been updated yet\n",
        "freq                                 44\n",
        "dtype: object"
       ]
      }
     ],
     "prompt_number": 21
    },
    {
     "cell_type": "code",
     "collapsed": false,
     "input": [
      "#Renombramos la serie y el \u00edndice\n",
      "creators_serie.name = 'Creadorers de personajes'\n",
      "creators_serie.index.name = 'creators'\n",
      "\n",
      "# Podemos usar head o como estamos sobre series tambi\u00e9n podemos coger una porci\u00f3n de la lista\n",
      "# creators_serie.head()\n",
      "creators_serie[:20]"
     ],
     "language": "python",
     "metadata": {},
     "outputs": [
      {
       "metadata": {},
       "output_type": "pyout",
       "prompt_number": 22,
       "text": [
        "creators\n",
        "0            this has not been updated yet\n",
        "0                                         \n",
        "0                                         \n",
        "0                                         \n",
        "0                                         \n",
        "0                                         \n",
        "0                                         \n",
        "0                  Peter David & Sam Keith\n",
        "0               Bill Mantlo and Ed Hanigan\n",
        "0                                         \n",
        "0                 Stan Lee and Steve Ditko\n",
        "0             Grant Morrison & Igor Kordey\n",
        "0                          Chris Claremont\n",
        "0                                         \n",
        "0           Chris Claremont & Dave Cockrum\n",
        "0            this has not been updated yet\n",
        "0            this has not been updated yet\n",
        "0                                         \n",
        "0                     Stan Lee, Jack Kirby\n",
        "0                           Grant Morrison\n",
        "Name: Creadorers de personajes, dtype: object"
       ]
      }
     ],
     "prompt_number": 22
    },
    {
     "cell_type": "heading",
     "level": 4,
     "metadata": {},
     "source": [
      "Usando m\u00e1scaras para extraer informaci\u00f3n"
     ]
    },
    {
     "cell_type": "code",
     "collapsed": false,
     "input": [
      "default_string = creators_serie != \"this has not been updated yet\"\n",
      "default_string.head()\n",
      "#creators_serie[ creators_serie != \"this has not been updated yet\" ]"
     ],
     "language": "python",
     "metadata": {},
     "outputs": [
      {
       "metadata": {},
       "output_type": "pyout",
       "prompt_number": 23,
       "text": [
        "creators\n",
        "0           False\n",
        "0            True\n",
        "0            True\n",
        "0            True\n",
        "0            True\n",
        "Name: Creadorers de personajes, dtype: bool"
       ]
      }
     ],
     "prompt_number": 23
    },
    {
     "cell_type": "code",
     "collapsed": false,
     "input": [
      "empty_string = creators_serie != \"\"\n",
      "empty_string[:10]"
     ],
     "language": "python",
     "metadata": {},
     "outputs": [
      {
       "metadata": {},
       "output_type": "pyout",
       "prompt_number": 24,
       "text": [
        "creators\n",
        "0            True\n",
        "0           False\n",
        "0           False\n",
        "0           False\n",
        "0           False\n",
        "0           False\n",
        "0           False\n",
        "0            True\n",
        "0            True\n",
        "0           False\n",
        "Name: Creadorers de personajes, dtype: bool"
       ]
      }
     ],
     "prompt_number": 24
    },
    {
     "cell_type": "code",
     "collapsed": false,
     "input": [
      "default_string and empty_string"
     ],
     "language": "python",
     "metadata": {},
     "outputs": [
      {
       "ename": "ValueError",
       "evalue": "The truth value of a Series is ambiguous. Use a.empty, a.bool(), a.item(), a.any() or a.all().",
       "output_type": "pyerr",
       "traceback": [
        "\u001b[0;31m---------------------------------------------------------------------------\u001b[0m\n\u001b[0;31mValueError\u001b[0m                                Traceback (most recent call last)",
        "\u001b[0;32m<ipython-input-25-544bf713079b>\u001b[0m in \u001b[0;36m<module>\u001b[0;34m()\u001b[0m\n\u001b[0;32m----> 1\u001b[0;31m \u001b[0mdefault_string\u001b[0m \u001b[0;32mand\u001b[0m \u001b[0mempty_string\u001b[0m\u001b[0;34m\u001b[0m\u001b[0m\n\u001b[0m",
        "\u001b[0;32m/Users/ada/Dev/.virtualenvs/marvel/lib/python3.3/site-packages/pandas/core/generic.py\u001b[0m in \u001b[0;36m__nonzero__\u001b[0;34m(self)\u001b[0m\n\u001b[1;32m    690\u001b[0m         raise ValueError(\"The truth value of a {0} is ambiguous. \"\n\u001b[1;32m    691\u001b[0m                          \u001b[0;34m\"Use a.empty, a.bool(), a.item(), a.any() or a.all().\"\u001b[0m\u001b[0;34m\u001b[0m\u001b[0m\n\u001b[0;32m--> 692\u001b[0;31m                          .format(self.__class__.__name__))\n\u001b[0m\u001b[1;32m    693\u001b[0m \u001b[0;34m\u001b[0m\u001b[0m\n\u001b[1;32m    694\u001b[0m     \u001b[0m__bool__\u001b[0m \u001b[0;34m=\u001b[0m \u001b[0m__nonzero__\u001b[0m\u001b[0;34m\u001b[0m\u001b[0m\n",
        "\u001b[0;31mValueError\u001b[0m: The truth value of a Series is ambiguous. Use a.empty, a.bool(), a.item(), a.any() or a.all()."
       ]
      }
     ],
     "prompt_number": 25
    },
    {
     "cell_type": "markdown",
     "metadata": {},
     "source": [
      "A pesar de que la palabra reservada *and* podr\u00edamos creer que funcionar\u00eda para unir series no funciona porque la operaci\u00f3n no se aplica elemento a elemento. Pero pandas sabe que esto nos podr\u00eda hacer falta y tenemos operadores que funcionan para elementos (& (and), | (or), ~(not))"
     ]
    },
    {
     "cell_type": "code",
     "collapsed": false,
     "input": [
      "creators_mask = default_string & empty_string\n",
      "creators_mask[:10]"
     ],
     "language": "python",
     "metadata": {},
     "outputs": [
      {
       "metadata": {},
       "output_type": "pyout",
       "prompt_number": 26,
       "text": [
        "creators\n",
        "0           False\n",
        "0           False\n",
        "0           False\n",
        "0           False\n",
        "0           False\n",
        "0           False\n",
        "0           False\n",
        "0            True\n",
        "0            True\n",
        "0           False\n",
        "Name: Creadorers de personajes, dtype: bool"
       ]
      }
     ],
     "prompt_number": 26
    },
    {
     "cell_type": "code",
     "collapsed": false,
     "input": [
      "creators_serie[creators_mask].head()"
     ],
     "language": "python",
     "metadata": {},
     "outputs": [
      {
       "metadata": {},
       "output_type": "pyout",
       "prompt_number": 27,
       "text": [
        "creators\n",
        "0                Peter David & Sam Keith\n",
        "0             Bill Mantlo and Ed Hanigan\n",
        "0               Stan Lee and Steve Ditko\n",
        "0           Grant Morrison & Igor Kordey\n",
        "0                        Chris Claremont\n",
        "Name: Creadorers de personajes, dtype: object"
       ]
      }
     ],
     "prompt_number": 27
    },
    {
     "cell_type": "markdown",
     "metadata": {},
     "source": [
      "Aqu\u00ed ya tenemos buena parte de la informaci\u00f3n que queremos, pero vamos a separar los autores que trabajan junto para poder contar cuantos personajes a creado cada uno."
     ]
    },
    {
     "cell_type": "code",
     "collapsed": false,
     "input": [
      "import re\n",
      "creators = [re.split('&|and|,', line) for line in creators_serie[creators_mask]]\n",
      "clean_cretors =  pd.Series([c for creator in creators for c in creator])\n",
      "clean_cretors.head()"
     ],
     "language": "python",
     "metadata": {},
     "outputs": [
      {
       "metadata": {},
       "output_type": "pyout",
       "prompt_number": 28,
       "text": [
        "0    Peter David \n",
        "1       Sam Keith\n",
        "2    Bill Mantlo \n",
        "3      Ed Hanigan\n",
        "4       Stan Lee \n",
        "dtype: object"
       ]
      }
     ],
     "prompt_number": 28
    },
    {
     "cell_type": "code",
     "collapsed": false,
     "input": [
      "clean_cretors.value_counts().head()"
     ],
     "language": "python",
     "metadata": {},
     "outputs": [
      {
       "metadata": {},
       "output_type": "pyout",
       "prompt_number": 29,
       "text": [
        "Chris Claremont     10\n",
        "Stan Lee             7\n",
        " John Byrne          6\n",
        "Chris Claremont      5\n",
        " Jack Kirby          4\n",
        "dtype: int64"
       ]
      }
     ],
     "prompt_number": 29
    },
    {
     "cell_type": "markdown",
     "metadata": {},
     "source": [
      "\u00a1Vaya Stan Lee parece que Chris Claremont te gana! \n",
      "\n",
      "Obviamente es un problema de falta de datos. Por eso debemos ser muy cuidadosos con la confianza que tenemos en nuestros resultados. Un corpus con errores nos llevar\u00e1 a conclusiones err\u00f3neas, hay que ser conscientes de esto. \n"
     ]
    },
    {
     "cell_type": "heading",
     "level": 3,
     "metadata": {},
     "source": [
      "Explorando a los superh\u00e9roes"
     ]
    },
    {
     "cell_type": "heading",
     "level": 4,
     "metadata": {},
     "source": [
      "Limpiando los datos: eliminar grupos"
     ]
    },
    {
     "cell_type": "markdown",
     "metadata": {},
     "source": [
      "Marvel no distingue personajes de grupos de personajes. Es decir, \"Los vengadores\" es un personaje igual que podr\u00eda serlo \"Iron Man\", pero tenemos un campo en la wiki que nos permite diferenciar grupos de personajes: \"Former members\". As\u00ed que vamos a quedarnos solo con los personajes.</br>\n",
      "\n",
      "Lo normal es que quisieramos eliminar las filas que contienen nulos, y pandas tiene implementada una funci\u00f3n para ello *dropna*, que ya hemos visto. Pero lo que queremos es quedarnos con aquellas filas en cuya columna *current_members* tengamos un nulo, porque si no hay miembros es porque es un personaje."
     ]
    },
    {
     "cell_type": "code",
     "collapsed": false,
     "input": [
      " characters_df.dropna(subset=['wiki.current_members'])['name']"
     ],
     "language": "python",
     "metadata": {},
     "outputs": [
      {
       "metadata": {},
       "output_type": "pyout",
       "prompt_number": 30,
       "text": [
        "0                         A.I.M.\n",
        "0                       Avengers\n",
        "0    Brotherhood of Evil Mutants\n",
        "0                         Exiles\n",
        "0                 Fantastic Four\n",
        "0                    Force Works\n",
        "0                  Hellfire Club\n",
        "0                          Hydra\n",
        "0                 Imperial Guard\n",
        "0                      Marauders\n",
        "0                        Reavers\n",
        "0                   S.H.I.E.L.D.\n",
        "0                Serpent Society\n",
        "0                        X-Force\n",
        "0                          X-Men\n",
        "...\n",
        "0                         Sinister Six\n",
        "0                          ClanDestine\n",
        "0                            New X-Men\n",
        "0                      Masters of Evil\n",
        "0                         Generation X\n",
        "0              Guardians of the Galaxy\n",
        "0                               U-Foes\n",
        "0                            Sentinels\n",
        "0                          New Mutants\n",
        "0             Lightning Lords of Nepal\n",
        "0           Nine-Fold Daughters of Xao\n",
        "0          Confederates of the Curious\n",
        "0                             X-Babies\n",
        "0                        Lethal Legion\n",
        "0    Brotherhood of Mutants (Ultimate)\n",
        "Name: name, Length: 70, dtype: object"
       ]
      }
     ],
     "prompt_number": 30
    },
    {
     "cell_type": "code",
     "collapsed": false,
     "input": [
      "%timeit (~characters_df['wiki.current_members'].isnull())\n",
      "\n",
      "import numpy as np\n",
      "%timeit (np.invert(characters_df['wiki.current_members'].isnull()))"
     ],
     "language": "python",
     "metadata": {},
     "outputs": [
      {
       "output_type": "stream",
       "stream": "stdout",
       "text": [
        "1000 loops, best of 3: 218 \u00b5s per loop\n",
        "1000 loops, best of 3: 233 \u00b5s per loop"
       ]
      },
      {
       "output_type": "stream",
       "stream": "stdout",
       "text": [
        "\n"
       ]
      }
     ],
     "prompt_number": 31
    },
    {
     "cell_type": "code",
     "collapsed": false,
     "input": [
      "not_groups_mask = characters_df['wiki.current_members'].isnull()\n",
      "not_groups_mask.head()"
     ],
     "language": "python",
     "metadata": {},
     "outputs": [
      {
       "metadata": {},
       "output_type": "pyout",
       "prompt_number": 32,
       "text": [
        "0    False\n",
        "0     True\n",
        "0     True\n",
        "0     True\n",
        "0     True\n",
        "Name: wiki.current_members, dtype: bool"
       ]
      }
     ],
     "prompt_number": 32
    },
    {
     "cell_type": "code",
     "collapsed": false,
     "input": [
      "characters_df=characters_df[not_groups_mask]"
     ],
     "language": "python",
     "metadata": {},
     "outputs": [],
     "prompt_number": 33
    },
    {
     "cell_type": "code",
     "collapsed": false,
     "input": [
      "characters_df[:3]"
     ],
     "language": "python",
     "metadata": {},
     "outputs": [
      {
       "html": [
        "<div style=\"max-height:1000px;max-width:1500px;overflow:auto;\">\n",
        "<table border=\"1\" class=\"dataframe\">\n",
        "  <thead>\n",
        "    <tr style=\"text-align: right;\">\n",
        "      <th></th>\n",
        "      <th>comics.available</th>\n",
        "      <th>comics.collectionURI</th>\n",
        "      <th>comics.items</th>\n",
        "      <th>comics.returned</th>\n",
        "      <th>description</th>\n",
        "      <th>events.available</th>\n",
        "      <th>events.collectionURI</th>\n",
        "      <th>events.items</th>\n",
        "      <th>events.returned</th>\n",
        "      <th>id</th>\n",
        "      <th>...</th>\n",
        "      <th>wiki.specieshistory</th>\n",
        "      <th>wiki.team_name</th>\n",
        "      <th>wiki.teamicon</th>\n",
        "      <th>wiki.technology</th>\n",
        "      <th>wiki.tie-ins</th>\n",
        "      <th>wiki.title_graphic</th>\n",
        "      <th>wiki.universe</th>\n",
        "      <th>wiki.weapons</th>\n",
        "      <th>wiki.weaponss</th>\n",
        "      <th>wiki.weight</th>\n",
        "    </tr>\n",
        "  </thead>\n",
        "  <tbody>\n",
        "    <tr>\n",
        "      <th>0</th>\n",
        "      <td> 43</td>\n",
        "      <td> http://gateway.marvel.com/v1/public/characters...</td>\n",
        "      <td> [{'id': 34050, 'resourceURI': 'http://gateway....</td>\n",
        "      <td> 43</td>\n",
        "      <td> Formerly known as Emil Blonsky, a spy of Sovie...</td>\n",
        "      <td> 2</td>\n",
        "      <td> http://gateway.marvel.com/v1/public/characters...</td>\n",
        "      <td> [{'resourceURI': 'http://gateway.marvel.com/v1...</td>\n",
        "      <td> 2</td>\n",
        "      <td> 1009146</td>\n",
        "      <td>...</td>\n",
        "      <td> NaN</td>\n",
        "      <td> NaN</td>\n",
        "      <td> NaN</td>\n",
        "      <td> NaN</td>\n",
        "      <td> NaN</td>\n",
        "      <td> NaN</td>\n",
        "      <td>     Marvel Universe</td>\n",
        "      <td>                                              None</td>\n",
        "      <td> NaN</td>\n",
        "      <td> (Abomination) 980 lbs.; (Blonsky) 180 lbs.</td>\n",
        "    </tr>\n",
        "    <tr>\n",
        "      <th>0</th>\n",
        "      <td> 43</td>\n",
        "      <td> http://gateway.marvel.com/v1/public/characters...</td>\n",
        "      <td> [{'id': 36489, 'resourceURI': 'http://gateway....</td>\n",
        "      <td> 43</td>\n",
        "      <td>                                                  </td>\n",
        "      <td> 4</td>\n",
        "      <td> http://gateway.marvel.com/v1/public/characters...</td>\n",
        "      <td> [{'resourceURI': 'http://gateway.marvel.com/v1...</td>\n",
        "      <td> 4</td>\n",
        "      <td> 1009148</td>\n",
        "      <td>...</td>\n",
        "      <td> NaN</td>\n",
        "      <td> NaN</td>\n",
        "      <td> NaN</td>\n",
        "      <td> NaN</td>\n",
        "      <td> NaN</td>\n",
        "      <td> NaN</td>\n",
        "      <td> [[Marvel Universe]]</td>\n",
        "      <td> He uses a prison ball-and-chain as a weapon, a...</td>\n",
        "      <td> NaN</td>\n",
        "      <td>                        365 lbs. (variable)</td>\n",
        "    </tr>\n",
        "    <tr>\n",
        "      <th>0</th>\n",
        "      <td>  8</td>\n",
        "      <td> http://gateway.marvel.com/v1/public/characters...</td>\n",
        "      <td> [{'resourceURI': 'http://gateway.marvel.com/v1...</td>\n",
        "      <td>  8</td>\n",
        "      <td>                                                  </td>\n",
        "      <td> 1</td>\n",
        "      <td> http://gateway.marvel.com/v1/public/characters...</td>\n",
        "      <td> [{'resourceURI': 'http://gateway.marvel.com/v1...</td>\n",
        "      <td> 1</td>\n",
        "      <td> 1009149</td>\n",
        "      <td>...</td>\n",
        "      <td> NaN</td>\n",
        "      <td> NaN</td>\n",
        "      <td> NaN</td>\n",
        "      <td> NaN</td>\n",
        "      <td> NaN</td>\n",
        "      <td> NaN</td>\n",
        "      <td> [[Marvel Universe]]</td>\n",
        "      <td>                                        Unrevealed</td>\n",
        "      <td> NaN</td>\n",
        "      <td>                                 Unrevealed</td>\n",
        "    </tr>\n",
        "  </tbody>\n",
        "</table>\n",
        "<p>3 rows \u00d7 89 columns</p>\n",
        "</div>"
       ],
       "metadata": {},
       "output_type": "pyout",
       "prompt_number": 34,
       "text": [
        "   comics.available                               comics.collectionURI  \\\n",
        "0                43  http://gateway.marvel.com/v1/public/characters...   \n",
        "0                43  http://gateway.marvel.com/v1/public/characters...   \n",
        "0                 8  http://gateway.marvel.com/v1/public/characters...   \n",
        "\n",
        "                                        comics.items  comics.returned  \\\n",
        "0  [{'id': 34050, 'resourceURI': 'http://gateway....               43   \n",
        "0  [{'id': 36489, 'resourceURI': 'http://gateway....               43   \n",
        "0  [{'resourceURI': 'http://gateway.marvel.com/v1...                8   \n",
        "\n",
        "                                         description  events.available  \\\n",
        "0  Formerly known as Emil Blonsky, a spy of Sovie...                 2   \n",
        "0                                                                    4   \n",
        "0                                                                    1   \n",
        "\n",
        "                                events.collectionURI  \\\n",
        "0  http://gateway.marvel.com/v1/public/characters...   \n",
        "0  http://gateway.marvel.com/v1/public/characters...   \n",
        "0  http://gateway.marvel.com/v1/public/characters...   \n",
        "\n",
        "                                        events.items  events.returned  \\\n",
        "0  [{'resourceURI': 'http://gateway.marvel.com/v1...                2   \n",
        "0  [{'resourceURI': 'http://gateway.marvel.com/v1...                4   \n",
        "0  [{'resourceURI': 'http://gateway.marvel.com/v1...                1   \n",
        "\n",
        "        id   ...    wiki.specieshistory wiki.team_name wiki.teamicon  \\\n",
        "0  1009146   ...                    NaN            NaN           NaN   \n",
        "0  1009148   ...                    NaN            NaN           NaN   \n",
        "0  1009149   ...                    NaN            NaN           NaN   \n",
        "\n",
        "   wiki.technology wiki.tie-ins wiki.title_graphic        wiki.universe  \\\n",
        "0              NaN          NaN                NaN      Marvel Universe   \n",
        "0              NaN          NaN                NaN  [[Marvel Universe]]   \n",
        "0              NaN          NaN                NaN  [[Marvel Universe]]   \n",
        "\n",
        "                                        wiki.weapons wiki.weaponss  \\\n",
        "0                                               None           NaN   \n",
        "0  He uses a prison ball-and-chain as a weapon, a...           NaN   \n",
        "0                                         Unrevealed           NaN   \n",
        "\n",
        "                                  wiki.weight  \n",
        "0  (Abomination) 980 lbs.; (Blonsky) 180 lbs.  \n",
        "0                         365 lbs. (variable)  \n",
        "0                                  Unrevealed  \n",
        "\n",
        "[3 rows x 89 columns]"
       ]
      }
     ],
     "prompt_number": 34
    },
    {
     "cell_type": "markdown",
     "metadata": {},
     "source": [
      "Vamos a limpiar lo datos, quedarnos con los campos que nos puedan ser \u00fatililes y indexar el dataframe usando el nombre del superh\u00e9roe o de la superhero\u00edna, porque pandas ha hecho lo que ha podido pero los n\u00fameros no son muy intuitivos."
     ]
    },
    {
     "cell_type": "code",
     "collapsed": false,
     "input": [
      "# Agrupamos los datos para tener claro con que queremos trabajar\n",
      "physical_data = ['wiki.hair', 'wiki.weight', 'wiki.height', 'wiki.eyes']\n",
      "cultural_data = ['wiki.education', 'wiki.citizenship', 'wiki.place_of_birth', 'wiki.occupation']\n",
      "personal_data = ['wiki.bio', 'wiki.bio_text', 'wiki.categories']\n",
      "\n",
      "data_keys = (physical_data + cultural_data + personal_data + ['name','comics.available'])"
     ],
     "language": "python",
     "metadata": {},
     "outputs": [],
     "prompt_number": 35
    },
    {
     "cell_type": "markdown",
     "metadata": {},
     "source": [
      "\u00bfOs acord\u00e1is de dropna()? Pues puede hacer mucho m\u00e1s."
     ]
    },
    {
     "cell_type": "code",
     "collapsed": false,
     "input": [
      "clean_df = characters_df.dropna(subset = data_keys)\n",
      "clean_df = clean_df[data_keys].set_index('name')\n",
      "clean_df.shape"
     ],
     "language": "python",
     "metadata": {},
     "outputs": [
      {
       "metadata": {},
       "output_type": "pyout",
       "prompt_number": 36,
       "text": [
        "(762, 12)"
       ]
      }
     ],
     "prompt_number": 36
    },
    {
     "cell_type": "heading",
     "level": 3,
     "metadata": {},
     "source": [
      "Representaci\u00f3n racial, cultural y de g\u00e9nero en los c\u00f3mics de Marvel"
     ]
    },
    {
     "cell_type": "markdown",
     "metadata": {},
     "source": [
      "Por ejemplo, ser\u00eda muy interesante saber cuantas razas est\u00e1n representadas en los c\u00f3mics de Marvel, y existe un campo *skin* en la wiki, pero..."
     ]
    },
    {
     "cell_type": "code",
     "collapsed": false,
     "input": [
      "characters_df['wiki.skin'].dropna()"
     ],
     "language": "python",
     "metadata": {},
     "outputs": [
      {
       "metadata": {},
       "output_type": "pyout",
       "prompt_number": 37,
       "text": [
        "0    White (as GAmbit), Black (as Death)\n",
        "Name: wiki.skin, dtype: object"
       ]
      }
     ],
     "prompt_number": 37
    },
    {
     "cell_type": "markdown",
     "metadata": {},
     "source": [
      "Pero vamos a explorar lo que tenemos."
     ]
    },
    {
     "cell_type": "code",
     "collapsed": false,
     "input": [
      "clean_df[personal_data].head()"
     ],
     "language": "python",
     "metadata": {},
     "outputs": [
      {
       "html": [
        "<div style=\"max-height:1000px;max-width:1500px;overflow:auto;\">\n",
        "<table border=\"1\" class=\"dataframe\">\n",
        "  <thead>\n",
        "    <tr style=\"text-align: right;\">\n",
        "      <th></th>\n",
        "      <th>wiki.bio</th>\n",
        "      <th>wiki.bio_text</th>\n",
        "      <th>wiki.categories</th>\n",
        "    </tr>\n",
        "    <tr>\n",
        "      <th>name</th>\n",
        "      <th></th>\n",
        "      <th></th>\n",
        "      <th></th>\n",
        "    </tr>\n",
        "  </thead>\n",
        "  <tbody>\n",
        "    <tr>\n",
        "      <th>Abomination (Emil Blonsky)</th>\n",
        "      <td> Formerly known as Emil Blonsky, a spy of Sovie...</td>\n",
        "      <td> Formerly known as Emil Blonsky, a spy of Sovie...</td>\n",
        "      <td> [Avengers, Deceased, Hulk, International, Vill...</td>\n",
        "    </tr>\n",
        "    <tr>\n",
        "      <th>Absorbing Man</th>\n",
        "      <td> Crusher Creel's life was little more than that...</td>\n",
        "      <td> Crusher Creel's life was little more than that...</td>\n",
        "      <td>                   [Avengers, Civil War, Villains]</td>\n",
        "    </tr>\n",
        "    <tr>\n",
        "      <th>Abyss</th>\n",
        "      <td> Sealed in a coffin-like prison, Abyss was take...</td>\n",
        "      <td> Sealed in a coffin-like prison, Abyss was take...</td>\n",
        "      <td>                         [Cosmic, Magic, Villains]</td>\n",
        "    </tr>\n",
        "    <tr>\n",
        "      <th>Agent Zero</th>\n",
        "      <td> Born in the former East Germany, Christoph Nor...</td>\n",
        "      <td> Born in the former East Germany, Christoph Nor...</td>\n",
        "      <td> [Heroes, X-Men, Villains, International, Mutants]</td>\n",
        "    </tr>\n",
        "    <tr>\n",
        "      <th>Annihilus</th>\n",
        "      <td> Untold millennia ago, the Tyannans, a technolo...</td>\n",
        "      <td> Untold millennia ago, the Tyannans, a technolo...</td>\n",
        "      <td>  [Annihilation, Cosmic, Fantastic Four, Villains]</td>\n",
        "    </tr>\n",
        "  </tbody>\n",
        "</table>\n",
        "</div>"
       ],
       "metadata": {},
       "output_type": "pyout",
       "prompt_number": 38,
       "text": [
        "                                                                     wiki.bio  \\\n",
        "name                                                                            \n",
        "Abomination (Emil Blonsky)  Formerly known as Emil Blonsky, a spy of Sovie...   \n",
        "Absorbing Man               Crusher Creel's life was little more than that...   \n",
        "Abyss                       Sealed in a coffin-like prison, Abyss was take...   \n",
        "Agent Zero                  Born in the former East Germany, Christoph Nor...   \n",
        "Annihilus                   Untold millennia ago, the Tyannans, a technolo...   \n",
        "\n",
        "                                                                wiki.bio_text  \\\n",
        "name                                                                            \n",
        "Abomination (Emil Blonsky)  Formerly known as Emil Blonsky, a spy of Sovie...   \n",
        "Absorbing Man               Crusher Creel's life was little more than that...   \n",
        "Abyss                       Sealed in a coffin-like prison, Abyss was take...   \n",
        "Agent Zero                  Born in the former East Germany, Christoph Nor...   \n",
        "Annihilus                   Untold millennia ago, the Tyannans, a technolo...   \n",
        "\n",
        "                                                              wiki.categories  \n",
        "name                                                                           \n",
        "Abomination (Emil Blonsky)  [Avengers, Deceased, Hulk, International, Vill...  \n",
        "Absorbing Man                                 [Avengers, Civil War, Villains]  \n",
        "Abyss                                               [Cosmic, Magic, Villains]  \n",
        "Agent Zero                  [Heroes, X-Men, Villains, International, Mutants]  \n",
        "Annihilus                    [Annihilation, Cosmic, Fantastic Four, Villains]  "
       ]
      }
     ],
     "prompt_number": 38
    },
    {
     "cell_type": "code",
     "collapsed": false,
     "input": [
      "clean_df[cultural_data].head()"
     ],
     "language": "python",
     "metadata": {},
     "outputs": [
      {
       "html": [
        "<div style=\"max-height:1000px;max-width:1500px;overflow:auto;\">\n",
        "<table border=\"1\" class=\"dataframe\">\n",
        "  <thead>\n",
        "    <tr style=\"text-align: right;\">\n",
        "      <th></th>\n",
        "      <th>wiki.education</th>\n",
        "      <th>wiki.citizenship</th>\n",
        "      <th>wiki.place_of_birth</th>\n",
        "      <th>wiki.occupation</th>\n",
        "    </tr>\n",
        "    <tr>\n",
        "      <th>name</th>\n",
        "      <th></th>\n",
        "      <th></th>\n",
        "      <th></th>\n",
        "      <th></th>\n",
        "    </tr>\n",
        "  </thead>\n",
        "  <tbody>\n",
        "    <tr>\n",
        "      <th>Abomination (Emil Blonsky)</th>\n",
        "      <td>          Unrevealed</td>\n",
        "      <td> Citizen of Croatia; former citizen of Yugoslavia</td>\n",
        "      <td>                                Zagreb, Yugoslavia</td>\n",
        "      <td>                 Professional Criminal, Former Spy</td>\n",
        "    </tr>\n",
        "    <tr>\n",
        "      <th>Absorbing Man</th>\n",
        "      <td> High school dropout</td>\n",
        "      <td>                    U.S.A. with a criminal record</td>\n",
        "      <td>                           New York City, New York</td>\n",
        "      <td>               Professional criminal; former boxer</td>\n",
        "    </tr>\n",
        "    <tr>\n",
        "      <th>Abyss</th>\n",
        "      <td>          Unrevealed</td>\n",
        "      <td>                                       Unrevealed</td>\n",
        "      <td>                                        Unrevealed</td>\n",
        "      <td>                                   Cosmic sorcerer</td>\n",
        "    </tr>\n",
        "    <tr>\n",
        "      <th>Agent Zero</th>\n",
        "      <td>          Unrevealed</td>\n",
        "      <td>                                           German</td>\n",
        "      <td>        Unrevealed location in former East Germany</td>\n",
        "      <td> Mercenary, former government operative, freedo...</td>\n",
        "    </tr>\n",
        "    <tr>\n",
        "      <th>Annihilus</th>\n",
        "      <td>          Unrevealed</td>\n",
        "      <td>                                          Arthros</td>\n",
        "      <td> Planet of [[Arthros]], Sector 17A, [[Negative ...</td>\n",
        "      <td>                              Conqueror, scavenger</td>\n",
        "    </tr>\n",
        "  </tbody>\n",
        "</table>\n",
        "</div>"
       ],
       "metadata": {},
       "output_type": "pyout",
       "prompt_number": 39,
       "text": [
        "                                 wiki.education  \\\n",
        "name                                              \n",
        "Abomination (Emil Blonsky)           Unrevealed   \n",
        "Absorbing Man               High school dropout   \n",
        "Abyss                                Unrevealed   \n",
        "Agent Zero                           Unrevealed   \n",
        "Annihilus                            Unrevealed   \n",
        "\n",
        "                                                            wiki.citizenship  \\\n",
        "name                                                                           \n",
        "Abomination (Emil Blonsky)  Citizen of Croatia; former citizen of Yugoslavia   \n",
        "Absorbing Man                                  U.S.A. with a criminal record   \n",
        "Abyss                                                             Unrevealed   \n",
        "Agent Zero                                                            German   \n",
        "Annihilus                                                            Arthros   \n",
        "\n",
        "                                                          wiki.place_of_birth  \\\n",
        "name                                                                            \n",
        "Abomination (Emil Blonsky)                                 Zagreb, Yugoslavia   \n",
        "Absorbing Man                                         New York City, New York   \n",
        "Abyss                                                              Unrevealed   \n",
        "Agent Zero                         Unrevealed location in former East Germany   \n",
        "Annihilus                   Planet of [[Arthros]], Sector 17A, [[Negative ...   \n",
        "\n",
        "                                                              wiki.occupation  \n",
        "name                                                                           \n",
        "Abomination (Emil Blonsky)                  Professional Criminal, Former Spy  \n",
        "Absorbing Man                             Professional criminal; former boxer  \n",
        "Abyss                                                         Cosmic sorcerer  \n",
        "Agent Zero                  Mercenary, former government operative, freedo...  \n",
        "Annihilus                                                Conqueror, scavenger  "
       ]
      }
     ],
     "prompt_number": 39
    },
    {
     "cell_type": "code",
     "collapsed": false,
     "input": [
      "clean_df[cultural_data].describe()"
     ],
     "language": "python",
     "metadata": {},
     "outputs": [
      {
       "html": [
        "<div style=\"max-height:1000px;max-width:1500px;overflow:auto;\">\n",
        "<table border=\"1\" class=\"dataframe\">\n",
        "  <thead>\n",
        "    <tr style=\"text-align: right;\">\n",
        "      <th></th>\n",
        "      <th>wiki.education</th>\n",
        "      <th>wiki.citizenship</th>\n",
        "      <th>wiki.place_of_birth</th>\n",
        "      <th>wiki.occupation</th>\n",
        "    </tr>\n",
        "  </thead>\n",
        "  <tbody>\n",
        "    <tr>\n",
        "      <th>count</th>\n",
        "      <td>        762</td>\n",
        "      <td>    762</td>\n",
        "      <td>        762</td>\n",
        "      <td>        762</td>\n",
        "    </tr>\n",
        "    <tr>\n",
        "      <th>unique</th>\n",
        "      <td>        357</td>\n",
        "      <td>    262</td>\n",
        "      <td>        412</td>\n",
        "      <td>        636</td>\n",
        "    </tr>\n",
        "    <tr>\n",
        "      <th>top</th>\n",
        "      <td> Unrevealed</td>\n",
        "      <td> U.S.A.</td>\n",
        "      <td> Unrevealed</td>\n",
        "      <td> Adventurer</td>\n",
        "    </tr>\n",
        "    <tr>\n",
        "      <th>freq</th>\n",
        "      <td>        236</td>\n",
        "      <td>    230</td>\n",
        "      <td>        156</td>\n",
        "      <td>         31</td>\n",
        "    </tr>\n",
        "  </tbody>\n",
        "</table>\n",
        "</div>"
       ],
       "metadata": {},
       "output_type": "pyout",
       "prompt_number": 40,
       "text": [
        "       wiki.education wiki.citizenship wiki.place_of_birth wiki.occupation\n",
        "count             762              762                 762             762\n",
        "unique            357              262                 412             636\n",
        "top        Unrevealed           U.S.A.          Unrevealed      Adventurer\n",
        "freq              236              230                 156              31"
       ]
      }
     ],
     "prompt_number": 40
    },
    {
     "cell_type": "code",
     "collapsed": false,
     "input": [
      "clean_df[physical_data].head()"
     ],
     "language": "python",
     "metadata": {},
     "outputs": [
      {
       "html": [
        "<div style=\"max-height:1000px;max-width:1500px;overflow:auto;\">\n",
        "<table border=\"1\" class=\"dataframe\">\n",
        "  <thead>\n",
        "    <tr style=\"text-align: right;\">\n",
        "      <th></th>\n",
        "      <th>wiki.hair</th>\n",
        "      <th>wiki.weight</th>\n",
        "      <th>wiki.height</th>\n",
        "      <th>wiki.eyes</th>\n",
        "    </tr>\n",
        "    <tr>\n",
        "      <th>name</th>\n",
        "      <th></th>\n",
        "      <th></th>\n",
        "      <th></th>\n",
        "      <th></th>\n",
        "    </tr>\n",
        "  </thead>\n",
        "  <tbody>\n",
        "    <tr>\n",
        "      <th>Abomination (Emil Blonsky)</th>\n",
        "      <td>   (Abomination) None; (Blonsky) Blond</td>\n",
        "      <td> (Abomination) 980 lbs.; (Blonsky) 180 lbs.</td>\n",
        "      <td> (Abomination) 6'8\"; (Blonsky) 5'10\"</td>\n",
        "      <td> (Abomination) Green; (Blonsky) Blue</td>\n",
        "    </tr>\n",
        "    <tr>\n",
        "      <th>Absorbing Man</th>\n",
        "      <td>                                  Bald</td>\n",
        "      <td>                        365 lbs. (variable)</td>\n",
        "      <td>                     6'4\" (variable)</td>\n",
        "      <td>                                Blue</td>\n",
        "    </tr>\n",
        "    <tr>\n",
        "      <th>Abyss</th>\n",
        "      <td>                            Unrevealed</td>\n",
        "      <td>                                 Unrevealed</td>\n",
        "      <td>                          Unrevealed</td>\n",
        "      <td>                          Unrevealed</td>\n",
        "    </tr>\n",
        "    <tr>\n",
        "      <th>Agent Zero</th>\n",
        "      <td> (Originally) Brown; (currently) Black</td>\n",
        "      <td>                                   230 lbs.</td>\n",
        "      <td>                                6'3\"</td>\n",
        "      <td>                                Blue</td>\n",
        "    </tr>\n",
        "    <tr>\n",
        "      <th>Annihilus</th>\n",
        "      <td>                                  None</td>\n",
        "      <td>                                   200 lbs.</td>\n",
        "      <td>                               5'11\"</td>\n",
        "      <td>                               Green</td>\n",
        "    </tr>\n",
        "  </tbody>\n",
        "</table>\n",
        "</div>"
       ],
       "metadata": {},
       "output_type": "pyout",
       "prompt_number": 41,
       "text": [
        "                                                        wiki.hair  \\\n",
        "name                                                                \n",
        "Abomination (Emil Blonsky)    (Abomination) None; (Blonsky) Blond   \n",
        "Absorbing Man                                                Bald   \n",
        "Abyss                                                  Unrevealed   \n",
        "Agent Zero                  (Originally) Brown; (currently) Black   \n",
        "Annihilus                                                    None   \n",
        "\n",
        "                                                           wiki.weight  \\\n",
        "name                                                                     \n",
        "Abomination (Emil Blonsky)  (Abomination) 980 lbs.; (Blonsky) 180 lbs.   \n",
        "Absorbing Man                                      365 lbs. (variable)   \n",
        "Abyss                                                       Unrevealed   \n",
        "Agent Zero                                                    230 lbs.   \n",
        "Annihilus                                                     200 lbs.   \n",
        "\n",
        "                                                    wiki.height  \\\n",
        "name                                                              \n",
        "Abomination (Emil Blonsky)  (Abomination) 6'8\"; (Blonsky) 5'10\"   \n",
        "Absorbing Man                                   6'4\" (variable)   \n",
        "Abyss                                                Unrevealed   \n",
        "Agent Zero                                                 6'3\"   \n",
        "Annihilus                                                 5'11\"   \n",
        "\n",
        "                                                      wiki.eyes  \n",
        "name                                                             \n",
        "Abomination (Emil Blonsky)  (Abomination) Green; (Blonsky) Blue  \n",
        "Absorbing Man                                              Blue  \n",
        "Abyss                                                Unrevealed  \n",
        "Agent Zero                                                 Blue  \n",
        "Annihilus                                                 Green  "
       ]
      }
     ],
     "prompt_number": 41
    },
    {
     "cell_type": "markdown",
     "metadata": {},
     "source": [
      "\u00bfC\u00f3mo diri\u00e1is que es f\u00edsicamente el personaje t\u00edpico de la marvel?\n",
      "(*pandas lo sabe*)"
     ]
    },
    {
     "cell_type": "code",
     "collapsed": false,
     "input": [
      "clean_df[physical_data].describe()"
     ],
     "language": "python",
     "metadata": {},
     "outputs": [
      {
       "html": [
        "<div style=\"max-height:1000px;max-width:1500px;overflow:auto;\">\n",
        "<table border=\"1\" class=\"dataframe\">\n",
        "  <thead>\n",
        "    <tr style=\"text-align: right;\">\n",
        "      <th></th>\n",
        "      <th>wiki.hair</th>\n",
        "      <th>wiki.weight</th>\n",
        "      <th>wiki.height</th>\n",
        "      <th>wiki.eyes</th>\n",
        "    </tr>\n",
        "  </thead>\n",
        "  <tbody>\n",
        "    <tr>\n",
        "      <th>count</th>\n",
        "      <td>   762</td>\n",
        "      <td>        762</td>\n",
        "      <td>        762</td>\n",
        "      <td>  762</td>\n",
        "    </tr>\n",
        "    <tr>\n",
        "      <th>unique</th>\n",
        "      <td>   223</td>\n",
        "      <td>        307</td>\n",
        "      <td>        213</td>\n",
        "      <td>  165</td>\n",
        "    </tr>\n",
        "    <tr>\n",
        "      <th>top</th>\n",
        "      <td> Black</td>\n",
        "      <td> Unrevealed</td>\n",
        "      <td> Unrevealed</td>\n",
        "      <td> Blue</td>\n",
        "    </tr>\n",
        "    <tr>\n",
        "      <th>freq</th>\n",
        "      <td>   165</td>\n",
        "      <td>         48</td>\n",
        "      <td>         44</td>\n",
        "      <td>  236</td>\n",
        "    </tr>\n",
        "  </tbody>\n",
        "</table>\n",
        "</div>"
       ],
       "metadata": {},
       "output_type": "pyout",
       "prompt_number": 42,
       "text": [
        "       wiki.hair wiki.weight wiki.height wiki.eyes\n",
        "count        762         762         762       762\n",
        "unique       223         307         213       165\n",
        "top        Black  Unrevealed  Unrevealed      Blue\n",
        "freq         165          48          44       236"
       ]
      }
     ],
     "prompt_number": 42
    },
    {
     "cell_type": "markdown",
     "metadata": {},
     "source": [
      "De modo que el personaje arquet\u00edpico de la Marvel tiene el pelo negro y los ojos azules, es de EE.UU. se dedica a ser aventurero. A m\u00ed la profesi\u00f3n ya me gusta."
     ]
    },
    {
     "cell_type": "heading",
     "level": 3,
     "metadata": {},
     "source": [
      "\u00bfQu\u00e9 personaje aparece en m\u00e1s c\u00f3mics?"
     ]
    },
    {
     "cell_type": "code",
     "collapsed": false,
     "input": [
      "clean_df['comics.available'].describe()"
     ],
     "language": "python",
     "metadata": {},
     "outputs": [
      {
       "metadata": {},
       "output_type": "pyout",
       "prompt_number": 43,
       "text": [
        "count     762.000000\n",
        "mean       53.292651\n",
        "std       179.820372\n",
        "min         0.000000\n",
        "25%         2.000000\n",
        "50%        10.000000\n",
        "75%        33.750000\n",
        "max      2575.000000\n",
        "dtype: float64"
       ]
      }
     ],
     "prompt_number": 43
    },
    {
     "cell_type": "markdown",
     "metadata": {},
     "source": [
      "\u00bf2575.000000? Debe ser un error, \u00bfno? \u00bfQui\u00e9n es el pluriempleado? "
     ]
    },
    {
     "cell_type": "code",
     "collapsed": false,
     "input": [
      "clean_df[clean_df['comics.available'] == 2575.000000]"
     ],
     "language": "python",
     "metadata": {},
     "outputs": [
      {
       "html": [
        "<div style=\"max-height:1000px;max-width:1500px;overflow:auto;\">\n",
        "<table border=\"1\" class=\"dataframe\">\n",
        "  <thead>\n",
        "    <tr style=\"text-align: right;\">\n",
        "      <th></th>\n",
        "      <th>wiki.hair</th>\n",
        "      <th>wiki.weight</th>\n",
        "      <th>wiki.height</th>\n",
        "      <th>wiki.eyes</th>\n",
        "      <th>wiki.education</th>\n",
        "      <th>wiki.citizenship</th>\n",
        "      <th>wiki.place_of_birth</th>\n",
        "      <th>wiki.occupation</th>\n",
        "      <th>wiki.bio</th>\n",
        "      <th>wiki.bio_text</th>\n",
        "      <th>wiki.categories</th>\n",
        "      <th>comics.available</th>\n",
        "    </tr>\n",
        "    <tr>\n",
        "      <th>name</th>\n",
        "      <th></th>\n",
        "      <th></th>\n",
        "      <th></th>\n",
        "      <th></th>\n",
        "      <th></th>\n",
        "      <th></th>\n",
        "      <th></th>\n",
        "      <th></th>\n",
        "      <th></th>\n",
        "      <th></th>\n",
        "      <th></th>\n",
        "      <th></th>\n",
        "    </tr>\n",
        "  </thead>\n",
        "  <tbody>\n",
        "    <tr>\n",
        "      <th>Spider-Man</th>\n",
        "      <td> Brown</td>\n",
        "      <td> 167 lbs.</td>\n",
        "      <td> 5'10\"</td>\n",
        "      <td> Hazel</td>\n",
        "      <td> College graduate (biophysics major), doctorate...</td>\n",
        "      <td> U.S.A.</td>\n",
        "      <td> Forest Hills, New York</td>\n",
        "      <td> Scientist and inventor; former freelance photo...</td>\n",
        "      <td> The bite of an irradiated spider granted high-...</td>\n",
        "      <td> The bite of an irradiated spider granted high-...</td>\n",
        "      <td> [Avengers, Civil War, Heroes, Marvel Knights, ...</td>\n",
        "      <td> 2575</td>\n",
        "    </tr>\n",
        "  </tbody>\n",
        "</table>\n",
        "</div>"
       ],
       "metadata": {},
       "output_type": "pyout",
       "prompt_number": 44,
       "text": [
        "           wiki.hair wiki.weight wiki.height wiki.eyes  \\\n",
        "name                                                     \n",
        "Spider-Man     Brown    167 lbs.       5'10\"     Hazel   \n",
        "\n",
        "                                               wiki.education  \\\n",
        "name                                                            \n",
        "Spider-Man  College graduate (biophysics major), doctorate...   \n",
        "\n",
        "           wiki.citizenship     wiki.place_of_birth  \\\n",
        "name                                                  \n",
        "Spider-Man           U.S.A.  Forest Hills, New York   \n",
        "\n",
        "                                              wiki.occupation  \\\n",
        "name                                                            \n",
        "Spider-Man  Scientist and inventor; former freelance photo...   \n",
        "\n",
        "                                                     wiki.bio  \\\n",
        "name                                                            \n",
        "Spider-Man  The bite of an irradiated spider granted high-...   \n",
        "\n",
        "                                                wiki.bio_text  \\\n",
        "name                                                            \n",
        "Spider-Man  The bite of an irradiated spider granted high-...   \n",
        "\n",
        "                                              wiki.categories  \\\n",
        "name                                                            \n",
        "Spider-Man  [Avengers, Civil War, Heroes, Marvel Knights, ...   \n",
        "\n",
        "            comics.available  \n",
        "name                          \n",
        "Spider-Man              2575  "
       ]
      }
     ],
     "prompt_number": 44
    },
    {
     "cell_type": "markdown",
     "metadata": {},
     "source": [
      "No se si es un error, pero sino lo es el llor\u00f3n de spiderman aparece en muchos c\u00f3mics. "
     ]
    },
    {
     "cell_type": "heading",
     "level": 3,
     "metadata": {},
     "source": [
      "Distribuci\u00f3n de h\u00e9roes y villanos en funci\u00f3n de g\u00e9nero"
     ]
    },
    {
     "cell_type": "markdown",
     "metadata": {},
     "source": [
      "Antes de ponernos a jugar con los datos (m\u00e1s), tenemos una columna de la que se pude sacar mucho partido \"wiki.categories\""
     ]
    },
    {
     "cell_type": "code",
     "collapsed": false,
     "input": [
      "clean_df.iloc[1]"
     ],
     "language": "python",
     "metadata": {},
     "outputs": [
      {
       "metadata": {},
       "output_type": "pyout",
       "prompt_number": 45,
       "text": [
        "wiki.hair                                                           Bald\n",
        "wiki.weight                                          365 lbs. (variable)\n",
        "wiki.height                                              6'4\" (variable)\n",
        "wiki.eyes                                                           Blue\n",
        "wiki.education                                       High school dropout\n",
        "wiki.citizenship                           U.S.A. with a criminal record\n",
        "wiki.place_of_birth                              New York City, New York\n",
        "wiki.occupation                      Professional criminal; former boxer\n",
        "wiki.bio               Crusher Creel's life was little more than that...\n",
        "wiki.bio_text          Crusher Creel's life was little more than that...\n",
        "wiki.categories                          [Avengers, Civil War, Villains]\n",
        "comics.available                                                      43\n",
        "Name: Absorbing Man, dtype: object"
       ]
      }
     ],
     "prompt_number": 45
    },
    {
     "cell_type": "markdown",
     "metadata": {},
     "source": [
      "A priori no tenemos informaci\u00f3n de que personajes son hombres, mujeres o alienigenas. Pero Marvel debi\u00f3 intuir que nos podr\u00eda interesar el papel de las mujeres en los c\u00f3mics y nos incluyo una categor\u00eda: \"Mujeres\", que nos va a facilitar la vida un mont\u00f3n. Vamos a crear dos nuevas columnas en el dataframe:\n",
      "\n",
      "- *woman*: que simplemente contendr\u00e1 True o False si el personaje es femenino o no respectivamente.\n",
      "- *villan*: \u00eddem T/F si el personaje es villano o no."
     ]
    },
    {
     "cell_type": "code",
     "collapsed": false,
     "input": [
      "women = clean_df['wiki.categories'].map(lambda x: 'Women' in x)\n",
      "clean_df['Women'] = women \n",
      "women[:5]"
     ],
     "language": "python",
     "metadata": {},
     "outputs": [
      {
       "metadata": {},
       "output_type": "pyout",
       "prompt_number": 46,
       "text": [
        "name\n",
        "Abomination (Emil Blonsky)    False\n",
        "Absorbing Man                 False\n",
        "Abyss                         False\n",
        "Agent Zero                    False\n",
        "Annihilus                     False\n",
        "Name: wiki.categories, dtype: bool"
       ]
      }
     ],
     "prompt_number": 46
    },
    {
     "cell_type": "code",
     "collapsed": false,
     "input": [
      "# ~ Esto es una negaci\u00f3n element-wise\n",
      "print(\"Mujeres: #{}, hombres #{}\".format(clean_df[women].shape[0],clean_df[~women].shape[0]))"
     ],
     "language": "python",
     "metadata": {},
     "outputs": [
      {
       "output_type": "stream",
       "stream": "stdout",
       "text": [
        "Mujeres: #199, hombres #563\n"
       ]
      }
     ],
     "prompt_number": 47
    },
    {
     "cell_type": "markdown",
     "metadata": {},
     "source": [
      "Es decir, tenemos 199 personajes femeninos y 563 masculinos. Es decir solo el 26% de los personajes son femeninos. "
     ]
    },
    {
     "cell_type": "code",
     "collapsed": false,
     "input": [
      "villan = clean_df['wiki.categories'].map(lambda x: 'Villains' in x)\n",
      "clean_df['Villan'] = villan "
     ],
     "language": "python",
     "metadata": {},
     "outputs": [],
     "prompt_number": 48
    },
    {
     "cell_type": "code",
     "collapsed": false,
     "input": [
      "print(\"Villanos: #{}, H\u00e9roes #{}\".format(clean_df[villan].shape[0],clean_df[~villan].shape[0]))"
     ],
     "language": "python",
     "metadata": {},
     "outputs": [
      {
       "output_type": "stream",
       "stream": "stdout",
       "text": [
        "Villanos: #231, H\u00e9roes #531\n"
       ]
      }
     ],
     "prompt_number": 49
    },
    {
     "cell_type": "markdown",
     "metadata": {},
     "source": [
      "Los villanos tambi\u00e9n tienen mucho trabajo porque al parecer son s\u00f3lo el 30'31% de los personajes. \n",
      "\n",
      "Vamos a ver c\u00f3mo se distribuyen hombres y mujeres los roles de h\u00e9roes y villanos."
     ]
    },
    {
     "cell_type": "code",
     "collapsed": false,
     "input": [
      "men = ~women\n",
      "gender_data = {'Women':{'Heroes':0,'Villans':0},'Men':{'Heroes':0,'Villans':0}}\n",
      "# Women and villans\n",
      "gender_data['Women']['Villans'] = clean_df[villan & women].shape[0]\n",
      "# Women and heroes\n",
      "gender_data['Women']['Heroes'] = clean_df[~villan & women].shape[0]\n",
      "\n",
      "# Men and villans\n",
      "gender_data['Men']['Villans'] = clean_df[villan & men].shape[0]\n",
      "# Men and heroes\n",
      "gender_data['Men']['Heroes'] = clean_df[~villan & men].shape[0]\n",
      "gender_data"
     ],
     "language": "python",
     "metadata": {},
     "outputs": [
      {
       "metadata": {},
       "output_type": "pyout",
       "prompt_number": 50,
       "text": [
        "{'Women': {'Villans': 30, 'Heroes': 169},\n",
        " 'Men': {'Villans': 201, 'Heroes': 362}}"
       ]
      }
     ],
     "prompt_number": 50
    },
    {
     "cell_type": "code",
     "collapsed": false,
     "input": [
      "n_groups = 2\n",
      "opacity = 0.3\n",
      "men_data = (gender_data['Men']['Villans'], gender_data['Men']['Heroes'])\n",
      "women_data = (gender_data['Women']['Villans'], gender_data['Women']['Heroes'])\n",
      "\n",
      "fig, ax = plt.subplots()\n",
      "\n",
      "index = np.arange(n_groups)\n",
      "bar_width = 0.4\n",
      "\n",
      "\n",
      "rects1 = plt.bar(index, men_data, bar_width,\n",
      "                 alpha=opacity,\n",
      "                 color='b',\n",
      "                 label='Hombres')\n",
      "\n",
      "rects2 = plt.bar(index + bar_width, women_data, bar_width,\n",
      "                 alpha=opacity,\n",
      "                 color='r',\n",
      "                 label='Mujeres')\n",
      "\n",
      "plt.xlabel('Rol')\n",
      "plt.ylabel('N\u00famero de personajes')\n",
      "plt.title('Distribuci\u00f3n por g\u00e9nero y roles')\n",
      "plt.xticks(index + bar_width, ('H\u00e9roes', 'Villanos'))\n",
      "plt.legend(loc=0, borderaxespad=1.)\n",
      "\n",
      "plt.show()"
     ],
     "language": "python",
     "metadata": {},
     "outputs": [
      {
       "metadata": {},
       "output_type": "display_data",
       "png": "[encoded data removed]",
       "text": [
        "<matplotlib.figure.Figure at 0x10db06890>"
       ]
      }
     ],
     "prompt_number": 51
    },
    {
     "cell_type": "heading",
     "level": 3,
     "metadata": {},
     "source": [
      "Explorando los c\u00f3mics"
     ]
    },
    {
     "cell_type": "code",
     "collapsed": false,
     "input": [
      "comics_df.dtypes"
     ],
     "language": "python",
     "metadata": {},
     "outputs": [
      {
       "metadata": {},
       "output_type": "pyout",
       "prompt_number": 52,
       "text": [
        "characters.available          int64\n",
        "characters.collectionURI     object\n",
        "characters.items             object\n",
        "characters.returned           int64\n",
        "collectedIssues              object\n",
        "collections                  object\n",
        "creators.available            int64\n",
        "creators.collectionURI       object\n",
        "creators.items               object\n",
        "creators.returned             int64\n",
        "dates                        object\n",
        "description                  object\n",
        "diamondCode                  object\n",
        "digitalId                     int64\n",
        "ean                          object\n",
        "events.available              int64\n",
        "events.collectionURI         object\n",
        "events.items                 object\n",
        "events.returned               int64\n",
        "format                       object\n",
        "id                            int64\n",
        "images                       object\n",
        "isbn                         object\n",
        "issn                         object\n",
        "issueNumber                 float64\n",
        "modified                     object\n",
        "pageCount                     int64\n",
        "prices                       object\n",
        "resourceURI                  object\n",
        "series.name                  object\n",
        "series.resourceURI           object\n",
        "stories.available             int64\n",
        "stories.collectionURI        object\n",
        "stories.items                object\n",
        "stories.returned              int64\n",
        "textObjects                  object\n",
        "thumbnail.extension          object\n",
        "thumbnail.path               object\n",
        "title                        object\n",
        "upc                          object\n",
        "urls                         object\n",
        "variantDescription           object\n",
        "variants                     object\n",
        "dtype: object"
       ]
      }
     ],
     "prompt_number": 52
    },
    {
     "cell_type": "markdown",
     "metadata": {},
     "source": [
      "En el campo precio aun tenemos un objeto json. \u00a1Mal! As\u00ed no podemos analizarlo. \n",
      "\n",
      "El tipo objeto en dtype proviene de numpy y describe un elemento de un ndarray. Cada elemento deben ser del mismo tama\u00f1o en bytes. Para un int64 y un float64 necesitamos 8 bytes, pero para una cadena la longitud total no est\u00e1 prefijada y lo que almacena Pandas es un puntero. \n",
      "\n",
      "\u00a1Pero no pasa nada! Lo que vamos a hacer es convertirlo a una serie, quedarnos \u00fanicamente con el precio impreso y arreglar esta columna del dataframe."
     ]
    },
    {
     "cell_type": "code",
     "collapsed": false,
     "input": [
      "prices = comics_df.prices"
     ],
     "language": "python",
     "metadata": {},
     "outputs": [],
     "prompt_number": 53
    },
    {
     "cell_type": "code",
     "collapsed": false,
     "input": [
      "prices_serie = prices.apply(pd.Series)"
     ],
     "language": "python",
     "metadata": {},
     "outputs": [],
     "prompt_number": 54
    },
    {
     "cell_type": "code",
     "collapsed": false,
     "input": [
      "prices_serie[20:30]"
     ],
     "language": "python",
     "metadata": {},
     "outputs": [
      {
       "html": [
        "<div style=\"max-height:1000px;max-width:1500px;overflow:auto;\">\n",
        "<table border=\"1\" class=\"dataframe\">\n",
        "  <thead>\n",
        "    <tr style=\"text-align: right;\">\n",
        "      <th></th>\n",
        "      <th>0</th>\n",
        "      <th>1</th>\n",
        "    </tr>\n",
        "  </thead>\n",
        "  <tbody>\n",
        "    <tr>\n",
        "      <th>0</th>\n",
        "      <td>  {'price': 1.5, 'type': 'printPrice'}</td>\n",
        "      <td>                                             NaN</td>\n",
        "    </tr>\n",
        "    <tr>\n",
        "      <th>0</th>\n",
        "      <td>  {'price': 1.5, 'type': 'printPrice'}</td>\n",
        "      <td>                                             NaN</td>\n",
        "    </tr>\n",
        "    <tr>\n",
        "      <th>0</th>\n",
        "      <td>  {'price': 1.5, 'type': 'printPrice'}</td>\n",
        "      <td>                                             NaN</td>\n",
        "    </tr>\n",
        "    <tr>\n",
        "      <th>0</th>\n",
        "      <td>  {'price': 1.5, 'type': 'printPrice'}</td>\n",
        "      <td> {'price': 0.99, 'type': 'digitalPurchasePrice'}</td>\n",
        "    </tr>\n",
        "    <tr>\n",
        "      <th>0</th>\n",
        "      <td>  {'price': 1.5, 'type': 'printPrice'}</td>\n",
        "      <td> {'price': 0.99, 'type': 'digitalPurchasePrice'}</td>\n",
        "    </tr>\n",
        "    <tr>\n",
        "      <th>0</th>\n",
        "      <td> {'price': 1.25, 'type': 'printPrice'}</td>\n",
        "      <td>                                             NaN</td>\n",
        "    </tr>\n",
        "    <tr>\n",
        "      <th>0</th>\n",
        "      <td>  {'price': 1.5, 'type': 'printPrice'}</td>\n",
        "      <td> {'price': 0.99, 'type': 'digitalPurchasePrice'}</td>\n",
        "    </tr>\n",
        "    <tr>\n",
        "      <th>0</th>\n",
        "      <td>  {'price': 1.5, 'type': 'printPrice'}</td>\n",
        "      <td> {'price': 0.99, 'type': 'digitalPurchasePrice'}</td>\n",
        "    </tr>\n",
        "    <tr>\n",
        "      <th>0</th>\n",
        "      <td>  {'price': 1.5, 'type': 'printPrice'}</td>\n",
        "      <td>                                             NaN</td>\n",
        "    </tr>\n",
        "    <tr>\n",
        "      <th>0</th>\n",
        "      <td>  {'price': 1.5, 'type': 'printPrice'}</td>\n",
        "      <td>                                             NaN</td>\n",
        "    </tr>\n",
        "  </tbody>\n",
        "</table>\n",
        "</div>"
       ],
       "metadata": {},
       "output_type": "pyout",
       "prompt_number": 55,
       "text": [
        "                                       0  \\\n",
        "0   {'price': 1.5, 'type': 'printPrice'}   \n",
        "0   {'price': 1.5, 'type': 'printPrice'}   \n",
        "0   {'price': 1.5, 'type': 'printPrice'}   \n",
        "0   {'price': 1.5, 'type': 'printPrice'}   \n",
        "0   {'price': 1.5, 'type': 'printPrice'}   \n",
        "0  {'price': 1.25, 'type': 'printPrice'}   \n",
        "0   {'price': 1.5, 'type': 'printPrice'}   \n",
        "0   {'price': 1.5, 'type': 'printPrice'}   \n",
        "0   {'price': 1.5, 'type': 'printPrice'}   \n",
        "0   {'price': 1.5, 'type': 'printPrice'}   \n",
        "\n",
        "                                                 1  \n",
        "0                                              NaN  \n",
        "0                                              NaN  \n",
        "0                                              NaN  \n",
        "0  {'price': 0.99, 'type': 'digitalPurchasePrice'}  \n",
        "0  {'price': 0.99, 'type': 'digitalPurchasePrice'}  \n",
        "0                                              NaN  \n",
        "0  {'price': 0.99, 'type': 'digitalPurchasePrice'}  \n",
        "0  {'price': 0.99, 'type': 'digitalPurchasePrice'}  \n",
        "0                                              NaN  \n",
        "0                                              NaN  "
       ]
      }
     ],
     "prompt_number": 55
    },
    {
     "cell_type": "code",
     "collapsed": false,
     "input": [
      "print_price = prices_serie[0].apply(pd.Series)['price']"
     ],
     "language": "python",
     "metadata": {},
     "outputs": [],
     "prompt_number": 60
    },
    {
     "cell_type": "code",
     "collapsed": false,
     "input": [
      "digital_price = prices_serie[1].apply(pd.Series).price"
     ],
     "language": "python",
     "metadata": {},
     "outputs": [],
     "prompt_number": 61
    },
    {
     "cell_type": "code",
     "collapsed": false,
     "input": [
      "digital_price.value_counts()"
     ],
     "language": "python",
     "metadata": {},
     "outputs": [
      {
       "metadata": {},
       "output_type": "pyout",
       "prompt_number": 62,
       "text": [
        "1.99     7040\n",
        "3.99      137\n",
        "2.99       88\n",
        "0.99       44\n",
        "0.00       44\n",
        "7.99        3\n",
        "6.99        3\n",
        "4.99        3\n",
        "19.99       1\n",
        "dtype: int64"
       ]
      }
     ],
     "prompt_number": 62
    },
    {
     "cell_type": "code",
     "collapsed": false,
     "input": [
      "digital_price.count()"
     ],
     "language": "python",
     "metadata": {},
     "outputs": [
      {
       "metadata": {},
       "output_type": "pyout",
       "prompt_number": 63,
       "text": [
        "7363"
       ]
      }
     ],
     "prompt_number": 63
    },
    {
     "cell_type": "markdown",
     "metadata": {},
     "source": [
      "S\u00f3lo el 24'4% se ha editado digitalmente.  "
     ]
    },
    {
     "cell_type": "markdown",
     "metadata": {},
     "source": [
      "Eliminamos la columna sucia y a\u00f1adimos los datos limpios."
     ]
    },
    {
     "cell_type": "code",
     "collapsed": false,
     "input": [
      "#del tambi\u00e9n funcionaria del df.column_name\n",
      "comics_df = comics_df.drop('price')"
     ],
     "language": "python",
     "metadata": {},
     "outputs": [],
     "prompt_number": 64
    },
    {
     "cell_type": "code",
     "collapsed": false,
     "input": [
      "comics_df['print price'] = print_price\n",
      "comics_df['digital price'] = digital_price"
     ],
     "language": "python",
     "metadata": {},
     "outputs": [],
     "prompt_number": 65
    },
    {
     "cell_type": "markdown",
     "metadata": {},
     "source": [
      "A las fechas les pasa ex\u00e1ctamente lo mismo que a los precios. Vamos a limpiar los datos (data munging again)"
     ]
    },
    {
     "cell_type": "code",
     "collapsed": false,
     "input": [
      "dates = comics_df.dates\n",
      "dates_serie = dates.apply(pd.Series)[0].apply(pd.Series)"
     ],
     "language": "python",
     "metadata": {},
     "outputs": [],
     "prompt_number": 66
    },
    {
     "cell_type": "code",
     "collapsed": false,
     "input": [
      "on_sale_date = dates_serie.date.astype('datetime64[ns]')\n",
      "on_sale_date.head()"
     ],
     "language": "python",
     "metadata": {},
     "outputs": [
      {
       "metadata": {},
       "output_type": "pyout",
       "prompt_number": 67,
       "text": [
        "0   2004-11-24 05:00:00\n",
        "0   2003-10-08 04:00:00\n",
        "0   2005-11-02 05:00:00\n",
        "0   1999-06-01 04:00:00\n",
        "0   1999-07-01 04:00:00\n",
        "Name: date, dtype: datetime64[ns]"
       ]
      }
     ],
     "prompt_number": 67
    },
    {
     "cell_type": "code",
     "collapsed": false,
     "input": [
      "comics_df['On sale Date'] = on_sale_date"
     ],
     "language": "python",
     "metadata": {},
     "outputs": [],
     "prompt_number": 68
    },
    {
     "cell_type": "code",
     "collapsed": false,
     "input": [
      "start = comics_df['On sale Date'].min()\n",
      "end =  comics_df['On sale Date'].max()\n",
      "\n",
      "yearly_range = pd.date_range(start, end, freq='365D6H')"
     ],
     "language": "python",
     "metadata": {},
     "outputs": [],
     "prompt_number": 69
    },
    {
     "cell_type": "code",
     "collapsed": false,
     "input": [
      "comics_per_year = comics_df.groupby(on_sale_date.map(lambda x: x.year)).size()\n",
      "comics_per_year.plot()"
     ],
     "language": "python",
     "metadata": {},
     "outputs": [
      {
       "metadata": {},
       "output_type": "pyout",
       "prompt_number": 70,
       "text": [
        "<matplotlib.axes._subplots.AxesSubplot at 0x10c742b10>"
       ]
      },
      {
       "metadata": {},
       "output_type": "display_data",
       "png": "[encoded data removed]",
       "text": [
        "<matplotlib.figure.Figure at 0x127232c10>"
       ]
      }
     ],
     "prompt_number": 70
    },
    {
     "cell_type": "code",
     "collapsed": false,
     "input": [
      "really_old = comics_df[on_sale_date==start]\n",
      "print(start)"
     ],
     "language": "python",
     "metadata": {},
     "outputs": [
      {
       "output_type": "stream",
       "stream": "stdout",
       "text": [
        "1753-07-29 03:43:41.128654848\n"
       ]
      }
     ],
     "prompt_number": 71
    },
    {
     "cell_type": "markdown",
     "metadata": {},
     "source": [
      "WTF! La Marvel es muuuucho m\u00e1s antigua de lo que nosostros/as pensabamos."
     ]
    },
    {
     "cell_type": "code",
     "collapsed": false,
     "input": [
      "really_old.dates.iloc[1]"
     ],
     "language": "python",
     "metadata": {},
     "outputs": [
      {
       "metadata": {},
       "output_type": "pyout",
       "prompt_number": 72,
       "text": [
        "[{'date': '-0001-11-30T00:00:00-0500', 'type': 'onsaleDate'},\n",
        " {'date': '-0001-11-30T00:00:00-0500', 'type': 'focDate'}]"
       ]
      }
     ],
     "prompt_number": 72
    },
    {
     "cell_type": "markdown",
     "metadata": {},
     "source": [
      "O es un problema de formato. En cualquier caso no queremos esos datos, son ruido. "
     ]
    },
    {
     "cell_type": "code",
     "collapsed": false,
     "input": [
      "#back_to_future_comics = comics_df[on_sale_date==end]\n",
      "print(end)\n",
      "back_to_future_comic = comics_df[comics_df['On sale Date'] == end]\n",
      "back_to_future_comic.title"
     ],
     "language": "python",
     "metadata": {},
     "outputs": [
      {
       "output_type": "stream",
       "stream": "stdout",
       "text": [
        "2020-12-31 05:00:00\n"
       ]
      },
      {
       "metadata": {},
       "output_type": "pyout",
       "prompt_number": 73,
       "text": [
        "0    Ant-Man: So (Trade Paperback)\n",
        "Name: title, dtype: object"
       ]
      }
     ],
     "prompt_number": 73
    },
    {
     "cell_type": "code",
     "collapsed": false,
     "input": [
      "print(\"Vamos a eliminar {} ficheros.\".format(really_old['On sale Date'].shape[0]))"
     ],
     "language": "python",
     "metadata": {},
     "outputs": [
      {
       "output_type": "stream",
       "stream": "stdout",
       "text": [
        "Vamos a eliminar 945 ficheros.\n"
       ]
      }
     ],
     "prompt_number": 74
    },
    {
     "cell_type": "code",
     "collapsed": false,
     "input": [
      "comics_df = comics_df[comics_df['On sale Date'] != start]"
     ],
     "language": "python",
     "metadata": {},
     "outputs": [],
     "prompt_number": 75
    },
    {
     "cell_type": "code",
     "collapsed": false,
     "input": [
      "comics_per_year = comics_df.groupby(comics_df['On sale Date'].map(lambda x: x.year)).size()\n",
      "comics_per_year.plot()"
     ],
     "language": "python",
     "metadata": {},
     "outputs": [
      {
       "metadata": {},
       "output_type": "pyout",
       "prompt_number": 76,
       "text": [
        "<matplotlib.axes._subplots.AxesSubplot at 0x10d57e650>"
       ]
      },
      {
       "metadata": {},
       "output_type": "display_data",
       "png": "[encoded data removed]",
       "text": [
        "<matplotlib.figure.Figure at 0x10c1920d0>"
       ]
      }
     ],
     "prompt_number": 76
    },
    {
     "cell_type": "markdown",
     "metadata": {},
     "source": [
      "Muuucho mejor."
     ]
    },
    {
     "cell_type": "code",
     "collapsed": false,
     "input": [
      "comics_df = comics_df.fillna(0)"
     ],
     "language": "python",
     "metadata": {},
     "outputs": [],
     "prompt_number": 77
    },
    {
     "cell_type": "markdown",
     "metadata": {},
     "source": [
      "\u00bfNos acordamos del dropna? Pues tamb\u00eden tenemos un fillna"
     ]
    },
    {
     "cell_type": "code",
     "collapsed": false,
     "input": [
      "comics_group = comics_df.groupby(comics_df['On sale Date'].map(lambda x: x.year))"
     ],
     "language": "python",
     "metadata": {},
     "outputs": [],
     "prompt_number": 78
    },
    {
     "cell_type": "code",
     "collapsed": false,
     "input": [
      "price_per_year = comics_group['print price', 'pageCount', 'digital price'].mean()"
     ],
     "language": "python",
     "metadata": {},
     "outputs": [],
     "prompt_number": 79
    },
    {
     "cell_type": "code",
     "collapsed": false,
     "input": [
      "price_per_year"
     ],
     "language": "python",
     "metadata": {},
     "outputs": [
      {
       "html": [
        "<div style=\"max-height:1000px;max-width:1500px;overflow:auto;\">\n",
        "<table border=\"1\" class=\"dataframe\">\n",
        "  <thead>\n",
        "    <tr style=\"text-align: right;\">\n",
        "      <th></th>\n",
        "      <th>print price</th>\n",
        "      <th>pageCount</th>\n",
        "      <th>digital price</th>\n",
        "    </tr>\n",
        "    <tr>\n",
        "      <th>On sale Date</th>\n",
        "      <th></th>\n",
        "      <th></th>\n",
        "      <th></th>\n",
        "    </tr>\n",
        "  </thead>\n",
        "  <tbody>\n",
        "    <tr>\n",
        "      <th>1939</th>\n",
        "      <td>  0.100000</td>\n",
        "      <td>  68.000000</td>\n",
        "      <td> 0.000000</td>\n",
        "    </tr>\n",
        "    <tr>\n",
        "      <th>1940</th>\n",
        "      <td>  0.100000</td>\n",
        "      <td>  68.000000</td>\n",
        "      <td> 0.000000</td>\n",
        "    </tr>\n",
        "    <tr>\n",
        "      <th>1941</th>\n",
        "      <td>  0.100000</td>\n",
        "      <td>  68.000000</td>\n",
        "      <td> 0.361818</td>\n",
        "    </tr>\n",
        "    <tr>\n",
        "      <th>1942</th>\n",
        "      <td>  0.100000</td>\n",
        "      <td>  68.000000</td>\n",
        "      <td> 0.000000</td>\n",
        "    </tr>\n",
        "    <tr>\n",
        "      <th>1943</th>\n",
        "      <td>  0.092308</td>\n",
        "      <td>  59.282051</td>\n",
        "      <td> 0.000000</td>\n",
        "    </tr>\n",
        "    <tr>\n",
        "      <th>1944</th>\n",
        "      <td>  0.090909</td>\n",
        "      <td>  51.636364</td>\n",
        "      <td> 0.000000</td>\n",
        "    </tr>\n",
        "    <tr>\n",
        "      <th>1945</th>\n",
        "      <td>  0.088889</td>\n",
        "      <td>  37.481481</td>\n",
        "      <td> 0.000000</td>\n",
        "    </tr>\n",
        "    <tr>\n",
        "      <th>1946</th>\n",
        "      <td>  0.089655</td>\n",
        "      <td>  46.620690</td>\n",
        "      <td> 0.000000</td>\n",
        "    </tr>\n",
        "    <tr>\n",
        "      <th>1947</th>\n",
        "      <td>  0.081250</td>\n",
        "      <td>  40.250000</td>\n",
        "      <td> 0.000000</td>\n",
        "    </tr>\n",
        "    <tr>\n",
        "      <th>1948</th>\n",
        "      <td>  0.056000</td>\n",
        "      <td>  26.200000</td>\n",
        "      <td> 0.000000</td>\n",
        "    </tr>\n",
        "    <tr>\n",
        "      <th>1949</th>\n",
        "      <td>  0.050000</td>\n",
        "      <td>  16.000000</td>\n",
        "      <td> 0.000000</td>\n",
        "    </tr>\n",
        "    <tr>\n",
        "      <th>1950</th>\n",
        "      <td>  0.100000</td>\n",
        "      <td>  41.333333</td>\n",
        "      <td> 0.000000</td>\n",
        "    </tr>\n",
        "    <tr>\n",
        "      <th>1951</th>\n",
        "      <td>  0.090909</td>\n",
        "      <td>  32.727273</td>\n",
        "      <td> 0.000000</td>\n",
        "    </tr>\n",
        "    <tr>\n",
        "      <th>1952</th>\n",
        "      <td>  0.078947</td>\n",
        "      <td>  28.421053</td>\n",
        "      <td> 0.000000</td>\n",
        "    </tr>\n",
        "    <tr>\n",
        "      <th>1953</th>\n",
        "      <td>  0.080000</td>\n",
        "      <td>  27.600000</td>\n",
        "      <td> 0.000000</td>\n",
        "    </tr>\n",
        "    <tr>\n",
        "      <th>1954</th>\n",
        "      <td>  0.065714</td>\n",
        "      <td>  26.742857</td>\n",
        "      <td> 0.000000</td>\n",
        "    </tr>\n",
        "    <tr>\n",
        "      <th>1955</th>\n",
        "      <td>  0.070968</td>\n",
        "      <td>  26.709677</td>\n",
        "      <td> 0.000000</td>\n",
        "    </tr>\n",
        "    <tr>\n",
        "      <th>1956</th>\n",
        "      <td>  0.075000</td>\n",
        "      <td>  26.100000</td>\n",
        "      <td> 0.000000</td>\n",
        "    </tr>\n",
        "    <tr>\n",
        "      <th>1957</th>\n",
        "      <td>  0.078261</td>\n",
        "      <td>  28.173913</td>\n",
        "      <td> 0.000000</td>\n",
        "    </tr>\n",
        "    <tr>\n",
        "      <th>1958</th>\n",
        "      <td>  0.053333</td>\n",
        "      <td>  26.400000</td>\n",
        "      <td> 0.000000</td>\n",
        "    </tr>\n",
        "    <tr>\n",
        "      <th>1959</th>\n",
        "      <td>  0.073913</td>\n",
        "      <td>  15.739130</td>\n",
        "      <td> 0.000000</td>\n",
        "    </tr>\n",
        "    <tr>\n",
        "      <th>1960</th>\n",
        "      <td>  0.070000</td>\n",
        "      <td>  20.080000</td>\n",
        "      <td> 0.019800</td>\n",
        "    </tr>\n",
        "    <tr>\n",
        "      <th>1961</th>\n",
        "      <td>  0.084433</td>\n",
        "      <td>   8.860825</td>\n",
        "      <td> 0.082062</td>\n",
        "    </tr>\n",
        "    <tr>\n",
        "      <th>1962</th>\n",
        "      <td>  0.105114</td>\n",
        "      <td>  20.545455</td>\n",
        "      <td> 0.361818</td>\n",
        "    </tr>\n",
        "    <tr>\n",
        "      <th>1963</th>\n",
        "      <td>  0.090636</td>\n",
        "      <td>  19.309091</td>\n",
        "      <td> 0.814091</td>\n",
        "    </tr>\n",
        "    <tr>\n",
        "      <th>1964</th>\n",
        "      <td>  0.096439</td>\n",
        "      <td>  25.606061</td>\n",
        "      <td> 0.964848</td>\n",
        "    </tr>\n",
        "    <tr>\n",
        "      <th>1965</th>\n",
        "      <td>  0.094173</td>\n",
        "      <td>  27.683453</td>\n",
        "      <td> 1.030791</td>\n",
        "    </tr>\n",
        "    <tr>\n",
        "      <th>1966</th>\n",
        "      <td>  0.099161</td>\n",
        "      <td>  28.867133</td>\n",
        "      <td> 0.827972</td>\n",
        "    </tr>\n",
        "    <tr>\n",
        "      <th>1967</th>\n",
        "      <td>  0.100811</td>\n",
        "      <td>  27.885135</td>\n",
        "      <td> 0.510541</td>\n",
        "    </tr>\n",
        "    <tr>\n",
        "      <th>1968</th>\n",
        "      <td>  0.107081</td>\n",
        "      <td>  28.118012</td>\n",
        "      <td> 0.401553</td>\n",
        "    </tr>\n",
        "    <tr>\n",
        "      <th>...</th>\n",
        "      <td>...</td>\n",
        "      <td>...</td>\n",
        "      <td>...</td>\n",
        "    </tr>\n",
        "    <tr>\n",
        "      <th>1986</th>\n",
        "      <td>  0.575697</td>\n",
        "      <td>  28.701195</td>\n",
        "      <td> 0.356773</td>\n",
        "    </tr>\n",
        "    <tr>\n",
        "      <th>1987</th>\n",
        "      <td>  0.573469</td>\n",
        "      <td>  26.800000</td>\n",
        "      <td> 0.203061</td>\n",
        "    </tr>\n",
        "    <tr>\n",
        "      <th>1988</th>\n",
        "      <td>  0.770741</td>\n",
        "      <td>  30.162963</td>\n",
        "      <td> 0.243222</td>\n",
        "    </tr>\n",
        "    <tr>\n",
        "      <th>1989</th>\n",
        "      <td>  0.921711</td>\n",
        "      <td>  33.800000</td>\n",
        "      <td> 0.130921</td>\n",
        "    </tr>\n",
        "    <tr>\n",
        "      <th>1990</th>\n",
        "      <td>  0.812363</td>\n",
        "      <td>  29.879121</td>\n",
        "      <td> 0.183132</td>\n",
        "    </tr>\n",
        "    <tr>\n",
        "      <th>1991</th>\n",
        "      <td>  0.809682</td>\n",
        "      <td>  29.862069</td>\n",
        "      <td> 0.187215</td>\n",
        "    </tr>\n",
        "    <tr>\n",
        "      <th>1992</th>\n",
        "      <td>  0.871466</td>\n",
        "      <td>  27.570681</td>\n",
        "      <td> 0.197906</td>\n",
        "    </tr>\n",
        "    <tr>\n",
        "      <th>1993</th>\n",
        "      <td>  1.074494</td>\n",
        "      <td>  29.283117</td>\n",
        "      <td> 0.320468</td>\n",
        "    </tr>\n",
        "    <tr>\n",
        "      <th>1994</th>\n",
        "      <td>  1.154888</td>\n",
        "      <td>  27.363128</td>\n",
        "      <td> 0.188994</td>\n",
        "    </tr>\n",
        "    <tr>\n",
        "      <th>1995</th>\n",
        "      <td>  1.290229</td>\n",
        "      <td>  25.124183</td>\n",
        "      <td> 0.312190</td>\n",
        "    </tr>\n",
        "    <tr>\n",
        "      <th>1996</th>\n",
        "      <td>  1.108352</td>\n",
        "      <td>  25.260536</td>\n",
        "      <td> 0.152490</td>\n",
        "    </tr>\n",
        "    <tr>\n",
        "      <th>1997</th>\n",
        "      <td>  1.127034</td>\n",
        "      <td>  27.027586</td>\n",
        "      <td> 0.466621</td>\n",
        "    </tr>\n",
        "    <tr>\n",
        "      <th>1998</th>\n",
        "      <td>  0.901168</td>\n",
        "      <td>  28.963504</td>\n",
        "      <td> 0.275985</td>\n",
        "    </tr>\n",
        "    <tr>\n",
        "      <th>1999</th>\n",
        "      <td>  2.720977</td>\n",
        "      <td>  68.877193</td>\n",
        "      <td> 0.403985</td>\n",
        "    </tr>\n",
        "    <tr>\n",
        "      <th>2000</th>\n",
        "      <td>  0.697008</td>\n",
        "      <td>  25.819672</td>\n",
        "      <td> 0.481189</td>\n",
        "    </tr>\n",
        "    <tr>\n",
        "      <th>2001</th>\n",
        "      <td>  0.415556</td>\n",
        "      <td>  20.518519</td>\n",
        "      <td> 0.853735</td>\n",
        "    </tr>\n",
        "    <tr>\n",
        "      <th>2002</th>\n",
        "      <td>  0.909750</td>\n",
        "      <td>  27.633333</td>\n",
        "      <td> 0.784944</td>\n",
        "    </tr>\n",
        "    <tr>\n",
        "      <th>2003</th>\n",
        "      <td>  3.073240</td>\n",
        "      <td>  42.234676</td>\n",
        "      <td> 0.616865</td>\n",
        "    </tr>\n",
        "    <tr>\n",
        "      <th>2004</th>\n",
        "      <td>  3.908775</td>\n",
        "      <td>  16.430834</td>\n",
        "      <td> 0.615702</td>\n",
        "    </tr>\n",
        "    <tr>\n",
        "      <th>2005</th>\n",
        "      <td>  4.454624</td>\n",
        "      <td>   8.347863</td>\n",
        "      <td> 0.675239</td>\n",
        "    </tr>\n",
        "    <tr>\n",
        "      <th>2006</th>\n",
        "      <td>  4.576349</td>\n",
        "      <td>   0.092105</td>\n",
        "      <td> 0.713520</td>\n",
        "    </tr>\n",
        "    <tr>\n",
        "      <th>2007</th>\n",
        "      <td>  4.660382</td>\n",
        "      <td>   0.000000</td>\n",
        "      <td> 0.657806</td>\n",
        "    </tr>\n",
        "    <tr>\n",
        "      <th>2008</th>\n",
        "      <td>  7.574411</td>\n",
        "      <td>  50.649746</td>\n",
        "      <td> 0.585883</td>\n",
        "    </tr>\n",
        "    <tr>\n",
        "      <th>2009</th>\n",
        "      <td>  8.891997</td>\n",
        "      <td>  77.159628</td>\n",
        "      <td> 0.505063</td>\n",
        "    </tr>\n",
        "    <tr>\n",
        "      <th>2010</th>\n",
        "      <td>  8.374445</td>\n",
        "      <td>  74.563660</td>\n",
        "      <td> 0.553129</td>\n",
        "    </tr>\n",
        "    <tr>\n",
        "      <th>2011</th>\n",
        "      <td>  9.318335</td>\n",
        "      <td>  82.327663</td>\n",
        "      <td> 0.653859</td>\n",
        "    </tr>\n",
        "    <tr>\n",
        "      <th>2012</th>\n",
        "      <td>  9.536820</td>\n",
        "      <td>  81.411090</td>\n",
        "      <td> 0.912588</td>\n",
        "    </tr>\n",
        "    <tr>\n",
        "      <th>2013</th>\n",
        "      <td>  9.095204</td>\n",
        "      <td>  77.181307</td>\n",
        "      <td> 0.755102</td>\n",
        "    </tr>\n",
        "    <tr>\n",
        "      <th>2014</th>\n",
        "      <td>  8.369410</td>\n",
        "      <td>  66.957640</td>\n",
        "      <td> 0.006036</td>\n",
        "    </tr>\n",
        "    <tr>\n",
        "      <th>2020</th>\n",
        "      <td> 19.990000</td>\n",
        "      <td> 136.000000</td>\n",
        "      <td> 0.000000</td>\n",
        "    </tr>\n",
        "  </tbody>\n",
        "</table>\n",
        "<p>77 rows \u00d7 3 columns</p>\n",
        "</div>"
       ],
       "metadata": {},
       "output_type": "pyout",
       "prompt_number": 80,
       "text": [
        "              print price   pageCount  digital price\n",
        "On sale Date                                        \n",
        "1939             0.100000   68.000000       0.000000\n",
        "1940             0.100000   68.000000       0.000000\n",
        "1941             0.100000   68.000000       0.361818\n",
        "1942             0.100000   68.000000       0.000000\n",
        "1943             0.092308   59.282051       0.000000\n",
        "1944             0.090909   51.636364       0.000000\n",
        "1945             0.088889   37.481481       0.000000\n",
        "1946             0.089655   46.620690       0.000000\n",
        "1947             0.081250   40.250000       0.000000\n",
        "1948             0.056000   26.200000       0.000000\n",
        "1949             0.050000   16.000000       0.000000\n",
        "1950             0.100000   41.333333       0.000000\n",
        "1951             0.090909   32.727273       0.000000\n",
        "1952             0.078947   28.421053       0.000000\n",
        "1953             0.080000   27.600000       0.000000\n",
        "1954             0.065714   26.742857       0.000000\n",
        "1955             0.070968   26.709677       0.000000\n",
        "1956             0.075000   26.100000       0.000000\n",
        "1957             0.078261   28.173913       0.000000\n",
        "1958             0.053333   26.400000       0.000000\n",
        "1959             0.073913   15.739130       0.000000\n",
        "1960             0.070000   20.080000       0.019800\n",
        "1961             0.084433    8.860825       0.082062\n",
        "1962             0.105114   20.545455       0.361818\n",
        "1963             0.090636   19.309091       0.814091\n",
        "1964             0.096439   25.606061       0.964848\n",
        "1965             0.094173   27.683453       1.030791\n",
        "1966             0.099161   28.867133       0.827972\n",
        "1967             0.100811   27.885135       0.510541\n",
        "1968             0.107081   28.118012       0.401553\n",
        "...                   ...         ...            ...\n",
        "1986             0.575697   28.701195       0.356773\n",
        "1987             0.573469   26.800000       0.203061\n",
        "1988             0.770741   30.162963       0.243222\n",
        "1989             0.921711   33.800000       0.130921\n",
        "1990             0.812363   29.879121       0.183132\n",
        "1991             0.809682   29.862069       0.187215\n",
        "1992             0.871466   27.570681       0.197906\n",
        "1993             1.074494   29.283117       0.320468\n",
        "1994             1.154888   27.363128       0.188994\n",
        "1995             1.290229   25.124183       0.312190\n",
        "1996             1.108352   25.260536       0.152490\n",
        "1997             1.127034   27.027586       0.466621\n",
        "1998             0.901168   28.963504       0.275985\n",
        "1999             2.720977   68.877193       0.403985\n",
        "2000             0.697008   25.819672       0.481189\n",
        "2001             0.415556   20.518519       0.853735\n",
        "2002             0.909750   27.633333       0.784944\n",
        "2003             3.073240   42.234676       0.616865\n",
        "2004             3.908775   16.430834       0.615702\n",
        "2005             4.454624    8.347863       0.675239\n",
        "2006             4.576349    0.092105       0.713520\n",
        "2007             4.660382    0.000000       0.657806\n",
        "2008             7.574411   50.649746       0.585883\n",
        "2009             8.891997   77.159628       0.505063\n",
        "2010             8.374445   74.563660       0.553129\n",
        "2011             9.318335   82.327663       0.653859\n",
        "2012             9.536820   81.411090       0.912588\n",
        "2013             9.095204   77.181307       0.755102\n",
        "2014             8.369410   66.957640       0.006036\n",
        "2020            19.990000  136.000000       0.000000\n",
        "\n",
        "[77 rows x 3 columns]"
       ]
      }
     ],
     "prompt_number": 80
    },
    {
     "cell_type": "code",
     "collapsed": false,
     "input": [
      "price_per_year.plot()"
     ],
     "language": "python",
     "metadata": {},
     "outputs": [
      {
       "metadata": {},
       "output_type": "pyout",
       "prompt_number": 81,
       "text": [
        "<matplotlib.axes._subplots.AxesSubplot at 0x10cf0a9d0>"
       ]
      },
      {
       "metadata": {},
       "output_type": "display_data",
       "png": "[encoded data removed]",
       "text": [
        "<matplotlib.figure.Figure at 0x10d21aad0>"
       ]
      }
     ],
     "prompt_number": 81
    },
    {
     "cell_type": "code",
     "collapsed": false,
     "input": [
      "plt.figure()\n",
      "with pd.plot_params.use('x_compat', True):\n",
      "    price_per_year['print price'].plot(color='r')\n",
      "    price_per_year['digital price'].plot(color='g')"
     ],
     "language": "python",
     "metadata": {},
     "outputs": [
      {
       "metadata": {},
       "output_type": "display_data",
       "png": "[encoded data removed]",
       "text": [
        "<matplotlib.figure.Figure at 0x1278a80d0>"
       ]
      }
     ],
     "prompt_number": 82
    },
    {
     "cell_type": "heading",
     "level": 1,
     "metadata": {},
     "source": [
      "\u00a1Gracias! "
     ]
    },
    {
     "cell_type": "code",
     "collapsed": false,
     "input": [],
     "language": "python",
     "metadata": {},
     "outputs": []
    }
   ],
   "metadata": {}
  }
 ]
}