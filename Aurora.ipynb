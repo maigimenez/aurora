{
 "metadata": {
  "name": ""
 },
 "nbformat": 3,
 "nbformat_minor": 0,
 "worksheets": [
  {
   "cells": [
    {
     "cell_type": "code",
     "collapsed": false,
     "input": [
      "from marvel.marvel import Marvel\n",
      "from marveldev import Developer"
     ],
     "language": "python",
     "metadata": {},
     "outputs": [],
     "prompt_number": 1
    },
    {
     "cell_type": "code",
     "collapsed": false,
     "input": [
      "developer = Developer()\n",
      "m = Marvel(*developer.get_credentials())"
     ],
     "language": "python",
     "metadata": {},
     "outputs": [],
     "prompt_number": 2
    },
    {
     "cell_type": "code",
     "collapsed": false,
     "input": [
      "character_data_wrapper = m.get_characters(orderBy=\"name,-modified\", limit=\"10\", offset=\"15\")"
     ],
     "language": "python",
     "metadata": {},
     "outputs": [],
     "prompt_number": 19
    },
    {
     "cell_type": "code",
     "collapsed": false,
     "input": [
      "print(character_data_wrapper.status)"
     ],
     "language": "python",
     "metadata": {},
     "outputs": [
      {
       "output_type": "stream",
       "stream": "stdout",
       "text": [
        "Ok\n"
       ]
      }
     ],
     "prompt_number": 20
    },
    {
     "cell_type": "code",
     "collapsed": false,
     "input": [
      "print(character_data_wrapper.data.total)"
     ],
     "language": "python",
     "metadata": {},
     "outputs": [
      {
       "output_type": "stream",
       "stream": "stdout",
       "text": [
        "1478\n"
       ]
      }
     ],
     "prompt_number": 21
    },
    {
     "cell_type": "code",
     "collapsed": false,
     "input": [
      "for character in character_data_wrapper.data.results:\n",
      "    print(character.name, \"-\", character.detail, character.wiki)"
     ],
     "language": "python",
     "metadata": {},
     "outputs": [
      {
       "output_type": "stream",
       "stream": "stdout",
       "text": [
        "Agents of Atlas - http://marvel.com/characters/103/agents_of_atlas?utm_campaign=apiRef&utm_source=28af7c7a8dac2c9156b74ac956598479 http://marvel.com/universe/Agents_of_Atlas?utm_campaign=apiRef&utm_source=28af7c7a8dac2c9156b74ac956598479\n",
        "Aginar - http://marvel.com/characters/105/aginar?utm_campaign=apiRef&utm_source=28af7c7a8dac2c9156b74ac956598479 http://marvel.com/universe/Aginar?utm_campaign=apiRef&utm_source=28af7c7a8dac2c9156b74ac956598479\n",
        "Air-Walker (Gabriel Lan) - http://marvel.com/characters/109/air-walker?utm_campaign=apiRef&utm_source=28af7c7a8dac2c9156b74ac956598479 http://marvel.com/universe/Air-Walker_(Gabriel_Lan)?utm_campaign=apiRef&utm_source=28af7c7a8dac2c9156b74ac956598479\n",
        "Ajak - http://marvel.com/characters/111/ajak?utm_campaign=apiRef&utm_source=28af7c7a8dac2c9156b74ac956598479 http://marvel.com/universe/Ajak?utm_campaign=apiRef&utm_source=28af7c7a8dac2c9156b74ac956598479\n",
        "Ajaxis - http://marvel.com/characters/113/ajaxis?utm_campaign=apiRef&utm_source=28af7c7a8dac2c9156b74ac956598479 http://marvel.com/universe/Ajaxis?utm_campaign=apiRef&utm_source=28af7c7a8dac2c9156b74ac956598479\n",
        "Akemi - http://marvel.com/characters/114/akemi?utm_campaign=apiRef&utm_source=28af7c7a8dac2c9156b74ac956598479 None\n",
        "Alain - http://marvel.com/characters/116/alain?utm_campaign=apiRef&utm_source=28af7c7a8dac2c9156b74ac956598479 http://marvel.com/universe/Alain?utm_campaign=apiRef&utm_source=28af7c7a8dac2c9156b74ac956598479\n",
        "Albert Cleary - http://marvel.com/characters/2692/albert_cleary?utm_campaign=apiRef&utm_source=28af7c7a8dac2c9156b74ac956598479 None\n",
        "Albion - http://marvel.com/characters/118/albion?utm_campaign=apiRef&utm_source=28af7c7a8dac2c9156b74ac956598479 http://marvel.com/universe/Albion?utm_campaign=apiRef&utm_source=28af7c7a8dac2c9156b74ac956598479\n",
        "Alex Power - http://marvel.com/characters/1387/alex_power?utm_campaign=apiRef&utm_source=28af7c7a8dac2c9156b74ac956598479 None\n"
       ]
      }
     ],
     "prompt_number": 36
    },
    {
     "cell_type": "code",
     "collapsed": false,
     "input": [
      "character"
     ],
     "language": "python",
     "metadata": {},
     "outputs": [
      {
       "metadata": {},
       "output_type": "pyout",
       "prompt_number": 27,
       "text": [
        "<marvel.character.Character at 0x7fa173c02090>"
       ]
      }
     ],
     "prompt_number": 27
    },
    {
     "cell_type": "code",
     "collapsed": false,
     "input": [
      "character.description"
     ],
     "language": "python",
     "metadata": {},
     "outputs": [
      {
       "metadata": {},
       "output_type": "pyout",
       "prompt_number": 29,
       "text": [
        "''"
       ]
      }
     ],
     "prompt_number": 29
    },
    {
     "cell_type": "code",
     "collapsed": false,
     "input": [],
     "language": "python",
     "metadata": {},
     "outputs": []
    }
   ],
   "metadata": {}
  }
 ]
}