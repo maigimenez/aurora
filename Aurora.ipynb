{
 "metadata": {
  "name": ""
 },
 "nbformat": 3,
 "nbformat_minor": 0,
 "worksheets": [
  {
   "cells": [
    {
     "cell_type": "code",
     "collapsed": false,
     "input": [
      "from marvel.marvel import Marvel\n",
      "from marveldev import Developer"
     ],
     "language": "python",
     "metadata": {},
     "outputs": [],
     "prompt_number": 20
    },
    {
     "cell_type": "markdown",
     "metadata": {},
     "source": [
      "Pomemos las credenciales de desarrolladores de marvel  y hacemos una petici\u00f3n. Podemos pedir hasta 100 personajes cada vez"
     ]
    },
    {
     "cell_type": "code",
     "collapsed": false,
     "input": [
      "developer = Developer()\n",
      "m = Marvel(*developer.get_marvel_credentials())"
     ],
     "language": "python",
     "metadata": {},
     "outputs": [],
     "prompt_number": 17
    },
    {
     "cell_type": "code",
     "collapsed": false,
     "input": [
      "character_data_wrapper = m.get_characters(orderBy=\"modified\", limit=\"100\")\n",
      "print(character_data_wrapper.status)"
     ],
     "language": "python",
     "metadata": {},
     "outputs": [
      {
       "output_type": "stream",
       "stream": "stdout",
       "text": [
        "Ok\n"
       ]
      }
     ],
     "prompt_number": 29
    },
    {
     "cell_type": "code",
     "collapsed": false,
     "input": [
      "for character in character_data_wrapper.data.results[:10]:\n",
      "    print(\"* {character.name}: {character.modified_raw}\".format(character=character))"
     ],
     "language": "python",
     "metadata": {},
     "outputs": [
      {
       "output_type": "stream",
       "stream": "stdout",
       "text": [
        "* Spider-Man (Ben Reilly): 2014-03-05T13:48:42-0500\n",
        "* She-Hulk (Ultimate): 2014-03-05T13:47:50-0500\n",
        "* Spider-Man (1602): 2014-03-05T13:47:38-0500\n",
        "* Quicksilver (Ultimate): 2014-03-05T13:43:21-0500\n",
        "* Quicksilver: 2014-03-05T13:43:15-0500\n",
        "* Punisher (2099): 2014-03-05T13:43:05-0500\n",
        "* Nova (Frankie Raye): 2014-03-05T13:43:01-0500\n",
        "* Mr. Fantastic (Ultimate): 2014-03-05T13:42:53-0500\n",
        "* Magneto (Ultimate): 2014-03-05T13:42:37-0500\n",
        "* Magneto (Age of Apocalypse): 2014-03-05T13:40:56-0500\n"
       ]
      }
     ],
     "prompt_number": 50
    },
    {
     "cell_type": "markdown",
     "metadata": {},
     "source": [
      "\u00bfQu\u00e9 podemos saber de cada personaje?"
     ]
    },
    {
     "cell_type": "code",
     "collapsed": false,
     "input": [
      "', '.join([attr for attr in dir(character) if not attr.startswith('_')])"
     ],
     "language": "python",
     "metadata": {},
     "outputs": [
      {
       "metadata": {},
       "output_type": "pyout",
       "prompt_number": 40,
       "text": [
        "'comics, description, detail, dict, events, get_comics, get_events, get_related_resource, get_series, get_stories, id, list_to_instance_list, marvel, modified, modified_raw, name, resourceURI, resource_url, series, stories, thumbnail, to_dict, urls, wiki'"
       ]
      }
     ],
     "prompt_number": 40
    },
    {
     "cell_type": "markdown",
     "metadata": {},
     "source": [
      "Nada parece muy interesante. Pero si exploramos la wiki, vemos que:\n"
     ]
    },
    {
     "cell_type": "code",
     "collapsed": false,
     "input": [
      "from IPython.core.display import HTML\n",
      "HTML(\"<iframe src={} width=900 height=350></iframe>\".format(character_data_wrapper.data.results[0].wiki))"
     ],
     "language": "python",
     "metadata": {},
     "outputs": [
      {
       "html": [
        "<iframe src=http://marvel.com/universe/Spider-Man%20(Ben%20Reilly)?utm_campaign=apiRef&utm_source=28af7c7a8dac2c9156b74ac956598479 width=900 height=350></iframe>"
       ],
       "metadata": {},
       "output_type": "pyout",
       "prompt_number": 53,
       "text": [
        "<IPython.core.display.HTML at 0x7f0a88b57a50>"
       ]
      }
     ],
     "prompt_number": 53
    },
    {
     "cell_type": "markdown",
     "metadata": {},
     "source": [
      "Aqu\u00ed si que hay cosas interesantes! Rasgos f\u00edsicos, ocupaci\u00f3n, educaci\u00f3n... Tiene buena pinta! Scrappemos la wiki!\n",
      "\n",
      "Oh Wait! Alguien nos ha hecho el trabajo\n",
      "#TODO Give credits"
     ]
    },
    {
     "cell_type": "code",
     "collapsed": false,
     "input": [
      "import pandas as pd\n",
      "from os import listdir\n",
      "from os.path import join\n",
      "MARVELOUSDB_PATH = \"../marvelousdb/data/characters/\""
     ],
     "language": "python",
     "metadata": {},
     "outputs": [],
     "prompt_number": 90
    },
    {
     "cell_type": "code",
     "collapsed": false,
     "input": [
      "json_db = [join(MARVELOUSDB_PATH,json_file) for json_file in listdir(MARVELOUSDB_PATH)]"
     ],
     "language": "python",
     "metadata": {},
     "outputs": [],
     "prompt_number": 129
    },
    {
     "cell_type": "code",
     "collapsed": false,
     "input": [
      "import json\n",
      "\n",
      "characters_with_data = []\n",
      "for f in json_db:\n",
      "    d = json.loads(''.join(open(f,'r').readlines()))\n",
      "    if 'wiki' in d.keys() and 'former_members' not in d['wiki'].keys():\n",
      "        characters_with_data.append(d)"
     ],
     "language": "python",
     "metadata": {},
     "outputs": [],
     "prompt_number": 156
    },
    {
     "cell_type": "markdown",
     "metadata": {},
     "source": [
      "\u00a1Los datos son caros! "
     ]
    },
    {
     "cell_type": "code",
     "collapsed": false,
     "input": [
      "print(\"Ten\u00edamos {} y nos quedamos con {}.\"\\\n",
      "      \"Un {:.4f}% menos\".format(len(json_db), len(characters_with_data),\n",
      "                            100-(len(characters_with_data)*100/len(json_db))))"
     ],
     "language": "python",
     "metadata": {},
     "outputs": [
      {
       "output_type": "stream",
       "stream": "stdout",
       "text": [
        "Ten\u00edamos 1402 y nos quedamos con 807.Un 42.4394% menos\n"
       ]
      }
     ],
     "prompt_number": 157
    },
    {
     "cell_type": "code",
     "collapsed": false,
     "input": [
      "characters_with_data[0]['wiki']['categories']"
     ],
     "language": "python",
     "metadata": {},
     "outputs": [
      {
       "metadata": {},
       "output_type": "pyout",
       "prompt_number": 168,
       "text": [
        "['Villains', 'International', 'Deceased']"
       ]
      }
     ],
     "prompt_number": 168
    },
    {
     "cell_type": "code",
     "collapsed": false,
     "input": [
      "pd.DataFrame(characters_with_data[0]['wiki'])"
     ],
     "language": "python",
     "metadata": {},
     "outputs": [
      {
       "html": [
        "<div style=\"max-height:1000px;max-width:1500px;overflow:auto;\">\n",
        "<table border=\"1\" class=\"dataframe\">\n",
        "  <thead>\n",
        "    <tr style=\"text-align: right;\">\n",
        "      <th></th>\n",
        "      <th>abilities</th>\n",
        "      <th>aliases</th>\n",
        "      <th>bio</th>\n",
        "      <th>bio_text</th>\n",
        "      <th>categories</th>\n",
        "      <th>citizenship</th>\n",
        "      <th>debut</th>\n",
        "      <th>education</th>\n",
        "      <th>eyes</th>\n",
        "      <th>groups</th>\n",
        "      <th>...</th>\n",
        "      <th>origin</th>\n",
        "      <th>paraphernalia</th>\n",
        "      <th>place_of_birth</th>\n",
        "      <th>powers</th>\n",
        "      <th>real_name</th>\n",
        "      <th>relatives</th>\n",
        "      <th>significant_issues</th>\n",
        "      <th>universe</th>\n",
        "      <th>weapons</th>\n",
        "      <th>weight</th>\n",
        "    </tr>\n",
        "  </thead>\n",
        "  <tbody>\n",
        "    <tr>\n",
        "      <th>0</th>\n",
        "      <td> Justin Hammer seldom engaged in direct combat,...</td>\n",
        "      <td> None</td>\n",
        "      <td> Justin Hammer was one of the world\u2019s foremost ...</td>\n",
        "      <td> Justin Hammer was one of the world\u2019s foremost ...</td>\n",
        "      <td>      Villains</td>\n",
        "      <td> Citizen of Monaco</td>\n",
        "      <td> Iron Man #120 (1979)</td>\n",
        "      <td> Degree in commerce and business</td>\n",
        "      <td> Blue</td>\n",
        "      <td> Notable agents include, but are not limited to...</td>\n",
        "      <td>...</td>\n",
        "      <td> </td>\n",
        "      <td> None</td>\n",
        "      <td> Surrey, England</td>\n",
        "      <td> None</td>\n",
        "      <td> Justin Hammer</td>\n",
        "      <td> Justine Hammer ([[Crimson Cowl (Justine Hammer...</td>\n",
        "      <td> Frames Iron Man for murder, is tracked by Star...</td>\n",
        "      <td> [[Marvel Universe]]</td>\n",
        "      <td> None</td>\n",
        "      <td> 170 lbs.</td>\n",
        "    </tr>\n",
        "    <tr>\n",
        "      <th>1</th>\n",
        "      <td> Justin Hammer seldom engaged in direct combat,...</td>\n",
        "      <td> None</td>\n",
        "      <td> Justin Hammer was one of the world\u2019s foremost ...</td>\n",
        "      <td> Justin Hammer was one of the world\u2019s foremost ...</td>\n",
        "      <td> International</td>\n",
        "      <td> Citizen of Monaco</td>\n",
        "      <td> Iron Man #120 (1979)</td>\n",
        "      <td> Degree in commerce and business</td>\n",
        "      <td> Blue</td>\n",
        "      <td> Notable agents include, but are not limited to...</td>\n",
        "      <td>...</td>\n",
        "      <td> </td>\n",
        "      <td> None</td>\n",
        "      <td> Surrey, England</td>\n",
        "      <td> None</td>\n",
        "      <td> Justin Hammer</td>\n",
        "      <td> Justine Hammer ([[Crimson Cowl (Justine Hammer...</td>\n",
        "      <td> Frames Iron Man for murder, is tracked by Star...</td>\n",
        "      <td> [[Marvel Universe]]</td>\n",
        "      <td> None</td>\n",
        "      <td> 170 lbs.</td>\n",
        "    </tr>\n",
        "    <tr>\n",
        "      <th>2</th>\n",
        "      <td> Justin Hammer seldom engaged in direct combat,...</td>\n",
        "      <td> None</td>\n",
        "      <td> Justin Hammer was one of the world\u2019s foremost ...</td>\n",
        "      <td> Justin Hammer was one of the world\u2019s foremost ...</td>\n",
        "      <td>      Deceased</td>\n",
        "      <td> Citizen of Monaco</td>\n",
        "      <td> Iron Man #120 (1979)</td>\n",
        "      <td> Degree in commerce and business</td>\n",
        "      <td> Blue</td>\n",
        "      <td> Notable agents include, but are not limited to...</td>\n",
        "      <td>...</td>\n",
        "      <td> </td>\n",
        "      <td> None</td>\n",
        "      <td> Surrey, England</td>\n",
        "      <td> None</td>\n",
        "      <td> Justin Hammer</td>\n",
        "      <td> Justine Hammer ([[Crimson Cowl (Justine Hammer...</td>\n",
        "      <td> Frames Iron Man for murder, is tracked by Star...</td>\n",
        "      <td> [[Marvel Universe]]</td>\n",
        "      <td> None</td>\n",
        "      <td> 170 lbs.</td>\n",
        "    </tr>\n",
        "  </tbody>\n",
        "</table>\n",
        "<p>3 rows \u00d7 25 columns</p>\n",
        "</div>"
       ],
       "metadata": {},
       "output_type": "pyout",
       "prompt_number": 165,
       "text": [
        "                                           abilities aliases  \\\n",
        "0  Justin Hammer seldom engaged in direct combat,...    None   \n",
        "1  Justin Hammer seldom engaged in direct combat,...    None   \n",
        "2  Justin Hammer seldom engaged in direct combat,...    None   \n",
        "\n",
        "                                                 bio  \\\n",
        "0  Justin Hammer was one of the world\u2019s foremost ...   \n",
        "1  Justin Hammer was one of the world\u2019s foremost ...   \n",
        "2  Justin Hammer was one of the world\u2019s foremost ...   \n",
        "\n",
        "                                            bio_text     categories  \\\n",
        "0  Justin Hammer was one of the world\u2019s foremost ...       Villains   \n",
        "1  Justin Hammer was one of the world\u2019s foremost ...  International   \n",
        "2  Justin Hammer was one of the world\u2019s foremost ...       Deceased   \n",
        "\n",
        "         citizenship                 debut                        education  \\\n",
        "0  Citizen of Monaco  Iron Man #120 (1979)  Degree in commerce and business   \n",
        "1  Citizen of Monaco  Iron Man #120 (1979)  Degree in commerce and business   \n",
        "2  Citizen of Monaco  Iron Man #120 (1979)  Degree in commerce and business   \n",
        "\n",
        "   eyes                                             groups  \\\n",
        "0  Blue  Notable agents include, but are not limited to...   \n",
        "1  Blue  Notable agents include, but are not limited to...   \n",
        "2  Blue  Notable agents include, but are not limited to...   \n",
        "\n",
        "                         ...                         origin paraphernalia  \\\n",
        "0                        ...                                         None   \n",
        "1                        ...                                         None   \n",
        "2                        ...                                         None   \n",
        "\n",
        "    place_of_birth powers      real_name  \\\n",
        "0  Surrey, England   None  Justin Hammer   \n",
        "1  Surrey, England   None  Justin Hammer   \n",
        "2  Surrey, England   None  Justin Hammer   \n",
        "\n",
        "                                           relatives  \\\n",
        "0  Justine Hammer ([[Crimson Cowl (Justine Hammer...   \n",
        "1  Justine Hammer ([[Crimson Cowl (Justine Hammer...   \n",
        "2  Justine Hammer ([[Crimson Cowl (Justine Hammer...   \n",
        "\n",
        "                                  significant_issues             universe  \\\n",
        "0  Frames Iron Man for murder, is tracked by Star...  [[Marvel Universe]]   \n",
        "1  Frames Iron Man for murder, is tracked by Star...  [[Marvel Universe]]   \n",
        "2  Frames Iron Man for murder, is tracked by Star...  [[Marvel Universe]]   \n",
        "\n",
        "  weapons    weight  \n",
        "0    None  170 lbs.  \n",
        "1    None  170 lbs.  \n",
        "2    None  170 lbs.  \n",
        "\n",
        "[3 rows x 25 columns]"
       ]
      }
     ],
     "prompt_number": 165
    },
    {
     "cell_type": "code",
     "collapsed": false,
     "input": [
      "pd.DataFrame(characters_with_data[10]['wiki']\n",
      "             "
     ],
     "language": "python",
     "metadata": {},
     "outputs": [
      {
       "html": [
        "<div style=\"max-height:1000px;max-width:1500px;overflow:auto;\">\n",
        "<table border=\"1\" class=\"dataframe\">\n",
        "  <thead>\n",
        "    <tr style=\"text-align: right;\">\n",
        "      <th></th>\n",
        "      <th>abilities</th>\n",
        "      <th>aliases</th>\n",
        "      <th>bio</th>\n",
        "      <th>bio_text</th>\n",
        "      <th>blurb</th>\n",
        "      <th>categories</th>\n",
        "      <th>citizenship</th>\n",
        "      <th>debut</th>\n",
        "      <th>education</th>\n",
        "      <th>eyes</th>\n",
        "      <th>...</th>\n",
        "      <th>origin</th>\n",
        "      <th>paraphernalia</th>\n",
        "      <th>place_of_birth</th>\n",
        "      <th>powers</th>\n",
        "      <th>real_name</th>\n",
        "      <th>relatives</th>\n",
        "      <th>significant_issues</th>\n",
        "      <th>universe</th>\n",
        "      <th>weapons</th>\n",
        "      <th>weight</th>\n",
        "    </tr>\n",
        "  </thead>\n",
        "  <tbody>\n",
        "    <tr>\n",
        "      <th>0</th>\n",
        "      <td> </td>\n",
        "      <td> Tyranus</td>\n",
        "      <td> For more than a century, Romulus has been obse...</td>\n",
        "      <td> For more than a century, Romulus has been obse...</td>\n",
        "      <td> </td>\n",
        "      <td> Villains</td>\n",
        "      <td> Unrevealed</td>\n",
        "      <td> Wolverine #50 (2007)</td>\n",
        "      <td> Unrevealed, possible knowledge of genetics.</td>\n",
        "      <td> Brown</td>\n",
        "      <td>...</td>\n",
        "      <td> </td>\n",
        "      <td> </td>\n",
        "      <td> Unrevealed</td>\n",
        "      <td> </td>\n",
        "      <td> Romulus</td>\n",
        "      <td> None</td>\n",
        "      <td> </td>\n",
        "      <td> [[Marvel Universe]]</td>\n",
        "      <td> Romulus is an expert swordsman and has been se...</td>\n",
        "      <td> Unrevealed</td>\n",
        "    </tr>\n",
        "  </tbody>\n",
        "</table>\n",
        "<p>1 rows \u00d7 26 columns</p>\n",
        "</div>"
       ],
       "metadata": {},
       "output_type": "pyout",
       "prompt_number": 155,
       "text": [
        "  abilities  aliases                                                bio  \\\n",
        "0            Tyranus  For more than a century, Romulus has been obse...   \n",
        "\n",
        "                                            bio_text blurb categories  \\\n",
        "0  For more than a century, Romulus has been obse...         Villains   \n",
        "\n",
        "  citizenship                 debut  \\\n",
        "0  Unrevealed  Wolverine #50 (2007)   \n",
        "\n",
        "                                     education   eyes  ...   origin  \\\n",
        "0  Unrevealed, possible knowledge of genetics.  Brown  ...            \n",
        "\n",
        "  paraphernalia place_of_birth powers real_name relatives significant_issues  \\\n",
        "0                   Unrevealed          Romulus      None                      \n",
        "\n",
        "              universe                                            weapons  \\\n",
        "0  [[Marvel Universe]]  Romulus is an expert swordsman and has been se...   \n",
        "\n",
        "       weight  \n",
        "0  Unrevealed  \n",
        "\n",
        "[1 rows x 26 columns]"
       ]
      }
     ],
     "prompt_number": 155
    },
    {
     "cell_type": "code",
     "collapsed": false,
     "input": [
      "character_data_wrapper = m.get_characters(orderBy=\"-modified\", limit=\"100\",offset=\"100\")\n",
      "print(character_data_wrapper.status)\n"
     ],
     "language": "python",
     "metadata": {},
     "outputs": [
      {
       "output_type": "stream",
       "stream": "stdout",
       "text": [
        "Ok\n"
       ]
      }
     ],
     "prompt_number": 31
    },
    {
     "cell_type": "code",
     "collapsed": false,
     "input": [
      "from urllib.request import urlopen\n"
     ],
     "language": "python",
     "metadata": {},
     "outputs": []
    },
    {
     "cell_type": "code",
     "collapsed": false,
     "input": [
      "html = urlopen(\"http://www.comicvine.com/api\")\n",
      "print(html)"
     ],
     "language": "python",
     "metadata": {},
     "outputs": []
    },
    {
     "cell_type": "code",
     "collapsed": false,
     "input": [
      "character.dict.keys()"
     ],
     "language": "python",
     "metadata": {},
     "outputs": []
    },
    {
     "cell_type": "code",
     "collapsed": false,
     "input": [],
     "language": "python",
     "metadata": {},
     "outputs": []
    }
   ],
   "metadata": {}
  }
 ]
}