{
 "metadata": {
  "name": "",
  "signature": "sha256:6b8ae5325b2d44bd77b36718ca2cd17ae6a7cf0fd6b4b86f7c96aef59e2f0029"
 },
 "nbformat": 3,
 "nbformat_minor": 0,
 "worksheets": [
  {
   "cells": [
    {
     "cell_type": "code",
     "collapsed": false,
     "input": [
      "from marvel.marvel import Marvel\n",
      "from marveldev import Developer"
     ],
     "language": "python",
     "metadata": {},
     "outputs": [],
     "prompt_number": 1
    },
    {
     "cell_type": "markdown",
     "metadata": {},
     "source": [
      "Pomemos las credenciales de desarrolladores de marvel  y hacemos una petici\u00f3n. Podemos pedir hasta 100 personajes cada vez"
     ]
    },
    {
     "cell_type": "code",
     "collapsed": false,
     "input": [
      "developer = Developer()\n",
      "m = Marvel(*developer.get_marvel_credentials())"
     ],
     "language": "python",
     "metadata": {},
     "outputs": [],
     "prompt_number": 2
    },
    {
     "cell_type": "code",
     "collapsed": false,
     "input": [
      "character_data_wrapper = m.get_characters(orderBy=\"-modified\", limit=\"100\")\n",
      "print(character_data_wrapper.status)"
     ],
     "language": "python",
     "metadata": {},
     "outputs": [
      {
       "output_type": "stream",
       "stream": "stdout",
       "text": [
        "Ok\n"
       ]
      }
     ],
     "prompt_number": 3
    },
    {
     "cell_type": "code",
     "collapsed": false,
     "input": [
      "for character in character_data_wrapper.data.results[:10]:\n",
      "    print(\"* {character.name}: {character.modified_raw}\".format(character=character))"
     ],
     "language": "python",
     "metadata": {},
     "outputs": [
      {
       "output_type": "stream",
       "stream": "stdout",
       "text": [
        "* New Mutants: 2014-08-12T12:59:29-0400\n",
        "* Black Widow: 2014-07-26T16:02:35-0400\n",
        "* Cosmo (dog): 2014-07-24T15:14:21-0400\n",
        "* Rocket Raccoon: 2014-07-17T17:32:43-0400\n",
        "* Ronan: 2014-07-17T16:45:26-0400\n",
        "* Star-Lord (Peter Quill): 2014-07-14T20:45:53-0400\n",
        "* Captain Marvel (Carol Danvers): 2014-07-08T18:17:18-0400\n",
        "* Toad: 2014-06-27T11:37:47-0400\n",
        "* Deathlok: 2014-06-20T14:45:18-0400\n",
        "* Medusa: 2014-06-18T13:02:36-0400\n"
       ]
      }
     ],
     "prompt_number": 4
    },
    {
     "cell_type": "markdown",
     "metadata": {},
     "source": [
      "\u00bfQu\u00e9 podemos saber de cada personaje?"
     ]
    },
    {
     "cell_type": "code",
     "collapsed": false,
     "input": [
      "', '.join([attr for attr in dir(character) if not attr.startswith('_')])"
     ],
     "language": "python",
     "metadata": {},
     "outputs": [
      {
       "metadata": {},
       "output_type": "pyout",
       "prompt_number": 5,
       "text": [
        "'comics, description, detail, dict, events, get_comics, get_events, get_related_resource, get_series, get_stories, id, list_to_instance_list, marvel, modified, modified_raw, name, resourceURI, resource_url, series, stories, thumbnail, to_dict, urls, wiki'"
       ]
      }
     ],
     "prompt_number": 5
    },
    {
     "cell_type": "markdown",
     "metadata": {},
     "source": [
      "Nada parece muy interesante. Pero si exploramos la wiki, vemos que:\n"
     ]
    },
    {
     "cell_type": "code",
     "collapsed": false,
     "input": [
      "from IPython.core.display import HTML\n",
      "HTML(\"<iframe src={} width=900 height=600></iframe>\".format(character_data_wrapper.data.results[1].wiki))"
     ],
     "language": "python",
     "metadata": {},
     "outputs": [
      {
       "html": [
        "<iframe src=http://marvel.com/universe/Black_Widow_(Natasha_Romanova)?utm_campaign=apiRef&utm_source=28af7c7a8dac2c9156b74ac956598479 width=900 height=600></iframe>"
       ],
       "metadata": {},
       "output_type": "pyout",
       "prompt_number": 8,
       "text": [
        "<IPython.core.display.HTML at 0x7f8b5ffe4bd0>"
       ]
      }
     ],
     "prompt_number": 8
    },
    {
     "cell_type": "markdown",
     "metadata": {},
     "source": [
      "Aqu\u00ed si que hay cosas interesantes! Rasgos f\u00edsicos, ocupaci\u00f3n, educaci\u00f3n... Tiene buena pinta! Scrappemos la wiki!\n",
      "\n",
      "Oh Wait! Alguien nos ha hecho el trabajo\n",
      "#TODO Give credits"
     ]
    },
    {
     "cell_type": "code",
     "collapsed": false,
     "input": [
      "import pandas as pd\n",
      "from os import listdir\n",
      "from os.path import join\n",
      "MARVELOUSDB_PATH = \"../marvelousdb/data/characters/\""
     ],
     "language": "python",
     "metadata": {},
     "outputs": [],
     "prompt_number": 9
    },
    {
     "cell_type": "code",
     "collapsed": false,
     "input": [
      "json_db = [join(MARVELOUSDB_PATH,json_file) for json_file in listdir(MARVELOUSDB_PATH)]"
     ],
     "language": "python",
     "metadata": {},
     "outputs": [],
     "prompt_number": 10
    },
    {
     "cell_type": "code",
     "collapsed": false,
     "input": [
      "import json\n",
      "\n",
      "characters_with_data = []\n",
      "for f in json_db:\n",
      "    d = json.loads(''.join(open(f,'r').readlines()))\n",
      "    if 'wiki' in d.keys():\n",
      "        if 'former_members' not in d['wiki'].keys():\n",
      "            if isinstance(d['name'], str):\n",
      "                characters_with_data.append(d)"
     ],
     "language": "python",
     "metadata": {},
     "outputs": [],
     "prompt_number": 11
    },
    {
     "cell_type": "markdown",
     "metadata": {},
     "source": [
      "\u00a1Los datos son caros! "
     ]
    },
    {
     "cell_type": "code",
     "collapsed": false,
     "input": [
      "num_characters = len(json_db)\n",
      "num_characters_with_wiki = len(characters_with_data)\n",
      "print(\"Ten\u00edamos {} y nos quedamos con {}.\"\\\n",
      "      \" Un {:.4f}% menos\".format(num_characters, num_characters_with_wiki,\n",
      "                            100-(num_characters_with_wiki*100/num_characters)))"
     ],
     "language": "python",
     "metadata": {},
     "outputs": [
      {
       "output_type": "stream",
       "stream": "stdout",
       "text": [
        "Ten\u00edamos 1402 y nos quedamos con 807. Un 42.4394% menos\n"
       ]
      }
     ],
     "prompt_number": 12
    },
    {
     "cell_type": "code",
     "collapsed": false,
     "input": [
      "for c in characters_with_data[:10]:\n",
      "    if 'categories' in c['wiki'].keys() and c['wiki']['categories']:\n",
      "        print(\"- {0}:\\n  {1}{2}\\n\".format(c['name'], \n",
      "                                    \", \".join(c['wiki']['categories']), \n",
      "                                    \"(*)\" if \"Women\" in c['wiki']['categories'] else \"\"))"
     ],
     "language": "python",
     "metadata": {},
     "outputs": [
      {
       "output_type": "stream",
       "stream": "stdout",
       "text": [
        "- Justin Hammer:\n",
        "  Villains, International, Deceased\n",
        "\n",
        "- Hawkeye (Kate Bishop):\n",
        "  Women, Avengers, Heroes, Civil War(*)\n",
        "\n",
        "- Super-Adaptoid:\n",
        "  Annihilation, Avengers, Cosmic, Fantastic Four, Marvel Knights, Thunderbolts, Villains, X-Men\n",
        "\n",
        "- She-Hulk (Jennifer Walters):\n",
        "  Women, Heroes, Hulk, Civil War, Avengers, Fantastic Four, Initiative(*)\n",
        "\n",
        "- Viper:\n",
        "  People, Women, International, Villains(*)\n",
        "\n",
        "- Namora:\n",
        "  Exiles, Women, Deceased(*)\n",
        "\n",
        "- Zuras:\n",
        "  Avengers, Cosmic, Civil War, Heroes\n",
        "\n",
        "- Fat Cobra:\n",
        "  Heroes\n",
        "\n",
        "- Romulus:\n",
        "  Villains\n",
        "\n",
        "- Rachel Grey:\n",
        "  X-Men, Women, Heroes, Mutants, Cosmic(*)\n",
        "\n"
       ]
      }
     ],
     "prompt_number": 30
    },
    {
     "cell_type": "markdown",
     "metadata": {},
     "source": [
      "En la wiki de Marvel, tiene una categoria \"Mujeres\", podemos utilizar esta informaci\u00f3n para etiquetar a los personajes. Vale, vamos a ver que datos tenemos en la wiki, que junto con los datos de la API nos permitir\u00e1 empezar a jugar con los datos."
     ]
    },
    {
     "cell_type": "code",
     "collapsed": false,
     "input": [
      "print(\"- Informaci\u00f3n de la wiki: {0}\".format(', '.join(characters_with_data[0]['wiki'].keys())))"
     ],
     "language": "python",
     "metadata": {},
     "outputs": [
      {
       "output_type": "stream",
       "stream": "stdout",
       "text": [
        "- Informaci\u00f3n de la wiki: hair, groups, abilities, education, weapons, main_image, weight, height, debut, bio, paraphernalia, eyes, relatives, occupation, citizenship, identity, universe, aliases, bio_text, origin, place_of_birth, categories, real_name, powers, significant_issues\n"
       ]
      }
     ],
     "prompt_number": 35
    },
    {
     "cell_type": "code",
     "collapsed": false,
     "input": [
      "print(\"- Informaci\u00f3n de la API: {0}\".format(', '.join(characters_with_data[0].keys())))"
     ],
     "language": "python",
     "metadata": {},
     "outputs": [
      {
       "output_type": "stream",
       "stream": "stdout",
       "text": [
        "- Informaci\u00f3n de la API: events, comics, urls, stories, thumbnail, id, modified, name, resourceURI, series, description, wiki\n"
       ]
      }
     ],
     "prompt_number": 36
    },
    {
     "cell_type": "code",
     "collapsed": false,
     "input": [
      "pd.DataFrame(characters_with_data[5]['wiki'])"
     ],
     "language": "python",
     "metadata": {},
     "outputs": [
      {
       "html": [
        "<div style=\"max-height:1000px;max-width:1500px;overflow:auto;\">\n",
        "<table border=\"1\" class=\"dataframe\">\n",
        "  <thead>\n",
        "    <tr style=\"text-align: right;\">\n",
        "      <th></th>\n",
        "      <th>abilities</th>\n",
        "      <th>aliases</th>\n",
        "      <th>bio</th>\n",
        "      <th>bio_text</th>\n",
        "      <th>categories</th>\n",
        "      <th>citizenship</th>\n",
        "      <th>debut</th>\n",
        "      <th>dstinguishing_features</th>\n",
        "      <th>education</th>\n",
        "      <th>eyes</th>\n",
        "      <th>...</th>\n",
        "      <th>origin</th>\n",
        "      <th>paraphernalia</th>\n",
        "      <th>place_of_birth</th>\n",
        "      <th>powers</th>\n",
        "      <th>real_name</th>\n",
        "      <th>relatives</th>\n",
        "      <th>special_limitations</th>\n",
        "      <th>universe</th>\n",
        "      <th>weapons</th>\n",
        "      <th>weight</th>\n",
        "    </tr>\n",
        "  </thead>\n",
        "  <tbody>\n",
        "    <tr>\n",
        "      <th>0</th>\n",
        "      <td> </td>\n",
        "      <td> Queen Namora</td>\n",
        "      <td> Namora was born in the kingdom of Atlantis, de...</td>\n",
        "      <td> Namora was born in the kingdom of Atlantis, de...</td>\n",
        "      <td>   Exiles</td>\n",
        "      <td> Royal family of Atlantis</td>\n",
        "      <td> Exiles #46 (2004)</td>\n",
        "      <td> Namora had pointed ears, blue skin and wings o...</td>\n",
        "      <td> None</td>\n",
        "      <td> Blue</td>\n",
        "      <td>...</td>\n",
        "      <td> </td>\n",
        "      <td> </td>\n",
        "      <td> Atlantic Ocean</td>\n",
        "      <td> Namora is a mutant amphibian who can breathe i...</td>\n",
        "      <td> Namora</td>\n",
        "      <td> None</td>\n",
        "      <td> Namora may need to submerge herself in water a...</td>\n",
        "      <td> [[Earth-2189]]</td>\n",
        "      <td> </td>\n",
        "      <td> 145 lbs.</td>\n",
        "    </tr>\n",
        "    <tr>\n",
        "      <th>1</th>\n",
        "      <td> </td>\n",
        "      <td> Queen Namora</td>\n",
        "      <td> Namora was born in the kingdom of Atlantis, de...</td>\n",
        "      <td> Namora was born in the kingdom of Atlantis, de...</td>\n",
        "      <td>    Women</td>\n",
        "      <td> Royal family of Atlantis</td>\n",
        "      <td> Exiles #46 (2004)</td>\n",
        "      <td> Namora had pointed ears, blue skin and wings o...</td>\n",
        "      <td> None</td>\n",
        "      <td> Blue</td>\n",
        "      <td>...</td>\n",
        "      <td> </td>\n",
        "      <td> </td>\n",
        "      <td> Atlantic Ocean</td>\n",
        "      <td> Namora is a mutant amphibian who can breathe i...</td>\n",
        "      <td> Namora</td>\n",
        "      <td> None</td>\n",
        "      <td> Namora may need to submerge herself in water a...</td>\n",
        "      <td> [[Earth-2189]]</td>\n",
        "      <td> </td>\n",
        "      <td> 145 lbs.</td>\n",
        "    </tr>\n",
        "    <tr>\n",
        "      <th>2</th>\n",
        "      <td> </td>\n",
        "      <td> Queen Namora</td>\n",
        "      <td> Namora was born in the kingdom of Atlantis, de...</td>\n",
        "      <td> Namora was born in the kingdom of Atlantis, de...</td>\n",
        "      <td> Deceased</td>\n",
        "      <td> Royal family of Atlantis</td>\n",
        "      <td> Exiles #46 (2004)</td>\n",
        "      <td> Namora had pointed ears, blue skin and wings o...</td>\n",
        "      <td> None</td>\n",
        "      <td> Blue</td>\n",
        "      <td>...</td>\n",
        "      <td> </td>\n",
        "      <td> </td>\n",
        "      <td> Atlantic Ocean</td>\n",
        "      <td> Namora is a mutant amphibian who can breathe i...</td>\n",
        "      <td> Namora</td>\n",
        "      <td> None</td>\n",
        "      <td> Namora may need to submerge herself in water a...</td>\n",
        "      <td> [[Earth-2189]]</td>\n",
        "      <td> </td>\n",
        "      <td> 145 lbs.</td>\n",
        "    </tr>\n",
        "  </tbody>\n",
        "</table>\n",
        "<p>3 rows \u00d7 26 columns</p>\n",
        "</div>"
       ],
       "metadata": {},
       "output_type": "pyout",
       "prompt_number": 31,
       "text": [
        "  abilities       aliases                                                bio  \\\n",
        "0            Queen Namora  Namora was born in the kingdom of Atlantis, de...   \n",
        "1            Queen Namora  Namora was born in the kingdom of Atlantis, de...   \n",
        "2            Queen Namora  Namora was born in the kingdom of Atlantis, de...   \n",
        "\n",
        "                                            bio_text categories  \\\n",
        "0  Namora was born in the kingdom of Atlantis, de...     Exiles   \n",
        "1  Namora was born in the kingdom of Atlantis, de...      Women   \n",
        "2  Namora was born in the kingdom of Atlantis, de...   Deceased   \n",
        "\n",
        "                citizenship              debut  \\\n",
        "0  Royal family of Atlantis  Exiles #46 (2004)   \n",
        "1  Royal family of Atlantis  Exiles #46 (2004)   \n",
        "2  Royal family of Atlantis  Exiles #46 (2004)   \n",
        "\n",
        "                              dstinguishing_features education  eyes  ...   \\\n",
        "0  Namora had pointed ears, blue skin and wings o...      None  Blue  ...    \n",
        "1  Namora had pointed ears, blue skin and wings o...      None  Blue  ...    \n",
        "2  Namora had pointed ears, blue skin and wings o...      None  Blue  ...    \n",
        "\n",
        "  origin paraphernalia  place_of_birth  \\\n",
        "0                       Atlantic Ocean   \n",
        "1                       Atlantic Ocean   \n",
        "2                       Atlantic Ocean   \n",
        "\n",
        "                                              powers real_name relatives  \\\n",
        "0  Namora is a mutant amphibian who can breathe i...    Namora      None   \n",
        "1  Namora is a mutant amphibian who can breathe i...    Namora      None   \n",
        "2  Namora is a mutant amphibian who can breathe i...    Namora      None   \n",
        "\n",
        "                                 special_limitations        universe weapons  \\\n",
        "0  Namora may need to submerge herself in water a...  [[Earth-2189]]           \n",
        "1  Namora may need to submerge herself in water a...  [[Earth-2189]]           \n",
        "2  Namora may need to submerge herself in water a...  [[Earth-2189]]           \n",
        "\n",
        "     weight  \n",
        "0  145 lbs.  \n",
        "1  145 lbs.  \n",
        "2  145 lbs.  \n",
        "\n",
        "[3 rows x 26 columns]"
       ]
      }
     ],
     "prompt_number": 31
    },
    {
     "cell_type": "heading",
     "level": 2,
     "metadata": {},
     "source": [
      "Secci\u00f3n que se usa la api de comic vine. "
     ]
    },
    {
     "cell_type": "markdown",
     "metadata": {},
     "source": [
      "Es un poco complicada y puede ser que solo con los datos de la api de Marvel y su Wiki podemos accdeder a informaci\u00f3n suficiente para esta charla"
     ]
    },
    {
     "cell_type": "code",
     "collapsed": false,
     "input": [
      "for c in characters_with_data[50:70]:\n",
      "    print(c['name'])"
     ],
     "language": "python",
     "metadata": {},
     "outputs": [
      {
       "output_type": "stream",
       "stream": "stdout",
       "text": [
        "Captain Britain\n",
        "Captain Marvel (Mar-Vell)\n",
        "Captain Stacy\n",
        "Cargill\n",
        "Carnage\n",
        "Sharon Carter\n",
        "Catseye\n",
        "Cerebro\n",
        "Ch'od\n",
        "Chamber\n",
        "Chameleon\n",
        "Lila Cheney\n",
        "Chimera\n",
        "Clea\n",
        "Cloak\n",
        "Malcolm Colcord\n",
        "Colossus\n",
        "Constrictor\n",
        "Corsair\n",
        "Fabian Cortez\n"
       ]
      }
     ],
     "prompt_number": 241
    },
    {
     "cell_type": "markdown",
     "metadata": {},
     "source": [
      "Entre par\u00e9ntesis pude estar su nombre real o el universo ?\n",
      "\n",
      "\u00a1Genial! Toca buscar con cuidado"
     ]
    },
    {
     "cell_type": "code",
     "collapsed": false,
     "input": [
      "from urllib.request import urlopen, HTTPError\n",
      "from urllib.parse import urlencode\n",
      "COMIC_VINE_URL = \"http://www.comicvine.com/api\"\n",
      "METHOD = \"search\""
     ],
     "language": "python",
     "metadata": {},
     "outputs": [],
     "prompt_number": 205
    },
    {
     "cell_type": "code",
     "collapsed": false,
     "input": [
      "for c in characters_with_data[11:20]:\n",
      "    print(c['name'])"
     ],
     "language": "python",
     "metadata": {},
     "outputs": [
      {
       "output_type": "stream",
       "stream": "stdout",
       "text": [
        "Avalanche\n",
        "Banshee\n",
        "Baron Strucker\n",
        "Baron Zemo (Heinrich Zemo)\n",
        "Bastion\n",
        "Batroc the Leaper\n",
        "Battering Ram\n",
        "Beak\n",
        "Beast\n"
       ]
      }
     ],
     "prompt_number": 181
    },
    {
     "cell_type": "code",
     "collapsed": false,
     "input": [
      "import distance\n",
      "import re"
     ],
     "language": "python",
     "metadata": {},
     "outputs": [],
     "prompt_number": 83
    },
    {
     "cell_type": "code",
     "collapsed": false,
     "input": [
      "THR = 0.25\n",
      "\n",
      "def is_this_character(name, disamb_name, result):\n",
      "    #print(int(len(disamb_name)*THR),\",\", distance.levenshtein(disamb_name, result['real_name']), \"-> \", \n",
      "    #      distance.levenshtein(disamb_name, result['real_name']) < int(len(disamb_name)*THR))\n",
      "    \n",
      "    # If Marvel's name matches with real name or name in comic vine db and its alias matches too.\n",
      "    if name in [result['real_name'], result['name']]:\n",
      "        if result['aliases'] and disamb_name:\n",
      "            aliases = result['aliases'].split()\n",
      "            if name in aliases or disamb_name in aliases:\n",
      "                return True\n",
      "        \n",
      "    # If name between brackets match real name.\n",
      "    elif disamb_name == result['real_name']:\n",
      "        return True\n",
      "    # If name between brackets looks like a real name.\n",
      "    elif distance.levenshtein(disamb_name, result['real_name']) < int(len(disamb_name)*THR):\n",
      "        return True\n",
      "    \n",
      "    # There isn't a match\n",
      "    else:\n",
      "        return False"
     ],
     "language": "python",
     "metadata": {},
     "outputs": [],
     "prompt_number": 182
    },
    {
     "cell_type": "code",
     "collapsed": false,
     "input": [
      "#Generos: 0 es otro, 1 hombre y 2 mujer\n",
      "genders = {0:('O','Other'), 1:('M','Male'), 2:('F','Female')}\n",
      "\n",
      "def get_gender(character):\n",
      "    try:\n",
      "        return genders[result['gender']][1]\n",
      "    except KeyError:\n",
      "        return None"
     ],
     "language": "python",
     "metadata": {},
     "outputs": [],
     "prompt_number": 183
    },
    {
     "cell_type": "code",
     "collapsed": false,
     "input": [
      "comicVine_genders = {0:0, 1:0, 2:0}\n",
      "\n",
      "for c in characters_with_data:\n",
      "    try:\n",
      "        c_name = re.sub(\"[\\(\\[].*?[\\)\\]]\", \"\", c['name']).rstrip()\n",
      "        values = {'api_key' : developer.get_comicvine_credentials(),\n",
      "                      'format' : 'json',\n",
      "                      'resources' : 'character',\n",
      "                      'limit':'20',\n",
      "                      'query':  c_name}\n",
      "\n",
      "        data = urlencode(values)\n",
      "        full_url = \"http://www.comicvine.com/api/search/\" + '?' + data\n",
      "        \n",
      "        try:\n",
      "            response = urlopen(full_url)\n",
      "\n",
      "            str_response = response.readall().decode('utf-8')\n",
      "            obj = json.loads(str_response)\n",
      "\n",
      "            m = re.search('\\((.*?)\\)', c['name'])\n",
      "            if m:\n",
      "                disamb =  m.group(1)\n",
      "                    #print(\"Con par\u00e9ntesis: \", m.group(1), \" \", len(obj['results']))\n",
      "\n",
      "                #print(disamb, \"- \", c_name)\n",
      "            without_data = True\n",
      "                #Find the right one\n",
      "            for result in obj['results']:\n",
      "                    # TODO: clean this up. There is an idiomatic way to do it\n",
      "                if 'publisher' in result.keys() and result['publisher']:\n",
      "                    if result['publisher']['name'] == 'Marvel':\n",
      "\n",
      "                        if not m:\n",
      "                            without_data = False\n",
      "                                #print(\"* \", c['name'], \"-\", result['name'], \":\", genders[result['gender']][1])\n",
      "                                #print(c['wiki']['categories'])\n",
      "                            break\n",
      "                        else:\n",
      "                                #print(\"* \", c_name, \",\", disamb, \"-\", result['real_name'], \"-\", result['name'],\n",
      "                                #      \"-> distance: \", distance.levenshtein(disamb, result['real_name']))\n",
      "                            if is_this_character(c_name, disamb, result):\n",
      "                                without_data = False\n",
      "                                break\n",
      "\n",
      "            if not without_data and get_gender(result):\n",
      "                print(\"- \", c['name'], \"-\", result['name'], \":\", genders[result['gender']][1])\n",
      "                comicVine_genders[result['gender']] += 1\n",
      "                    #print (marvel_genders, \" - \", comicVine_genders)\n",
      "\n",
      "            else:\n",
      "                print (\"*** Remove this character \", c['name'])\n",
      "        \n",
      "        except (HTTPError):\n",
      "            print (\"****** Remove this character \", c['name'])\n",
      "            \n",
      "    except (KeyError, TypeError):    \n",
      "        pass\n",
      "    "
     ],
     "language": "python",
     "metadata": {},
     "outputs": [
      {
       "output_type": "stream",
       "stream": "stdout",
       "text": [
        "*** Remove this character  Abomination (Emil Blonsky)\n",
        "- "
       ]
      },
      {
       "output_type": "stream",
       "stream": "stdout",
       "text": [
        " Absorbing Man - Absorbing Man : Male\n",
        "- "
       ]
      },
      {
       "output_type": "stream",
       "stream": "stdout",
       "text": [
        " Abyss - Abyss : Other\n",
        "- "
       ]
      },
      {
       "output_type": "stream",
       "stream": "stdout",
       "text": [
        " Agent Zero - Maverick : Male\n",
        "- "
       ]
      },
      {
       "output_type": "stream",
       "stream": "stdout",
       "text": [
        " Amiko - Amiko Kobayashi : Female\n",
        "- "
       ]
      },
      {
       "output_type": "stream",
       "stream": "stdout",
       "text": [
        " Annihilus - Annihilus : Male\n",
        "- "
       ]
      },
      {
       "output_type": "stream",
       "stream": "stdout",
       "text": [
        " Apocalypse - Apocalypse : Male\n",
        "*** Remove this character "
       ]
      },
      {
       "output_type": "stream",
       "stream": "stdout",
       "text": [
        " Spider-Girl (Anya Corazon)\n",
        "- "
       ]
      },
      {
       "output_type": "stream",
       "stream": "stdout",
       "text": [
        " Arcade - Arcade : Male\n",
        "- "
       ]
      },
      {
       "output_type": "stream",
       "stream": "stdout",
       "text": [
        " Archangel - Lil' Archangel : Other\n",
        "- "
       ]
      },
      {
       "output_type": "stream",
       "stream": "stdout",
       "text": [
        " Arclight - Arclight : Female\n",
        "- "
       ]
      },
      {
       "output_type": "stream",
       "stream": "stdout",
       "text": [
        " Aurora - Aurora : Female\n",
        "- "
       ]
      },
      {
       "output_type": "stream",
       "stream": "stdout",
       "text": [
        " Avalanche - Avalanche : Male\n",
        "- "
       ]
      },
      {
       "output_type": "stream",
       "stream": "stdout",
       "text": [
        " Banshee - Banshee : Other\n",
        "- "
       ]
      },
      {
       "output_type": "stream",
       "stream": "stdout",
       "text": [
        " Baron Strucker - Baron von Strucker : Male\n",
        "- "
       ]
      },
      {
       "output_type": "stream",
       "stream": "stdout",
       "text": [
        " Baron Zemo (Heinrich Zemo) - Baron Heinrich Zemo : Male\n",
        "- "
       ]
      },
      {
       "output_type": "stream",
       "stream": "stdout",
       "text": [
        " Bastion - Bastion : Male\n",
        "- "
       ]
      },
      {
       "output_type": "stream",
       "stream": "stdout",
       "text": [
        " Batroc the Leaper - Batroc : Male\n",
        "- "
       ]
      },
      {
       "output_type": "stream",
       "stream": "stdout",
       "text": [
        " Battering Ram - Battering Ram : Male\n",
        "- "
       ]
      },
      {
       "output_type": "stream",
       "stream": "stdout",
       "text": [
        " Beak - Beak : Male\n",
        "- "
       ]
      },
      {
       "output_type": "stream",
       "stream": "stdout",
       "text": [
        " Beast - Beast : Male\n",
        "- "
       ]
      },
      {
       "output_type": "stream",
       "stream": "stdout",
       "text": [
        " Beef - Beef : Male\n",
        "- "
       ]
      },
      {
       "output_type": "stream",
       "stream": "stdout",
       "text": [
        " Beta-Ray Bill - Beta Ray Bill : Male\n",
        "- "
       ]
      },
      {
       "output_type": "stream",
       "stream": "stdout",
       "text": [
        " Big Wheel - Big Wheel : Male\n",
        "- "
       ]
      },
      {
       "output_type": "stream",
       "stream": "stdout",
       "text": [
        " Bishop - Bishop : Male\n",
        "- "
       ]
      },
      {
       "output_type": "stream",
       "stream": "stdout",
       "text": [
        " Black Bolt - Black Bolt : Male\n",
        "- "
       ]
      },
      {
       "output_type": "stream",
       "stream": "stdout",
       "text": [
        " Black Cat - Black Cat : Female\n",
        "- "
       ]
      },
      {
       "output_type": "stream",
       "stream": "stdout",
       "text": [
        " Black Knight - Black Knight : Female\n",
        "- "
       ]
      },
      {
       "output_type": "stream",
       "stream": "stdout",
       "text": [
        " Black Panther - Black Panther : Male\n",
        "- "
       ]
      },
      {
       "output_type": "stream",
       "stream": "stdout",
       "text": [
        " Black Tom - Black Tom Cassidy : Male\n",
        "- "
       ]
      },
      {
       "output_type": "stream",
       "stream": "stdout",
       "text": [
        " Black Widow - Black Widow : Female\n",
        "- "
       ]
      },
      {
       "output_type": "stream",
       "stream": "stdout",
       "text": [
        " Blackheart - Blackheart : Male\n",
        "- "
       ]
      },
      {
       "output_type": "stream",
       "stream": "stdout",
       "text": [
        " Blade - Blade : Male\n",
        "- "
       ]
      },
      {
       "output_type": "stream",
       "stream": "stdout",
       "text": [
        " Blastaar - Blastaar : Male\n",
        "- "
       ]
      },
      {
       "output_type": "stream",
       "stream": "stdout",
       "text": [
        " Blink - Blink : Female\n",
        "- "
       ]
      },
      {
       "output_type": "stream",
       "stream": "stdout",
       "text": [
        " Blizzard - Blizzard : Male\n",
        "- "
       ]
      },
      {
       "output_type": "stream",
       "stream": "stdout",
       "text": [
        " Blob - Blob : Male\n",
        "- "
       ]
      },
      {
       "output_type": "stream",
       "stream": "stdout",
       "text": [
        " Blockbuster - Blockbuster : Male\n",
        "- "
       ]
      },
      {
       "output_type": "stream",
       "stream": "stdout",
       "text": [
        " Bloke - Bloke : Male\n",
        "- "
       ]
      },
      {
       "output_type": "stream",
       "stream": "stdout",
       "text": [
        " Bloodscream - Bloodscream : Male\n",
        "- "
       ]
      },
      {
       "output_type": "stream",
       "stream": "stdout",
       "text": [
        " GW Bridge - G.W. Bridge : Male\n",
        "- "
       ]
      },
      {
       "output_type": "stream",
       "stream": "stdout",
       "text": [
        " Brood - Brood Empress : Female\n",
        "- "
       ]
      },
      {
       "output_type": "stream",
       "stream": "stdout",
       "text": [
        " Bullseye - Bullseye : Male\n",
        "- "
       ]
      },
      {
       "output_type": "stream",
       "stream": "stdout",
       "text": [
        " Bushwacker - Bushwacker : Male\n",
        "- "
       ]
      },
      {
       "output_type": "stream",
       "stream": "stdout",
       "text": [
        " Cable - Cable : Male\n",
        "- "
       ]
      },
      {
       "output_type": "stream",
       "stream": "stdout",
       "text": [
        " Luke Cage - Luke Cage : Male\n",
        "- "
       ]
      },
      {
       "output_type": "stream",
       "stream": "stdout",
       "text": [
        " Caliban - Caliban : Male\n",
        "- "
       ]
      },
      {
       "output_type": "stream",
       "stream": "stdout",
       "text": [
        " Callisto - Callisto : Female\n",
        "- "
       ]
      },
      {
       "output_type": "stream",
       "stream": "stdout",
       "text": [
        " Cannonball - Cannonball : Male\n",
        "- "
       ]
      },
      {
       "output_type": "stream",
       "stream": "stdout",
       "text": [
        " Captain America - Captain America : Male\n",
        "- "
       ]
      },
      {
       "output_type": "stream",
       "stream": "stdout",
       "text": [
        " Captain Britain - Captain Britain : Male\n",
        "- "
       ]
      },
      {
       "output_type": "stream",
       "stream": "stdout",
       "text": [
        " Captain Marvel (Mar-Vell) - Captain Marvel : Male\n",
        "- "
       ]
      },
      {
       "output_type": "stream",
       "stream": "stdout",
       "text": [
        " Captain Stacy - Captain George Stacy : Male\n",
        "- "
       ]
      },
      {
       "output_type": "stream",
       "stream": "stdout",
       "text": [
        " Cargill - Frenzy : Female\n",
        "- "
       ]
      },
      {
       "output_type": "stream",
       "stream": "stdout",
       "text": [
        " Carnage - Carnage : Other\n",
        "- "
       ]
      },
      {
       "output_type": "stream",
       "stream": "stdout",
       "text": [
        " Sharon Carter - Sharon Carter : Female\n",
        "- "
       ]
      },
      {
       "output_type": "stream",
       "stream": "stdout",
       "text": [
        " Catseye - Catseye : Female\n",
        "*** Remove this character "
       ]
      },
      {
       "output_type": "stream",
       "stream": "stdout",
       "text": [
        " Cerebro\n",
        "- "
       ]
      },
      {
       "output_type": "stream",
       "stream": "stdout",
       "text": [
        " Ch'od - Ch'od : Male\n",
        "- "
       ]
      },
      {
       "output_type": "stream",
       "stream": "stdout",
       "text": [
        " Chamber - Chamber : Male\n",
        "- "
       ]
      },
      {
       "output_type": "stream",
       "stream": "stdout",
       "text": [
        " Chameleon - Chameleon : Male\n",
        "- "
       ]
      },
      {
       "output_type": "stream",
       "stream": "stdout",
       "text": [
        " Lila Cheney - Lila Cheney : Female\n",
        "- "
       ]
      },
      {
       "output_type": "stream",
       "stream": "stdout",
       "text": [
        " Chimera - Chimera : Female\n",
        "- "
       ]
      },
      {
       "output_type": "stream",
       "stream": "stdout",
       "text": [
        " Clea - Clea : Female\n",
        "- "
       ]
      },
      {
       "output_type": "stream",
       "stream": "stdout",
       "text": [
        " Cloak - Cloak : Male\n",
        "- "
       ]
      },
      {
       "output_type": "stream",
       "stream": "stdout",
       "text": [
        " Malcolm Colcord - The Director : Male\n",
        "- "
       ]
      },
      {
       "output_type": "stream",
       "stream": "stdout",
       "text": [
        " Colossus - The Colossus : Other\n",
        "- "
       ]
      },
      {
       "output_type": "stream",
       "stream": "stdout",
       "text": [
        " Constrictor - Constrictor : Male\n",
        "- "
       ]
      },
      {
       "output_type": "stream",
       "stream": "stdout",
       "text": [
        " Corsair - Corsair : Male\n",
        "- "
       ]
      },
      {
       "output_type": "stream",
       "stream": "stdout",
       "text": [
        " Fabian Cortez - Fabian Cortez : Male\n",
        "- "
       ]
      },
      {
       "output_type": "stream",
       "stream": "stdout",
       "text": [
        " Count Nefaria - Count Nefaria : Male\n",
        "- "
       ]
      },
      {
       "output_type": "stream",
       "stream": "stdout",
       "text": [
        " Crimson Dynamo - Crimson Dynamo IX  : Male\n",
        "- "
       ]
      },
      {
       "output_type": "stream",
       "stream": "stdout",
       "text": [
        " Crossbones - Crossbones : Male\n",
        "- "
       ]
      },
      {
       "output_type": "stream",
       "stream": "stdout",
       "text": [
        " Crusher Hogan - Crusher Hogan : Male\n",
        "- "
       ]
      },
      {
       "output_type": "stream",
       "stream": "stdout",
       "text": [
        " Crystal - Crystal : Female\n",
        "- "
       ]
      },
      {
       "output_type": "stream",
       "stream": "stdout",
       "text": [
        " Cyber - Cyber : Male\n",
        "- "
       ]
      },
      {
       "output_type": "stream",
       "stream": "stdout",
       "text": [
        " Cyclops - Cyclops : Male\n",
        "- "
       ]
      },
      {
       "output_type": "stream",
       "stream": "stdout",
       "text": [
        " Dagger - Dagger : Female\n",
        "- "
       ]
      },
      {
       "output_type": "stream",
       "stream": "stdout",
       "text": [
        " Damage Control - Anne : Female\n",
        "- "
       ]
      },
      {
       "output_type": "stream",
       "stream": "stdout",
       "text": [
        " Daredevil - Daredevil : Male\n",
        "- "
       ]
      },
      {
       "output_type": "stream",
       "stream": "stdout",
       "text": [
        " Darkstar - Darkstar (Roerich) : Female\n",
        "- "
       ]
      },
      {
       "output_type": "stream",
       "stream": "stdout",
       "text": [
        " Dazzler - Dazzler : Male\n",
        "- "
       ]
      },
      {
       "output_type": "stream",
       "stream": "stdout",
       "text": [
        " Deadpool - Deadpool : Male\n",
        "- "
       ]
      },
      {
       "output_type": "stream",
       "stream": "stdout",
       "text": [
        " Death - Death : Female\n",
        "- "
       ]
      },
      {
       "output_type": "stream",
       "stream": "stdout",
       "text": [
        " Deathbird - Deathbird : Female\n",
        "- "
       ]
      },
      {
       "output_type": "stream",
       "stream": "stdout",
       "text": [
        " Destiny - Destiny : Female\n",
        "- "
       ]
      },
      {
       "output_type": "stream",
       "stream": "stdout",
       "text": [
        " Diablo - Diablo : Male\n",
        "*** Remove this character "
       ]
      },
      {
       "output_type": "stream",
       "stream": "stdout",
       "text": [
        " Diamondback (Rachel Leighton)\n",
        "- "
       ]
      },
      {
       "output_type": "stream",
       "stream": "stdout",
       "text": [
        " Doc Samson - Doc Samson : Male\n",
        "- "
       ]
      },
      {
       "output_type": "stream",
       "stream": "stdout",
       "text": [
        " Doctor Octopus - Doctor Octopus : Male\n",
        "- "
       ]
      },
      {
       "output_type": "stream",
       "stream": "stdout",
       "text": [
        " Domino - Domino : Male\n",
        "- "
       ]
      },
      {
       "output_type": "stream",
       "stream": "stdout",
       "text": [
        " Doop - Doop : Other\n",
        "- "
       ]
      },
      {
       "output_type": "stream",
       "stream": "stdout",
       "text": [
        " Dormammu - Dormammu : Male\n",
        "- "
       ]
      },
      {
       "output_type": "stream",
       "stream": "stdout",
       "text": [
        " Doctor Doom - Doctor Doom : Male\n",
        "- "
       ]
      },
      {
       "output_type": "stream",
       "stream": "stdout",
       "text": [
        " Doctor Strange - Doctor Strange : Male\n",
        "- "
       ]
      },
      {
       "output_type": "stream",
       "stream": "stdout",
       "text": [
        " Dragon Man - Dragon Man : Other\n",
        "- "
       ]
      },
      {
       "output_type": "stream",
       "stream": "stdout",
       "text": [
        " Dust - Dust : Female\n",
        "- "
       ]
      },
      {
       "output_type": "stream",
       "stream": "stdout",
       "text": [
        " Earthquake - Earthquake : Male\n",
        "- "
       ]
      },
      {
       "output_type": "stream",
       "stream": "stdout",
       "text": [
        " Electro - Electro : Male\n",
        "- "
       ]
      },
      {
       "output_type": "stream",
       "stream": "stdout",
       "text": [
        " Elektra - Elektra : Female\n",
        "- "
       ]
      },
      {
       "output_type": "stream",
       "stream": "stdout",
       "text": [
        " Emplate - Emplate : Male\n",
        "- "
       ]
      },
      {
       "output_type": "stream",
       "stream": "stdout",
       "text": [
        " Exodus - Exodus : Male\n",
        "- "
       ]
      },
      {
       "output_type": "stream",
       "stream": "stdout",
       "text": [
        " Expediter - Zoe Culloden : Female\n",
        "- "
       ]
      },
      {
       "output_type": "stream",
       "stream": "stdout",
       "text": [
        " Falcon - Falcon : Male\n",
        "- "
       ]
      },
      {
       "output_type": "stream",
       "stream": "stdout",
       "text": [
        " Fantomex - Fantomex : Male\n",
        "- "
       ]
      },
      {
       "output_type": "stream",
       "stream": "stdout",
       "text": [
        " Firelord - Firelord : Male\n",
        "- "
       ]
      },
      {
       "output_type": "stream",
       "stream": "stdout",
       "text": [
        " Firestar - Firestar : Female\n",
        "- "
       ]
      },
      {
       "output_type": "stream",
       "stream": "stdout",
       "text": [
        " Forge - Forge : Male\n",
        "- "
       ]
      },
      {
       "output_type": "stream",
       "stream": "stdout",
       "text": [
        " Emma Frost - Emma Frost : Female\n",
        "- "
       ]
      },
      {
       "output_type": "stream",
       "stream": "stdout",
       "text": [
        " Galactus - Galactus : Male\n",
        "- "
       ]
      },
      {
       "output_type": "stream",
       "stream": "stdout",
       "text": [
        " Gambit - Gambit : Male\n",
        "- "
       ]
      },
      {
       "output_type": "stream",
       "stream": "stdout",
       "text": [
        " Gateway - Gateway : Male\n",
        "- "
       ]
      },
      {
       "output_type": "stream",
       "stream": "stdout",
       "text": [
        " Genesis - Genesis : Male\n",
        "- "
       ]
      },
      {
       "output_type": "stream",
       "stream": "stdout",
       "text": [
        " Gladiator (Kallark) - Gladiator : Male\n",
        "- "
       ]
      },
      {
       "output_type": "stream",
       "stream": "stdout",
       "text": [
        " Norman Osborn - Norman Osborn : Male\n",
        "- "
       ]
      },
      {
       "output_type": "stream",
       "stream": "stdout",
       "text": [
        " Grim Reaper - Grim Reaper : Male\n",
        "- "
       ]
      },
      {
       "output_type": "stream",
       "stream": "stdout",
       "text": [
        " Guardian - Guardian : Male\n",
        "*** Remove this character "
       ]
      },
      {
       "output_type": "stream",
       "stream": "stdout",
       "text": [
        " H.E.R.B.I.E.\n",
        "- "
       ]
      },
      {
       "output_type": "stream",
       "stream": "stdout",
       "text": [
        " Hammerhead - Hammerhead : Male\n",
        "- "
       ]
      },
      {
       "output_type": "stream",
       "stream": "stdout",
       "text": [
        " Havok - Havok : Male\n",
        "- "
       ]
      },
      {
       "output_type": "stream",
       "stream": "stdout",
       "text": [
        " Hawkeye - Hawkeye : Male\n",
        "- "
       ]
      },
      {
       "output_type": "stream",
       "stream": "stdout",
       "text": [
        " Hepzibah - Hepzibah : Female\n",
        "- "
       ]
      },
      {
       "output_type": "stream",
       "stream": "stdout",
       "text": [
        " Hercules - Hercules : Male\n",
        "- "
       ]
      },
      {
       "output_type": "stream",
       "stream": "stdout",
       "text": [
        " Hobgoblin (Roderick Kingsley) - Hobgoblin (Kingsley) : Male\n",
        "- "
       ]
      },
      {
       "output_type": "stream",
       "stream": "stdout",
       "text": [
        " Happy Hogan - Happy Hogan : Male\n",
        "- "
       ]
      },
      {
       "output_type": "stream",
       "stream": "stdout",
       "text": [
        " Hulk - Hulk : Male\n",
        "- "
       ]
      },
      {
       "output_type": "stream",
       "stream": "stdout",
       "text": [
        " Hulkling - Hulkling : Male\n",
        "- "
       ]
      },
      {
       "output_type": "stream",
       "stream": "stdout",
       "text": [
        " Human Torch - Human Torch : Female\n",
        "- "
       ]
      },
      {
       "output_type": "stream",
       "stream": "stdout",
       "text": [
        " Husk - Husk : Female\n",
        "- "
       ]
      },
      {
       "output_type": "stream",
       "stream": "stdout",
       "text": [
        " Hussar - Hussar : Female\n",
        "- "
       ]
      },
      {
       "output_type": "stream",
       "stream": "stdout",
       "text": [
        " Hydro-Man - Hydro-Man : Male\n",
        "- "
       ]
      },
      {
       "output_type": "stream",
       "stream": "stdout",
       "text": [
        " Iceman - Iceman : Male\n",
        "- "
       ]
      },
      {
       "output_type": "stream",
       "stream": "stdout",
       "text": [
        " Impossible Man - Impossible Man : Male\n",
        "- "
       ]
      },
      {
       "output_type": "stream",
       "stream": "stdout",
       "text": [
        " Inhumans - Inhuman Torch : Other\n",
        "- "
       ]
      },
      {
       "output_type": "stream",
       "stream": "stdout",
       "text": [
        " Invisible Woman - Invisible Woman : Female\n",
        "- "
       ]
      },
      {
       "output_type": "stream",
       "stream": "stdout",
       "text": [
        " Iron Man - Iron Man : Male\n",
        "- "
       ]
      },
      {
       "output_type": "stream",
       "stream": "stdout",
       "text": [
        " Iron Monger - Iron Monger (Krallis) : Male\n",
        "- "
       ]
      },
      {
       "output_type": "stream",
       "stream": "stdout",
       "text": [
        " J. Jonah Jameson - J. Jonah Jameson : Male\n",
        "- "
       ]
      },
      {
       "output_type": "stream",
       "stream": "stdout",
       "text": [
        " Jocasta - Jocasta : Female\n",
        "- "
       ]
      },
      {
       "output_type": "stream",
       "stream": "stdout",
       "text": [
        " Jessica Jones - Jessica Jones : Female\n",
        "- "
       ]
      },
      {
       "output_type": "stream",
       "stream": "stdout",
       "text": [
        " Rick Jones - Rick Jones : Male\n",
        "- "
       ]
      },
      {
       "output_type": "stream",
       "stream": "stdout",
       "text": [
        " Jubilee - Jubilee : Female\n",
        "- "
       ]
      },
      {
       "output_type": "stream",
       "stream": "stdout",
       "text": [
        " Juggernaut - Juggernaut : Male\n",
        "- "
       ]
      },
      {
       "output_type": "stream",
       "stream": "stdout",
       "text": [
        " Garrison Kane - Garrison Kane : Male\n",
        "- "
       ]
      },
      {
       "output_type": "stream",
       "stream": "stdout",
       "text": [
        " Kang - Kang : Male\n",
        "- "
       ]
      },
      {
       "output_type": "stream",
       "stream": "stdout",
       "text": [
        " Karnak - Karnak : Male\n",
        "- "
       ]
      },
      {
       "output_type": "stream",
       "stream": "stdout",
       "text": [
        " Quentin Quire - Quentin Quire : Male\n",
        "- "
       ]
      },
      {
       "output_type": "stream",
       "stream": "stdout",
       "text": [
        " Kingpin - Kingpin : Male\n",
        "- "
       ]
      },
      {
       "output_type": "stream",
       "stream": "stdout",
       "text": [
        " Klaw - Klaw : Male\n",
        "- "
       ]
      },
      {
       "output_type": "stream",
       "stream": "stdout",
       "text": [
        " Kraven the Hunter - Kraven the Hunter : Male\n",
        "- "
       ]
      },
      {
       "output_type": "stream",
       "stream": "stdout",
       "text": [
        " La Nuit - La Nuit : Male\n",
        "- "
       ]
      },
      {
       "output_type": "stream",
       "stream": "stdout",
       "text": [
        " Lady Deathstrike - Lady Deathstrike : Female\n",
        "- "
       ]
      },
      {
       "output_type": "stream",
       "stream": "stdout",
       "text": [
        " Leader - Leader : Male\n",
        "- "
       ]
      },
      {
       "output_type": "stream",
       "stream": "stdout",
       "text": [
        " Legion - Legion : Male\n",
        "- "
       ]
      },
      {
       "output_type": "stream",
       "stream": "stdout",
       "text": [
        " Lifeguard - Lifeguard : Female\n",
        "- "
       ]
      },
      {
       "output_type": "stream",
       "stream": "stdout",
       "text": [
        " Lilandra - Lilandra : Female\n",
        "- "
       ]
      },
      {
       "output_type": "stream",
       "stream": "stdout",
       "text": [
        " Lizard - Lizard : Male\n",
        "- "
       ]
      },
      {
       "output_type": "stream",
       "stream": "stdout",
       "text": [
        " Lockheed - Lockheed : Male\n",
        "- "
       ]
      },
      {
       "output_type": "stream",
       "stream": "stdout",
       "text": [
        " Lockjaw - Lockjaw : Male\n",
        "- "
       ]
      },
      {
       "output_type": "stream",
       "stream": "stdout",
       "text": [
        " Loki - Loki : Male\n",
        "- "
       ]
      },
      {
       "output_type": "stream",
       "stream": "stdout",
       "text": [
        " Longshot - Longshot : Male\n",
        "- "
       ]
      },
      {
       "output_type": "stream",
       "stream": "stdout",
       "text": [
        " Moira MacTaggert - Moira MacTaggert : Female\n",
        "- "
       ]
      },
      {
       "output_type": "stream",
       "stream": "stdout",
       "text": [
        " Mad Thinker - Mad Thinker : Male\n",
        "- "
       ]
      },
      {
       "output_type": "stream",
       "stream": "stdout",
       "text": [
        " Magik (Illyana Rasputin) - Magik : Female\n",
        "*** Remove this character "
       ]
      },
      {
       "output_type": "stream",
       "stream": "stdout",
       "text": [
        " Magma (Amara Aquilla)\n",
        "- "
       ]
      },
      {
       "output_type": "stream",
       "stream": "stdout",
       "text": [
        " Magneto - Magneto : Male\n",
        "- "
       ]
      },
      {
       "output_type": "stream",
       "stream": "stdout",
       "text": [
        " Man-Thing - Man-Thing : Male\n",
        "- "
       ]
      },
      {
       "output_type": "stream",
       "stream": "stdout",
       "text": [
        " Mandarin - Mandarin : Male\n",
        "- "
       ]
      },
      {
       "output_type": "stream",
       "stream": "stdout",
       "text": [
        " Manta - Manta : Female\n",
        "- "
       ]
      },
      {
       "output_type": "stream",
       "stream": "stdout",
       "text": [
        " Marrow - Marrow : Female\n",
        "- "
       ]
      },
      {
       "output_type": "stream",
       "stream": "stdout",
       "text": [
        " Marvel Boy - David Bank : Male\n",
        "- "
       ]
      },
      {
       "output_type": "stream",
       "stream": "stdout",
       "text": [
        " Rachel Grey - Rachel Grey : Female\n",
        "*** Remove this character "
       ]
      },
      {
       "output_type": "stream",
       "stream": "stdout",
       "text": [
        " Mastermind\n",
        "- "
       ]
      },
      {
       "output_type": "stream",
       "stream": "stdout",
       "text": [
        " Alicia Masters - Alicia Masters : Female\n",
        "- "
       ]
      },
      {
       "output_type": "stream",
       "stream": "stdout",
       "text": [
        " Medusa - Medusa : Other\n",
        "- "
       ]
      },
      {
       "output_type": "stream",
       "stream": "stdout",
       "text": [
        " Meltdown - General Meltdown : Male\n",
        "- "
       ]
      },
      {
       "output_type": "stream",
       "stream": "stdout",
       "text": [
        " Mephisto - Mephisto : Male\n",
        "- "
       ]
      },
      {
       "output_type": "stream",
       "stream": "stdout",
       "text": [
        " Mesmero - Mesmero : Male\n",
        "- "
       ]
      },
      {
       "output_type": "stream",
       "stream": "stdout",
       "text": [
        " Mimic - Mimic : Male\n",
        "- "
       ]
      },
      {
       "output_type": "stream",
       "stream": "stdout",
       "text": [
        " Mister Sinister - Mr. Sinister : Male\n",
        "- "
       ]
      },
      {
       "output_type": "stream",
       "stream": "stdout",
       "text": [
        " Mojo - Mojo : Male\n",
        "- "
       ]
      },
      {
       "output_type": "stream",
       "stream": "stdout",
       "text": [
        " Mole Man - Mole Man : Male\n",
        "- "
       ]
      },
      {
       "output_type": "stream",
       "stream": "stdout",
       "text": [
        " Moondragon - Moondragon : Female\n",
        "- "
       ]
      },
      {
       "output_type": "stream",
       "stream": "stdout",
       "text": [
        " Moon Knight - Moon Knight : Male\n",
        "- "
       ]
      },
      {
       "output_type": "stream",
       "stream": "stdout",
       "text": [
        " Dani Moonstar - Moonstar : Female\n",
        "- "
       ]
      },
      {
       "output_type": "stream",
       "stream": "stdout",
       "text": [
        " Morbius - Morbius : Male\n",
        "- "
       ]
      },
      {
       "output_type": "stream",
       "stream": "stdout",
       "text": [
        " Mr. Fantastic - Mr. Fantastic : Male\n",
        "- "
       ]
      },
      {
       "output_type": "stream",
       "stream": "stdout",
       "text": [
        " Mysterio - Mysterio : Male\n",
        "- "
       ]
      },
      {
       "output_type": "stream",
       "stream": "stdout",
       "text": [
        " Mystique - Mystique : Female\n",
        "- "
       ]
      },
      {
       "output_type": "stream",
       "stream": "stdout",
       "text": [
        " Namora - Namora : Female\n",
        "- "
       ]
      },
      {
       "output_type": "stream",
       "stream": "stdout",
       "text": [
        " Namorita - Namorita : Female\n",
        "- "
       ]
      },
      {
       "output_type": "stream",
       "stream": "stdout",
       "text": [
        " Nick Fury - Nick Fury : Male\n",
        "- "
       ]
      },
      {
       "output_type": "stream",
       "stream": "stdout",
       "text": [
        " Nightcrawler - Nightcrawler : Male\n",
        "- "
       ]
      },
      {
       "output_type": "stream",
       "stream": "stdout",
       "text": [
        " Nightmare - Nightmare : Male\n",
        "- "
       ]
      },
      {
       "output_type": "stream",
       "stream": "stdout",
       "text": [
        " Nocturne - Nocturne : Male\n",
        "- "
       ]
      },
      {
       "output_type": "stream",
       "stream": "stdout",
       "text": [
        " Nomad - Nomad : Male\n",
        "- "
       ]
      },
      {
       "output_type": "stream",
       "stream": "stdout",
       "text": [
        " Northstar - Northstar : Male\n",
        "- "
       ]
      },
      {
       "output_type": "stream",
       "stream": "stdout",
       "text": [
        " Nova - Nova : Female\n",
        "- "
       ]
      },
      {
       "output_type": "stream",
       "stream": "stdout",
       "text": [
        " Cassandra Nova - Cassandra Nova : Female\n",
        "- "
       ]
      },
      {
       "output_type": "stream",
       "stream": "stdout",
       "text": [
        " Odin - Odin : Male\n",
        "- "
       ]
      },
      {
       "output_type": "stream",
       "stream": "stdout",
       "text": [
        " Omega Red - Omega Red : Male\n",
        "- "
       ]
      },
      {
       "output_type": "stream",
       "stream": "stdout",
       "text": [
        " Onslaught - Onslaught : Male\n",
        "- "
       ]
      },
      {
       "output_type": "stream",
       "stream": "stdout",
       "text": [
        " Oracle - Oracle : Female\n",
        "- "
       ]
      },
      {
       "output_type": "stream",
       "stream": "stdout",
       "text": [
        " Harry Osborn - Harry Osborn : Male\n",
        "- "
       ]
      },
      {
       "output_type": "stream",
       "stream": "stdout",
       "text": [
        " Ozymandias - Ozymandias : Male\n",
        "- "
       ]
      },
      {
       "output_type": "stream",
       "stream": "stdout",
       "text": [
        " Ben Parker - Benjy Parker : Male\n",
        "- "
       ]
      },
      {
       "output_type": "stream",
       "stream": "stdout",
       "text": [
        " May Parker - Aunt May : Female\n",
        "- "
       ]
      },
      {
       "output_type": "stream",
       "stream": "stdout",
       "text": [
        " Patriot - Patriot : Male\n",
        "- "
       ]
      },
      {
       "output_type": "stream",
       "stream": "stdout",
       "text": [
        " Penance (Robert Baldwin) - Speedball : Male\n",
        "- "
       ]
      },
      {
       "output_type": "stream",
       "stream": "stdout",
       "text": [
        " Pepper Potts - Pepper Potts : Female\n",
        "- "
       ]
      },
      {
       "output_type": "stream",
       "stream": "stdout",
       "text": [
        " Phoenix - Phoenix Force : Other\n",
        "- "
       ]
      },
      {
       "output_type": "stream",
       "stream": "stdout",
       "text": [
        " Polaris - Polaris : Female\n",
        "- "
       ]
      },
      {
       "output_type": "stream",
       "stream": "stdout",
       "text": [
        " Pretty Boy - Pretty Boy : Male\n",
        "- "
       ]
      },
      {
       "output_type": "stream",
       "stream": "stdout",
       "text": [
        " Prism - Prism : Male\n",
        "- "
       ]
      },
      {
       "output_type": "stream",
       "stream": "stdout",
       "text": [
        " Professor X - Professor X : Male\n",
        "- "
       ]
      },
      {
       "output_type": "stream",
       "stream": "stdout",
       "text": [
        " Prowler - Prowler : Male\n",
        "- "
       ]
      },
      {
       "output_type": "stream",
       "stream": "stdout",
       "text": [
        " Kitty Pryde - Kitty Pryde : Female\n",
        "- "
       ]
      },
      {
       "output_type": "stream",
       "stream": "stdout",
       "text": [
        " Madelyne Pryor - Madelyne Pryor : Female\n",
        "- "
       ]
      },
      {
       "output_type": "stream",
       "stream": "stdout",
       "text": [
        " Psycho-Man - Psycho-Man : Male\n",
        "- "
       ]
      },
      {
       "output_type": "stream",
       "stream": "stdout",
       "text": [
        " Psylocke - Psylocke : Female\n",
        "- "
       ]
      },
      {
       "output_type": "stream",
       "stream": "stdout",
       "text": [
        " Puck - Puck : Female\n",
        "- "
       ]
      },
      {
       "output_type": "stream",
       "stream": "stdout",
       "text": [
        " Puma - Puma : Male\n",
        "- "
       ]
      },
      {
       "output_type": "stream",
       "stream": "stdout",
       "text": [
        " Punisher - Punisher : Male\n",
        "- "
       ]
      },
      {
       "output_type": "stream",
       "stream": "stdout",
       "text": [
        " Punisher 2099 - Punisher 2099 : Male\n",
        "- "
       ]
      },
      {
       "output_type": "stream",
       "stream": "stdout",
       "text": [
        " Puppet Master - Puppet Master : Male\n",
        "- "
       ]
      },
      {
       "output_type": "stream",
       "stream": "stdout",
       "text": [
        " Purple Man - Purple Man : Male\n",
        "- "
       ]
      },
      {
       "output_type": "stream",
       "stream": "stdout",
       "text": [
        " Pyro - Pyro : Male\n",
        "- "
       ]
      },
      {
       "output_type": "stream",
       "stream": "stdout",
       "text": [
        " Quicksilver - Quicksilver : Male\n",
        "- "
       ]
      },
      {
       "output_type": "stream",
       "stream": "stdout",
       "text": [
        " Valeria Richards - Valeria Richards : Female\n",
        "- "
       ]
      },
      {
       "output_type": "stream",
       "stream": "stdout",
       "text": [
        " Radioactive Man - Radioactive Man : Male\n",
        "- "
       ]
      },
      {
       "output_type": "stream",
       "stream": "stdout",
       "text": [
        " Mikhail Rasputin - Mikhail Rasputin : Male\n",
        "- "
       ]
      },
      {
       "output_type": "stream",
       "stream": "stdout",
       "text": [
        " Red Ghost - Red Ghost : Male\n",
        "- "
       ]
      },
      {
       "output_type": "stream",
       "stream": "stdout",
       "text": [
        " Red Skull - Red Skull : Male\n",
        "- "
       ]
      },
      {
       "output_type": "stream",
       "stream": "stdout",
       "text": [
        " Cecilia Reyes - Cecilia Reyes : Female\n",
        "- "
       ]
      },
      {
       "output_type": "stream",
       "stream": "stdout",
       "text": [
        " Rhino - Rhino : Male\n",
        "- "
       ]
      },
      {
       "output_type": "stream",
       "stream": "stdout",
       "text": [
        " Franklin Richards - Franklin Richards : Male\n",
        "- "
       ]
      },
      {
       "output_type": "stream",
       "stream": "stdout",
       "text": [
        " Rictor - Rictor : Male\n",
        "- "
       ]
      },
      {
       "output_type": "stream",
       "stream": "stdout",
       "text": [
        " Risque - Risque : Female\n",
        "- "
       ]
      },
      {
       "output_type": "stream",
       "stream": "stdout",
       "text": [
        " Robbie Robertson - Robbie Robertson : Male\n",
        "- "
       ]
      },
      {
       "output_type": "stream",
       "stream": "stdout",
       "text": [
        " Rogue - Rogue : Male\n",
        "- "
       ]
      },
      {
       "output_type": "stream",
       "stream": "stdout",
       "text": [
        " Russian - Russian : Male\n",
        "- "
       ]
      },
      {
       "output_type": "stream",
       "stream": "stdout",
       "text": [
        " Sabra - Sabra : Female\n",
        "- "
       ]
      },
      {
       "output_type": "stream",
       "stream": "stdout",
       "text": [
        " Sabretooth - Sabretooth : Male\n",
        "- "
       ]
      },
      {
       "output_type": "stream",
       "stream": "stdout",
       "text": [
        " Sage - Sage : Female\n",
        "- "
       ]
      },
      {
       "output_type": "stream",
       "stream": "stdout",
       "text": [
        " Sandman - Sandman : Male\n",
        "- "
       ]
      },
      {
       "output_type": "stream",
       "stream": "stdout",
       "text": [
        " Sauron - Sauron : Male\n",
        "- "
       ]
      },
      {
       "output_type": "stream",
       "stream": "stdout",
       "text": [
        " Scarlet Witch - Scarlet Witch : Female\n",
        "- "
       ]
      },
      {
       "output_type": "stream",
       "stream": "stdout",
       "text": [
        " Selene - Selene : Female\n",
        "- "
       ]
      },
      {
       "output_type": "stream",
       "stream": "stdout",
       "text": [
        " Senator Kelly - Robert Kelly : Male\n",
        "- "
       ]
      },
      {
       "output_type": "stream",
       "stream": "stdout",
       "text": [
        " Shadow King - Shadow King : Male\n",
        "- "
       ]
      },
      {
       "output_type": "stream",
       "stream": "stdout",
       "text": [
        " Shalla-bal - Shalla Bal : Female\n",
        "- "
       ]
      },
      {
       "output_type": "stream",
       "stream": "stdout",
       "text": [
        " Shaman - Shaman : Male\n",
        "- "
       ]
      },
      {
       "output_type": "stream",
       "stream": "stdout",
       "text": [
        " Shang-Chi - Shang-Chi : Male\n",
        "- "
       ]
      },
      {
       "output_type": "stream",
       "stream": "stdout",
       "text": [
        " Shanna the She-Devil - Shanna : Female\n",
        "- "
       ]
      },
      {
       "output_type": "stream",
       "stream": "stdout",
       "text": [
        " Shard - Shard : Male\n",
        "- "
       ]
      },
      {
       "output_type": "stream",
       "stream": "stdout",
       "text": [
        " Shatterstar - Shatterstar : Male\n",
        "- "
       ]
      },
      {
       "output_type": "stream",
       "stream": "stdout",
       "text": [
        " Sebastian Shaw - Sebastian Shaw : Male\n",
        "- "
       ]
      },
      {
       "output_type": "stream",
       "stream": "stdout",
       "text": [
        " Shinobi Shaw - Shinobi Shaw : Male\n",
        "- "
       ]
      },
      {
       "output_type": "stream",
       "stream": "stdout",
       "text": [
        " She-Hulk (Jennifer Walters) - She-Hulk : Female\n",
        "- "
       ]
      },
      {
       "output_type": "stream",
       "stream": "stdout",
       "text": [
        " Shocker (Herman Schultz) - Shocker : Male\n",
        "- "
       ]
      },
      {
       "output_type": "stream",
       "stream": "stdout",
       "text": [
        " Shriek - Shriek : Female\n",
        "- "
       ]
      },
      {
       "output_type": "stream",
       "stream": "stdout",
       "text": [
        " Sif - Sif : Female\n",
        "- "
       ]
      },
      {
       "output_type": "stream",
       "stream": "stdout",
       "text": [
        " Silver Fox - Silver Fox : Female\n",
        "- "
       ]
      },
      {
       "output_type": "stream",
       "stream": "stdout",
       "text": [
        " Silver Sable - Silver Sable : Female\n",
        "- "
       ]
      },
      {
       "output_type": "stream",
       "stream": "stdout",
       "text": [
        " Silver Samurai - Silver Samurai : Male\n",
        "- "
       ]
      },
      {
       "output_type": "stream",
       "stream": "stdout",
       "text": [
        " Silver Surfer - Silver Surfer : Male\n",
        "- "
       ]
      },
      {
       "output_type": "stream",
       "stream": "stdout",
       "text": [
        " Silvermane - Silvermane : Male\n",
        "- "
       ]
      },
      {
       "output_type": "stream",
       "stream": "stdout",
       "text": [
        " Banshee (Theresa Rourke) - Banshee : Male\n",
        "- "
       ]
      },
      {
       "output_type": "stream",
       "stream": "stdout",
       "text": [
        " Skin - Skin : Male\n",
        "- "
       ]
      },
      {
       "output_type": "stream",
       "stream": "stdout",
       "text": [
        " Skrulls - Skrull Wolverine : Male\n",
        "- "
       ]
      },
      {
       "output_type": "stream",
       "stream": "stdout",
       "text": [
        " Slipstream - Slipstream : Male\n",
        "- "
       ]
      },
      {
       "output_type": "stream",
       "stream": "stdout",
       "text": [
        " Snowbird - Snowbird : Female\n",
        "- "
       ]
      },
      {
       "output_type": "stream",
       "stream": "stdout",
       "text": [
        " Spider-Girl (May Parker) - Spider-Girl (Parker) : Female\n",
        "- "
       ]
      },
      {
       "output_type": "stream",
       "stream": "stdout",
       "text": [
        " Spider-Man - Spider-Man : Male\n",
        "*** Remove this character "
       ]
      },
      {
       "output_type": "stream",
       "stream": "stdout",
       "text": [
        " Spiral (Rita Wayword)\n",
        "- "
       ]
      },
      {
       "output_type": "stream",
       "stream": "stdout",
       "text": [
        " Spot - Spot : Male\n",
        "- "
       ]
      },
      {
       "output_type": "stream",
       "stream": "stdout",
       "text": [
        " Gwen Stacy - Gwen Stacy : Female\n",
        "- "
       ]
      },
      {
       "output_type": "stream",
       "stream": "stdout",
       "text": [
        " Starbolt - Starbolt : Male\n",
        "- "
       ]
      },
      {
       "output_type": "stream",
       "stream": "stdout",
       "text": [
        " Stepford Cuckoos - Esme Cuckoo : Female\n",
        "- "
       ]
      },
      {
       "output_type": "stream",
       "stream": "stdout",
       "text": [
        " Stick - Stick : Male\n",
        "*** Remove this character "
       ]
      },
      {
       "output_type": "stream",
       "stream": "stdout",
       "text": [
        " Stingray (Walter Newell)\n",
        "- "
       ]
      },
      {
       "output_type": "stream",
       "stream": "stdout",
       "text": [
        " Storm - Storm : Female\n",
        "- "
       ]
      },
      {
       "output_type": "stream",
       "stream": "stdout",
       "text": [
        " Stryfe - Stryfe : Male\n",
        "- "
       ]
      },
      {
       "output_type": "stream",
       "stream": "stdout",
       "text": [
        " William Stryker - William Stryker : Male\n",
        "- "
       ]
      },
      {
       "output_type": "stream",
       "stream": "stdout",
       "text": [
        " Sunfire - Sunfire : Male\n",
        "- "
       ]
      },
      {
       "output_type": "stream",
       "stream": "stdout",
       "text": [
        " Sunset Bain - Sunset Bain : Female\n",
        "- "
       ]
      },
      {
       "output_type": "stream",
       "stream": "stdout",
       "text": [
        " Sunspot - Sunspot : Male\n",
        "- "
       ]
      },
      {
       "output_type": "stream",
       "stream": "stdout",
       "text": [
        " Super-Skrull - Super-Skrull : Male\n",
        "- "
       ]
      },
      {
       "output_type": "stream",
       "stream": "stdout",
       "text": [
        " Swordsman - Swordsman : Male\n",
        "- "
       ]
      },
      {
       "output_type": "stream",
       "stream": "stdout",
       "text": [
        " Synch - Synch : Male\n",
        "- "
       ]
      },
      {
       "output_type": "stream",
       "stream": "stdout",
       "text": [
        " Glenn Talbot - Glenn Talbot : Male\n",
        "- "
       ]
      },
      {
       "output_type": "stream",
       "stream": "stdout",
       "text": [
        " Taskmaster - Taskmaster : Male\n",
        "- "
       ]
      },
      {
       "output_type": "stream",
       "stream": "stdout",
       "text": [
        " Terrax - Terrax : Male\n",
        "- "
       ]
      },
      {
       "output_type": "stream",
       "stream": "stdout",
       "text": [
        " Thanos - Thanos : Male\n",
        "- "
       ]
      },
      {
       "output_type": "stream",
       "stream": "stdout",
       "text": [
        " The Anarchist - Anarchist : Male\n",
        "- "
       ]
      },
      {
       "output_type": "stream",
       "stream": "stdout",
       "text": [
        " The Shiver Man - Shiver Man : Male\n",
        "- "
       ]
      },
      {
       "output_type": "stream",
       "stream": "stdout",
       "text": [
        " The Stranger - Stranger : Male\n",
        "- "
       ]
      },
      {
       "output_type": "stream",
       "stream": "stdout",
       "text": [
        " Thing - Thing : Male\n",
        "- "
       ]
      },
      {
       "output_type": "stream",
       "stream": "stdout",
       "text": [
        " Thor - Thor : Male\n",
        "*** Remove this character "
       ]
      },
      {
       "output_type": "stream",
       "stream": "stdout",
       "text": [
        " Thunderbird (John Proudstar)\n",
        "- "
       ]
      },
      {
       "output_type": "stream",
       "stream": "stdout",
       "text": [
        " Thunderbird (Neal Shaara) - Thunderbird (Shaara) : Male\n",
        "- "
       ]
      },
      {
       "output_type": "stream",
       "stream": "stdout",
       "text": [
        " Tiger Shark - Tiger Shark : Male\n",
        "*** Remove this character "
       ]
      },
      {
       "output_type": "stream",
       "stream": "stdout",
       "text": [
        " Tigra (Greer Nelson)\n",
        "- "
       ]
      },
      {
       "output_type": "stream",
       "stream": "stdout",
       "text": [
        " Toad - Toad : Male\n",
        "- "
       ]
      },
      {
       "output_type": "stream",
       "stream": "stdout",
       "text": [
        " Tombstone - Tombstone : Male\n",
        "- "
       ]
      },
      {
       "output_type": "stream",
       "stream": "stdout",
       "text": [
        " Toxin - Toxin : Male\n",
        "- "
       ]
      },
      {
       "output_type": "stream",
       "stream": "stdout",
       "text": [
        " Matsu'o Tsurayaba - Matsuo Tsurayaba : Male\n",
        "- "
       ]
      },
      {
       "output_type": "stream",
       "stream": "stdout",
       "text": [
        " U-Go Girl - U-Go Girl : Female\n",
        "- "
       ]
      },
      {
       "output_type": "stream",
       "stream": "stdout",
       "text": [
        " U.S. Agent - U.S.Agent : Male\n",
        "- "
       ]
      },
      {
       "output_type": "stream",
       "stream": "stdout",
       "text": [
        " Uatu The Watcher - Aron the Rogue Watcher : Male\n",
        "- "
       ]
      },
      {
       "output_type": "stream",
       "stream": "stdout",
       "text": [
        " Ultron - Ultron : Male\n",
        "- "
       ]
      },
      {
       "output_type": "stream",
       "stream": "stdout",
       "text": [
        " Umar - Umar : Female\n",
        "- "
       ]
      },
      {
       "output_type": "stream",
       "stream": "stdout",
       "text": [
        " Unus - Unus the Untouchable : Male\n",
        "- "
       ]
      },
      {
       "output_type": "stream",
       "stream": "stdout",
       "text": [
        " Carmella Unuscione - Unuscione : Female\n",
        "*** Remove this character "
       ]
      },
      {
       "output_type": "stream",
       "stream": "stdout",
       "text": [
        " Vanisher (Ultimate)\n",
        "- "
       ]
      },
      {
       "output_type": "stream",
       "stream": "stdout",
       "text": [
        " Vargas - Vargas : Male\n",
        "*** Remove this character "
       ]
      },
      {
       "output_type": "stream",
       "stream": "stdout",
       "text": [
        " Toxin (Eddie Brock)\n",
        "- "
       ]
      },
      {
       "output_type": "stream",
       "stream": "stdout",
       "text": [
        " Venus Dee Milo - Venus Dee Milo : Female\n",
        "*** Remove this character "
       ]
      },
      {
       "output_type": "stream",
       "stream": "stdout",
       "text": [
        " Vertigo (Savage Land Mutate)\n",
        "- "
       ]
      },
      {
       "output_type": "stream",
       "stream": "stdout",
       "text": [
        " Vindicator - Heather McNeil Hudson : Female\n",
        "- "
       ]
      },
      {
       "output_type": "stream",
       "stream": "stdout",
       "text": [
        " Viper - Viper (Dixon) : Male\n",
        "- "
       ]
      },
      {
       "output_type": "stream",
       "stream": "stdout",
       "text": [
        " Vision - Vision : Male\n",
        "- "
       ]
      },
      {
       "output_type": "stream",
       "stream": "stdout",
       "text": [
        " Wallow - Wallow : Male\n",
        "- "
       ]
      },
      {
       "output_type": "stream",
       "stream": "stdout",
       "text": [
        " War (Abraham Kieros) - War : Male\n",
        "- "
       ]
      },
      {
       "output_type": "stream",
       "stream": "stdout",
       "text": [
        " Warpath - Warpath : Male\n",
        "- "
       ]
      },
      {
       "output_type": "stream",
       "stream": "stdout",
       "text": [
        " Warstar - Warstar : Male\n",
        "- "
       ]
      },
      {
       "output_type": "stream",
       "stream": "stdout",
       "text": [
        " Wasp - Wasp : Female\n",
        "- "
       ]
      },
      {
       "output_type": "stream",
       "stream": "stdout",
       "text": [
        " Mary Jane Watson - Mary Jane : Female\n",
        "- "
       ]
      },
      {
       "output_type": "stream",
       "stream": "stdout",
       "text": [
        " Whiplash (Mark Scarlotti) - Whiplash (Scarlotti) : Male\n",
        "- "
       ]
      },
      {
       "output_type": "stream",
       "stream": "stdout",
       "text": [
        " Wiccan - Wiccan : Male\n",
        "- "
       ]
      },
      {
       "output_type": "stream",
       "stream": "stdout",
       "text": [
        " Wild Child - Wild Child : Male\n",
        "- "
       ]
      },
      {
       "output_type": "stream",
       "stream": "stdout",
       "text": [
        " Wolfsbane - Wolfsbane : Female\n",
        "- "
       ]
      },
      {
       "output_type": "stream",
       "stream": "stdout",
       "text": [
        " Wolverine - Wolverine : Male\n",
        "- "
       ]
      },
      {
       "output_type": "stream",
       "stream": "stdout",
       "text": [
        " Wonder Man - Wonder Man : Male\n",
        "- "
       ]
      },
      {
       "output_type": "stream",
       "stream": "stdout",
       "text": [
        " Wong - Wong : Male\n",
        "- "
       ]
      },
      {
       "output_type": "stream",
       "stream": "stdout",
       "text": [
        " John Wraith - John Wraith : Male\n",
        "- "
       ]
      },
      {
       "output_type": "stream",
       "stream": "stdout",
       "text": [
        " X-23 - X-23 : Female\n",
        "- "
       ]
      },
      {
       "output_type": "stream",
       "stream": "stdout",
       "text": [
        " X-Man - X-Man : Male\n",
        "- "
       ]
      },
      {
       "output_type": "stream",
       "stream": "stdout",
       "text": [
        " Mariko Yashida - Mariko Yashida : Female\n",
        "- "
       ]
      },
      {
       "output_type": "stream",
       "stream": "stdout",
       "text": [
        " Yellow Claw - Yellow Claw : Male\n",
        "- "
       ]
      },
      {
       "output_type": "stream",
       "stream": "stdout",
       "text": [
        " Arnim Zola - Arnim Zola : Male\n",
        "*** Remove this character "
       ]
      },
      {
       "output_type": "stream",
       "stream": "stdout",
       "text": [
        " Zombie (Simon_Garth)\n",
        "- "
       ]
      },
      {
       "output_type": "stream",
       "stream": "stdout",
       "text": [
        " Zzzax - Zzzax : Other\n",
        "- "
       ]
      },
      {
       "output_type": "stream",
       "stream": "stdout",
       "text": [
        " Betty Brant - Betty Brant : Female\n",
        "- "
       ]
      },
      {
       "output_type": "stream",
       "stream": "stdout",
       "text": [
        " Jane Foster - Jane Foster : Female\n",
        "- "
       ]
      },
      {
       "output_type": "stream",
       "stream": "stdout",
       "text": [
        " Donald Blake - Donald Blake : Male\n",
        "*** Remove this character "
       ]
      },
      {
       "output_type": "stream",
       "stream": "stdout",
       "text": [
        " Quasimodo\n",
        "- "
       ]
      },
      {
       "output_type": "stream",
       "stream": "stdout",
       "text": [
        " Triton - Triton : Male\n",
        "- "
       ]
      },
      {
       "output_type": "stream",
       "stream": "stdout",
       "text": [
        " Lionheart - Lionheart : Female\n",
        "*** Remove this character "
       ]
      },
      {
       "output_type": "stream",
       "stream": "stdout",
       "text": [
        " Captain Marvel (Carol Danvers)\n",
        "- "
       ]
      },
      {
       "output_type": "stream",
       "stream": "stdout",
       "text": [
        " Sersi - Sersi : Female\n",
        "- "
       ]
      },
      {
       "output_type": "stream",
       "stream": "stdout",
       "text": [
        " Controller - Controller : Male\n",
        "- "
       ]
      },
      {
       "output_type": "stream",
       "stream": "stdout",
       "text": [
        " Mr. Hyde - Mr. Hyde : Male\n",
        "- "
       ]
      },
      {
       "output_type": "stream",
       "stream": "stdout",
       "text": [
        " Whirlwind - Whirlwind : Male\n",
        "- "
       ]
      },
      {
       "output_type": "stream",
       "stream": "stdout",
       "text": [
        " Nighthawk - Nighthawk : Male\n",
        "- "
       ]
      },
      {
       "output_type": "stream",
       "stream": "stdout",
       "text": [
        " Valkyrie - Valkyrie : Female\n",
        "- "
       ]
      },
      {
       "output_type": "stream",
       "stream": "stdout",
       "text": [
        " Hellcat (Patsy Walker) - Hellcat : Female\n",
        "- "
       ]
      },
      {
       "output_type": "stream",
       "stream": "stdout",
       "text": [
        " Adam Warlock - Adam Warlock : Male\n",
        "- "
       ]
      },
      {
       "output_type": "stream",
       "stream": "stdout",
       "text": [
        " Ulik - Ulik : Male\n",
        "- "
       ]
      },
      {
       "output_type": "stream",
       "stream": "stdout",
       "text": [
        " Moonstone - Moonstone : Female\n",
        "- "
       ]
      },
      {
       "output_type": "stream",
       "stream": "stdout",
       "text": [
        " Nebula - Nebula : Female\n",
        "- "
       ]
      },
      {
       "output_type": "stream",
       "stream": "stdout",
       "text": [
        " Boom Boom - Boom Boom : Male\n",
        "*** Remove this character "
       ]
      },
      {
       "output_type": "stream",
       "stream": "stdout",
       "text": [
        " Dreadnoughts\n",
        "- "
       ]
      },
      {
       "output_type": "stream",
       "stream": "stdout",
       "text": [
        " Typhoid Mary - Typhoid Mary : Female\n",
        "- "
       ]
      },
      {
       "output_type": "stream",
       "stream": "stdout",
       "text": [
        " Boomerang - Boomerang : Male\n",
        "- "
       ]
      },
      {
       "output_type": "stream",
       "stream": "stdout",
       "text": [
        " Howard The Duck - Howard the Duck : Male\n",
        "- "
       ]
      },
      {
       "output_type": "stream",
       "stream": "stdout",
       "text": [
        " Lightspeed - Julie Power : Female\n",
        "- "
       ]
      },
      {
       "output_type": "stream",
       "stream": "stdout",
       "text": [
        " Titania - Titania : Female\n",
        "- "
       ]
      },
      {
       "output_type": "stream",
       "stream": "stdout",
       "text": [
        " Enchantress (Amora) - Enchantress : Female\n",
        "- "
       ]
      },
      {
       "output_type": "stream",
       "stream": "stdout",
       "text": [
        " Anita Blake - Anita Blake : Female\n",
        "- "
       ]
      },
      {
       "output_type": "stream",
       "stream": "stdout",
       "text": [
        " Humbug - Humbug : Male\n",
        "- "
       ]
      },
      {
       "output_type": "stream",
       "stream": "stdout",
       "text": [
        " Colleen Wing - Colleen Wing : Female\n",
        "- "
       ]
      },
      {
       "output_type": "stream",
       "stream": "stdout",
       "text": [
        " Dracula - Dracula : Male\n",
        "- "
       ]
      },
      {
       "output_type": "stream",
       "stream": "stdout",
       "text": [
        " Hellion - Hellion : Male\n",
        "- "
       ]
      },
      {
       "output_type": "stream",
       "stream": "stdout",
       "text": [
        " Mercury - Mercury : Male\n",
        "- "
       ]
      },
      {
       "output_type": "stream",
       "stream": "stdout",
       "text": [
        " Misty Knight - Misty Knight : Female\n",
        "- "
       ]
      },
      {
       "output_type": "stream",
       "stream": "stdout",
       "text": [
        " Black Tarantula - Black Tarantula : Male\n",
        "- "
       ]
      },
      {
       "output_type": "stream",
       "stream": "stdout",
       "text": [
        " Microbe - Microbe : Male\n",
        "- "
       ]
      },
      {
       "output_type": "stream",
       "stream": "stdout",
       "text": [
        " Molly Hayes - Molly Hayes : Female\n",
        "- "
       ]
      },
      {
       "output_type": "stream",
       "stream": "stdout",
       "text": [
        " Rockslide - Rockslide : Male\n",
        "- "
       ]
      },
      {
       "output_type": "stream",
       "stream": "stdout",
       "text": [
        " Songbird - Songbird : Female\n",
        "- "
       ]
      },
      {
       "output_type": "stream",
       "stream": "stdout",
       "text": [
        " Surge - Surge : Female\n",
        "*** Remove this character "
       ]
      },
      {
       "output_type": "stream",
       "stream": "stdout",
       "text": [
        " Union Jack (Joseph Chapman)\n",
        "- "
       ]
      },
      {
       "output_type": "stream",
       "stream": "stdout",
       "text": [
        " Virginia Dare - Snowbird : Female\n",
        "- "
       ]
      },
      {
       "output_type": "stream",
       "stream": "stdout",
       "text": [
        " Elsa Bloodstone - Elsa Bloodstone : Female\n",
        "- "
       ]
      },
      {
       "output_type": "stream",
       "stream": "stdout",
       "text": [
        " Iron Lad - Iron Lad : Male\n",
        "- "
       ]
      },
      {
       "output_type": "stream",
       "stream": "stdout",
       "text": [
        " Spectrum - Spectrum : Male\n",
        "- "
       ]
      },
      {
       "output_type": "stream",
       "stream": "stdout",
       "text": [
        " Nuke - Nuke : Male\n",
        "- "
       ]
      },
      {
       "output_type": "stream",
       "stream": "stdout",
       "text": [
        " Shape - The Shape : Male\n",
        "- "
       ]
      },
      {
       "output_type": "stream",
       "stream": "stdout",
       "text": [
        " Tarantula (Luis Alvarez) - Tarantula (Alvarez) : Male\n",
        "- "
       ]
      },
      {
       "output_type": "stream",
       "stream": "stdout",
       "text": [
        " Debrii - Debrii : Female\n",
        "- "
       ]
      },
      {
       "output_type": "stream",
       "stream": "stdout",
       "text": [
        " Asgardian - Wiccan : Male\n",
        "- "
       ]
      },
      {
       "output_type": "stream",
       "stream": "stdout",
       "text": [
        " Daimon Hellstrom - Hellstorm : Male\n",
        "- "
       ]
      },
      {
       "output_type": "stream",
       "stream": "stdout",
       "text": [
        " Human Robot - M-11 : Other\n",
        "- "
       ]
      },
      {
       "output_type": "stream",
       "stream": "stdout",
       "text": [
        " M.O.D.O.K. - M.O.D.O.K. : Male\n",
        "- "
       ]
      },
      {
       "output_type": "stream",
       "stream": "stdout",
       "text": [
        " The Executioner - Executioner : Male\n",
        "- "
       ]
      },
      {
       "output_type": "stream",
       "stream": "stdout",
       "text": [
        " Gorilla Man - Gorilla-Man : Male\n",
        "- "
       ]
      },
      {
       "output_type": "stream",
       "stream": "stdout",
       "text": [
        " Drax - Drax the Destroyer : Male\n",
        "- "
       ]
      },
      {
       "output_type": "stream",
       "stream": "stdout",
       "text": [
        " Jack Flag - Jack Flag : Male\n",
        "- "
       ]
      },
      {
       "output_type": "stream",
       "stream": "stdout",
       "text": [
        " The Winter Soldier - Bucky Barnes : Male\n",
        "- "
       ]
      },
      {
       "output_type": "stream",
       "stream": "stdout",
       "text": [
        " Groot - Groot : Male\n",
        "- "
       ]
      },
      {
       "output_type": "stream",
       "stream": "stdout",
       "text": [
        " Nico Minoru - Nico Minoru : Female\n",
        "- "
       ]
      },
      {
       "output_type": "stream",
       "stream": "stdout",
       "text": [
        " Gertrude Yorkes - Gertrude Yorkes : Female\n",
        "- "
       ]
      },
      {
       "output_type": "stream",
       "stream": "stdout",
       "text": [
        " Karolina Dean  - Karolina Dean : Female\n",
        "- "
       ]
      },
      {
       "output_type": "stream",
       "stream": "stdout",
       "text": [
        " Chase Stein - Chase Stein : Male\n",
        "- "
       ]
      },
      {
       "output_type": "stream",
       "stream": "stdout",
       "text": [
        " Alex Wilder - Alex Wilder : Male\n",
        "- "
       ]
      },
      {
       "output_type": "stream",
       "stream": "stdout",
       "text": [
        " Justice - Justice : Male\n",
        "- "
       ]
      },
      {
       "output_type": "stream",
       "stream": "stdout",
       "text": [
        " Sleepwalker - Sleepwalker : Male\n",
        "- "
       ]
      },
      {
       "output_type": "stream",
       "stream": "stdout",
       "text": [
        " Gamora - Gamora : Female\n",
        "- "
       ]
      },
      {
       "output_type": "stream",
       "stream": "stdout",
       "text": [
        " Stardust - Stardust : Other\n",
        "- "
       ]
      },
      {
       "output_type": "stream",
       "stream": "stdout",
       "text": [
        " Werewolf By Night - Werewolf By Night : Male\n",
        "- "
       ]
      },
      {
       "output_type": "stream",
       "stream": "stdout",
       "text": [
        " Random - Random : Male\n",
        "*** Remove this character "
       ]
      },
      {
       "output_type": "stream",
       "stream": "stdout",
       "text": [
        " Loners\n",
        "- "
       ]
      },
      {
       "output_type": "stream",
       "stream": "stdout",
       "text": [
        " Rocket Racer - Rocket Racer : Male\n",
        "- "
       ]
      },
      {
       "output_type": "stream",
       "stream": "stdout",
       "text": [
        " Arachne - Arachne : Female\n",
        "*** Remove this character "
       ]
      },
      {
       "output_type": "stream",
       "stream": "stdout",
       "text": [
        " Quasar (Wendell Vaughn)\n",
        "- "
       ]
      },
      {
       "output_type": "stream",
       "stream": "stdout",
       "text": [
        " Pete Wisdom - Pete Wisdom : Male\n",
        "- "
       ]
      },
      {
       "output_type": "stream",
       "stream": "stdout",
       "text": [
        " Ben Urich - Ben Urich : Male\n",
        "- "
       ]
      },
      {
       "output_type": "stream",
       "stream": "stdout",
       "text": [
        " Ares - Ares : Male\n",
        "- "
       ]
      },
      {
       "output_type": "stream",
       "stream": "stdout",
       "text": [
        " Echo - Echo : Female\n",
        "- "
       ]
      },
      {
       "output_type": "stream",
       "stream": "stdout",
       "text": [
        " Sub-Mariner - Namor : Male\n",
        "- "
       ]
      },
      {
       "output_type": "stream",
       "stream": "stdout",
       "text": [
        " Nitro - Nitro : Male\n",
        "- "
       ]
      },
      {
       "output_type": "stream",
       "stream": "stdout",
       "text": [
        " Machine Man - Machine Man : Male\n",
        "- "
       ]
      },
      {
       "output_type": "stream",
       "stream": "stdout",
       "text": [
        " Eternals - Eternity : Male\n",
        "- "
       ]
      },
      {
       "output_type": "stream",
       "stream": "stdout",
       "text": [
        " Man-Wolf - Man-Killer Wolf : Male\n",
        "- "
       ]
      },
      {
       "output_type": "stream",
       "stream": "stdout",
       "text": [
        " Celestials - Celestial Golem : Other\n",
        "- "
       ]
      },
      {
       "output_type": "stream",
       "stream": "stdout",
       "text": [
        " Hate-Monger (Adolf Hitler) - Hate-Monger : Male\n",
        "- "
       ]
      },
      {
       "output_type": "stream",
       "stream": "stdout",
       "text": [
        " Rage - Rage : Male\n",
        "- "
       ]
      },
      {
       "output_type": "stream",
       "stream": "stdout",
       "text": [
        " Texas Twister - Texas Twister : Male\n",
        "- "
       ]
      },
      {
       "output_type": "stream",
       "stream": "stdout",
       "text": [
        " Thor Girl - Thor Girl : Female\n",
        "- "
       ]
      },
      {
       "output_type": "stream",
       "stream": "stdout",
       "text": [
        " Trauma - Trauma : Male\n",
        "- "
       ]
      },
      {
       "output_type": "stream",
       "stream": "stdout",
       "text": [
        " Cloud 9 - Cloud 9 : Female\n",
        "- "
       ]
      },
      {
       "output_type": "stream",
       "stream": "stdout",
       "text": [
        " Stature - Stature : Female\n",
        "- "
       ]
      },
      {
       "output_type": "stream",
       "stream": "stdout",
       "text": [
        " Bengal - Bengal : Male\n",
        "- "
       ]
      },
      {
       "output_type": "stream",
       "stream": "stdout",
       "text": [
        " Blazing Skull - Blazing Skull : Male\n",
        "- "
       ]
      },
      {
       "output_type": "stream",
       "stream": "stdout",
       "text": [
        " Speed - Speed : Male\n",
        "- "
       ]
      },
      {
       "output_type": "stream",
       "stream": "stdout",
       "text": [
        " Siren - The Siren : Female\n",
        "- "
       ]
      },
      {
       "output_type": "stream",
       "stream": "stdout",
       "text": [
        " Asylum - Asylum : Male\n",
        "- "
       ]
      },
      {
       "output_type": "stream",
       "stream": "stdout",
       "text": [
        " Hindsight Lad - Hindsight : Male\n",
        "- "
       ]
      },
      {
       "output_type": "stream",
       "stream": "stdout",
       "text": [
        " Mr. Immortal - Mr. Immortal : Male\n",
        "- "
       ]
      },
      {
       "output_type": "stream",
       "stream": "stdout",
       "text": [
        " Big Bertha - Big Bertha : Female\n",
        "- "
       ]
      },
      {
       "output_type": "stream",
       "stream": "stdout",
       "text": [
        " Ironclad - Ironclad : Male\n",
        "*** Remove this character "
       ]
      },
      {
       "output_type": "stream",
       "stream": "stdout",
       "text": [
        " Aegis (Trey Rollins)\n",
        "- "
       ]
      },
      {
       "output_type": "stream",
       "stream": "stdout",
       "text": [
        " Silhouette - Silhouette : Female\n",
        "- "
       ]
      },
      {
       "output_type": "stream",
       "stream": "stdout",
       "text": [
        " Wallflower - Wallflower : Female\n",
        "- "
       ]
      },
      {
       "output_type": "stream",
       "stream": "stdout",
       "text": [
        " Two-Gun Kid - Two-Gun Kid : Male\n",
        "- "
       ]
      },
      {
       "output_type": "stream",
       "stream": "stdout",
       "text": [
        " Living Lightning - Living Lightning : Male\n",
        "*** Remove this character "
       ]
      },
      {
       "output_type": "stream",
       "stream": "stdout",
       "text": [
        " Solo (James Bourne)\n",
        "- "
       ]
      },
      {
       "output_type": "stream",
       "stream": "stdout",
       "text": [
        " Timeslip - Timeslip : Female\n",
        "- "
       ]
      },
      {
       "output_type": "stream",
       "stream": "stdout",
       "text": [
        " Shockwave - Shockwave : Female\n",
        "- "
       ]
      },
      {
       "output_type": "stream",
       "stream": "stdout",
       "text": [
        " Squirrel Girl - Squirrel Girl : Female\n",
        "- "
       ]
      },
      {
       "output_type": "stream",
       "stream": "stdout",
       "text": [
        " Unicorn - Unicorn : Male\n",
        "- "
       ]
      },
      {
       "output_type": "stream",
       "stream": "stdout",
       "text": [
        " Flatman - Flatman : Male\n",
        "- "
       ]
      },
      {
       "output_type": "stream",
       "stream": "stdout",
       "text": [
        " Silverclaw - Silverclaw : Female\n",
        "- "
       ]
      },
      {
       "output_type": "stream",
       "stream": "stdout",
       "text": [
        " Puff Adder - Puff Adder : Male\n",
        "- "
       ]
      },
      {
       "output_type": "stream",
       "stream": "stdout",
       "text": [
        " Aqueduct - Aqueduct : Male\n",
        "- "
       ]
      },
      {
       "output_type": "stream",
       "stream": "stdout",
       "text": [
        " Firebird - Firebird : Female\n",
        "- "
       ]
      },
      {
       "output_type": "stream",
       "stream": "stdout",
       "text": [
        " Ajaxis - Ajaxis : Male\n",
        "- "
       ]
      },
      {
       "output_type": "stream",
       "stream": "stdout",
       "text": [
        " Micromax - Micromax : Male\n",
        "- "
       ]
      },
      {
       "output_type": "stream",
       "stream": "stdout",
       "text": [
        " Vector - Vector : Female\n",
        "- "
       ]
      },
      {
       "output_type": "stream",
       "stream": "stdout",
       "text": [
        " Paladin - Paladin : Male\n",
        "- "
       ]
      },
      {
       "output_type": "stream",
       "stream": "stdout",
       "text": [
        " Slyde - Slyde : Male\n",
        "- "
       ]
      },
      {
       "output_type": "stream",
       "stream": "stdout",
       "text": [
        " Mongoose - Mongoose : Male\n",
        "- "
       ]
      },
      {
       "output_type": "stream",
       "stream": "stdout",
       "text": [
        " Mathemanic - Mathemanic : Male\n",
        "- "
       ]
      },
      {
       "output_type": "stream",
       "stream": "stdout",
       "text": [
        " Doorman - Doorman : Male\n",
        "*** Remove this character "
       ]
      },
      {
       "output_type": "stream",
       "stream": "stdout",
       "text": [
        " Fixer (Paul Norbert Ebersol)\n",
        "- "
       ]
      },
      {
       "output_type": "stream",
       "stream": "stdout",
       "text": [
        " Blacklash - Blacklash : Male\n",
        "- "
       ]
      },
      {
       "output_type": "stream",
       "stream": "stdout",
       "text": [
        " Old Lace - Old Lace : Female\n",
        "- "
       ]
      },
      {
       "output_type": "stream",
       "stream": "stdout",
       "text": [
        " Wrecker - Wrecker : Male\n",
        "- "
       ]
      },
      {
       "output_type": "stream",
       "stream": "stdout",
       "text": [
        " Thunderball - Thunderball : Male\n",
        "- "
       ]
      },
      {
       "output_type": "stream",
       "stream": "stdout",
       "text": [
        " Piledriver - Piledriver : Male\n",
        "- "
       ]
      },
      {
       "output_type": "stream",
       "stream": "stdout",
       "text": [
        " Bulldozer - Bulldozer : Male\n",
        "- "
       ]
      },
      {
       "output_type": "stream",
       "stream": "stdout",
       "text": [
        " Millie the Model - Millie the Model : Female\n",
        "- "
       ]
      },
      {
       "output_type": "stream",
       "stream": "stdout",
       "text": [
        " Sharon Ventura - Sharon Ventura : Female\n",
        "- "
       ]
      },
      {
       "output_type": "stream",
       "stream": "stdout",
       "text": [
        " Lyja - Lyja : Female\n",
        "- "
       ]
      },
      {
       "output_type": "stream",
       "stream": "stdout",
       "text": [
        " Sin - Sin : Female\n",
        "- "
       ]
      },
      {
       "output_type": "stream",
       "stream": "stdout",
       "text": [
        " Spitfire - Spitfire : Female\n",
        "- "
       ]
      },
      {
       "output_type": "stream",
       "stream": "stdout",
       "text": [
        " Amun - Amun : Male\n",
        "- "
       ]
      },
      {
       "output_type": "stream",
       "stream": "stdout",
       "text": [
        " Baron Zemo (Helmut Zemo) - Baron Helmut Zemo : Male\n",
        "- "
       ]
      },
      {
       "output_type": "stream",
       "stream": "stdout",
       "text": [
        " Dark Beast - Dark Beast : Male\n",
        "*** Remove this character "
       ]
      },
      {
       "output_type": "stream",
       "stream": "stdout",
       "text": [
        " Callisto (Age of Apocalypse)\n",
        "- "
       ]
      },
      {
       "output_type": "stream",
       "stream": "stdout",
       "text": [
        " Cyclops (Ultimate) - Cyclops : Male\n",
        "- "
       ]
      },
      {
       "output_type": "stream",
       "stream": "stdout",
       "text": [
        " Dazzler (Ultimate) - Dazzler : Female\n",
        "*** Remove this character "
       ]
      },
      {
       "output_type": "stream",
       "stream": "stdout",
       "text": [
        " Electro (Ultimate)\n",
        "- "
       ]
      },
      {
       "output_type": "stream",
       "stream": "stdout",
       "text": [
        " Ghost Rider (Daniel Ketch) - Ghost Rider (Ketch) : Male\n",
        "- "
       ]
      },
      {
       "output_type": "stream",
       "stream": "stdout",
       "text": [
        " Hobgoblin (Robin Borne) - Hobgoblin 2211 : Female\n",
        "- "
       ]
      },
      {
       "output_type": "stream",
       "stream": "stdout",
       "text": [
        " Josiah X - Josiah X : Male\n",
        "- "
       ]
      },
      {
       "output_type": "stream",
       "stream": "stdout",
       "text": [
        " Joshua Kane - Joshua Kale : Male\n",
        "- "
       ]
      },
      {
       "output_type": "stream",
       "stream": "stdout",
       "text": [
        " Lizard (Ultimate) - Lizard : Male\n",
        "- "
       ]
      },
      {
       "output_type": "stream",
       "stream": "stdout",
       "text": [
        " Magik (Amanda Sefton) - Magik : Female\n",
        "*** Remove this character "
       ]
      },
      {
       "output_type": "stream",
       "stream": "stdout",
       "text": [
        " Maverick (Chris Bradley)\n",
        "- "
       ]
      },
      {
       "output_type": "stream",
       "stream": "stdout",
       "text": [
        " Mysterio (Daniel Berkhart) - Mysterio (Berkhart) : Male\n",
        "*** Remove this character "
       ]
      },
      {
       "output_type": "stream",
       "stream": "stdout",
       "text": [
        " Mystique (Age of Apocalypse)\n",
        "*** Remove this character "
       ]
      },
      {
       "output_type": "stream",
       "stream": "stdout",
       "text": [
        " Mystique (House of M)\n",
        "- "
       ]
      },
      {
       "output_type": "stream",
       "stream": "stdout",
       "text": [
        " Nova (Frankie Raye) - Nova : Female\n",
        "- "
       ]
      },
      {
       "output_type": "stream",
       "stream": "stdout",
       "text": [
        " Orphan-Maker - Orphan Maker : Male\n",
        "*** Remove this character "
       ]
      },
      {
       "output_type": "stream",
       "stream": "stdout",
       "text": [
        " Proteus (Ultimate)\n",
        "- "
       ]
      },
      {
       "output_type": "stream",
       "stream": "stdout",
       "text": [
        " Red Skull (Albert Malik) - Red Skull (Malik) : Male\n",
        "- "
       ]
      },
      {
       "output_type": "stream",
       "stream": "stdout",
       "text": [
        " Sabretooth (Ultimate) - Sabretooth : Male\n",
        "- "
       ]
      },
      {
       "output_type": "stream",
       "stream": "stdout",
       "text": [
        " Sabretooth (House of M) - Sabretooth : Male\n",
        "*** Remove this character "
       ]
      },
      {
       "output_type": "stream",
       "stream": "stdout",
       "text": [
        " Shadowcat (Ultimate)\n",
        "*** Remove this character "
       ]
      },
      {
       "output_type": "stream",
       "stream": "stdout",
       "text": [
        " Shadowcat (Age of Apocalypse)\n",
        "*** Remove this character "
       ]
      },
      {
       "output_type": "stream",
       "stream": "stdout",
       "text": [
        " Silver Samurai (Age of Apocalypse)\n",
        "- "
       ]
      },
      {
       "output_type": "stream",
       "stream": "stdout",
       "text": [
        " Lieutenant Marcus Stone - Marcus Stone : Other\n",
        "- "
       ]
      },
      {
       "output_type": "stream",
       "stream": "stdout",
       "text": [
        " Storm (Ultimate) - Storm : Female\n",
        "- "
       ]
      },
      {
       "output_type": "stream",
       "stream": "stdout",
       "text": [
        " Storm (Age of Apocalypse) - Storm : Female\n",
        "- "
       ]
      },
      {
       "output_type": "stream",
       "stream": "stdout",
       "text": [
        " Franklin Storm - Franklin Storm : Male\n",
        "*** Remove this character "
       ]
      },
      {
       "output_type": "stream",
       "stream": "stdout",
       "text": [
        " Sunfire (Age of Apocalypse)\n",
        "- "
       ]
      },
      {
       "output_type": "stream",
       "stream": "stdout",
       "text": [
        " Thing (Ultimate) - Thing : Male\n",
        "*** Remove this character "
       ]
      },
      {
       "output_type": "stream",
       "stream": "stdout",
       "text": [
        " Union Jack (Montgomery Falsworth)\n",
        "- "
       ]
      },
      {
       "output_type": "stream",
       "stream": "stdout",
       "text": [
        " Union Jack (Brian Falsworth) - Brian Falsworth : Male\n",
        "*** Remove this character "
       ]
      },
      {
       "output_type": "stream",
       "stream": "stdout",
       "text": [
        " Unus (Ultimate)\n",
        "*** Remove this character "
       ]
      },
      {
       "output_type": "stream",
       "stream": "stdout",
       "text": [
        " Unus (Age of Apocalypse)\n",
        "*** Remove this character "
       ]
      },
      {
       "output_type": "stream",
       "stream": "stdout",
       "text": [
        " Unus (House of M)\n",
        "*** Remove this character "
       ]
      },
      {
       "output_type": "stream",
       "stream": "stdout",
       "text": [
        " Vanisher (Age of Apocalypse)\n",
        "- "
       ]
      },
      {
       "output_type": "stream",
       "stream": "stdout",
       "text": [
        " War Machine (Parnell Jacobs) - Parnell Jacobs : Male\n",
        "*** Remove this character "
       ]
      },
      {
       "output_type": "stream",
       "stream": "stdout",
       "text": [
        " Wolfsbane (Age of Apocalypse)\n",
        "- "
       ]
      },
      {
       "output_type": "stream",
       "stream": "stdout",
       "text": [
        " Yellowjacket (Rita DeMara) - Yellowjacket (DeMara) : Female\n",
        "- "
       ]
      },
      {
       "output_type": "stream",
       "stream": "stdout",
       "text": [
        " The Initiative - Initiate : Male\n",
        "- "
       ]
      },
      {
       "output_type": "stream",
       "stream": "stdout",
       "text": [
        " Daken - Daken : Male\n",
        "- "
       ]
      },
      {
       "output_type": "stream",
       "stream": "stdout",
       "text": [
        " Marvel Zombies - Zombie : Male\n",
        "- "
       ]
      },
      {
       "output_type": "stream",
       "stream": "stdout",
       "text": [
        " Wind Dancer - Sofia Mantega : Female\n",
        "- "
       ]
      },
      {
       "output_type": "stream",
       "stream": "stdout",
       "text": [
        " Spider-Man (Ultimate) - Spider-Man : Male\n",
        "- "
       ]
      },
      {
       "output_type": "stream",
       "stream": "stdout",
       "text": [
        " Vulcan (Gabriel Summers) - Vulcan : Male\n",
        "- "
       ]
      },
      {
       "output_type": "stream",
       "stream": "stdout",
       "text": [
        " Armadillo - Armadillo : Male\n",
        "- "
       ]
      },
      {
       "output_type": "stream",
       "stream": "stdout",
       "text": [
        " Lady Mastermind - Lady Mastermind : Female\n",
        "- "
       ]
      },
      {
       "output_type": "stream",
       "stream": "stdout",
       "text": [
        " Changeling - Morph : Male\n",
        "- "
       ]
      },
      {
       "output_type": "stream",
       "stream": "stdout",
       "text": [
        " Darwin - Darwin : Male\n",
        "- "
       ]
      },
      {
       "output_type": "stream",
       "stream": "stdout",
       "text": [
        " Sway - Sway : Female\n",
        "- "
       ]
      },
      {
       "output_type": "stream",
       "stream": "stdout",
       "text": [
        " Molecule Man - Molecule Man : Male\n",
        "- "
       ]
      },
      {
       "output_type": "stream",
       "stream": "stdout",
       "text": [
        " Darkhawk - Darkhawk : Male\n",
        "- "
       ]
      },
      {
       "output_type": "stream",
       "stream": "stdout",
       "text": [
        " Super-Adaptoid - Super-Adaptoid : Other\n",
        "- "
       ]
      },
      {
       "output_type": "stream",
       "stream": "stdout",
       "text": [
        " Thor (Ultimate) - Thor : Male\n",
        "- "
       ]
      },
      {
       "output_type": "stream",
       "stream": "stdout",
       "text": [
        " Mantis - Mantis : Female\n",
        "- "
       ]
      },
      {
       "output_type": "stream",
       "stream": "stdout",
       "text": [
        " Captain Universe - Captain Universe : Other\n",
        "- "
       ]
      },
      {
       "output_type": "stream",
       "stream": "stdout",
       "text": [
        " Owl - Owl : Male\n",
        "- "
       ]
      },
      {
       "output_type": "stream",
       "stream": "stdout",
       "text": [
        " Prodigy - Prodigy : Male\n",
        "- "
       ]
      },
      {
       "output_type": "stream",
       "stream": "stdout",
       "text": [
        " Speed Demon - Speed Demon : Male\n",
        "- "
       ]
      },
      {
       "output_type": "stream",
       "stream": "stdout",
       "text": [
        " Joystick - Joystick : Female\n",
        "- "
       ]
      },
      {
       "output_type": "stream",
       "stream": "stdout",
       "text": [
        " Terror - Terror : Male\n",
        "- "
       ]
      },
      {
       "output_type": "stream",
       "stream": "stdout",
       "text": [
        " Satana - Satana : Female\n",
        "- "
       ]
      },
      {
       "output_type": "stream",
       "stream": "stdout",
       "text": [
        " Deathcry - Deathcry : Female\n",
        "- "
       ]
      },
      {
       "output_type": "stream",
       "stream": "stdout",
       "text": [
        " Bug - The Bug : Male\n",
        "- "
       ]
      },
      {
       "output_type": "stream",
       "stream": "stdout",
       "text": [
        " Centennial - Centennial : Male\n",
        "- "
       ]
      },
      {
       "output_type": "stream",
       "stream": "stdout",
       "text": [
        " Dinah Soar - Dinah Soar : Female\n",
        "- "
       ]
      },
      {
       "output_type": "stream",
       "stream": "stdout",
       "text": [
        " Wither - Wither : Male\n",
        "- "
       ]
      },
      {
       "output_type": "stream",
       "stream": "stdout",
       "text": [
        " Photon - Photon : Female\n",
        "- "
       ]
      },
      {
       "output_type": "stream",
       "stream": "stdout",
       "text": [
        " Turbo - Turbo : Female\n",
        "- "
       ]
      },
      {
       "output_type": "stream",
       "stream": "stdout",
       "text": [
        " Scalphunter - Scalphunter : Male\n",
        "- "
       ]
      },
      {
       "output_type": "stream",
       "stream": "stdout",
       "text": [
        " Strong Guy - Strong Guy : Male\n",
        "- "
       ]
      },
      {
       "output_type": "stream",
       "stream": "stdout",
       "text": [
        " Cardiac - Cardiac : Male\n",
        "- "
       ]
      },
      {
       "output_type": "stream",
       "stream": "stdout",
       "text": [
        " Maelstrom - Maelstrom : Male\n",
        "- "
       ]
      },
      {
       "output_type": "stream",
       "stream": "stdout",
       "text": [
        " Spider-Man (1602) - Spider-Man : Male\n",
        "- "
       ]
      },
      {
       "output_type": "stream",
       "stream": "stdout",
       "text": [
        " Gideon - Gideon : Male\n",
        "- "
       ]
      },
      {
       "output_type": "stream",
       "stream": "stdout",
       "text": [
        " Multiple Man - Madrox : Male\n",
        "- "
       ]
      },
      {
       "output_type": "stream",
       "stream": "stdout",
       "text": [
        " Slapstick - Slapstick : Male\n",
        "- "
       ]
      },
      {
       "output_type": "stream",
       "stream": "stdout",
       "text": [
        " Kylun - Kylun : Male\n",
        "- "
       ]
      },
      {
       "output_type": "stream",
       "stream": "stdout",
       "text": [
        " Living Tribunal - Living Tribunal : Other\n",
        "- "
       ]
      },
      {
       "output_type": "stream",
       "stream": "stdout",
       "text": [
        " Ego - Ego : Male\n",
        "- "
       ]
      },
      {
       "output_type": "stream",
       "stream": "stdout",
       "text": [
        " Eternity - Eternity : Male\n",
        "- "
       ]
      },
      {
       "output_type": "stream",
       "stream": "stdout",
       "text": [
        " Stranger - Stranger : Male\n",
        "- "
       ]
      },
      {
       "output_type": "stream",
       "stream": "stdout",
       "text": [
        " In-Betweener - In-Betweener : Male\n",
        "- "
       ]
      },
      {
       "output_type": "stream",
       "stream": "stdout",
       "text": [
        " Inertia - Inertia : Female\n",
        "- "
       ]
      },
      {
       "output_type": "stream",
       "stream": "stdout",
       "text": [
        " Epoch - Epoch : Female\n",
        "- "
       ]
      },
      {
       "output_type": "stream",
       "stream": "stdout",
       "text": [
        " Victor Mancha - Victor Mancha : Male\n",
        "- "
       ]
      },
      {
       "output_type": "stream",
       "stream": "stdout",
       "text": [
        " Harrier - Harrier : Male\n",
        "- "
       ]
      },
      {
       "output_type": "stream",
       "stream": "stdout",
       "text": [
        " Slayback - Slayback : Male\n",
        "- "
       ]
      },
      {
       "output_type": "stream",
       "stream": "stdout",
       "text": [
        " Demogoblin - Demogoblin : Male\n",
        "- "
       ]
      },
      {
       "output_type": "stream",
       "stream": "stdout",
       "text": [
        " Edwin Jarvis - Jarvis : Male\n",
        "- "
       ]
      },
      {
       "output_type": "stream",
       "stream": "stdout",
       "text": [
        " Bloodaxe - Bloodaxe : Female\n",
        "- "
       ]
      },
      {
       "output_type": "stream",
       "stream": "stdout",
       "text": [
        " Swarm - Swarm : Male\n",
        "- "
       ]
      },
      {
       "output_type": "stream",
       "stream": "stdout",
       "text": [
        " Grandmaster - Grandmaster : Male\n",
        "- "
       ]
      },
      {
       "output_type": "stream",
       "stream": "stdout",
       "text": [
        " Ikaris - Ikaris : Male\n",
        "- "
       ]
      },
      {
       "output_type": "stream",
       "stream": "stdout",
       "text": [
        " Korg - Korg : Male\n",
        "- "
       ]
      },
      {
       "output_type": "stream",
       "stream": "stdout",
       "text": [
        " Ka-Zar - Ka-Zar : Male\n",
        "- "
       ]
      },
      {
       "output_type": "stream",
       "stream": "stdout",
       "text": [
        " Elixir - Elixir : Male\n",
        "- "
       ]
      },
      {
       "output_type": "stream",
       "stream": "stdout",
       "text": [
        " Starfox - Starfox : Male\n",
        "- "
       ]
      },
      {
       "output_type": "stream",
       "stream": "stdout",
       "text": [
        " Dead Girl - Dead Girl : Female\n",
        "- "
       ]
      },
      {
       "output_type": "stream",
       "stream": "stdout",
       "text": [
        " Morlun - Morlun : Male\n",
        "- "
       ]
      },
      {
       "output_type": "stream",
       "stream": "stdout",
       "text": [
        " Leech - Leech : Male\n",
        "- "
       ]
      },
      {
       "output_type": "stream",
       "stream": "stdout",
       "text": [
        " Shi'Ar - Shell : Male\n",
        "- "
       ]
      },
      {
       "output_type": "stream",
       "stream": "stdout",
       "text": [
        " Mentallo - Mentallo : Male\n",
        "- "
       ]
      },
      {
       "output_type": "stream",
       "stream": "stdout",
       "text": [
        " Layla Miller - Layla Miller : Female\n",
        "- "
       ]
      },
      {
       "output_type": "stream",
       "stream": "stdout",
       "text": [
        " Jimmy Woo - Jimmy Woo : Male\n",
        "- "
       ]
      },
      {
       "output_type": "stream",
       "stream": "stdout",
       "text": [
        " Venus (Siren) - Venus : Female\n",
        "- "
       ]
      },
      {
       "output_type": "stream",
       "stream": "stdout",
       "text": [
        " Deviants - Deviant Child : Female\n",
        "- "
       ]
      },
      {
       "output_type": "stream",
       "stream": "stdout",
       "text": [
        " Civil War - War : Male\n",
        "- "
       ]
      },
      {
       "output_type": "stream",
       "stream": "stdout",
       "text": [
        " Spider-Man (Marvel Zombies) - Spider-Man : Male\n",
        "- "
       ]
      },
      {
       "output_type": "stream",
       "stream": "stdout",
       "text": [
        " Hulk (Marvel Zombies) - Hulk : Male\n",
        "- "
       ]
      },
      {
       "output_type": "stream",
       "stream": "stdout",
       "text": [
        " Bob, Agent of Hydra - Bob, Agent of HYDRA : Male\n",
        "- "
       ]
      },
      {
       "output_type": "stream",
       "stream": "stdout",
       "text": [
        " Zodiak - Zodiak : Male\n",
        "- "
       ]
      },
      {
       "output_type": "stream",
       "stream": "stdout",
       "text": [
        " Weapon Omega - Wild Child : Male\n",
        "- "
       ]
      },
      {
       "output_type": "stream",
       "stream": "stdout",
       "text": [
        " Baroness S'Bak - Baroness S'Bak : Female\n",
        "- "
       ]
      },
      {
       "output_type": "stream",
       "stream": "stdout",
       "text": [
        " Beyonder - Beyonder : Other\n",
        "- "
       ]
      },
      {
       "output_type": "stream",
       "stream": "stdout",
       "text": [
        " Cammi - Cammi : Female\n",
        "- "
       ]
      },
      {
       "output_type": "stream",
       "stream": "stdout",
       "text": [
        " Cerise - Cerise : Female\n",
        "- "
       ]
      },
      {
       "output_type": "stream",
       "stream": "stdout",
       "text": [
        " Devos - Devo : Male\n",
        "- "
       ]
      },
      {
       "output_type": "stream",
       "stream": "stdout",
       "text": [
        " Fallen One - Fallen One : Male\n",
        "- "
       ]
      },
      {
       "output_type": "stream",
       "stream": "stdout",
       "text": [
        " Glorian - Glorian : Male\n",
        "- "
       ]
      },
      {
       "output_type": "stream",
       "stream": "stdout",
       "text": [
        " Lord Hawal - Lord Deathstrike : Male\n",
        "- "
       ]
      },
      {
       "output_type": "stream",
       "stream": "stdout",
       "text": [
        " Infant Terrible - Delinquent : Male\n",
        "- "
       ]
      },
      {
       "output_type": "stream",
       "stream": "stdout",
       "text": [
        " Korath - Korath the Pursuer : Male\n",
        "- "
       ]
      },
      {
       "output_type": "stream",
       "stream": "stdout",
       "text": [
        " Kree - Kree-Tor : Male\n",
        "- "
       ]
      },
      {
       "output_type": "stream",
       "stream": "stdout",
       "text": [
        " Tana Nile - Tana Nile : Female\n",
        "- "
       ]
      },
      {
       "output_type": "stream",
       "stream": "stdout",
       "text": [
        " Paibok - Paibok The Power Skrull : Male\n",
        "- "
       ]
      },
      {
       "output_type": "stream",
       "stream": "stdout",
       "text": [
        " Praxagora - Praxagora : Female\n",
        "- "
       ]
      },
      {
       "output_type": "stream",
       "stream": "stdout",
       "text": [
        " Preak - Preak : Male\n",
        "- "
       ]
      },
      {
       "output_type": "stream",
       "stream": "stdout",
       "text": [
        " Ravenous - Ravenous : Male\n",
        "- "
       ]
      },
      {
       "output_type": "stream",
       "stream": "stdout",
       "text": [
        " Red Shift - Red Shift : Male\n",
        "- "
       ]
      },
      {
       "output_type": "stream",
       "stream": "stdout",
       "text": [
        " Salo - Admiral Salo : Other\n",
        "- "
       ]
      },
      {
       "output_type": "stream",
       "stream": "stdout",
       "text": [
        " Skreet - Skreet : Female\n",
        "- "
       ]
      },
      {
       "output_type": "stream",
       "stream": "stdout",
       "text": [
        " Spirit - Spirit : Female\n",
        "- "
       ]
      },
      {
       "output_type": "stream",
       "stream": "stdout",
       "text": [
        " Stellaris - Stellaris : Female\n",
        "- "
       ]
      },
      {
       "output_type": "stream",
       "stream": "stdout",
       "text": [
        " Supreme Intelligence - Supreme Intelligence : Other\n",
        "- "
       ]
      },
      {
       "output_type": "stream",
       "stream": "stdout",
       "text": [
        " Talos - Talos : Male\n",
        "- "
       ]
      },
      {
       "output_type": "stream",
       "stream": "stdout",
       "text": [
        " Tenebrous - Tenebrous : Male\n",
        "- "
       ]
      },
      {
       "output_type": "stream",
       "stream": "stdout",
       "text": [
        " Zarek - Zarek : Male\n",
        "- "
       ]
      },
      {
       "output_type": "stream",
       "stream": "stdout",
       "text": [
        " Aginar - Aginar : Male\n",
        "- "
       ]
      },
      {
       "output_type": "stream",
       "stream": "stdout",
       "text": [
        " Ajak - Ajak : Male\n",
        "- "
       ]
      },
      {
       "output_type": "stream",
       "stream": "stdout",
       "text": [
        " Forgotten One - Gilgamesh : Male\n",
        "- "
       ]
      },
      {
       "output_type": "stream",
       "stream": "stdout",
       "text": [
        " Kronos - Kronos : Male\n",
        "- "
       ]
      },
      {
       "output_type": "stream",
       "stream": "stdout",
       "text": [
        " Pixie - Pixie : Female\n",
        "- "
       ]
      },
      {
       "output_type": "stream",
       "stream": "stdout",
       "text": [
        " Sprite - Sprite : Male\n",
        "- "
       ]
      },
      {
       "output_type": "stream",
       "stream": "stdout",
       "text": [
        " Thena - Thena : Female\n",
        "- "
       ]
      },
      {
       "output_type": "stream",
       "stream": "stdout",
       "text": [
        " Vampiro - Vampiro : Male\n",
        "- "
       ]
      },
      {
       "output_type": "stream",
       "stream": "stdout",
       "text": [
        " Zuras - Zuras : Male\n",
        "- "
       ]
      },
      {
       "output_type": "stream",
       "stream": "stdout",
       "text": [
        " Ezekiel - Ezekiel : Male\n",
        "- "
       ]
      },
      {
       "output_type": "stream",
       "stream": "stdout",
       "text": [
        " Ord - Ord : Male\n",
        "- "
       ]
      },
      {
       "output_type": "stream",
       "stream": "stdout",
       "text": [
        " Mindworm - Mindworm : Male\n",
        "- "
       ]
      },
      {
       "output_type": "stream",
       "stream": "stdout",
       "text": [
        " Madripoor - Madripoor Dragon : Other\n",
        "- "
       ]
      },
      {
       "output_type": "stream",
       "stream": "stdout",
       "text": [
        " Anthem - Anthem : Male\n",
        "- "
       ]
      },
      {
       "output_type": "stream",
       "stream": "stdout",
       "text": [
        " Calamity - Calamity : Male\n",
        "- "
       ]
      },
      {
       "output_type": "stream",
       "stream": "stdout",
       "text": [
        " Sugar Man - Sugar Man : Male\n",
        "*** Remove this character "
       ]
      },
      {
       "output_type": "stream",
       "stream": "stdout",
       "text": [
        " The Fury\n",
        "- "
       ]
      },
      {
       "output_type": "stream",
       "stream": "stdout",
       "text": [
        " Mockingbird - Mockingbird : Female\n",
        "- "
       ]
      },
      {
       "output_type": "stream",
       "stream": "stdout",
       "text": [
        " Skaar - Skaar : Male\n",
        "- "
       ]
      },
      {
       "output_type": "stream",
       "stream": "stdout",
       "text": [
        " Scrambler - Scrambler : Male\n",
        "- "
       ]
      },
      {
       "output_type": "stream",
       "stream": "stdout",
       "text": [
        " Veda - Veda : Female\n",
        "- "
       ]
      },
      {
       "output_type": "stream",
       "stream": "stdout",
       "text": [
        " Supernaut - Supernaut : Male\n",
        "- "
       ]
      },
      {
       "output_type": "stream",
       "stream": "stdout",
       "text": [
        " Fat Cobra - Fat Cobra : Male\n",
        "- "
       ]
      },
      {
       "output_type": "stream",
       "stream": "stdout",
       "text": [
        " Menace - Menace : Female\n",
        "- "
       ]
      },
      {
       "output_type": "stream",
       "stream": "stdout",
       "text": [
        " Screwball - Screwball : Female\n",
        "- "
       ]
      },
      {
       "output_type": "stream",
       "stream": "stdout",
       "text": [
        " Mandrill - Mandrill : Male\n",
        "- "
       ]
      },
      {
       "output_type": "stream",
       "stream": "stdout",
       "text": [
        " Mr. Negative - Mister Negative : Male\n",
        "- "
       ]
      },
      {
       "output_type": "stream",
       "stream": "stdout",
       "text": [
        " Hypno-Hustler - Hypno-Hustler : Male\n",
        "- "
       ]
      },
      {
       "output_type": "stream",
       "stream": "stdout",
       "text": [
        " Geiger - Geiger : Female\n",
        "*** Remove this character "
       ]
      },
      {
       "output_type": "stream",
       "stream": "stdout",
       "text": [
        " Gladiator (Melvin Potter)\n",
        "- "
       ]
      },
      {
       "output_type": "stream",
       "stream": "stdout",
       "text": [
        " Carlie Cooper - Carlie Cooper : Female\n",
        "- "
       ]
      },
      {
       "output_type": "stream",
       "stream": "stdout",
       "text": [
        " Vin Gonzales - Vin Gonzales : Male\n",
        "- "
       ]
      },
      {
       "output_type": "stream",
       "stream": "stdout",
       "text": [
        " Blue Shield - Blue Shield : Male\n",
        "- "
       ]
      },
      {
       "output_type": "stream",
       "stream": "stdout",
       "text": [
        " Adam Destine - Adam Destine : Male\n",
        "- "
       ]
      },
      {
       "output_type": "stream",
       "stream": "stdout",
       "text": [
        " Wallop - Wallop : Male\n",
        "- "
       ]
      },
      {
       "output_type": "stream",
       "stream": "stdout",
       "text": [
        " Cuckoo - Cuckoo : Female\n",
        "- "
       ]
      },
      {
       "output_type": "stream",
       "stream": "stdout",
       "text": [
        " Crimson Crusader - Crimson Crusader : Male\n",
        "- "
       ]
      },
      {
       "output_type": "stream",
       "stream": "stdout",
       "text": [
        " Imp - Imp : Female\n",
        "- "
       ]
      },
      {
       "output_type": "stream",
       "stream": "stdout",
       "text": [
        " Hex - Hex : Male\n",
        "- "
       ]
      },
      {
       "output_type": "stream",
       "stream": "stdout",
       "text": [
        " Cap'n Oz - Cap'n Sharrr : Male\n",
        "- "
       ]
      },
      {
       "output_type": "stream",
       "stream": "stdout",
       "text": [
        " Cobalt Man - Cobalt Man : Male\n",
        "- "
       ]
      },
      {
       "output_type": "stream",
       "stream": "stdout",
       "text": [
        " Jackal - Jackal : Male\n",
        "- "
       ]
      },
      {
       "output_type": "stream",
       "stream": "stdout",
       "text": [
        " Wolf Cub - Wolf Cub : Male\n",
        "- "
       ]
      },
      {
       "output_type": "stream",
       "stream": "stdout",
       "text": [
        " Blindfold - Blindfold : Female\n",
        "- "
       ]
      },
      {
       "output_type": "stream",
       "stream": "stdout",
       "text": [
        " High Evolutionary - High Evolutionary : Male\n",
        "- "
       ]
      },
      {
       "output_type": "stream",
       "stream": "stdout",
       "text": [
        " Anole - Anole : Male\n",
        "- "
       ]
      },
      {
       "output_type": "stream",
       "stream": "stdout",
       "text": [
        " Thundra - Thundra : Female\n",
        "- "
       ]
      },
      {
       "output_type": "stream",
       "stream": "stdout",
       "text": [
        " Maximus - Maximus : Male\n",
        "- "
       ]
      },
      {
       "output_type": "stream",
       "stream": "stdout",
       "text": [
        " Star Brand - Star Brand : Male\n",
        "- "
       ]
      },
      {
       "output_type": "stream",
       "stream": "stdout",
       "text": [
        " Justin Hammer - Justin Hammer : Male\n",
        "- "
       ]
      },
      {
       "output_type": "stream",
       "stream": "stdout",
       "text": [
        " Ultimo - Ultimo : Other\n",
        "- "
       ]
      },
      {
       "output_type": "stream",
       "stream": "stdout",
       "text": [
        " Korvac - Korvac : Male\n",
        "- "
       ]
      },
      {
       "output_type": "stream",
       "stream": "stdout",
       "text": [
        " Junta - Junta : Male\n",
        "- "
       ]
      },
      {
       "output_type": "stream",
       "stream": "stdout",
       "text": [
        " Vapor - Vapor : Female\n",
        "- "
       ]
      },
      {
       "output_type": "stream",
       "stream": "stdout",
       "text": [
        " Ken Ellis - Ken Ellis : Male\n",
        "- "
       ]
      },
      {
       "output_type": "stream",
       "stream": "stdout",
       "text": [
        " Paper Doll - Paperdoll : Female\n",
        "- "
       ]
      },
      {
       "output_type": "stream",
       "stream": "stdout",
       "text": [
        " Lady Bullseye - Lady Bullseye : Female\n",
        "- "
       ]
      },
      {
       "output_type": "stream",
       "stream": "stdout",
       "text": [
        " Omega Sentinel - Omega Sentinel : Female\n",
        "- "
       ]
      },
      {
       "output_type": "stream",
       "stream": "stdout",
       "text": [
        " Revanche - Revanche : Female\n",
        "- "
       ]
      },
      {
       "output_type": "stream",
       "stream": "stdout",
       "text": [
        " 3-D Man - 3-D Man (Chandler) : Male\n",
        "- "
       ]
      },
      {
       "output_type": "stream",
       "stream": "stdout",
       "text": [
        " Maria Hill - Maria  Hill : Female\n",
        "- "
       ]
      },
      {
       "output_type": "stream",
       "stream": "stdout",
       "text": [
        " Blue Marvel - Blue Marvel : Male\n",
        "*** Remove this character "
       ]
      },
      {
       "output_type": "stream",
       "stream": "stdout",
       "text": [
        " Starhawk (Stakar Ogord)\n",
        "- "
       ]
      },
      {
       "output_type": "stream",
       "stream": "stdout",
       "text": [
        " Vance Astro - Major Victory : Male\n",
        "- "
       ]
      },
      {
       "output_type": "stream",
       "stream": "stdout",
       "text": [
        " Jamie Braddock - Jamie Braddock : Male\n",
        "- "
       ]
      },
      {
       "output_type": "stream",
       "stream": "stdout",
       "text": [
        " Jazinda - Jazinda : Female\n",
        "- "
       ]
      },
      {
       "output_type": "stream",
       "stream": "stdout",
       "text": [
        " Tinkerer - Tinkerer : Male\n",
        "- "
       ]
      },
      {
       "output_type": "stream",
       "stream": "stdout",
       "text": [
        " Spider-Ham (Larval Earth) - Spider-Ham : Male\n",
        "- "
       ]
      },
      {
       "output_type": "stream",
       "stream": "stdout",
       "text": [
        " Cosmo - Cosmo : Male\n",
        "- "
       ]
      },
      {
       "output_type": "stream",
       "stream": "stdout",
       "text": [
        " Red Hulk - Thunderbolt Ross : Male\n",
        "*** Remove this character "
       ]
      },
      {
       "output_type": "stream",
       "stream": "stdout",
       "text": [
        " American Eagle (Jason Strongbow)\n",
        "- "
       ]
      },
      {
       "output_type": "stream",
       "stream": "stdout",
       "text": [
        " Cottonmouth - Cottonmouth : Male\n",
        "*** Remove this character "
       ]
      },
      {
       "output_type": "stream",
       "stream": "stdout",
       "text": [
        " Vanisher (Telford Porter)\n",
        "- "
       ]
      },
      {
       "output_type": "stream",
       "stream": "stdout",
       "text": [
        " Molten Man - Molten Man : Male\n",
        "- "
       ]
      },
      {
       "output_type": "stream",
       "stream": "stdout",
       "text": [
        " Henry Peter Gyrich - Henry Gyrich : Male\n",
        "- "
       ]
      },
      {
       "output_type": "stream",
       "stream": "stdout",
       "text": [
        " Reptil - Reptil : Male\n",
        "- "
       ]
      },
      {
       "output_type": "stream",
       "stream": "stdout",
       "text": [
        " Cypher - Cypher : Male\n",
        "- "
       ]
      },
      {
       "output_type": "stream",
       "stream": "stdout",
       "text": [
        " Karma - Karma : Female\n",
        "- "
       ]
      },
      {
       "output_type": "stream",
       "stream": "stdout",
       "text": [
        " She-Hulk (Lyra) - She-Hulk : Female\n",
        "- "
       ]
      },
      {
       "output_type": "stream",
       "stream": "stdout",
       "text": [
        " She-Hulk (Ultimate) - She-Hulk : Female\n",
        "- "
       ]
      },
      {
       "output_type": "stream",
       "stream": "stdout",
       "text": [
        " Shiver Man - Shiver Man : Male\n",
        "*** Remove this character "
       ]
      },
      {
       "output_type": "stream",
       "stream": "stdout",
       "text": [
        " Talon (Fraternity of Raptors)\n",
        "- "
       ]
      },
      {
       "output_type": "stream",
       "stream": "stdout",
       "text": [
        " Romulus - Romulus : Male\n",
        "- "
       ]
      },
      {
       "output_type": "stream",
       "stream": "stdout",
       "text": [
        " Meggan - Meggan : Female\n",
        "- "
       ]
      },
      {
       "output_type": "stream",
       "stream": "stdout",
       "text": [
        " Lucky Pierre - Ernst Erskine : Male\n",
        "- "
       ]
      },
      {
       "output_type": "stream",
       "stream": "stdout",
       "text": [
        " Shadu the Shady - Shadu the Shady : Male\n",
        "- "
       ]
      },
      {
       "output_type": "stream",
       "stream": "stdout",
       "text": [
        " Contessa (Vera Vidal) - Contessa Vera Vidal : Female\n",
        "- "
       ]
      },
      {
       "output_type": "stream",
       "stream": "stdout",
       "text": [
        " Chores MacGillicudy - Chores : Male\n",
        "- "
       ]
      },
      {
       "output_type": "stream",
       "stream": "stdout",
       "text": [
        " Loa - Loa : Female\n",
        "*** Remove this character "
       ]
      },
      {
       "output_type": "stream",
       "stream": "stdout",
       "text": [
        " Grey Gargoyle\n",
        "*** Remove this character "
       ]
      },
      {
       "output_type": "stream",
       "stream": "stdout",
       "text": [
        " Nekra\n",
        "*** Remove this character "
       ]
      },
      {
       "output_type": "stream",
       "stream": "stdout",
       "text": [
        " Miss America\n",
        "*** Remove this character "
       ]
      },
      {
       "output_type": "stream",
       "stream": "stdout",
       "text": [
        " Whizzer (Stanley Stewart)\n",
        "*** Remove this character "
       ]
      },
      {
       "output_type": "stream",
       "stream": "stdout",
       "text": [
        " Scarlet Spider (Kaine)\n",
        "*** Remove this character "
       ]
      },
      {
       "output_type": "stream",
       "stream": "stdout",
       "text": [
        " Hope Summers\n",
        "*** Remove this character "
       ]
      },
      {
       "output_type": "stream",
       "stream": "stdout",
       "text": [
        " Enchantress (Sylvie Lushton)\n",
        "*** Remove this character "
       ]
      },
      {
       "output_type": "stream",
       "stream": "stdout",
       "text": [
        " Hank Pym\n",
        "*** Remove this character "
       ]
      },
      {
       "output_type": "stream",
       "stream": "stdout",
       "text": [
        " Azazel (Mutant)\n",
        "*** Remove this character "
       ]
      },
      {
       "output_type": "stream",
       "stream": "stdout",
       "text": [
        " Spider-Man (House of M)\n",
        "*** Remove this character "
       ]
      },
      {
       "output_type": "stream",
       "stream": "stdout",
       "text": [
        " Gargoyle (Yuri Topolov)\n",
        "*** Remove this character "
       ]
      },
      {
       "output_type": "stream",
       "stream": "stdout",
       "text": [
        " Spider-Man (2099)\n",
        "*** Remove this character "
       ]
      },
      {
       "output_type": "stream",
       "stream": "stdout",
       "text": [
        " Spider-Man (Miles Morales)\n"
       ]
      }
     ],
     "prompt_number": 217
    },
    {
     "cell_type": "code",
     "collapsed": false,
     "input": [
      "marvel_genders = {1:0, 2:0}\n",
      "comicVine_genders_2 = {0:0, 1:0, 2:0}\n",
      "\n",
      "for c in characters_with_data:\n",
      "    try:\n",
      "        # Marvel already tell us it's a girl.\n",
      "        if \"Women\" in c['wiki']['categories']:\n",
      "            print(\"+ \", c['name'], \":\", genders[2][1])\n",
      "            marvel_genders[2] += 1\n",
      "            comicVine_genders_2[2] += 1\n",
      "            \n",
      "        else:\n",
      "            c_name = re.sub(\"[\\(\\[].*?[\\)\\]]\", \"\", c['name']).rstrip()\n",
      "            values = {'api_key' : developer.get_comicvine_credentials(),\n",
      "                      'format' : 'json',\n",
      "                      'resources' : 'character',\n",
      "                      'limit':'20',\n",
      "                      'query':  c_name}\n",
      "\n",
      "            data = urlencode(values)\n",
      "            full_url = \"http://www.comicvine.com/api/search/\" + '?' + data\n",
      "            \n",
      "            try:\n",
      "                response = urlopen(full_url)\n",
      "\n",
      "                str_response = response.readall().decode('utf-8')\n",
      "                obj = json.loads(str_response)\n",
      "\n",
      "                m = re.search('\\((.*?)\\)', c['name'])\n",
      "                if m:\n",
      "                    disamb =  m.group(1)\n",
      "                    #print(\"Con par\u00e9ntesis: \", m.group(1), \" \", len(obj['results']))\n",
      "\n",
      "                #print(disamb, \"- \", c_name)\n",
      "                without_data = True\n",
      "                #Find the right one\n",
      "                for result in obj['results']:\n",
      "                    # TODO: clean this up. There is an idiomatic way to do it\n",
      "                    if 'publisher' in result.keys() and result['publisher']:\n",
      "                        if result['publisher']['name'] == 'Marvel':\n",
      "\n",
      "                            if not m:\n",
      "                                without_data = False\n",
      "                                #print(\"* \", c['name'], \"-\", result['name'], \":\", genders[result['gender']][1])\n",
      "                                #print(c['wiki']['categories'])\n",
      "                                break\n",
      "                            else:\n",
      "                                #print(\"* \", c_name, \",\", disamb, \"-\", result['real_name'], \"-\", result['name'],\n",
      "                                #      \"-> distance: \", distance.levenshtein(disamb, result['real_name']))\n",
      "                                if is_this_character(c_name, disamb, result):\n",
      "                                    without_data = False\n",
      "                                    break\n",
      "\n",
      "                if not without_data and get_gender(result):\n",
      "                    print(\"- \", c['name'], \"-\", result['name'], \":\", genders[result['gender']][1])\n",
      "                    marvel_genders[1] += 1\n",
      "                    comicVine_genders_2[result['gender']] += 1\n",
      "                    #print (marvel_genders, \" - \", comicVine_genders)\n",
      "\n",
      "                else:\n",
      "                    print (\"*** Remove this character \", c['name'])\n",
      "            except (HTTPError):\n",
      "                print (\"****** Remove this character \", c['name'])\n",
      "\n",
      "    except (KeyError, TypeError):    \n",
      "        pass"
     ],
     "language": "python",
     "metadata": {},
     "outputs": [
      {
       "output_type": "stream",
       "stream": "stdout",
       "text": [
        "*** Remove this character  Abomination (Emil Blonsky)\n",
        "- "
       ]
      },
      {
       "output_type": "stream",
       "stream": "stdout",
       "text": [
        " Absorbing Man - Absorbing Man : Male\n",
        "- "
       ]
      },
      {
       "output_type": "stream",
       "stream": "stdout",
       "text": [
        " Abyss - Abyss : Other\n",
        "- "
       ]
      },
      {
       "output_type": "stream",
       "stream": "stdout",
       "text": [
        " Agent Zero - Maverick : Male\n",
        "- "
       ]
      },
      {
       "output_type": "stream",
       "stream": "stdout",
       "text": [
        " Annihilus - Annihilus : Male\n",
        "- "
       ]
      },
      {
       "output_type": "stream",
       "stream": "stdout",
       "text": [
        " Apocalypse - Apocalypse : Male\n",
        "+  Spider-Girl (Anya Corazon) : Female\n",
        "- "
       ]
      },
      {
       "output_type": "stream",
       "stream": "stdout",
       "text": [
        " Arcade - Arcade : Male\n",
        "- "
       ]
      },
      {
       "output_type": "stream",
       "stream": "stdout",
       "text": [
        " Archangel - Lil' Archangel : Other\n",
        "+  Arclight : Female\n",
        "+  Aurora : Female\n",
        "- "
       ]
      },
      {
       "output_type": "stream",
       "stream": "stdout",
       "text": [
        " Avalanche - Avalanche : Male\n",
        "- "
       ]
      },
      {
       "output_type": "stream",
       "stream": "stdout",
       "text": [
        " Banshee - Banshee : Other\n",
        "- "
       ]
      },
      {
       "output_type": "stream",
       "stream": "stdout",
       "text": [
        " Baron Strucker - Baron von Strucker : Male\n",
        "- "
       ]
      },
      {
       "output_type": "stream",
       "stream": "stdout",
       "text": [
        " Baron Zemo (Heinrich Zemo) - Baron Heinrich Zemo : Male\n",
        "- "
       ]
      },
      {
       "output_type": "stream",
       "stream": "stdout",
       "text": [
        " Bastion - Bastion : Male\n",
        "- "
       ]
      },
      {
       "output_type": "stream",
       "stream": "stdout",
       "text": [
        " Batroc the Leaper - Batroc : Male\n",
        "- "
       ]
      },
      {
       "output_type": "stream",
       "stream": "stdout",
       "text": [
        " Battering Ram - Battering Ram : Male\n",
        "- "
       ]
      },
      {
       "output_type": "stream",
       "stream": "stdout",
       "text": [
        " Beak - Beak : Male\n",
        "- "
       ]
      },
      {
       "output_type": "stream",
       "stream": "stdout",
       "text": [
        " Beast - Beast : Male\n",
        "- "
       ]
      },
      {
       "output_type": "stream",
       "stream": "stdout",
       "text": [
        " Beef - Beef : Male\n",
        "- "
       ]
      },
      {
       "output_type": "stream",
       "stream": "stdout",
       "text": [
        " Beta-Ray Bill - Beta Ray Bill : Male\n",
        "- "
       ]
      },
      {
       "output_type": "stream",
       "stream": "stdout",
       "text": [
        " Big Wheel - Big Wheel : Male\n",
        "- "
       ]
      },
      {
       "output_type": "stream",
       "stream": "stdout",
       "text": [
        " Bishop - Bishop : Male\n",
        "- "
       ]
      },
      {
       "output_type": "stream",
       "stream": "stdout",
       "text": [
        " Black Bolt - Black Bolt : Male\n",
        "+  Black Cat : Female\n",
        "- "
       ]
      },
      {
       "output_type": "stream",
       "stream": "stdout",
       "text": [
        " Black Knight - Black Knight : Female\n",
        "- "
       ]
      },
      {
       "output_type": "stream",
       "stream": "stdout",
       "text": [
        " Black Panther - Black Panther : Male\n",
        "- "
       ]
      },
      {
       "output_type": "stream",
       "stream": "stdout",
       "text": [
        " Black Tom - Black Tom Cassidy : Male\n",
        "+  Black Widow : Female\n",
        "- "
       ]
      },
      {
       "output_type": "stream",
       "stream": "stdout",
       "text": [
        " Blackheart - Blackheart : Male\n",
        "- "
       ]
      },
      {
       "output_type": "stream",
       "stream": "stdout",
       "text": [
        " Blade - Blade : Male\n",
        "- "
       ]
      },
      {
       "output_type": "stream",
       "stream": "stdout",
       "text": [
        " Blastaar - Blastaar : Male\n",
        "+  Blink : Female\n",
        "- "
       ]
      },
      {
       "output_type": "stream",
       "stream": "stdout",
       "text": [
        " Blizzard - Blizzard : Male\n",
        "- "
       ]
      },
      {
       "output_type": "stream",
       "stream": "stdout",
       "text": [
        " Blob - Blob : Male\n",
        "- "
       ]
      },
      {
       "output_type": "stream",
       "stream": "stdout",
       "text": [
        " Blockbuster - Blockbuster : Male\n",
        "- "
       ]
      },
      {
       "output_type": "stream",
       "stream": "stdout",
       "text": [
        " Bloke - Bloke : Male\n",
        "- "
       ]
      },
      {
       "output_type": "stream",
       "stream": "stdout",
       "text": [
        " Bloodscream - Bloodscream : Male\n",
        "- "
       ]
      },
      {
       "output_type": "stream",
       "stream": "stdout",
       "text": [
        " GW Bridge - G.W. Bridge : Male\n",
        "- "
       ]
      },
      {
       "output_type": "stream",
       "stream": "stdout",
       "text": [
        " Brood - Brood Empress : Female\n",
        "- "
       ]
      },
      {
       "output_type": "stream",
       "stream": "stdout",
       "text": [
        " Bullseye - Bullseye : Male\n",
        "- "
       ]
      },
      {
       "output_type": "stream",
       "stream": "stdout",
       "text": [
        " Bushwacker - Bushwacker : Male\n",
        "- "
       ]
      },
      {
       "output_type": "stream",
       "stream": "stdout",
       "text": [
        " Cable - Cable : Male\n",
        "- "
       ]
      },
      {
       "output_type": "stream",
       "stream": "stdout",
       "text": [
        " Luke Cage - Luke Cage : Male\n",
        "- "
       ]
      },
      {
       "output_type": "stream",
       "stream": "stdout",
       "text": [
        " Caliban - Caliban : Male\n",
        "+  Callisto : Female\n",
        "- "
       ]
      },
      {
       "output_type": "stream",
       "stream": "stdout",
       "text": [
        " Cannonball - Cannonball : Male\n",
        "- "
       ]
      },
      {
       "output_type": "stream",
       "stream": "stdout",
       "text": [
        " Captain America - Captain America : Male\n",
        "- "
       ]
      },
      {
       "output_type": "stream",
       "stream": "stdout",
       "text": [
        " Captain Britain - Captain Britain : Male\n",
        "- "
       ]
      },
      {
       "output_type": "stream",
       "stream": "stdout",
       "text": [
        " Captain Marvel (Mar-Vell) - Captain Marvel : Male\n",
        "- "
       ]
      },
      {
       "output_type": "stream",
       "stream": "stdout",
       "text": [
        " Captain Stacy - Captain George Stacy : Male\n",
        "+  Cargill : Female\n",
        "- "
       ]
      },
      {
       "output_type": "stream",
       "stream": "stdout",
       "text": [
        " Carnage - Carnage : Other\n",
        "+  Sharon Carter : Female\n",
        "+  Catseye : Female\n",
        "*** Remove this character "
       ]
      },
      {
       "output_type": "stream",
       "stream": "stdout",
       "text": [
        " Cerebro\n",
        "- "
       ]
      },
      {
       "output_type": "stream",
       "stream": "stdout",
       "text": [
        " Ch'od - Ch'od : Male\n",
        "- "
       ]
      },
      {
       "output_type": "stream",
       "stream": "stdout",
       "text": [
        " Chamber - Chamber : Male\n",
        "- "
       ]
      },
      {
       "output_type": "stream",
       "stream": "stdout",
       "text": [
        " Chameleon - Chameleon : Male\n",
        "+  Lila Cheney : Female\n",
        "+  Chimera : Female\n",
        "+  Clea : Female\n",
        "- "
       ]
      },
      {
       "output_type": "stream",
       "stream": "stdout",
       "text": [
        " Cloak - Cloak : Male\n",
        "- "
       ]
      },
      {
       "output_type": "stream",
       "stream": "stdout",
       "text": [
        " Malcolm Colcord - The Director : Male\n",
        "- "
       ]
      },
      {
       "output_type": "stream",
       "stream": "stdout",
       "text": [
        " Colossus - The Colossus : Other\n",
        "- "
       ]
      },
      {
       "output_type": "stream",
       "stream": "stdout",
       "text": [
        " Constrictor - Constrictor : Male\n",
        "- "
       ]
      },
      {
       "output_type": "stream",
       "stream": "stdout",
       "text": [
        " Corsair - Corsair : Male\n",
        "- "
       ]
      },
      {
       "output_type": "stream",
       "stream": "stdout",
       "text": [
        " Fabian Cortez - Fabian Cortez : Male\n",
        "- "
       ]
      },
      {
       "output_type": "stream",
       "stream": "stdout",
       "text": [
        " Count Nefaria - Count Nefaria : Male\n",
        "- "
       ]
      },
      {
       "output_type": "stream",
       "stream": "stdout",
       "text": [
        " Crimson Dynamo - Crimson Dynamo IX  : Male\n",
        "- "
       ]
      },
      {
       "output_type": "stream",
       "stream": "stdout",
       "text": [
        " Crossbones - Crossbones : Male\n",
        "- "
       ]
      },
      {
       "output_type": "stream",
       "stream": "stdout",
       "text": [
        " Crusher Hogan - Crusher Hogan : Male\n",
        "+  Crystal : Female\n",
        "- "
       ]
      },
      {
       "output_type": "stream",
       "stream": "stdout",
       "text": [
        " Cyber - Cyber : Male\n",
        "- "
       ]
      },
      {
       "output_type": "stream",
       "stream": "stdout",
       "text": [
        " Cyclops - Cyclops : Male\n",
        "+  Dagger : Female\n",
        "- "
       ]
      },
      {
       "output_type": "stream",
       "stream": "stdout",
       "text": [
        " Damage Control - Anne : Female\n",
        "- "
       ]
      },
      {
       "output_type": "stream",
       "stream": "stdout",
       "text": [
        " Daredevil - Daredevil : Male\n",
        "+  Darkstar : Female\n",
        "+  Dazzler : Female\n",
        "- "
       ]
      },
      {
       "output_type": "stream",
       "stream": "stdout",
       "text": [
        " Deadpool - Deadpool : Male\n",
        "- "
       ]
      },
      {
       "output_type": "stream",
       "stream": "stdout",
       "text": [
        " Death - Death : Female\n",
        "+  Deathbird : Female\n",
        "+  Destiny : Female\n",
        "- "
       ]
      },
      {
       "output_type": "stream",
       "stream": "stdout",
       "text": [
        " Diablo - Diablo : Male\n",
        "+  Diamondback (Rachel Leighton) : Female\n",
        "- "
       ]
      },
      {
       "output_type": "stream",
       "stream": "stdout",
       "text": [
        " Doc Samson - Doc Samson : Male\n",
        "- "
       ]
      },
      {
       "output_type": "stream",
       "stream": "stdout",
       "text": [
        " Doctor Octopus - Doctor Octopus : Male\n",
        "+  Domino : Female\n",
        "- "
       ]
      },
      {
       "output_type": "stream",
       "stream": "stdout",
       "text": [
        " Doop - Doop : Other\n",
        "- "
       ]
      },
      {
       "output_type": "stream",
       "stream": "stdout",
       "text": [
        " Dormammu - Dormammu : Male\n",
        "- "
       ]
      },
      {
       "output_type": "stream",
       "stream": "stdout",
       "text": [
        " Doctor Doom - Doctor Doom : Male\n",
        "- "
       ]
      },
      {
       "output_type": "stream",
       "stream": "stdout",
       "text": [
        " Doctor Strange - Doctor Strange : Male\n",
        "- "
       ]
      },
      {
       "output_type": "stream",
       "stream": "stdout",
       "text": [
        " Dragon Man - Dragon Man : Other\n",
        "+  Dust : Female\n",
        "- "
       ]
      },
      {
       "output_type": "stream",
       "stream": "stdout",
       "text": [
        " Earthquake - Earthquake : Male\n",
        "- "
       ]
      },
      {
       "output_type": "stream",
       "stream": "stdout",
       "text": [
        " Electro - Electro : Male\n",
        "+  Elektra : Female\n",
        "- "
       ]
      },
      {
       "output_type": "stream",
       "stream": "stdout",
       "text": [
        " Emplate - Emplate : Male\n",
        "- "
       ]
      },
      {
       "output_type": "stream",
       "stream": "stdout",
       "text": [
        " Exodus - Exodus : Male\n",
        "+  Expediter : Female\n",
        "- "
       ]
      },
      {
       "output_type": "stream",
       "stream": "stdout",
       "text": [
        " Falcon - Falcon : Male\n",
        "- "
       ]
      },
      {
       "output_type": "stream",
       "stream": "stdout",
       "text": [
        " Fantomex - Fantomex : Male\n",
        "- "
       ]
      },
      {
       "output_type": "stream",
       "stream": "stdout",
       "text": [
        " Firelord - Firelord : Male\n",
        "+  Firestar : Female\n",
        "- "
       ]
      },
      {
       "output_type": "stream",
       "stream": "stdout",
       "text": [
        " Forge - Forge : Male\n",
        "+  Emma Frost : Female\n",
        "- "
       ]
      },
      {
       "output_type": "stream",
       "stream": "stdout",
       "text": [
        " Galactus - Galactus : Male\n",
        "- "
       ]
      },
      {
       "output_type": "stream",
       "stream": "stdout",
       "text": [
        " Gambit - Gambit : Male\n",
        "- "
       ]
      },
      {
       "output_type": "stream",
       "stream": "stdout",
       "text": [
        " Gateway - Gateway : Male\n",
        "- "
       ]
      },
      {
       "output_type": "stream",
       "stream": "stdout",
       "text": [
        " Genesis - Genesis : Male\n",
        "- "
       ]
      },
      {
       "output_type": "stream",
       "stream": "stdout",
       "text": [
        " Gladiator (Kallark) - Gladiator : Male\n",
        "- "
       ]
      },
      {
       "output_type": "stream",
       "stream": "stdout",
       "text": [
        " Norman Osborn - Norman Osborn : Male\n",
        "- "
       ]
      },
      {
       "output_type": "stream",
       "stream": "stdout",
       "text": [
        " Grim Reaper - Grim Reaper : Male\n",
        "- "
       ]
      },
      {
       "output_type": "stream",
       "stream": "stdout",
       "text": [
        " Guardian - Guardian : Male\n",
        "*** Remove this character "
       ]
      },
      {
       "output_type": "stream",
       "stream": "stdout",
       "text": [
        " H.E.R.B.I.E.\n",
        "- "
       ]
      },
      {
       "output_type": "stream",
       "stream": "stdout",
       "text": [
        " Hammerhead - Hammerhead : Male\n",
        "- "
       ]
      },
      {
       "output_type": "stream",
       "stream": "stdout",
       "text": [
        " Havok - Havok : Male\n",
        "- "
       ]
      },
      {
       "output_type": "stream",
       "stream": "stdout",
       "text": [
        " Hawkeye - Hawkeye : Male\n",
        "+  Hepzibah : Female\n",
        "- "
       ]
      },
      {
       "output_type": "stream",
       "stream": "stdout",
       "text": [
        " Hercules - Hercules : Male\n",
        "- "
       ]
      },
      {
       "output_type": "stream",
       "stream": "stdout",
       "text": [
        " Hobgoblin (Roderick Kingsley) - Hobgoblin (Kingsley) : Male\n",
        "- "
       ]
      },
      {
       "output_type": "stream",
       "stream": "stdout",
       "text": [
        " Happy Hogan - Happy Hogan : Male\n",
        "- "
       ]
      },
      {
       "output_type": "stream",
       "stream": "stdout",
       "text": [
        " Hulk - Hulk : Male\n",
        "- "
       ]
      },
      {
       "output_type": "stream",
       "stream": "stdout",
       "text": [
        " Hulkling - Hulkling : Male\n",
        "- "
       ]
      },
      {
       "output_type": "stream",
       "stream": "stdout",
       "text": [
        " Human Torch - Human Torch : Female\n",
        "+  Husk : Female\n",
        "+  Hussar : Female\n",
        "- "
       ]
      },
      {
       "output_type": "stream",
       "stream": "stdout",
       "text": [
        " Hydro-Man - Hydro-Man : Male\n",
        "- "
       ]
      },
      {
       "output_type": "stream",
       "stream": "stdout",
       "text": [
        " Iceman - Iceman : Male\n",
        "- "
       ]
      },
      {
       "output_type": "stream",
       "stream": "stdout",
       "text": [
        " Impossible Man - Impossible Man : Male\n",
        "- "
       ]
      },
      {
       "output_type": "stream",
       "stream": "stdout",
       "text": [
        " Inhumans - Inhuman Torch : Other\n",
        "+  Invisible Woman : Female\n",
        "- "
       ]
      },
      {
       "output_type": "stream",
       "stream": "stdout",
       "text": [
        " Iron Man - Iron Man : Male\n",
        "- "
       ]
      },
      {
       "output_type": "stream",
       "stream": "stdout",
       "text": [
        " Iron Monger - Iron Monger (Krallis) : Male\n",
        "- "
       ]
      },
      {
       "output_type": "stream",
       "stream": "stdout",
       "text": [
        " J. Jonah Jameson - J. Jonah Jameson : Male\n",
        "+  Jocasta : Female\n",
        "+  Jessica Jones : Female\n",
        "- "
       ]
      },
      {
       "output_type": "stream",
       "stream": "stdout",
       "text": [
        " Rick Jones - Rick Jones : Male\n",
        "+  Jubilee : Female\n",
        "- "
       ]
      },
      {
       "output_type": "stream",
       "stream": "stdout",
       "text": [
        " Juggernaut - Juggernaut : Male\n",
        "- "
       ]
      },
      {
       "output_type": "stream",
       "stream": "stdout",
       "text": [
        " Garrison Kane - Garrison Kane : Male\n",
        "- "
       ]
      },
      {
       "output_type": "stream",
       "stream": "stdout",
       "text": [
        " Kang - Kang : Male\n",
        "- "
       ]
      },
      {
       "output_type": "stream",
       "stream": "stdout",
       "text": [
        " Karnak - Karnak : Male\n",
        "- "
       ]
      },
      {
       "output_type": "stream",
       "stream": "stdout",
       "text": [
        " Quentin Quire - Quentin Quire : Male\n",
        "- "
       ]
      },
      {
       "output_type": "stream",
       "stream": "stdout",
       "text": [
        " Kingpin - Kingpin : Male\n",
        "- "
       ]
      },
      {
       "output_type": "stream",
       "stream": "stdout",
       "text": [
        " Klaw - Klaw : Male\n",
        "- "
       ]
      },
      {
       "output_type": "stream",
       "stream": "stdout",
       "text": [
        " Kraven the Hunter - Kraven the Hunter : Male\n",
        "- "
       ]
      },
      {
       "output_type": "stream",
       "stream": "stdout",
       "text": [
        " La Nuit - La Nuit : Male\n",
        "+  Lady Deathstrike : Female\n",
        "- "
       ]
      },
      {
       "output_type": "stream",
       "stream": "stdout",
       "text": [
        " Leader - Leader : Male\n",
        "- "
       ]
      },
      {
       "output_type": "stream",
       "stream": "stdout",
       "text": [
        " Legion - Legion : Male\n",
        "+  Lifeguard : Female\n",
        "+  Lilandra : Female\n",
        "- "
       ]
      },
      {
       "output_type": "stream",
       "stream": "stdout",
       "text": [
        " Lizard - Lizard : Male\n",
        "- "
       ]
      },
      {
       "output_type": "stream",
       "stream": "stdout",
       "text": [
        " Lockheed - Lockheed : Male\n",
        "- "
       ]
      },
      {
       "output_type": "stream",
       "stream": "stdout",
       "text": [
        " Lockjaw - Lockjaw : Male\n",
        "- "
       ]
      },
      {
       "output_type": "stream",
       "stream": "stdout",
       "text": [
        " Loki - Loki : Male\n",
        "- "
       ]
      },
      {
       "output_type": "stream",
       "stream": "stdout",
       "text": [
        " Longshot - Longshot : Male\n",
        "- "
       ]
      },
      {
       "output_type": "stream",
       "stream": "stdout",
       "text": [
        " Moira MacTaggert - Moira MacTaggert : Female\n",
        "- "
       ]
      },
      {
       "output_type": "stream",
       "stream": "stdout",
       "text": [
        " Mad Thinker - Mad Thinker : Male\n",
        "+  Magik (Illyana Rasputin) : Female\n",
        "+  Magma (Amara Aquilla) : Female\n",
        "- "
       ]
      },
      {
       "output_type": "stream",
       "stream": "stdout",
       "text": [
        " Magneto - Magneto : Male\n",
        "- "
       ]
      },
      {
       "output_type": "stream",
       "stream": "stdout",
       "text": [
        " Man-Thing - Man-Thing : Male\n",
        "- "
       ]
      },
      {
       "output_type": "stream",
       "stream": "stdout",
       "text": [
        " Mandarin - Mandarin : Male\n",
        "+  Manta : Female\n",
        "+  Marrow : Female\n",
        "- "
       ]
      },
      {
       "output_type": "stream",
       "stream": "stdout",
       "text": [
        " Marvel Boy - David Bank : Male\n",
        "+  Rachel Grey : Female\n",
        "*** Remove this character "
       ]
      },
      {
       "output_type": "stream",
       "stream": "stdout",
       "text": [
        " Mastermind\n",
        "+  Alicia Masters : Female\n",
        "+  Medusa : Female\n",
        "+  Meltdown : Female\n",
        "- "
       ]
      },
      {
       "output_type": "stream",
       "stream": "stdout",
       "text": [
        " Mephisto - Mephisto : Male\n",
        "- "
       ]
      },
      {
       "output_type": "stream",
       "stream": "stdout",
       "text": [
        " Mesmero - Mesmero : Male\n",
        "- "
       ]
      },
      {
       "output_type": "stream",
       "stream": "stdout",
       "text": [
        " Mimic - Mimic : Male\n",
        "- "
       ]
      },
      {
       "output_type": "stream",
       "stream": "stdout",
       "text": [
        " Mister Sinister - Mr. Sinister : Male\n",
        "- "
       ]
      },
      {
       "output_type": "stream",
       "stream": "stdout",
       "text": [
        " Mojo - Mojo : Male\n",
        "- "
       ]
      },
      {
       "output_type": "stream",
       "stream": "stdout",
       "text": [
        " Mole Man - Mole Man : Male\n",
        "+  Moondragon : Female\n",
        "- "
       ]
      },
      {
       "output_type": "stream",
       "stream": "stdout",
       "text": [
        " Moon Knight - Moon Knight : Male\n",
        "+  Dani Moonstar : Female\n",
        "- "
       ]
      },
      {
       "output_type": "stream",
       "stream": "stdout",
       "text": [
        " Morbius - Morbius : Male\n",
        "- "
       ]
      },
      {
       "output_type": "stream",
       "stream": "stdout",
       "text": [
        " Mr. Fantastic - Mr. Fantastic : Male\n",
        "- "
       ]
      },
      {
       "output_type": "stream",
       "stream": "stdout",
       "text": [
        " Mysterio - Mysterio : Male\n",
        "+  Mystique : Female\n",
        "+  Namora : Female\n",
        "+  Namorita : Female\n",
        "- "
       ]
      },
      {
       "output_type": "stream",
       "stream": "stdout",
       "text": [
        " Nick Fury - Nick Fury : Male\n",
        "- "
       ]
      },
      {
       "output_type": "stream",
       "stream": "stdout",
       "text": [
        " Nightcrawler - Nightcrawler : Male\n",
        "- "
       ]
      },
      {
       "output_type": "stream",
       "stream": "stdout",
       "text": [
        " Nightmare - Nightmare : Male\n",
        "+  Nocturne : Female\n",
        "- "
       ]
      },
      {
       "output_type": "stream",
       "stream": "stdout",
       "text": [
        " Nomad - Nomad : Male\n",
        "- "
       ]
      },
      {
       "output_type": "stream",
       "stream": "stdout",
       "text": [
        " Northstar - Northstar : Male\n",
        "- "
       ]
      },
      {
       "output_type": "stream",
       "stream": "stdout",
       "text": [
        " Nova - Nova : Female\n",
        "+  Cassandra Nova : Female\n",
        "- "
       ]
      },
      {
       "output_type": "stream",
       "stream": "stdout",
       "text": [
        " Odin - Odin : Male\n",
        "- "
       ]
      },
      {
       "output_type": "stream",
       "stream": "stdout",
       "text": [
        " Omega Red - Omega Red : Male\n",
        "- "
       ]
      },
      {
       "output_type": "stream",
       "stream": "stdout",
       "text": [
        " Onslaught - Onslaught : Male\n",
        "+  Oracle : Female\n",
        "- "
       ]
      },
      {
       "output_type": "stream",
       "stream": "stdout",
       "text": [
        " Harry Osborn - Harry Osborn : Male\n",
        "- "
       ]
      },
      {
       "output_type": "stream",
       "stream": "stdout",
       "text": [
        " Ozymandias - Ozymandias : Male\n",
        "- "
       ]
      },
      {
       "output_type": "stream",
       "stream": "stdout",
       "text": [
        " Ben Parker - Benjy Parker : Male\n",
        "+  May Parker : Female\n",
        "- "
       ]
      },
      {
       "output_type": "stream",
       "stream": "stdout",
       "text": [
        " Patriot - Patriot : Male\n",
        "- "
       ]
      },
      {
       "output_type": "stream",
       "stream": "stdout",
       "text": [
        " Penance (Robert Baldwin) - Speedball : Male\n",
        "+  Pepper Potts : Female\n",
        "+  Phoenix : Female\n",
        "+  Polaris : Female\n",
        "- "
       ]
      },
      {
       "output_type": "stream",
       "stream": "stdout",
       "text": [
        " Pretty Boy - Pretty Boy : Male\n",
        "- "
       ]
      },
      {
       "output_type": "stream",
       "stream": "stdout",
       "text": [
        " Prism - Prism : Male\n",
        "- "
       ]
      },
      {
       "output_type": "stream",
       "stream": "stdout",
       "text": [
        " Professor X - Professor X : Male\n",
        "- "
       ]
      },
      {
       "output_type": "stream",
       "stream": "stdout",
       "text": [
        " Prowler - Prowler : Male\n",
        "+  Kitty Pryde : Female\n",
        "+  Madelyne Pryor : Female\n",
        "- "
       ]
      },
      {
       "output_type": "stream",
       "stream": "stdout",
       "text": [
        " Psycho-Man - Psycho-Man : Male\n",
        "+  Psylocke : Female\n",
        "- "
       ]
      },
      {
       "output_type": "stream",
       "stream": "stdout",
       "text": [
        " Puck - Puck : Female\n",
        "- "
       ]
      },
      {
       "output_type": "stream",
       "stream": "stdout",
       "text": [
        " Puma - Puma : Male\n",
        "- "
       ]
      },
      {
       "output_type": "stream",
       "stream": "stdout",
       "text": [
        " Punisher - Punisher : Male\n",
        "- "
       ]
      },
      {
       "output_type": "stream",
       "stream": "stdout",
       "text": [
        " Punisher 2099 - Punisher 2099 : Male\n",
        "- "
       ]
      },
      {
       "output_type": "stream",
       "stream": "stdout",
       "text": [
        " Puppet Master - Puppet Master : Male\n",
        "- "
       ]
      },
      {
       "output_type": "stream",
       "stream": "stdout",
       "text": [
        " Purple Man - Purple Man : Male\n",
        "- "
       ]
      },
      {
       "output_type": "stream",
       "stream": "stdout",
       "text": [
        " Pyro - Pyro : Male\n",
        "- "
       ]
      },
      {
       "output_type": "stream",
       "stream": "stdout",
       "text": [
        " Quicksilver - Quicksilver : Male\n",
        "+  Valeria Richards : Female\n",
        "- "
       ]
      },
      {
       "output_type": "stream",
       "stream": "stdout",
       "text": [
        " Radioactive Man - Radioactive Man : Male\n",
        "- "
       ]
      },
      {
       "output_type": "stream",
       "stream": "stdout",
       "text": [
        " Mikhail Rasputin - Mikhail Rasputin : Male\n",
        "- "
       ]
      },
      {
       "output_type": "stream",
       "stream": "stdout",
       "text": [
        " Red Ghost - Red Ghost : Male\n",
        "- "
       ]
      },
      {
       "output_type": "stream",
       "stream": "stdout",
       "text": [
        " Red Skull - Red Skull : Male\n",
        "+  Cecilia Reyes : Female\n",
        "- "
       ]
      },
      {
       "output_type": "stream",
       "stream": "stdout",
       "text": [
        " Rhino - Rhino : Male\n",
        "- "
       ]
      },
      {
       "output_type": "stream",
       "stream": "stdout",
       "text": [
        " Franklin Richards - Franklin Richards : Male\n",
        "- "
       ]
      },
      {
       "output_type": "stream",
       "stream": "stdout",
       "text": [
        " Rictor - Rictor : Male\n",
        "- "
       ]
      },
      {
       "output_type": "stream",
       "stream": "stdout",
       "text": [
        " Risque - Risque : Female\n",
        "- "
       ]
      },
      {
       "output_type": "stream",
       "stream": "stdout",
       "text": [
        " Robbie Robertson - Robbie Robertson : Male\n",
        "+  Rogue : Female\n",
        "- "
       ]
      },
      {
       "output_type": "stream",
       "stream": "stdout",
       "text": [
        " Russian - Russian : Male\n",
        "+  Sabra : Female\n",
        "- "
       ]
      },
      {
       "output_type": "stream",
       "stream": "stdout",
       "text": [
        " Sabretooth - Sabretooth : Male\n",
        "- "
       ]
      },
      {
       "output_type": "stream",
       "stream": "stdout",
       "text": [
        " Sage - Sage : Female\n",
        "- "
       ]
      },
      {
       "output_type": "stream",
       "stream": "stdout",
       "text": [
        " Sandman - Sandman : Male\n",
        "- "
       ]
      },
      {
       "output_type": "stream",
       "stream": "stdout",
       "text": [
        " Sauron - Sauron : Male\n",
        "+  Scarlet Witch : Female\n",
        "+ "
       ]
      },
      {
       "output_type": "stream",
       "stream": "stdout",
       "text": [
        " Selene : Female\n",
        "- "
       ]
      },
      {
       "output_type": "stream",
       "stream": "stdout",
       "text": [
        " Senator Kelly - Robert Kelly : Male\n",
        "- "
       ]
      },
      {
       "output_type": "stream",
       "stream": "stdout",
       "text": [
        " Shadow King - Shadow King : Male\n",
        "+  Shalla-bal : Female\n",
        "- "
       ]
      },
      {
       "output_type": "stream",
       "stream": "stdout",
       "text": [
        " Shaman - Shaman : Male\n",
        "- "
       ]
      },
      {
       "output_type": "stream",
       "stream": "stdout",
       "text": [
        " Shang-Chi - Shang-Chi : Male\n",
        "+  Shanna the She-Devil : Female\n",
        "+  Shard : Female\n",
        "- "
       ]
      },
      {
       "output_type": "stream",
       "stream": "stdout",
       "text": [
        " Shatterstar - Shatterstar : Male\n",
        "- "
       ]
      },
      {
       "output_type": "stream",
       "stream": "stdout",
       "text": [
        " Sebastian Shaw - Sebastian Shaw : Male\n",
        "- "
       ]
      },
      {
       "output_type": "stream",
       "stream": "stdout",
       "text": [
        " Shinobi Shaw - Shinobi Shaw : Male\n",
        "+  She-Hulk (Jennifer Walters) : Female\n",
        "- "
       ]
      },
      {
       "output_type": "stream",
       "stream": "stdout",
       "text": [
        " Shocker (Herman Schultz) - Shocker : Male\n",
        "+  Shriek : Female\n",
        "+  Sif : Female\n",
        "+  Silver Fox : Female\n",
        "+  Silver Sable : Female\n",
        "- "
       ]
      },
      {
       "output_type": "stream",
       "stream": "stdout",
       "text": [
        " Silver Samurai - Silver Samurai : Male\n",
        "- "
       ]
      },
      {
       "output_type": "stream",
       "stream": "stdout",
       "text": [
        " Silver Surfer - Silver Surfer : Male\n",
        "- "
       ]
      },
      {
       "output_type": "stream",
       "stream": "stdout",
       "text": [
        " Silvermane - Silvermane : Male\n",
        "+  Banshee (Theresa Rourke) : Female\n",
        "- "
       ]
      },
      {
       "output_type": "stream",
       "stream": "stdout",
       "text": [
        " Skin - Skin : Male\n",
        "- "
       ]
      },
      {
       "output_type": "stream",
       "stream": "stdout",
       "text": [
        " Skrulls - Skrull Wolverine : Male\n",
        "- "
       ]
      },
      {
       "output_type": "stream",
       "stream": "stdout",
       "text": [
        " Slipstream - Slipstream : Male\n",
        "+ "
       ]
      },
      {
       "output_type": "stream",
       "stream": "stdout",
       "text": [
        " Snowbird : Female\n",
        "+  Spider-Woman (Jessica Drew) : Female\n",
        "- "
       ]
      },
      {
       "output_type": "stream",
       "stream": "stdout",
       "text": [
        " Spider-Girl (May Parker) - Spider-Girl (Parker) : Female\n",
        "- "
       ]
      },
      {
       "output_type": "stream",
       "stream": "stdout",
       "text": [
        " Spider-Man - Spider-Man : Male\n",
        "+  Spiral (Rita Wayword) : Female\n",
        "- "
       ]
      },
      {
       "output_type": "stream",
       "stream": "stdout",
       "text": [
        " Spot - Spot : Male\n",
        "- "
       ]
      },
      {
       "output_type": "stream",
       "stream": "stdout",
       "text": [
        " Gwen Stacy - Gwen Stacy : Female\n",
        "- "
       ]
      },
      {
       "output_type": "stream",
       "stream": "stdout",
       "text": [
        " Starbolt - Starbolt : Male\n",
        "+  Stepford Cuckoos : Female\n",
        "*** Remove this character "
       ]
      },
      {
       "output_type": "stream",
       "stream": "stdout",
       "text": [
        " Stingray (Walter Newell)\n",
        "+  Storm : Female\n",
        "- "
       ]
      },
      {
       "output_type": "stream",
       "stream": "stdout",
       "text": [
        " Stryfe - Stryfe : Male\n",
        "- "
       ]
      },
      {
       "output_type": "stream",
       "stream": "stdout",
       "text": [
        " William Stryker - William Stryker : Male\n",
        "- "
       ]
      },
      {
       "output_type": "stream",
       "stream": "stdout",
       "text": [
        " Sunfire - Sunfire : Male\n",
        "+  Sunset Bain : Female\n",
        "- "
       ]
      },
      {
       "output_type": "stream",
       "stream": "stdout",
       "text": [
        " Sunspot - Sunspot : Male\n",
        "- "
       ]
      },
      {
       "output_type": "stream",
       "stream": "stdout",
       "text": [
        " Super-Skrull - Super-Skrull : Male\n",
        "- "
       ]
      },
      {
       "output_type": "stream",
       "stream": "stdout",
       "text": [
        " Swordsman - Swordsman : Male\n",
        "- "
       ]
      },
      {
       "output_type": "stream",
       "stream": "stdout",
       "text": [
        " Synch - Synch : Male\n",
        "- "
       ]
      },
      {
       "output_type": "stream",
       "stream": "stdout",
       "text": [
        " Glenn Talbot - Glenn Talbot : Male\n",
        "+  Talisman (Elizabeth Twoyoungmen) : Female\n",
        "- "
       ]
      },
      {
       "output_type": "stream",
       "stream": "stdout",
       "text": [
        " Taskmaster - Taskmaster : Male\n",
        "- "
       ]
      },
      {
       "output_type": "stream",
       "stream": "stdout",
       "text": [
        " Terrax - Terrax : Male\n",
        "- "
       ]
      },
      {
       "output_type": "stream",
       "stream": "stdout",
       "text": [
        " Thanos - Thanos : Male\n",
        "- "
       ]
      },
      {
       "output_type": "stream",
       "stream": "stdout",
       "text": [
        " The Anarchist - Anarchist : Male\n",
        "- "
       ]
      },
      {
       "output_type": "stream",
       "stream": "stdout",
       "text": [
        " The Shiver Man - Shiver Man : Male\n",
        "- "
       ]
      },
      {
       "output_type": "stream",
       "stream": "stdout",
       "text": [
        " The Stranger - Stranger : Male\n",
        "- "
       ]
      },
      {
       "output_type": "stream",
       "stream": "stdout",
       "text": [
        " Thing - Thing : Male\n",
        "- "
       ]
      },
      {
       "output_type": "stream",
       "stream": "stdout",
       "text": [
        " Thor - Thor : Male\n",
        "*** Remove this character "
       ]
      },
      {
       "output_type": "stream",
       "stream": "stdout",
       "text": [
        " Thunderbird (John Proudstar)\n",
        "- "
       ]
      },
      {
       "output_type": "stream",
       "stream": "stdout",
       "text": [
        " Thunderbird (Neal Shaara) - Thunderbird (Shaara) : Male\n",
        "- "
       ]
      },
      {
       "output_type": "stream",
       "stream": "stdout",
       "text": [
        " Tiger Shark - Tiger Shark : Male\n",
        "+  Tigra (Greer Nelson) : Female\n",
        "- "
       ]
      },
      {
       "output_type": "stream",
       "stream": "stdout",
       "text": [
        " Toad - Toad : Male\n",
        "- "
       ]
      },
      {
       "output_type": "stream",
       "stream": "stdout",
       "text": [
        " Tombstone - Tombstone : Male\n",
        "- "
       ]
      },
      {
       "output_type": "stream",
       "stream": "stdout",
       "text": [
        " Toxin - Toxin : Male\n",
        "- "
       ]
      },
      {
       "output_type": "stream",
       "stream": "stdout",
       "text": [
        " Matsu'o Tsurayaba - Matsuo Tsurayaba : Male\n",
        "+  U-Go Girl : Female\n",
        "- "
       ]
      },
      {
       "output_type": "stream",
       "stream": "stdout",
       "text": [
        " U.S. Agent - U.S.Agent : Male\n",
        "- "
       ]
      },
      {
       "output_type": "stream",
       "stream": "stdout",
       "text": [
        " Uatu The Watcher - Aron the Rogue Watcher : Male\n",
        "- "
       ]
      },
      {
       "output_type": "stream",
       "stream": "stdout",
       "text": [
        " Ultron - Ultron : Male\n",
        "+  Umar : Female\n",
        "- "
       ]
      },
      {
       "output_type": "stream",
       "stream": "stdout",
       "text": [
        " Unus - Unus the Untouchable : Male\n",
        "+  Carmella Unuscione : Female\n",
        "*** Remove this character "
       ]
      },
      {
       "output_type": "stream",
       "stream": "stdout",
       "text": [
        " Vanisher (Ultimate)\n",
        "- "
       ]
      },
      {
       "output_type": "stream",
       "stream": "stdout",
       "text": [
        " Vargas - Vargas : Male\n",
        "*** Remove this character "
       ]
      },
      {
       "output_type": "stream",
       "stream": "stdout",
       "text": [
        " Toxin (Eddie Brock)\n",
        "+  Venus Dee Milo : Female\n",
        "+  Vertigo (Savage Land Mutate) : Female\n",
        "+  Vindicator : Female\n",
        "+  Viper : Female\n",
        "- "
       ]
      },
      {
       "output_type": "stream",
       "stream": "stdout",
       "text": [
        " Vision - Vision : Male\n",
        "- "
       ]
      },
      {
       "output_type": "stream",
       "stream": "stdout",
       "text": [
        " Wallow - Wallow : Male\n",
        "****** Remove this character "
       ]
      },
      {
       "output_type": "stream",
       "stream": "stdout",
       "text": [
        " War (Abraham Kieros)\n",
        "- "
       ]
      },
      {
       "output_type": "stream",
       "stream": "stdout",
       "text": [
        " Warpath - Warpath : Male\n",
        "- "
       ]
      },
      {
       "output_type": "stream",
       "stream": "stdout",
       "text": [
        " Warstar - Warstar : Male\n",
        "+  Wasp : Female\n",
        "+  Mary Jane Watson : Female\n",
        "- "
       ]
      },
      {
       "output_type": "stream",
       "stream": "stdout",
       "text": [
        " Whiplash (Mark Scarlotti) - Whiplash (Scarlotti) : Male\n",
        "- "
       ]
      },
      {
       "output_type": "stream",
       "stream": "stdout",
       "text": [
        " Wiccan - Wiccan : Male\n",
        "- "
       ]
      },
      {
       "output_type": "stream",
       "stream": "stdout",
       "text": [
        " Wild Child - Wild Child : Male\n",
        "+  Wolfsbane : Female\n",
        "- "
       ]
      },
      {
       "output_type": "stream",
       "stream": "stdout",
       "text": [
        " Wolverine - Wolverine : Male\n",
        "- "
       ]
      },
      {
       "output_type": "stream",
       "stream": "stdout",
       "text": [
        " Wonder Man - Wonder Man : Male\n",
        "- "
       ]
      },
      {
       "output_type": "stream",
       "stream": "stdout",
       "text": [
        " Wong - Wong : Male\n",
        "- "
       ]
      },
      {
       "output_type": "stream",
       "stream": "stdout",
       "text": [
        " John Wraith - John Wraith : Male\n",
        "+  X-23 : Female\n",
        "- "
       ]
      },
      {
       "output_type": "stream",
       "stream": "stdout",
       "text": [
        " X-Man - X-Man : Male\n",
        "+  Mariko Yashida : Female\n",
        "- "
       ]
      },
      {
       "output_type": "stream",
       "stream": "stdout",
       "text": [
        " Yellow Claw - Yellow Claw : Male\n",
        "- "
       ]
      },
      {
       "output_type": "stream",
       "stream": "stdout",
       "text": [
        " Arnim Zola - Arnim Zola : Male\n",
        "*** Remove this character "
       ]
      },
      {
       "output_type": "stream",
       "stream": "stdout",
       "text": [
        " Zombie (Simon_Garth)\n",
        "- "
       ]
      },
      {
       "output_type": "stream",
       "stream": "stdout",
       "text": [
        " Zzzax - Zzzax : Other\n",
        "+  Betty Brant : Female\n",
        "+  Jane Foster : Female\n",
        "- "
       ]
      },
      {
       "output_type": "stream",
       "stream": "stdout",
       "text": [
        " Donald Blake - Donald Blake : Male\n",
        "*** Remove this character "
       ]
      },
      {
       "output_type": "stream",
       "stream": "stdout",
       "text": [
        " Quasimodo\n",
        "- "
       ]
      },
      {
       "output_type": "stream",
       "stream": "stdout",
       "text": [
        " Triton - Triton : Male\n",
        "+  Lionheart : Female\n",
        "+  Captain Marvel (Carol Danvers) : Female\n",
        "+  Sersi : Female\n",
        "- "
       ]
      },
      {
       "output_type": "stream",
       "stream": "stdout",
       "text": [
        " Controller - Controller : Male\n",
        "- "
       ]
      },
      {
       "output_type": "stream",
       "stream": "stdout",
       "text": [
        " Mr. Hyde - Mr. Hyde : Male\n",
        "- "
       ]
      },
      {
       "output_type": "stream",
       "stream": "stdout",
       "text": [
        " Whirlwind - Whirlwind : Male\n",
        "- "
       ]
      },
      {
       "output_type": "stream",
       "stream": "stdout",
       "text": [
        " Nighthawk - Nighthawk : Male\n",
        "+  Valkyrie : Female\n",
        "+  Hellcat (Patsy Walker) : Female\n",
        "- "
       ]
      },
      {
       "output_type": "stream",
       "stream": "stdout",
       "text": [
        " Adam Warlock - Adam Warlock : Male\n",
        "- "
       ]
      },
      {
       "output_type": "stream",
       "stream": "stdout",
       "text": [
        " Ulik - Ulik : Male\n",
        "+  Moonstone : Female\n",
        "- "
       ]
      },
      {
       "output_type": "stream",
       "stream": "stdout",
       "text": [
        " Nebula - Nebula : Female\n",
        "+  Boom Boom : Female\n",
        "+  Typhoid Mary : Female\n",
        "- "
       ]
      },
      {
       "output_type": "stream",
       "stream": "stdout",
       "text": [
        " Boomerang - Boomerang : Male\n",
        "- "
       ]
      },
      {
       "output_type": "stream",
       "stream": "stdout",
       "text": [
        " Howard The Duck - Howard the Duck : Male\n",
        "+  Lightspeed : Female\n",
        "+  Titania : Female\n",
        "+  Enchantress (Amora) : Female\n",
        "- "
       ]
      },
      {
       "output_type": "stream",
       "stream": "stdout",
       "text": [
        " Anita Blake - Anita Blake : Female\n",
        "- "
       ]
      },
      {
       "output_type": "stream",
       "stream": "stdout",
       "text": [
        " Humbug - Humbug : Male\n",
        "+  Colleen Wing : Female\n",
        "- "
       ]
      },
      {
       "output_type": "stream",
       "stream": "stdout",
       "text": [
        " Dracula - Dracula : Male\n",
        "- "
       ]
      },
      {
       "output_type": "stream",
       "stream": "stdout",
       "text": [
        " Hellion - Hellion : Male\n",
        "+  Mercury : Female\n",
        "+  Misty Knight : Female\n",
        "- "
       ]
      },
      {
       "output_type": "stream",
       "stream": "stdout",
       "text": [
        " Black Tarantula - Black Tarantula : Male\n",
        "- "
       ]
      },
      {
       "output_type": "stream",
       "stream": "stdout",
       "text": [
        " Microbe - Microbe : Male\n",
        "+  Molly Hayes : Female\n",
        "- "
       ]
      },
      {
       "output_type": "stream",
       "stream": "stdout",
       "text": [
        " Rockslide - Rockslide : Male\n",
        "+  Songbird : Female\n",
        "+  Surge : Female\n",
        "*** Remove this character "
       ]
      },
      {
       "output_type": "stream",
       "stream": "stdout",
       "text": [
        " Union Jack (Joseph Chapman)\n",
        "+  Elsa Bloodstone : Female\n",
        "- "
       ]
      },
      {
       "output_type": "stream",
       "stream": "stdout",
       "text": [
        " Iron Lad - Iron Lad : Male\n",
        "+  Spectrum : Female\n",
        "- "
       ]
      },
      {
       "output_type": "stream",
       "stream": "stdout",
       "text": [
        " Nuke - Nuke : Male\n",
        "- "
       ]
      },
      {
       "output_type": "stream",
       "stream": "stdout",
       "text": [
        " Shape - The Shape : Male\n",
        "+  Debrii : Female\n",
        "+  Asgardian : Female\n",
        "- "
       ]
      },
      {
       "output_type": "stream",
       "stream": "stdout",
       "text": [
        " Daimon Hellstrom - Hellstorm : Male\n",
        "- "
       ]
      },
      {
       "output_type": "stream",
       "stream": "stdout",
       "text": [
        " Human Robot - M-11 : Other\n",
        "- "
       ]
      },
      {
       "output_type": "stream",
       "stream": "stdout",
       "text": [
        " M.O.D.O.K. - M.O.D.O.K. : Male\n",
        "- "
       ]
      },
      {
       "output_type": "stream",
       "stream": "stdout",
       "text": [
        " The Executioner - Executioner : Male\n",
        "- "
       ]
      },
      {
       "output_type": "stream",
       "stream": "stdout",
       "text": [
        " Gorilla Man - Gorilla-Man : Male\n",
        "- "
       ]
      },
      {
       "output_type": "stream",
       "stream": "stdout",
       "text": [
        " Drax - Drax the Destroyer : Male\n",
        "- "
       ]
      },
      {
       "output_type": "stream",
       "stream": "stdout",
       "text": [
        " Jack Flag - Jack Flag : Male\n",
        "- "
       ]
      },
      {
       "output_type": "stream",
       "stream": "stdout",
       "text": [
        " The Winter Soldier - Bucky Barnes : Male\n",
        "- "
       ]
      },
      {
       "output_type": "stream",
       "stream": "stdout",
       "text": [
        " Groot - Groot : Male\n",
        "+  Nico Minoru : Female\n",
        "+  Gertrude Yorkes : Female\n",
        "+  Karolina Dean  : Female\n",
        "- "
       ]
      },
      {
       "output_type": "stream",
       "stream": "stdout",
       "text": [
        " Chase Stein - Chase Stein : Male\n",
        "- "
       ]
      },
      {
       "output_type": "stream",
       "stream": "stdout",
       "text": [
        " Alex Wilder - Alex Wilder : Male\n",
        "- "
       ]
      },
      {
       "output_type": "stream",
       "stream": "stdout",
       "text": [
        " Justice - Justice : Male\n",
        "- "
       ]
      },
      {
       "output_type": "stream",
       "stream": "stdout",
       "text": [
        " Sleepwalker - Sleepwalker : Male\n",
        "+  Gamora : Female\n",
        "+  Stardust : Female\n",
        "- "
       ]
      },
      {
       "output_type": "stream",
       "stream": "stdout",
       "text": [
        " Werewolf By Night - Werewolf By Night : Male\n",
        "- "
       ]
      },
      {
       "output_type": "stream",
       "stream": "stdout",
       "text": [
        " Random - Random : Male\n",
        "- "
       ]
      },
      {
       "output_type": "stream",
       "stream": "stdout",
       "text": [
        " Rocket Racer - Rocket Racer : Male\n",
        "+  Arachne : Female\n",
        "*** Remove this character "
       ]
      },
      {
       "output_type": "stream",
       "stream": "stdout",
       "text": [
        " Quasar (Wendell Vaughn)\n",
        "- "
       ]
      },
      {
       "output_type": "stream",
       "stream": "stdout",
       "text": [
        " Pete Wisdom - Pete Wisdom : Male\n",
        "- "
       ]
      },
      {
       "output_type": "stream",
       "stream": "stdout",
       "text": [
        " Ben Urich - Ben Urich : Male\n",
        "- "
       ]
      },
      {
       "output_type": "stream",
       "stream": "stdout",
       "text": [
        " Ares - Ares : Male\n",
        "+  Echo : Female\n",
        "+ "
       ]
      },
      {
       "output_type": "stream",
       "stream": "stdout",
       "text": [
        " Scorpion (Carmilla Black) : Female\n",
        "- "
       ]
      },
      {
       "output_type": "stream",
       "stream": "stdout",
       "text": [
        " Sub-Mariner - Namor : Male\n",
        "+  Spider-Woman (Mattie Franklin) : Female\n",
        "- "
       ]
      },
      {
       "output_type": "stream",
       "stream": "stdout",
       "text": [
        " Nitro - Nitro : Male\n",
        "- "
       ]
      },
      {
       "output_type": "stream",
       "stream": "stdout",
       "text": [
        " Machine Man - Machine Man : Male\n",
        "- "
       ]
      },
      {
       "output_type": "stream",
       "stream": "stdout",
       "text": [
        " Eternals - Eternity : Male\n",
        "+  Hawkeye (Kate Bishop) : Female\n",
        "- "
       ]
      },
      {
       "output_type": "stream",
       "stream": "stdout",
       "text": [
        " Man-Wolf - Man-Killer Wolf : Male\n",
        "- "
       ]
      },
      {
       "output_type": "stream",
       "stream": "stdout",
       "text": [
        " Celestials - Celestial Golem : Other\n",
        "- "
       ]
      },
      {
       "output_type": "stream",
       "stream": "stdout",
       "text": [
        " Hate-Monger (Adolf Hitler) - Hate-Monger : Male\n",
        "- "
       ]
      },
      {
       "output_type": "stream",
       "stream": "stdout",
       "text": [
        " Rage - Rage : Male\n",
        "- "
       ]
      },
      {
       "output_type": "stream",
       "stream": "stdout",
       "text": [
        " Texas Twister - Texas Twister : Male\n",
        "+  Thor Girl : Female\n",
        "- "
       ]
      },
      {
       "output_type": "stream",
       "stream": "stdout",
       "text": [
        " Trauma - Trauma : Male\n",
        "+  Cloud 9 : Female\n",
        "+  Stature : Female\n",
        "- "
       ]
      },
      {
       "output_type": "stream",
       "stream": "stdout",
       "text": [
        " Bengal - Bengal : Male\n",
        "- "
       ]
      },
      {
       "output_type": "stream",
       "stream": "stdout",
       "text": [
        " Blazing Skull - Blazing Skull : Male\n",
        "- "
       ]
      },
      {
       "output_type": "stream",
       "stream": "stdout",
       "text": [
        " Speed - Speed : Male\n",
        "- "
       ]
      },
      {
       "output_type": "stream",
       "stream": "stdout",
       "text": [
        " Asylum - Asylum : Male\n",
        "- "
       ]
      },
      {
       "output_type": "stream",
       "stream": "stdout",
       "text": [
        " Hindsight Lad - Hindsight : Male\n",
        "- "
       ]
      },
      {
       "output_type": "stream",
       "stream": "stdout",
       "text": [
        " Mr. Immortal - Mr. Immortal : Male\n",
        "+  Big Bertha : Female\n",
        "- "
       ]
      },
      {
       "output_type": "stream",
       "stream": "stdout",
       "text": [
        " Ironclad - Ironclad : Male\n",
        "*** Remove this character "
       ]
      },
      {
       "output_type": "stream",
       "stream": "stdout",
       "text": [
        " Aegis (Trey Rollins)\n",
        "+  Silhouette : Female\n",
        "+  Wallflower : Female\n",
        "+  White Tiger (Angela Del Toro) : Female\n",
        "- "
       ]
      },
      {
       "output_type": "stream",
       "stream": "stdout",
       "text": [
        " Living Lightning - Living Lightning : Male\n",
        "*** Remove this character "
       ]
      },
      {
       "output_type": "stream",
       "stream": "stdout",
       "text": [
        " Solo (James Bourne)\n",
        "+  Timeslip : Female\n",
        "- "
       ]
      },
      {
       "output_type": "stream",
       "stream": "stdout",
       "text": [
        " Shockwave - Shockwave : Female\n",
        "+  Squirrel Girl : Female\n",
        "- "
       ]
      },
      {
       "output_type": "stream",
       "stream": "stdout",
       "text": [
        " Unicorn - Unicorn : Male\n",
        "- "
       ]
      },
      {
       "output_type": "stream",
       "stream": "stdout",
       "text": [
        " Flatman - Flatman : Male\n",
        "+  Silverclaw : Female\n",
        "- "
       ]
      },
      {
       "output_type": "stream",
       "stream": "stdout",
       "text": [
        " Puff Adder - Puff Adder : Male\n",
        "- "
       ]
      },
      {
       "output_type": "stream",
       "stream": "stdout",
       "text": [
        " Aqueduct - Aqueduct : Male\n",
        "+  Firebird : Female\n",
        "- "
       ]
      },
      {
       "output_type": "stream",
       "stream": "stdout",
       "text": [
        " Ajaxis - Ajaxis : Male\n",
        "- "
       ]
      },
      {
       "output_type": "stream",
       "stream": "stdout",
       "text": [
        " Micromax - Micromax : Male\n",
        "- "
       ]
      },
      {
       "output_type": "stream",
       "stream": "stdout",
       "text": [
        " Vector - Vector : Female\n",
        "- "
       ]
      },
      {
       "output_type": "stream",
       "stream": "stdout",
       "text": [
        " Paladin - Paladin : Male\n",
        "- "
       ]
      },
      {
       "output_type": "stream",
       "stream": "stdout",
       "text": [
        " Slyde - Slyde : Male\n",
        "- "
       ]
      },
      {
       "output_type": "stream",
       "stream": "stdout",
       "text": [
        " Mongoose - Mongoose : Male\n",
        "- "
       ]
      },
      {
       "output_type": "stream",
       "stream": "stdout",
       "text": [
        " Mathemanic - Mathemanic : Male\n",
        "- "
       ]
      },
      {
       "output_type": "stream",
       "stream": "stdout",
       "text": [
        " Doorman - Doorman : Male\n",
        "*** Remove this character "
       ]
      },
      {
       "output_type": "stream",
       "stream": "stdout",
       "text": [
        " Fixer (Paul Norbert Ebersol)\n",
        "- "
       ]
      },
      {
       "output_type": "stream",
       "stream": "stdout",
       "text": [
        " Blacklash - Blacklash : Male\n",
        "+  Old Lace : Female\n",
        "- "
       ]
      },
      {
       "output_type": "stream",
       "stream": "stdout",
       "text": [
        " Wrecker - Wrecker : Male\n",
        "- "
       ]
      },
      {
       "output_type": "stream",
       "stream": "stdout",
       "text": [
        " Thunderball - Thunderball : Male\n",
        "- "
       ]
      },
      {
       "output_type": "stream",
       "stream": "stdout",
       "text": [
        " Piledriver - Piledriver : Male\n",
        "- "
       ]
      },
      {
       "output_type": "stream",
       "stream": "stdout",
       "text": [
        " Bulldozer - Bulldozer : Male\n",
        "+  Millie the Model : Female\n",
        "+  Sharon Ventura : Female\n",
        "+  Lyja : Female\n",
        "+  Sin : Female\n",
        "+  Spitfire : Female\n",
        "- "
       ]
      },
      {
       "output_type": "stream",
       "stream": "stdout",
       "text": [
        " Amun - Amun : Male\n",
        "- "
       ]
      },
      {
       "output_type": "stream",
       "stream": "stdout",
       "text": [
        " Baron Zemo (Helmut Zemo) - Baron Helmut Zemo : Male\n",
        "- "
       ]
      },
      {
       "output_type": "stream",
       "stream": "stdout",
       "text": [
        " Dark Beast - Dark Beast : Male\n",
        "+ "
       ]
      },
      {
       "output_type": "stream",
       "stream": "stdout",
       "text": [
        " Black Widow (Ultimate) : Female\n",
        "*** Remove this character "
       ]
      },
      {
       "output_type": "stream",
       "stream": "stdout",
       "text": [
        " Callisto (Age of Apocalypse)\n",
        "- "
       ]
      },
      {
       "output_type": "stream",
       "stream": "stdout",
       "text": [
        " Cyclops (Ultimate) - Cyclops : Male\n",
        "- "
       ]
      },
      {
       "output_type": "stream",
       "stream": "stdout",
       "text": [
        " Dazzler (Ultimate) - Dazzler : Female\n",
        "*** Remove this character "
       ]
      },
      {
       "output_type": "stream",
       "stream": "stdout",
       "text": [
        " Electro (Ultimate)\n",
        "- "
       ]
      },
      {
       "output_type": "stream",
       "stream": "stdout",
       "text": [
        " Ghost Rider (Daniel Ketch) - Ghost Rider (Ketch) : Male\n",
        "+ "
       ]
      },
      {
       "output_type": "stream",
       "stream": "stdout",
       "text": [
        " Hobgoblin (Robin Borne) : Female\n",
        "- "
       ]
      },
      {
       "output_type": "stream",
       "stream": "stdout",
       "text": [
        " Josiah X - Josiah X : Male\n",
        "- "
       ]
      },
      {
       "output_type": "stream",
       "stream": "stdout",
       "text": [
        " Joshua Kane - Joshua Kale : Male\n",
        "- "
       ]
      },
      {
       "output_type": "stream",
       "stream": "stdout",
       "text": [
        " Lizard (Ultimate) - Lizard : Male\n",
        "+ "
       ]
      },
      {
       "output_type": "stream",
       "stream": "stdout",
       "text": [
        " Magik (Amanda Sefton) : Female\n",
        "*** Remove this character "
       ]
      },
      {
       "output_type": "stream",
       "stream": "stdout",
       "text": [
        " Maverick (Chris Bradley)\n",
        "- "
       ]
      },
      {
       "output_type": "stream",
       "stream": "stdout",
       "text": [
        " Mysterio (Daniel Berkhart) - Mysterio (Berkhart) : Male\n",
        "*** Remove this character "
       ]
      },
      {
       "output_type": "stream",
       "stream": "stdout",
       "text": [
        " Mystique (Age of Apocalypse)\n",
        "*** Remove this character "
       ]
      },
      {
       "output_type": "stream",
       "stream": "stdout",
       "text": [
        " Mystique (House of M)\n",
        "+  Nova (Frankie Raye) : Female\n",
        "- "
       ]
      },
      {
       "output_type": "stream",
       "stream": "stdout",
       "text": [
        " Orphan-Maker - Orphan Maker : Male\n",
        "*** Remove this character "
       ]
      },
      {
       "output_type": "stream",
       "stream": "stdout",
       "text": [
        " Proteus (Ultimate)\n",
        "+  Puck (Zuzha Yu) : Female\n",
        "- "
       ]
      },
      {
       "output_type": "stream",
       "stream": "stdout",
       "text": [
        " Red Skull (Albert Malik) - Red Skull (Malik) : Male\n",
        "- "
       ]
      },
      {
       "output_type": "stream",
       "stream": "stdout",
       "text": [
        " Sabretooth (Ultimate) - Sabretooth : Male\n",
        "- "
       ]
      },
      {
       "output_type": "stream",
       "stream": "stdout",
       "text": [
        " Sabretooth (House of M) - Sabretooth : Male\n",
        "*** Remove this character "
       ]
      },
      {
       "output_type": "stream",
       "stream": "stdout",
       "text": [
        " Shadowcat (Ultimate)\n",
        "*** Remove this character "
       ]
      },
      {
       "output_type": "stream",
       "stream": "stdout",
       "text": [
        " Shadowcat (Age of Apocalypse)\n",
        "*** Remove this character "
       ]
      },
      {
       "output_type": "stream",
       "stream": "stdout",
       "text": [
        " Silver Samurai (Age of Apocalypse)\n",
        "- "
       ]
      },
      {
       "output_type": "stream",
       "stream": "stdout",
       "text": [
        " Lieutenant Marcus Stone - Marcus Stone : Other\n",
        "- "
       ]
      },
      {
       "output_type": "stream",
       "stream": "stdout",
       "text": [
        " Storm (Ultimate) - Storm : Female\n",
        "- "
       ]
      },
      {
       "output_type": "stream",
       "stream": "stdout",
       "text": [
        " Storm (Age of Apocalypse) - Storm : Female\n",
        "- "
       ]
      },
      {
       "output_type": "stream",
       "stream": "stdout",
       "text": [
        " Franklin Storm - Franklin Storm : Male\n",
        "*** Remove this character "
       ]
      },
      {
       "output_type": "stream",
       "stream": "stdout",
       "text": [
        " Sunfire (Age of Apocalypse)\n",
        "- "
       ]
      },
      {
       "output_type": "stream",
       "stream": "stdout",
       "text": [
        " Thing (Ultimate) - Thing : Male\n",
        "*** Remove this character "
       ]
      },
      {
       "output_type": "stream",
       "stream": "stdout",
       "text": [
        " Union Jack (Montgomery Falsworth)\n",
        "- "
       ]
      },
      {
       "output_type": "stream",
       "stream": "stdout",
       "text": [
        " Union Jack (Brian Falsworth) - Brian Falsworth : Male\n",
        "*** Remove this character "
       ]
      },
      {
       "output_type": "stream",
       "stream": "stdout",
       "text": [
        " Unus (Ultimate)\n",
        "*** Remove this character "
       ]
      },
      {
       "output_type": "stream",
       "stream": "stdout",
       "text": [
        " Unus (Age of Apocalypse)\n",
        "*** Remove this character "
       ]
      },
      {
       "output_type": "stream",
       "stream": "stdout",
       "text": [
        " Unus (House of M)\n",
        "*** Remove this character "
       ]
      },
      {
       "output_type": "stream",
       "stream": "stdout",
       "text": [
        " Vanisher (Age of Apocalypse)\n",
        "- "
       ]
      },
      {
       "output_type": "stream",
       "stream": "stdout",
       "text": [
        " War Machine (Parnell Jacobs) - Parnell Jacobs : Male\n",
        "*** Remove this character "
       ]
      },
      {
       "output_type": "stream",
       "stream": "stdout",
       "text": [
        " Wolfsbane (Age of Apocalypse)\n",
        "+  Yellowjacket (Rita DeMara) : Female\n",
        "- "
       ]
      },
      {
       "output_type": "stream",
       "stream": "stdout",
       "text": [
        " The Initiative - Initiate : Male\n",
        "- "
       ]
      },
      {
       "output_type": "stream",
       "stream": "stdout",
       "text": [
        " Daken - Daken : Male\n",
        "- "
       ]
      },
      {
       "output_type": "stream",
       "stream": "stdout",
       "text": [
        " Marvel Zombies - Zombie : Male\n",
        "+ "
       ]
      },
      {
       "output_type": "stream",
       "stream": "stdout",
       "text": [
        " Wind Dancer : Female\n",
        "- "
       ]
      },
      {
       "output_type": "stream",
       "stream": "stdout",
       "text": [
        " Spider-Man (Ultimate) - Spider-Man : Male\n",
        "- "
       ]
      },
      {
       "output_type": "stream",
       "stream": "stdout",
       "text": [
        " Vulcan (Gabriel Summers) - Vulcan : Male\n",
        "- "
       ]
      },
      {
       "output_type": "stream",
       "stream": "stdout",
       "text": [
        " Armadillo - Armadillo : Male\n",
        "- "
       ]
      },
      {
       "output_type": "stream",
       "stream": "stdout",
       "text": [
        " Lady Mastermind - Lady Mastermind : Female\n",
        "- "
       ]
      },
      {
       "output_type": "stream",
       "stream": "stdout",
       "text": [
        " Changeling - Morph : Male\n",
        "- "
       ]
      },
      {
       "output_type": "stream",
       "stream": "stdout",
       "text": [
        " Darwin - Darwin : Male\n",
        "+  Sway : Female\n",
        "- "
       ]
      },
      {
       "output_type": "stream",
       "stream": "stdout",
       "text": [
        " Molecule Man - Molecule Man : Male\n",
        "- "
       ]
      },
      {
       "output_type": "stream",
       "stream": "stdout",
       "text": [
        " Darkhawk - Darkhawk : Male\n",
        "- "
       ]
      },
      {
       "output_type": "stream",
       "stream": "stdout",
       "text": [
        " Super-Adaptoid - Super-Adaptoid : Other\n",
        "- "
       ]
      },
      {
       "output_type": "stream",
       "stream": "stdout",
       "text": [
        " Thor (Ultimate) - Thor : Male\n",
        "+  Mantis : Female\n",
        "- "
       ]
      },
      {
       "output_type": "stream",
       "stream": "stdout",
       "text": [
        " Captain Universe - Captain Universe : Other\n",
        "- "
       ]
      },
      {
       "output_type": "stream",
       "stream": "stdout",
       "text": [
        " Owl - Owl : Male\n",
        "- "
       ]
      },
      {
       "output_type": "stream",
       "stream": "stdout",
       "text": [
        " Prodigy - Prodigy : Male\n",
        "- "
       ]
      },
      {
       "output_type": "stream",
       "stream": "stdout",
       "text": [
        " Speed Demon - Speed Demon : Male\n",
        "+  Joystick : Female\n",
        "- "
       ]
      },
      {
       "output_type": "stream",
       "stream": "stdout",
       "text": [
        " Terror - Terror : Male\n",
        "+  Satana : Female\n",
        "+  Deathcry : Female\n",
        "- "
       ]
      },
      {
       "output_type": "stream",
       "stream": "stdout",
       "text": [
        " Bug - The Bug : Male\n",
        "- "
       ]
      },
      {
       "output_type": "stream",
       "stream": "stdout",
       "text": [
        " Centennial - Centennial : Male\n",
        "+  Dinah Soar : Female\n",
        "- "
       ]
      },
      {
       "output_type": "stream",
       "stream": "stdout",
       "text": [
        " Wither - Wither : Male\n",
        "- "
       ]
      },
      {
       "output_type": "stream",
       "stream": "stdout",
       "text": [
        " Photon - Photon : Female\n",
        "+  Turbo : Female\n",
        "- "
       ]
      },
      {
       "output_type": "stream",
       "stream": "stdout",
       "text": [
        " Scalphunter - Scalphunter : Male\n",
        "- "
       ]
      },
      {
       "output_type": "stream",
       "stream": "stdout",
       "text": [
        " Strong Guy - Strong Guy : Male\n",
        "- "
       ]
      },
      {
       "output_type": "stream",
       "stream": "stdout",
       "text": [
        " Cardiac - Cardiac : Male\n",
        "- "
       ]
      },
      {
       "output_type": "stream",
       "stream": "stdout",
       "text": [
        " Maelstrom - Maelstrom : Male\n",
        "- "
       ]
      },
      {
       "output_type": "stream",
       "stream": "stdout",
       "text": [
        " Spider-Man (1602) - Spider-Man : Male\n",
        "- "
       ]
      },
      {
       "output_type": "stream",
       "stream": "stdout",
       "text": [
        " Gideon - Gideon : Male\n",
        "- "
       ]
      },
      {
       "output_type": "stream",
       "stream": "stdout",
       "text": [
        " Multiple Man - Madrox : Male\n",
        "- "
       ]
      },
      {
       "output_type": "stream",
       "stream": "stdout",
       "text": [
        " Slapstick - Slapstick : Male\n",
        "- "
       ]
      },
      {
       "output_type": "stream",
       "stream": "stdout",
       "text": [
        " Kylun - Kylun : Male\n",
        "- "
       ]
      },
      {
       "output_type": "stream",
       "stream": "stdout",
       "text": [
        " Living Tribunal - Living Tribunal : Other\n",
        "- "
       ]
      },
      {
       "output_type": "stream",
       "stream": "stdout",
       "text": [
        " Ego - Ego : Male\n",
        "- "
       ]
      },
      {
       "output_type": "stream",
       "stream": "stdout",
       "text": [
        " Eternity - Eternity : Male\n",
        "- "
       ]
      },
      {
       "output_type": "stream",
       "stream": "stdout",
       "text": [
        " Stranger - Stranger : Male\n",
        "- "
       ]
      },
      {
       "output_type": "stream",
       "stream": "stdout",
       "text": [
        " In-Betweener - In-Betweener : Male\n",
        "- "
       ]
      },
      {
       "output_type": "stream",
       "stream": "stdout",
       "text": [
        " Inertia - Inertia : Female\n",
        "- "
       ]
      },
      {
       "output_type": "stream",
       "stream": "stdout",
       "text": [
        " Epoch - Epoch : Female\n",
        "- "
       ]
      },
      {
       "output_type": "stream",
       "stream": "stdout",
       "text": [
        " Victor Mancha - Victor Mancha : Male\n",
        "+  M (Monet St. Croix) : Female\n",
        "- "
       ]
      },
      {
       "output_type": "stream",
       "stream": "stdout",
       "text": [
        " Harrier - Harrier : Male\n",
        "- "
       ]
      },
      {
       "output_type": "stream",
       "stream": "stdout",
       "text": [
        " Slayback - Slayback : Male\n",
        "- "
       ]
      },
      {
       "output_type": "stream",
       "stream": "stdout",
       "text": [
        " Demogoblin - Demogoblin : Male\n",
        "- "
       ]
      },
      {
       "output_type": "stream",
       "stream": "stdout",
       "text": [
        " Edwin Jarvis - Jarvis : Male\n",
        "+  Bloodaxe : Female\n",
        "- "
       ]
      },
      {
       "output_type": "stream",
       "stream": "stdout",
       "text": [
        " Swarm - Swarm : Male\n",
        "- "
       ]
      },
      {
       "output_type": "stream",
       "stream": "stdout",
       "text": [
        " Grandmaster - Grandmaster : Male\n",
        "- "
       ]
      },
      {
       "output_type": "stream",
       "stream": "stdout",
       "text": [
        " Ikaris - Ikaris : Male\n",
        "- "
       ]
      },
      {
       "output_type": "stream",
       "stream": "stdout",
       "text": [
        " Korg - Korg : Male\n",
        "- "
       ]
      },
      {
       "output_type": "stream",
       "stream": "stdout",
       "text": [
        " Ka-Zar - Ka-Zar : Male\n",
        "- "
       ]
      },
      {
       "output_type": "stream",
       "stream": "stdout",
       "text": [
        " Elixir - Elixir : Male\n",
        "- "
       ]
      },
      {
       "output_type": "stream",
       "stream": "stdout",
       "text": [
        " Starfox - Starfox : Male\n",
        "- "
       ]
      },
      {
       "output_type": "stream",
       "stream": "stdout",
       "text": [
        " Dead Girl - Dead Girl : Female\n",
        "- "
       ]
      },
      {
       "output_type": "stream",
       "stream": "stdout",
       "text": [
        " Morlun - Morlun : Male\n",
        "- "
       ]
      },
      {
       "output_type": "stream",
       "stream": "stdout",
       "text": [
        " Leech - Leech : Male\n",
        "- "
       ]
      },
      {
       "output_type": "stream",
       "stream": "stdout",
       "text": [
        " Shi'Ar - Shell : Male\n",
        "- "
       ]
      },
      {
       "output_type": "stream",
       "stream": "stdout",
       "text": [
        " Mentallo - Mentallo : Male\n",
        "+  Layla Miller : Female\n",
        "- "
       ]
      },
      {
       "output_type": "stream",
       "stream": "stdout",
       "text": [
        " Jimmy Woo - Jimmy Woo : Male\n",
        "+  Venus (Siren) : Female\n",
        "- "
       ]
      },
      {
       "output_type": "stream",
       "stream": "stdout",
       "text": [
        " Deviants - Deviant Child : Female\n",
        "- "
       ]
      },
      {
       "output_type": "stream",
       "stream": "stdout",
       "text": [
        " Civil War - War : Male\n",
        "- "
       ]
      },
      {
       "output_type": "stream",
       "stream": "stdout",
       "text": [
        " Spider-Man (Marvel Zombies) - Spider-Man : Male\n",
        "- "
       ]
      },
      {
       "output_type": "stream",
       "stream": "stdout",
       "text": [
        " Hulk (Marvel Zombies) - Hulk : Male\n",
        "- "
       ]
      },
      {
       "output_type": "stream",
       "stream": "stdout",
       "text": [
        " Zodiak - Zodiak : Male\n",
        "- "
       ]
      },
      {
       "output_type": "stream",
       "stream": "stdout",
       "text": [
        " Weapon Omega - Wild Child : Male\n",
        "+ "
       ]
      },
      {
       "output_type": "stream",
       "stream": "stdout",
       "text": [
        " Baroness S'Bak : Female\n",
        "+  Beyonder : Female\n",
        "+  Cammi : Female\n",
        "+  Cerise : Female\n",
        "- "
       ]
      },
      {
       "output_type": "stream",
       "stream": "stdout",
       "text": [
        " Devos - Devo : Male\n",
        "- "
       ]
      },
      {
       "output_type": "stream",
       "stream": "stdout",
       "text": [
        " Fallen One - Fallen One : Male\n",
        "- "
       ]
      },
      {
       "output_type": "stream",
       "stream": "stdout",
       "text": [
        " Glorian - Glorian : Male\n",
        "- "
       ]
      },
      {
       "output_type": "stream",
       "stream": "stdout",
       "text": [
        " Lord Hawal - Lord Deathstrike : Male\n",
        "- "
       ]
      },
      {
       "output_type": "stream",
       "stream": "stdout",
       "text": [
        " Infant Terrible - Delinquent : Male\n",
        "- "
       ]
      },
      {
       "output_type": "stream",
       "stream": "stdout",
       "text": [
        " Korath - Korath the Pursuer : Male\n",
        "- "
       ]
      },
      {
       "output_type": "stream",
       "stream": "stdout",
       "text": [
        " Kree - Kree-Tor : Male\n",
        "+  Tana Nile : Female\n",
        "- "
       ]
      },
      {
       "output_type": "stream",
       "stream": "stdout",
       "text": [
        " Paibok - Paibok The Power Skrull : Male\n",
        "+  Praxagora : Female\n",
        "- "
       ]
      },
      {
       "output_type": "stream",
       "stream": "stdout",
       "text": [
        " Preak - Preak : Male\n",
        "- "
       ]
      },
      {
       "output_type": "stream",
       "stream": "stdout",
       "text": [
        " Ravenous - Ravenous : Male\n",
        "- "
       ]
      },
      {
       "output_type": "stream",
       "stream": "stdout",
       "text": [
        " Red Shift - Red Shift : Male\n",
        "- "
       ]
      },
      {
       "output_type": "stream",
       "stream": "stdout",
       "text": [
        " Salo - Admiral Salo : Other\n",
        "+  Skreet : Female\n",
        "+  Spirit : Female\n",
        "+  Stellaris : Female\n",
        "- "
       ]
      },
      {
       "output_type": "stream",
       "stream": "stdout",
       "text": [
        " Supreme Intelligence - Supreme Intelligence : Other\n",
        "- "
       ]
      },
      {
       "output_type": "stream",
       "stream": "stdout",
       "text": [
        " Talos - Talos : Male\n",
        "- "
       ]
      },
      {
       "output_type": "stream",
       "stream": "stdout",
       "text": [
        " Tenebrous - Tenebrous : Male\n",
        "- "
       ]
      },
      {
       "output_type": "stream",
       "stream": "stdout",
       "text": [
        " Zarek - Zarek : Male\n",
        "- "
       ]
      },
      {
       "output_type": "stream",
       "stream": "stdout",
       "text": [
        " Aginar - Aginar : Male\n",
        "- "
       ]
      },
      {
       "output_type": "stream",
       "stream": "stdout",
       "text": [
        " Ajak - Ajak : Male\n",
        "- "
       ]
      },
      {
       "output_type": "stream",
       "stream": "stdout",
       "text": [
        " Forgotten One - Gilgamesh : Male\n",
        "- "
       ]
      },
      {
       "output_type": "stream",
       "stream": "stdout",
       "text": [
        " Kronos - Kronos : Male\n",
        "+  Pixie : Female\n",
        "- "
       ]
      },
      {
       "output_type": "stream",
       "stream": "stdout",
       "text": [
        " Sprite - Sprite : Male\n",
        "+  Thena : Female\n",
        "- "
       ]
      },
      {
       "output_type": "stream",
       "stream": "stdout",
       "text": [
        " Vampiro - Vampiro : Male\n",
        "- "
       ]
      },
      {
       "output_type": "stream",
       "stream": "stdout",
       "text": [
        " Zuras - Zuras : Male\n",
        "- "
       ]
      },
      {
       "output_type": "stream",
       "stream": "stdout",
       "text": [
        " Ezekiel - Ezekiel : Male\n",
        "- "
       ]
      },
      {
       "output_type": "stream",
       "stream": "stdout",
       "text": [
        " Ord - Ord : Male\n",
        "- "
       ]
      },
      {
       "output_type": "stream",
       "stream": "stdout",
       "text": [
        " Mindworm - Mindworm : Male\n",
        "- "
       ]
      },
      {
       "output_type": "stream",
       "stream": "stdout",
       "text": [
        " Madripoor - Madripoor Dragon : Other\n",
        "- "
       ]
      },
      {
       "output_type": "stream",
       "stream": "stdout",
       "text": [
        " Anthem - Anthem : Male\n",
        "- "
       ]
      },
      {
       "output_type": "stream",
       "stream": "stdout",
       "text": [
        " Calamity - Calamity : Male\n",
        "- "
       ]
      },
      {
       "output_type": "stream",
       "stream": "stdout",
       "text": [
        " Sugar Man - Sugar Man : Male\n",
        "*** Remove this character "
       ]
      },
      {
       "output_type": "stream",
       "stream": "stdout",
       "text": [
        " The Fury\n",
        "+  Mockingbird : Female\n",
        "- "
       ]
      },
      {
       "output_type": "stream",
       "stream": "stdout",
       "text": [
        " Skaar - Skaar : Male\n",
        "- "
       ]
      },
      {
       "output_type": "stream",
       "stream": "stdout",
       "text": [
        " Scrambler - Scrambler : Male\n",
        "+  Veda : Female\n",
        "- "
       ]
      },
      {
       "output_type": "stream",
       "stream": "stdout",
       "text": [
        " Supernaut - Supernaut : Male\n",
        "- "
       ]
      },
      {
       "output_type": "stream",
       "stream": "stdout",
       "text": [
        " Fat Cobra - Fat Cobra : Male\n",
        "+  Bride of Nine Spiders (Immortal Weapons) : Female\n",
        "+  Menace : Female\n",
        "+  Screwball : Female\n",
        "- "
       ]
      },
      {
       "output_type": "stream",
       "stream": "stdout",
       "text": [
        " Mandrill - Mandrill : Male\n",
        "- "
       ]
      },
      {
       "output_type": "stream",
       "stream": "stdout",
       "text": [
        " Mr. Negative - Mister Negative : Male\n",
        "- "
       ]
      },
      {
       "output_type": "stream",
       "stream": "stdout",
       "text": [
        " Hypno-Hustler - Hypno-Hustler : Male\n",
        "+  Geiger : Female\n",
        "*** Remove this character "
       ]
      },
      {
       "output_type": "stream",
       "stream": "stdout",
       "text": [
        " Gladiator (Melvin Potter)\n",
        "+  Carlie Cooper : Female\n",
        "- "
       ]
      },
      {
       "output_type": "stream",
       "stream": "stdout",
       "text": [
        " Vin Gonzales - Vin Gonzales : Male\n",
        "- "
       ]
      },
      {
       "output_type": "stream",
       "stream": "stdout",
       "text": [
        " Blue Shield - Blue Shield : Male\n",
        "- "
       ]
      },
      {
       "output_type": "stream",
       "stream": "stdout",
       "text": [
        " Adam Destine - Adam Destine : Male\n",
        "- "
       ]
      },
      {
       "output_type": "stream",
       "stream": "stdout",
       "text": [
        " Wallop - Wallop : Male\n",
        "+  Cuckoo : Female\n",
        "- "
       ]
      },
      {
       "output_type": "stream",
       "stream": "stdout",
       "text": [
        " Crimson Crusader - Crimson Crusader : Male\n",
        "+  Imp : Female\n",
        "- "
       ]
      },
      {
       "output_type": "stream",
       "stream": "stdout",
       "text": [
        " Hex - Hex : Male\n",
        "- "
       ]
      },
      {
       "output_type": "stream",
       "stream": "stdout",
       "text": [
        " Cap'n Oz - Cap'n Sharrr : Male\n",
        "- "
       ]
      },
      {
       "output_type": "stream",
       "stream": "stdout",
       "text": [
        " Cobalt Man - Cobalt Man : Male\n",
        "- "
       ]
      },
      {
       "output_type": "stream",
       "stream": "stdout",
       "text": [
        " Jackal - Jackal : Male\n",
        "- "
       ]
      },
      {
       "output_type": "stream",
       "stream": "stdout",
       "text": [
        " Wolf Cub - Wolf Cub : Male\n",
        "+  Blindfold : Female\n",
        "+  Armor (Hisako Ichiki) : Female\n",
        "- "
       ]
      },
      {
       "output_type": "stream",
       "stream": "stdout",
       "text": [
        " High Evolutionary - High Evolutionary : Male\n",
        "- "
       ]
      },
      {
       "output_type": "stream",
       "stream": "stdout",
       "text": [
        " Anole - Anole : Male\n",
        "+  Thundra : Female\n",
        "- "
       ]
      },
      {
       "output_type": "stream",
       "stream": "stdout",
       "text": [
        " Maximus - Maximus : Male\n",
        "- "
       ]
      },
      {
       "output_type": "stream",
       "stream": "stdout",
       "text": [
        " Justin Hammer - Justin Hammer : Male\n",
        "- "
       ]
      },
      {
       "output_type": "stream",
       "stream": "stdout",
       "text": [
        " Ultimo - Ultimo : Other\n",
        "- "
       ]
      },
      {
       "output_type": "stream",
       "stream": "stdout",
       "text": [
        " Junta - Junta : Male\n",
        "+  Vapor : Female\n",
        "- "
       ]
      },
      {
       "output_type": "stream",
       "stream": "stdout",
       "text": [
        " Ken Ellis - Ken Ellis : Male\n",
        "+  Paper Doll : Female\n",
        "+  Lady Bullseye : Female\n",
        "- "
       ]
      },
      {
       "output_type": "stream",
       "stream": "stdout",
       "text": [
        " Omega Sentinel - Omega Sentinel : Female\n",
        "- "
       ]
      },
      {
       "output_type": "stream",
       "stream": "stdout",
       "text": [
        " Revanche - Revanche : Female\n",
        "- "
       ]
      },
      {
       "output_type": "stream",
       "stream": "stdout",
       "text": [
        " 3-D Man - 3-D Man (Chandler) : Male\n",
        "+  Maria Hill : Female\n",
        "*** Remove this character "
       ]
      },
      {
       "output_type": "stream",
       "stream": "stdout",
       "text": [
        " Starhawk (Stakar Ogord)\n",
        "- "
       ]
      },
      {
       "output_type": "stream",
       "stream": "stdout",
       "text": [
        " Vance Astro - Major Victory : Male\n",
        "- "
       ]
      },
      {
       "output_type": "stream",
       "stream": "stdout",
       "text": [
        " Jamie Braddock - Jamie Braddock : Male\n",
        "+  Jazinda : Female\n",
        "- "
       ]
      },
      {
       "output_type": "stream",
       "stream": "stdout",
       "text": [
        " Tinkerer - Tinkerer : Male\n",
        "- "
       ]
      },
      {
       "output_type": "stream",
       "stream": "stdout",
       "text": [
        " Cosmo - Cosmo : Male\n",
        "- "
       ]
      },
      {
       "output_type": "stream",
       "stream": "stdout",
       "text": [
        " Red Hulk - Thunderbolt Ross : Male\n",
        "*** Remove this character "
       ]
      },
      {
       "output_type": "stream",
       "stream": "stdout",
       "text": [
        " American Eagle (Jason Strongbow)\n",
        "- "
       ]
      },
      {
       "output_type": "stream",
       "stream": "stdout",
       "text": [
        " Cottonmouth - Cottonmouth : Male\n",
        "*** Remove this character "
       ]
      },
      {
       "output_type": "stream",
       "stream": "stdout",
       "text": [
        " Vanisher (Telford Porter)\n",
        "- "
       ]
      },
      {
       "output_type": "stream",
       "stream": "stdout",
       "text": [
        " Molten Man - Molten Man : Male\n",
        "- "
       ]
      },
      {
       "output_type": "stream",
       "stream": "stdout",
       "text": [
        " Henry Peter Gyrich - Henry Gyrich : Male\n",
        "- "
       ]
      },
      {
       "output_type": "stream",
       "stream": "stdout",
       "text": [
        " Reptil - Reptil : Male\n",
        "- "
       ]
      },
      {
       "output_type": "stream",
       "stream": "stdout",
       "text": [
        " Cypher - Cypher : Male\n",
        "+  Karma : Female\n",
        "+  She-Hulk (Lyra) : Female\n",
        "- "
       ]
      },
      {
       "output_type": "stream",
       "stream": "stdout",
       "text": [
        " She-Hulk (Ultimate) - She-Hulk : Female\n",
        "- "
       ]
      },
      {
       "output_type": "stream",
       "stream": "stdout",
       "text": [
        " Shiver Man - Shiver Man : Male\n",
        "*** Remove this character "
       ]
      },
      {
       "output_type": "stream",
       "stream": "stdout",
       "text": [
        " Talon (Fraternity of Raptors)\n",
        "- "
       ]
      },
      {
       "output_type": "stream",
       "stream": "stdout",
       "text": [
        " Romulus - Romulus : Male\n",
        "+  Meggan : Female\n",
        "- "
       ]
      },
      {
       "output_type": "stream",
       "stream": "stdout",
       "text": [
        " Lucky Pierre - Ernst Erskine : Male\n",
        "- "
       ]
      },
      {
       "output_type": "stream",
       "stream": "stdout",
       "text": [
        " Shadu the Shady - Shadu the Shady : Male\n",
        "+  Contessa (Vera Vidal) : Female\n",
        "- "
       ]
      },
      {
       "output_type": "stream",
       "stream": "stdout",
       "text": [
        " Chores MacGillicudy - Chores : Male\n",
        "+  Iron Fist (Wu Ao-Shi) : Female\n",
        "+  Loa : Female\n",
        "- "
       ]
      },
      {
       "output_type": "stream",
       "stream": "stdout",
       "text": [
        " Grey Gargoyle - Grey Gargoyle : Male\n",
        "+  Nekra : Female\n",
        "+  Miss America : Female\n",
        "+ "
       ]
      },
      {
       "output_type": "stream",
       "stream": "stdout",
       "text": [
        " Hope Summers : Female\n",
        "+  Enchantress (Sylvie Lushton) : Female\n",
        "- "
       ]
      },
      {
       "output_type": "stream",
       "stream": "stdout",
       "text": [
        " Hank Pym - Hank Pym : Male\n",
        "- "
       ]
      },
      {
       "output_type": "stream",
       "stream": "stdout",
       "text": [
        " Spider-Man (House of M) - Spider-Man : Male\n",
        "- "
       ]
      },
      {
       "output_type": "stream",
       "stream": "stdout",
       "text": [
        " Spider-Man (2099) - Spider-Man : Male\n"
       ]
      }
     ],
     "prompt_number": 225
    },
    {
     "cell_type": "code",
     "collapsed": false,
     "input": [
      "nenas, nenes = 0, 0\n",
      "for c in characters_with_data:\n",
      "    try:\n",
      "        # Marvel already tell us it's a girl.\n",
      "        if  \"Women\" in c['wiki']['categories']:\n",
      "            nenas += 1\n",
      "            \n",
      "        else:\n",
      "            nenes += 1\n",
      "    except (KeyError, TypeError):    \n",
      "        pass"
     ],
     "language": "python",
     "metadata": {},
     "outputs": [],
     "prompt_number": 223
    },
    {
     "cell_type": "code",
     "collapsed": false,
     "input": [
      "print(nenas, nenes)"
     ],
     "language": "python",
     "metadata": {},
     "outputs": [
      {
       "output_type": "stream",
       "stream": "stdout",
       "text": [
        "200 592\n"
       ]
      }
     ],
     "prompt_number": 226
    },
    {
     "cell_type": "code",
     "collapsed": false,
     "input": [
      "marvel_genders"
     ],
     "language": "python",
     "metadata": {},
     "outputs": [
      {
       "metadata": {},
       "output_type": "pyout",
       "prompt_number": 227,
       "text": [
        "{1: 475, 2: 200}"
       ]
      }
     ],
     "prompt_number": 227
    },
    {
     "cell_type": "code",
     "collapsed": false,
     "input": [
      "comicVine_genders"
     ],
     "language": "python",
     "metadata": {},
     "outputs": [
      {
       "metadata": {},
       "output_type": "pyout",
       "prompt_number": 228,
       "text": [
        "{0: 23, 1: 445, 2: 192}"
       ]
      }
     ],
     "prompt_number": 228
    },
    {
     "cell_type": "code",
     "collapsed": false,
     "input": [
      "comicVine_genders_2"
     ],
     "language": "python",
     "metadata": {},
     "outputs": [
      {
       "metadata": {},
       "output_type": "pyout",
       "prompt_number": 229,
       "text": [
        "{0: 19, 1: 428, 2: 228}"
       ]
      }
     ],
     "prompt_number": 229
    },
    {
     "cell_type": "code",
     "collapsed": false,
     "input": [
      "428 + 228 + 19"
     ],
     "language": "python",
     "metadata": {},
     "outputs": [
      {
       "metadata": {},
       "output_type": "pyout",
       "prompt_number": 230,
       "text": [
        "675"
       ]
      }
     ],
     "prompt_number": 230
    },
    {
     "cell_type": "code",
     "collapsed": false,
     "input": [
      "len(characters_with_data)"
     ],
     "language": "python",
     "metadata": {},
     "outputs": [
      {
       "metadata": {},
       "output_type": "pyout",
       "prompt_number": 232,
       "text": [
        "807"
       ]
      }
     ],
     "prompt_number": 232
    },
    {
     "cell_type": "code",
     "collapsed": false,
     "input": [
      "23 + 445 + 192"
     ],
     "language": "python",
     "metadata": {},
     "outputs": [
      {
       "metadata": {},
       "output_type": "pyout",
       "prompt_number": 231,
       "text": [
        "660"
       ]
      }
     ],
     "prompt_number": 231
    },
    {
     "cell_type": "code",
     "collapsed": false,
     "input": [
      "for c in characters_with_data:\n",
      "    if (\"Gamora\" in c['name']):\n",
      "        print(c['name'])"
     ],
     "language": "python",
     "metadata": {},
     "outputs": [
      {
       "output_type": "stream",
       "stream": "stdout",
       "text": [
        "Gamora\n"
       ]
      }
     ],
     "prompt_number": 208
    },
    {
     "cell_type": "code",
     "collapsed": false,
     "input": [
      "characters_with_data[0][\"wiki\"].keys()"
     ],
     "language": "python",
     "metadata": {},
     "outputs": [
      {
       "metadata": {},
       "output_type": "pyout",
       "prompt_number": 248,
       "text": [
        "dict_keys(['place_of_birth', 'paraphernalia', 'main_image', 'groups', 'aliases', 'powers', 'significant_issues', 'debut', 'bio', 'real_name', 'relatives', 'categories', 'abilities', 'weight', 'origin', 'height', 'citizenship', 'bio_text', 'weapons', 'hair', 'education', 'occupation', 'identity', 'universe', 'eyes'])"
       ]
      }
     ],
     "prompt_number": 248
    },
    {
     "cell_type": "code",
     "collapsed": false,
     "input": [
      "print(characters_with_data[0][\"name\"])\n",
      "print(characters_with_data[0][\"wiki\"][\"citizenship\"])\n",
      "print(characters_with_data[0][\"gender\"])"
     ],
     "language": "python",
     "metadata": {},
     "outputs": [
      {
       "output_type": "stream",
       "stream": "stdout",
       "text": [
        "Justin Hammer\n",
        "Citizen of Monaco\n",
        "Male\n"
       ]
      }
     ],
     "prompt_number": 251
    },
    {
     "cell_type": "code",
     "collapsed": false,
     "input": [
      "num_characters_with_gender = len(characters_with_data)\n",
      "print(\"Ten\u00edamos {} y nos quedamos con {}.\"\\\n",
      "      \" Un {:.4f}% menos\".format(num_characters_with_wiki, num_characters_with_gender,\n",
      "                            100-(num_characters_with_gender*100/num_characters_with_wiki)))"
     ],
     "language": "python",
     "metadata": {},
     "outputs": [
      {
       "output_type": "stream",
       "stream": "stdout",
       "text": [
        "Ten\u00edamos 762 y nos quedamos con 762. Un 0.0000% menos\n"
       ]
      }
     ],
     "prompt_number": 259
    },
    {
     "cell_type": "code",
     "collapsed": false,
     "input": [],
     "language": "python",
     "metadata": {},
     "outputs": []
    }
   ],
   "metadata": {}
  }
 ]
}