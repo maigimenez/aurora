{
 "metadata": {
  "name": ""
 },
 "nbformat": 3,
 "nbformat_minor": 0,
 "worksheets": [
  {
   "cells": [
    {
     "cell_type": "code",
     "collapsed": false,
     "input": [
      "from marvel.marvel import Marvel\n",
      "from marveldev import Developer"
     ],
     "language": "python",
     "metadata": {},
     "outputs": [],
     "prompt_number": 2
    },
    {
     "cell_type": "markdown",
     "metadata": {},
     "source": [
      "Pomemos las credenciales de desarrolladores de marvel  y hacemos una petici\u00f3n. Podemos pedir hasta 100 personajes cada vez"
     ]
    },
    {
     "cell_type": "code",
     "collapsed": false,
     "input": [
      "developer = Developer()\n",
      "m = Marvel(*developer.get_marvel_credentials())"
     ],
     "language": "python",
     "metadata": {},
     "outputs": [],
     "prompt_number": 3
    },
    {
     "cell_type": "code",
     "collapsed": false,
     "input": [
      "character_data_wrapper = m.get_characters(orderBy=\"modified\", limit=\"100\")\n",
      "print(character_data_wrapper.status)"
     ],
     "language": "python",
     "metadata": {},
     "outputs": [
      {
       "output_type": "stream",
       "stream": "stdout",
       "text": [
        "Ok\n"
       ]
      }
     ],
     "prompt_number": 4
    },
    {
     "cell_type": "code",
     "collapsed": false,
     "input": [
      "for character in character_data_wrapper.data.results[:10]:\n",
      "    print(\"* {character.name}: {character.modified_raw}\".format(character=character))"
     ],
     "language": "python",
     "metadata": {},
     "outputs": [
      {
       "output_type": "stream",
       "stream": "stdout",
       "text": [
        "* Arcade: 1969-12-31T19:00:00-0500\n",
        "* Genesis: 1969-12-31T19:00:00-0500\n",
        "* Luckman: 1969-12-31T19:00:00-0500\n",
        "* Mikhail Rasputin: 1969-12-31T19:00:00-0500\n",
        "* Roxanne Simpson: 1969-12-31T19:00:00-0500\n",
        "* Ultimatum: 1969-12-31T19:00:00-0500\n",
        "* Madame Masque: 1969-12-31T19:00:00-0500\n",
        "* Gertrude Yorkes: 1969-12-31T19:00:00-0500\n",
        "* Mongoose: 1969-12-31T19:00:00-0500\n",
        "* Joystick: 1969-12-31T19:00:00-0500\n"
       ]
      }
     ],
     "prompt_number": 5
    },
    {
     "cell_type": "markdown",
     "metadata": {},
     "source": [
      "\u00bfQu\u00e9 podemos saber de cada personaje?"
     ]
    },
    {
     "cell_type": "code",
     "collapsed": false,
     "input": [
      "', '.join([attr for attr in dir(character) if not attr.startswith('_')])"
     ],
     "language": "python",
     "metadata": {},
     "outputs": [
      {
       "metadata": {},
       "output_type": "pyout",
       "prompt_number": 6,
       "text": [
        "'comics, description, detail, dict, events, get_comics, get_events, get_related_resource, get_series, get_stories, id, list_to_instance_list, marvel, modified, modified_raw, name, resourceURI, resource_url, series, stories, thumbnail, to_dict, urls, wiki'"
       ]
      }
     ],
     "prompt_number": 6
    },
    {
     "cell_type": "markdown",
     "metadata": {},
     "source": [
      "Nada parece muy interesante. Pero si exploramos la wiki, vemos que:\n"
     ]
    },
    {
     "cell_type": "code",
     "collapsed": false,
     "input": [
      "from IPython.core.display import HTML\n",
      "HTML(\"<iframe src={} width=900 height=350></iframe>\".format(character_data_wrapper.data.results[0].wiki))"
     ],
     "language": "python",
     "metadata": {},
     "outputs": [
      {
       "html": [
        "<iframe src=http://marvel.com/universe/Arcade?utm_campaign=apiRef&utm_source=28af7c7a8dac2c9156b74ac956598479 width=900 height=350></iframe>"
       ],
       "metadata": {},
       "output_type": "pyout",
       "prompt_number": 7,
       "text": [
        "<IPython.core.display.HTML at 0x7f4692bf3050>"
       ]
      }
     ],
     "prompt_number": 7
    },
    {
     "cell_type": "markdown",
     "metadata": {},
     "source": [
      "Aqu\u00ed si que hay cosas interesantes! Rasgos f\u00edsicos, ocupaci\u00f3n, educaci\u00f3n... Tiene buena pinta! Scrappemos la wiki!\n",
      "\n",
      "Oh Wait! Alguien nos ha hecho el trabajo\n",
      "#TODO Give credits"
     ]
    },
    {
     "cell_type": "code",
     "collapsed": false,
     "input": [
      "import pandas as pd\n",
      "from os import listdir\n",
      "from os.path import join\n",
      "MARVELOUSDB_PATH = \"../marvelousdb/data/characters/\""
     ],
     "language": "python",
     "metadata": {},
     "outputs": [],
     "prompt_number": 8
    },
    {
     "cell_type": "code",
     "collapsed": false,
     "input": [
      "json_db = [join(MARVELOUSDB_PATH,json_file) for json_file in listdir(MARVELOUSDB_PATH)]"
     ],
     "language": "python",
     "metadata": {},
     "outputs": [],
     "prompt_number": 9
    },
    {
     "cell_type": "code",
     "collapsed": false,
     "input": [
      "import json\n",
      "\n",
      "characters_with_data = []\n",
      "for f in json_db:\n",
      "    d = json.loads(''.join(open(f,'r').readlines()))\n",
      "    if 'wiki' in d.keys():\n",
      "        if 'former_members' not in d['wiki'].keys():\n",
      "            if isinstance(d['name'], str):\n",
      "                characters_with_data.append(d)"
     ],
     "language": "python",
     "metadata": {},
     "outputs": [],
     "prompt_number": 89
    },
    {
     "cell_type": "markdown",
     "metadata": {},
     "source": [
      "\u00a1Los datos son caros! "
     ]
    },
    {
     "cell_type": "code",
     "collapsed": false,
     "input": [
      "num_characters = len(json_db)\n",
      "num_characters_with_wiki = len(characters_with_data)\n",
      "print(\"Ten\u00edamos {} y nos quedamos con {}.\"\\\n",
      "      \" Un {:.4f}% menos\".format(num_characters, num_characters_with_wiki,\n",
      "                            100-(num_characters_with_wiki*100/num_characters)))"
     ],
     "language": "python",
     "metadata": {},
     "outputs": [
      {
       "output_type": "stream",
       "stream": "stdout",
       "text": [
        "Ten\u00edamos 1402 y nos quedamos con 762. Un 45.6491% menos\n"
       ]
      }
     ],
     "prompt_number": 258
    },
    {
     "cell_type": "code",
     "collapsed": false,
     "input": [
      "for c in characters_with_data[:10]:\n",
      "    print(c['name'])"
     ],
     "language": "python",
     "metadata": {},
     "outputs": [
      {
       "output_type": "stream",
       "stream": "stdout",
       "text": [
        "Justin Hammer\n",
        "Hawkeye (Kate Bishop)\n",
        "Super-Adaptoid\n",
        "She-Hulk (Jennifer Walters)\n",
        "Viper\n",
        "Namora\n",
        "Zuras\n",
        "Fat Cobra\n",
        "Romulus\n",
        "Rachel Grey\n"
       ]
      }
     ],
     "prompt_number": 252
    },
    {
     "cell_type": "code",
     "collapsed": false,
     "input": [
      "for c in characters_with_data:\n",
      "    if 'categories' in c['wiki'].keys() and c['wiki']['categories']:\n",
      "        print(c['wiki']['categories'], '-', c['name'])\n",
      "        if \"Women\" in c['wiki']['categories']:\n",
      "            print(\"*\")"
     ],
     "language": "python",
     "metadata": {},
     "outputs": [
      {
       "output_type": "stream",
       "stream": "stdout",
       "text": [
        "['Villains', 'International', 'Deceased'] - Justin Hammer\n",
        "['Women', 'Avengers', 'Heroes', 'Civil War'] - Hawkeye (Kate Bishop)\n",
        "*\n",
        "['Annihilation', 'Avengers', 'Cosmic', 'Fantastic Four', 'Marvel Knights', 'Thunderbolts', 'Villains', 'X-Men'] - Super-Adaptoid\n",
        "['Women', 'Heroes', 'Hulk', 'Civil War', 'Avengers', 'Fantastic Four', 'Initiative'] - She-Hulk (Jennifer Walters)\n",
        "*\n",
        "['People', 'Women', 'International', 'Villains'] - Viper\n",
        "*\n",
        "['Exiles', 'Women', 'Deceased'] - Namora\n",
        "*\n",
        "['Avengers', 'Cosmic', 'Civil War', 'Heroes'] - Zuras\n",
        "['Heroes'] - Fat Cobra\n",
        "['Villains'] - Romulus\n",
        "['X-Men', 'Women', 'Heroes', 'Mutants', 'Cosmic'] - Rachel Grey\n",
        "*\n",
        "['X-Men', 'Horror'] - The Shiver Man\n",
        "['X-Men', 'Women', 'Deceased', 'International'] - Mariko Yashida\n",
        "*\n",
        "[' Villains', ' Thunderbolts', 'Civil War'] - Aqueduct\n",
        "['People', 'Marvel Knights', 'Villains'] - Mr. Hyde\n",
        "['X-Men', 'Women', 'Heroes', 'Mutants'] - Loa\n",
        "*\n",
        "['Cosmic', 'Villains', 'Fantastic Four', 'Annihilation'] - Paibok\n",
        "['Cosmic', 'X-Men'] - Shi'Ar\n",
        "['House of M'] - Spider-Man (House of M)\n",
        "['Villains', 'Cosmic', 'Fantastic Four'] - Supreme Intelligence\n",
        "['X-Men', 'Heroes', 'Women', 'Mutants', \" People who used to be dead but aren't anymore\"] - Boom Boom\n",
        "*\n",
        "['Villains', 'Women', 'Magic', 'Thor'] - Bloodaxe\n",
        "*\n",
        "['People', 'Villains', 'Avengers'] - Controller\n",
        "['Villains', 'Deceased'] - Ultimo\n",
        "['Horror', 'Magic', 'Cosmic', 'Villains'] - Blackheart\n",
        "['Heroes', 'Initiative'] - Anthem\n",
        "['Heroes', 'Women'] - Bride of Nine Spiders (Immortal Weapons)\n",
        "*\n",
        "['Ultimate Marvel', 'Deceased'] - Dazzler (Ultimate)\n",
        "['Heroes', 'Marvel Knights'] - Daredevil\n",
        "['People', 'Villains', 'Spider-Man', 'Spider-Man Villains'] - Rhino\n",
        "['Heroes', 'X-Men', 'Mutants', 'Marvel Knights', 'Civil War'] - Multiple Man\n",
        "['Ultimate_Marvel'] - Venom (Ultimate)\n",
        "['Spider-Man', 'People'] - Venom (Flash Thompson)\n",
        "['Ultimate Marvel'] - Jean Grey (Ultimate)\n",
        "['Heroes', 'Women', 'Avengers', 'Cosmic', 'International'] - Mantis\n",
        "*\n",
        "['Age of Apocalypse', 'X-Men', 'Villains', 'Mutants'] - Dark Beast\n",
        "['Cosmic'] - Bug\n",
        "['X-Men', 'Women', 'Heroes', 'Mutants', \"People who used to be dead but aren't anymore\"] - Dazzler\n",
        "*\n",
        "['Heroes', 'International', 'Marvel Knights'] - Junta\n",
        "['Cosmic', 'Villains', 'Fantastic Four'] - Infant Terrible\n",
        "['Women', 'Heroes', 'Avengers', 'Spider-Man', 'Civil War'] - Arachne\n",
        "*\n",
        "['House of M'] - Moon Knight (House of M)\n",
        "['X-Men', 'Villains', 'Deceased', 'Mutants'] - Genesis\n",
        "['Avengers', 'Gods', 'Magic', 'Villains', 'Thor'] - Loki\n",
        "['Villains', 'Horror', 'International', \"People who used to be dead but aren't anymore\", 'Magic'] - Dracula\n",
        "['Avengers', 'Mutants', 'Villains', 'Women'] - Nekra\n",
        "*\n",
        "['people', 'villains', 'Marvel Knights'] - Owl\n",
        "['X-Men', 'Heroes', 'Mutants', 'Civil War', 'Initiative'] - Bishop\n",
        "['Heroes', 'Women', 'International'] - Imp\n",
        "*\n",
        "['X-Men', 'Women', 'Heroes', 'Deceased', 'Mutants'] - Sway\n",
        "*\n",
        "['Ultimate Marvel'] - Iron Man (Ultimate)\n",
        "['Heroes', 'Avengers', 'Fantastic Four', 'International', 'Mutants', 'Civil War', 'X-Men'] - Sub-Mariner\n",
        "['Thor', 'Women'] - Jane Foster\n",
        "*\n",
        "['Heroes', 'Mutants', 'X-Men'] - Prodigy\n",
        "['Horror', 'Magic', 'Villains'] - Dormammu\n",
        "['Heroes', 'Women', 'Canadians', 'International', 'Mutants', 'Deceased'] - Puck (Zuzha Yu)\n",
        "*\n",
        "['Heroes'] - Blue Shield\n",
        "['Age of Apocalypse'] - Scarlet Witch (Age of Apocalypse)\n",
        "['Age of Apocalypse'] - Storm (Age of Apocalypse)\n",
        "['Magic', 'Mutants', 'Villains', 'X-Men'] - Azazel (Mutant)\n",
        "['Ultimate Marvel'] - Rogue (Ultimate)\n",
        "['Villains', 'Fantastic Four', 'X-Men', 'Civil War'] - Puppet Master\n",
        "['Heroes', 'Women'] - Karolina Dean \n",
        "*\n",
        "['Avengers', 'Civil War', 'Spider-Man', 'Spider-Man Villains', 'Thunderbolts', 'Villains'] - Venom (Mac Gargan)\n",
        "['Ultimate_Marvel'] - Mr. Fantastic (Ultimate)\n",
        "['Avengers', 'Cosmic', 'Deceased', 'Heroes', 'Thunderbolts'] - Photon\n",
        "['House of M'] - Captain America (House of M)\n",
        "['Ultimate Marvel'] - She-Hulk (Ultimate)\n",
        "['X-Men', 'Villains', 'Mutants'] - Quentin Quire\n",
        "['Ultimate Marvel'] - Doctor Octopus (Ultimate)\n",
        "['Heroes', 'Women', 'Avengers', 'X-Men', 'Mutants', 'Civil War', 'Initiative'] - Big Bertha\n",
        "*\n",
        "[' Villains', ' International', ' Thunderbolts', ' Civil War'] - Unicorn\n",
        "['Heroes', 'Women', 'International', 'Canadians', 'Deceased'] - Vindicator\n",
        "*\n",
        "['X-Men', 'Heroes', 'Women', 'Mutants'] - Polaris\n",
        "*\n",
        "['X-Men', 'Cosmic', 'Deceased'] - Warstar\n",
        "['X-Men', 'Women', 'Heroes', 'Mutants'] - Layla Miller\n",
        "*\n",
        "['X-Men', 'Fantastic Four', 'Mutants', 'Heroes'] - Franklin Richards\n",
        "['Villains', 'Women'] - Lady Bullseye\n",
        "*\n",
        "['X-Men', 'Villains', 'Women'] - Lady Deathstrike\n",
        "*\n",
        "['X-Men', 'Villains', \"People who used to be dead but aren't anymore\", 'International', 'Mutants'] - Pyro\n",
        "['Villains', 'Spider-Man', \"People who used to be dead but aren't anymore\"] - Silvermane\n",
        "['Spider-Man', 'Villains', 'Spider-Man Villains'] - Toxin (Eddie Brock)\n",
        "['Heroes', 'Avengers', 'Deceased'] - Forgotten One\n",
        "['Ultimate Marvel', \"People who used to be dead but aren't anymore\"] - Sabretooth (Ultimate)\n",
        "['Heroes', 'X-Men', 'Mutants'] - Havok\n",
        "['Hulk', 'People', 'Villains'] - Zzzax\n",
        "['Villains', 'Fantastic_Four', 'Spider-Man', 'Spider-Man Villains'] - Hydro-Man\n",
        "['X-Men', 'Villains', 'Women', \"People who used to be dead but aren't anymore\", 'Mutants'] - Catseye\n",
        "*\n",
        "['International', 'Spider-Man', 'Spider-Man_Villains', 'Villains'] - Chameleon\n",
        "['Avengers', 'Civil War', 'Heroes', 'Thunderbolts', 'International'] - U.S. Agent\n",
        "['Cosmic', 'Magic', 'Villains'] - Abyss\n",
        "['Ultimate Marvel', 'Women', 'Deceased'] - Black Widow (Ultimate)\n",
        "*\n",
        "['Villains', 'Horror', 'Thunderbolts'] - Scarecrow (Ebenezer Laughton)\n",
        "['Avengers', 'Deceased', 'Hulk', 'International', 'Villains'] - Abomination (Emil Blonsky)\n",
        "['Heroes', 'Women', 'Avengers', \"People who used to be dead but aren't anymore\", 'Cosmic', 'Annihilation'] - Moondragon\n",
        "*\n",
        "['Heroes', 'Horror', 'Spider-Man', 'Magic', 'Civil War', 'Initiative', 'Spider-Man Villains'] - Morbius\n",
        "['Villains'] - The Fury\n",
        "['Women', 'Heroes', 'X-Men', 'Mutants', 'Civil War'] - Domino\n",
        "*\n",
        "['Ultimate Marvel'] - Green Goblin (Ultimate)\n",
        "['Villains', 'Spider-Man', 'Spider-Man Villains'] - Electro\n",
        "['Avengers', 'Civil War', 'Heroes', 'Initiative', 'Magic'] - Wiccan\n",
        "['Annihilation', 'Avengers', 'Cosmic', 'Fantastic Four', 'Villains'] - Blastaar\n",
        "['Avengers', 'Cosmic', 'Fantastic Four', 'Heroes', \"People who used to be dead but aren't anymore\"] - Adam Warlock\n",
        "['Villains', 'Spider-Man', 'Marvel Knights', 'Spider-Man Villains'] - Kingpin\n",
        "['Cosmic', 'Deceased', 'Villains'] - Korath\n",
        "['Villains', 'Spider-Man', \"people who used to be dead but aren't anymore\"] - Scarlet Spider (Kaine)\n",
        "['Fantastic Four', 'Villains', 'Cosmic', \"People who used to be dead but aren't anymore\", 'Annihilation'] - Galactus\n",
        "['Women', 'Heroes'] - Pixie\n",
        "*\n",
        "['Mutants', 'X-Men', 'Women', 'Villains'] - Carmella Unuscione\n",
        "*\n",
        "['Spider-Man', 'Spider-Man Villains', 'Villains', 'Women'] - Menace\n",
        "*\n",
        "['Ultimate Marvel'] - Quicksilver (Ultimate)\n",
        "['X-Men', 'Cosmic', 'Women'] - Hussar\n",
        "*\n",
        "['Heroes', 'Hulk', 'Initiative', 'Women'] - Geiger\n",
        "*\n",
        "['Ultimate Marvel'] - Electro (Ultimate)\n",
        "['Heroes', 'Women'] - Jazinda\n",
        "*\n",
        "['Villains', 'X-Men', 'Deceased'] - William Stryker\n",
        "['Avengers', 'Civil War', 'Fantastic Four', 'Marvel Knights', 'Spider-Man', 'Thunderbolts', 'X-Men'] - Civil War\n",
        "['Age of Apocalypse'] - Wolfsbane (Age of Apocalypse)\n",
        "['Civil War', 'Heroes', 'Women', 'Initiative'] - Debrii\n",
        "*\n",
        "['Women', 'Heroes', 'Avengers', 'Civil War'] - Wasp\n",
        "*\n",
        "['Marvel Zombies', 'Deceased'] - Hulk (Marvel Zombies)\n",
        "['Ultimate Marvel'] - Proteus (Ultimate)\n",
        "['Heroes', 'Hulk', 'Avengers'] - Hulk\n",
        "['Heroes', \"People who used to be dead but aren't anymore\", 'Women'] - Silhouette\n",
        "*\n",
        "['Squadron Supreme', 'Deceased'] - Inertia\n",
        "['Heroes', 'International', 'Golden Age', 'Deceased'] - Black Knight\n",
        "['Age of Apocalypse', 'Mutants', 'Heroes'] - Sunfire (Age of Apocalypse)\n",
        "['Ultimate_Marvel'] - Human Torch (Ultimate)\n",
        "['Villains'] - War Machine (Parnell Jacobs)\n",
        "['Spider-Man', 'Horror', 'Deceased', 'Magic', 'Villains', 'Spider-Man Villains'] - Demogoblin\n",
        "['Heroes', 'Avengers'] - Josiah X\n",
        "['X-Men', 'Heroes', 'Mutants'] - Anole\n",
        "['X-Men', 'International'] - Madripoor\n",
        "['Deceased', 'Golden Age', 'Heroes', 'International'] - Union Jack (Brian Falsworth)\n",
        "['Avengers', 'Heroes', 'Initiative'] - Reptil\n",
        "['X-Men', 'International', 'Heroes', 'Mutants'] - Pete Wisdom\n",
        "[' Women', ' Villains', ' Cosmic', ' Avengers'] - Nebula\n",
        "['Civil War', 'Heroes', 'Initiative', 'International', 'Reformed Villains', 'Thunderbolts', 'Deceased'] - Swordsman\n",
        "['Heroes', 'Avengers', \"People who used to be dead but aren't anymore\", 'Civil War'] - Vision\n",
        "['X-Men', 'Villains', 'Mutants', 'Deceased'] - Vanisher (Telford Porter)\n",
        "['Cosmic', 'Heroes'] - Groot\n",
        "['Avengers', 'Mutants', 'Villains'] - Sphinx (Anath-Na Mut)\n",
        "['Heroes', 'X-Men', 'Cosmic'] - Gladiator (Kallark)\n",
        "['X-Men', 'International', 'Villains', 'Mutants'] - Mikhail Rasputin\n",
        "['Villains', 'Spider-Man', 'Spider-Man Villains', 'Women'] - Shriek\n",
        "*\n",
        "['People', 'Heroes', 'Marvel Knights', 'Avengers', 'Women', 'Civil War'] - Jessica Jones\n",
        "*\n",
        "['Villains', 'International', 'Deceased'] - Red Skull (Albert Malik)\n",
        "[\"People who used to be dead but aren't anymore\", 'Women'] - Vertigo (Savage Land Mutate)\n",
        "*\n",
        "['Women', 'Cosmic'] - Beyonder\n",
        "*\n",
        "['Cosmic', 'Deceased', 'Fantastic Four', 'Heroes', 'Women'] - Nova (Frankie Raye)\n",
        "*\n",
        "['International', 'Villains', 'Reformed Villains', 'Mutants', 'Deceased'] - Titanium Man (Topolov)\n",
        "['People', 'Villains', 'Marvel Knights'] - Bushwacker\n",
        "['X-Men', 'Heroes', \"People who used to be dead but aren't anymore \", 'Mutants', 'Age of Apocalypse'] - X-Man\n",
        "['X-Men', 'International', 'Heroes', 'Villains', 'Mutants'] - Sunfire\n",
        "['Ultimate Marvel'] - Elektra Natchios (Ultimate)\n",
        "['Ultimate Marvel'] - Shadowcat (Ultimate)\n",
        "['Avengers', 'Civil War', 'Fantastic Four', 'Heroes'] - Mr. Fantastic\n",
        "['Women', 'Heroes', 'International', 'Marvel Knights', \"People who used to be dead but aren't anymore\"] - Elektra\n",
        "*\n",
        "['Mutants', 'Women', 'X-Men'] - Blink\n",
        "*\n",
        "['Villains', 'Women'] - Sin\n",
        "*\n",
        "['Villains', 'Horror', 'Magic'] - Mephisto\n",
        "['Villains', 'Heroes', 'Spider-Man', 'Civil War', 'Initiative'] - Rocket Racer\n",
        "['People', 'Women', 'X-Men', 'Mutants', 'Reformed Villains'] - Emma Frost\n",
        "*\n",
        "['Heroes', 'Avengers', 'Civil War'] - Aginar\n",
        "['People', 'International', 'Villains', 'Civil War'] - Shockwave\n",
        "['Exiles', 'Heroes', 'X-Men'] - Longshot\n",
        "['Heroes', 'Women', 'Fantastic Four', 'Magic'] - Valeria Richards\n",
        "*\n",
        "['People', 'X-Men', 'Villains', 'Heroes', 'Deceased'] - Garrison Kane\n",
        "['Avengers', 'Women', 'Heroes', 'Civil War'] - Spectrum\n",
        "*\n",
        "['Heroes', 'Golden Age', 'International'] - Union Jack (Montgomery Falsworth)\n",
        "['Heroes', 'Fantastic Four', 'Deceased'] - H.E.R.B.I.E.\n",
        "['Heroes', 'Women', 'Spider-Man', 'Reformed Villains', 'Civil War'] - Black Cat\n",
        "*\n",
        "['Exiles', 'Heroes', 'International', 'Mutants', 'Women', 'X-Men'] - Nocturne\n",
        "*\n",
        "['Deceased'] - Ben Parker\n",
        "['X-Men', 'International', 'Women', 'Heroes', 'Mutants'] - Magma (Amara Aquilla)\n",
        "*\n",
        "['Spider-Man', 'Civil War'] - Man-Wolf\n",
        "['X-Men', 'Cosmic', 'Deceased'] - Earthquake\n",
        "['Heroes', 'Initiative'] - Supernaut\n",
        "['Marvel Knights', 'Heroes', 'Avengers', 'International', 'Civil War', 'Fantastic Four'] - Black Panther\n",
        "['Golden Age', 'Heroes', 'Cosmic'] - Marvel Boy\n",
        "['X-Men', 'Villains', 'Cosmic'] - Ord\n",
        "['Avengers', 'Hulk', ' Villains', \" People who used to be dead but aren't anymore\"] - M.O.D.O.K.\n",
        "['Heroes', 'Avengers', 'Fantastic_Four', 'Civil War'] - Human Torch\n",
        "['Heroes', 'Fantastic Four', 'Avengers', 'Deceased'] - Ant-Man (Scott Lang)\n",
        "['Avengers', 'Reformed Villains', 'Heroes', 'Cosmic', 'Annihilation'] - Firelord\n",
        "['Age of Apocalypse'] - Magneto (Age of Apocalypse)\n",
        "['Mutants', \"People who used to be dead but aren't anymore\", 'Villains', 'X-Men'] - Shadow King\n",
        "['X-Men', 'Women', 'Heroes', 'Mutants'] - Surge\n",
        "*\n",
        "['X-Men', 'Villains', 'Magic', 'Horror'] - Bloodscream\n",
        "['Spider-Man', 'Villains'] - Mysterio (Francis Klum)\n",
        "['Heroes', 'Women', 'Civil War'] - Misty Knight\n",
        "*\n",
        "['Cosmic', 'Heroes'] - Cosmo\n",
        "['Heroes', 'Women', 'Fantastic Four'] - Alicia Masters\n",
        "*\n",
        "['X-Men', 'Heroes', 'Mutants'] - Hellion\n",
        "['Annihilation', 'Cosmic', 'Deceased', 'Heroes', 'Women'] - Praxagora\n",
        "*\n",
        "['X-Men', 'International', 'Women', 'Heroes', 'Mutants'] - Dust\n",
        "*\n",
        "['Age of Apocalypse'] - Rogue (Age of Apocalypse)\n",
        "['Spider-Man', 'Spider-Man Villains', 'Women'] - Screwball\n",
        "*\n",
        "['Marvel 1602'] - Spider-Man (1602)\n",
        "['Heroes', 'X-Men', 'Mutants'] - Elixir\n",
        "['Ultimate Marvel'] - Captain America (Ultimate)\n",
        "['Ultimate Marvel'] - Thor (Ultimate)\n",
        "['Avengers', 'Heroes', 'Initiative'] - Trauma\n",
        "['Ultimate Marvel'] - Moira MacTaggert (Ultimate)\n",
        "['Heroes'] - Lieutenant Marcus Stone\n",
        "['X-Men', 'Heroes', 'Women', 'Mutants', \" People who used to be dead but aren't anymore\"] - Meltdown\n",
        "*\n",
        "['Heroes', 'Avengers', 'Squadron Supreme'] - Whizzer (Stanley Stewart)\n",
        "['Age of Apocalypse'] - Jubilee (Age of Apocalypse)\n",
        "['Spider-Man', 'Women'] - May Parker\n",
        "*\n",
        "['Avengers', 'Horror', 'Deceased', 'Mutants', 'Heroes', 'X-Men'] - Dead Girl\n",
        "['Heroes', 'Women'] - Contessa (Vera Vidal)\n",
        "*\n",
        "['Ultimate Marvel'] - Thing (Ultimate)\n",
        "['Villains', 'Cosmic', 'Annihilation', 'Women'] - Stardust\n",
        "*\n",
        "['X-Men', 'Villains', 'Mutants'] - Mesmero\n",
        "['X-Men', \"People who used to be dead but aren't anymore\", 'Heroes', 'International', 'Mutants'] - Banshee\n",
        "['Cosmic', 'Annihilation'] - Devos\n",
        "['Mutants', 'Villains', 'Avengers'] - Mandrill\n",
        "['Women', 'Heroes', 'X-Men', 'Mutants'] - Stepford Cuckoos\n",
        "*\n",
        "['Deceased', 'Spider-Man', 'Spider-Man Villains', 'Villains'] - Hobgoblin (Jason Macendale)\n",
        "['Avengers', 'Villains'] - Tiger Shark\n",
        "['Villains', 'X-Men', \"People who used to be dead but aren't anymore\", 'Mutants'] - Stryfe\n",
        "['Ultimate Marvel', 'Deceased'] - Nightcrawler (Ultimate)\n",
        "['Horror', 'Magic', 'Heroes'] - Daimon Hellstrom\n",
        "['deceased', \"People who used to be dead but aren't anymore\", 'Spider-Man', 'Spider-Man Villains', 'Villains'] - Morlun\n",
        "['Mutants', 'Heroes', 'X-Men'] - Rictor\n",
        "[\"People who used to be dead but aren't anymore\", 'Magic', 'Villains', 'Women', 'X-Men'] - Madelyne Pryor\n",
        "*\n",
        "['Villains', 'Spider-Man', 'Deceased'] - Ezekiel\n",
        "['Villains', 'Spider-Man', 'International', 'Thunderbolts', 'Spider-Man Villains'] - Boomerang\n",
        "['Avengers', 'Thunderbolts', 'Civil War', 'Heroes', 'Golden Age'] - Captain America\n",
        "['Civil War', 'Horror', 'Spider-Man', 'Spider-Man Villains', 'Thunderbolts', 'Villains'] - Vermin (Edward Whelan)\n",
        "['Deceased', 'Heroes'] - Chores MacGillicudy\n",
        "['Horror', 'Marvel Knights', 'Magic', 'Thunderbolts'] - Man-Thing\n",
        "['Annihilation', 'Avengers', 'Cosmic', 'Villains'] - Ultron\n",
        "['Heroes', 'Avengers', 'Squadron Supreme', 'Reformed Villains'] - Shape\n",
        "['International', 'Villains', 'Magic'] - Amun\n",
        "['Heroes', 'Villains', 'Reformed Villains', 'Cosmic', 'Women', 'Annihilation'] - Stellaris\n",
        "*\n",
        "['Heroes', 'Hulk', 'Women'] - She-Hulk (Lyra)\n",
        "*\n",
        "['Cosmic', 'Women'] - Shalla-bal\n",
        "*\n",
        "['People', 'Heroes', 'International'] - Ka-Zar\n",
        "['Avengers', 'Fantastic Four', 'Villains'] - Mole Man\n",
        "['Heroes', 'Women', 'Avengers', 'Mutants', 'Civil War'] - Firestar\n",
        "*\n",
        "['Villains', 'Spider-Man'] - Hypno-Hustler\n",
        "['Villains', 'Deceased'] - Alex Wilder\n",
        "['Avengers'] - Edwin Jarvis\n",
        "['Heroes', 'Women', 'Avengers', 'Reformed Villains', 'Marvel Knights', 'Civil War', 'Initiative'] - Black Widow\n",
        "*\n",
        "['Age of Apocalypse'] - Vanisher (Age of Apocalypse)\n",
        "['Villains', 'Mutants', 'X-Men'] - War (Abraham Kieros)\n",
        "['House of M'] - Magneto (House of M)\n",
        "['Deceased', 'Marvel Knights', 'Villains', 'Thunderbolts', 'Civil War', 'Initiative'] - Bullseye\n",
        "['X-Men', 'Villains', 'Mutants'] - Vulcan (Gabriel Summers)\n",
        "['Deceased', 'Heroes', 'Magic'] - Shadu the Shady\n",
        "['Ultimate Marvel', 'Deceased'] - Wasp (Ultimate)\n",
        "['Heroes', 'Avengers'] - Victor Mancha\n",
        "['X-Men', 'Villains'] - Ozymandias\n",
        "['Heroes', 'Women', 'Golden Age', 'International'] - Spitfire\n",
        "*\n",
        "['Heroes', 'Fantastic Four'] - Franklin Storm\n",
        "['Heroes', 'Avengers'] - Iron Lad\n",
        "['Avengers', 'Civil War', 'Heroes', 'Reformed Villains'] - Falcon\n",
        "['Avengers', 'Heroes', 'Reformed Villains', 'Thunderbolts', 'Women', 'Civil War', 'Initiative'] - Songbird\n",
        "*\n",
        "['People', 'Heroes', 'Avengers', 'Golden Age'] - 3-D Man\n",
        "['Heroes', 'Marvel Knights', 'Civil War', 'Golden Age'] - Nick Fury\n",
        "['Civil War', 'Heroes', 'Reformed Villains', 'Thunderbolts', 'Villains', 'X-Men'] - Mimic\n",
        "['Deceased', 'Heroes', 'Avengers', 'Cosmic', 'Annihilation'] - Nova\n",
        "['Villains', 'Cosmic', 'Avengers'] - In-Betweener\n",
        "['Annihilation', 'Cosmic', 'Deceased'] - Preak\n",
        "['Ultimate Marvel', 'Deceased'] - Cyclops (Ultimate)\n",
        "['Avengers', 'Heroes', 'Mutants', 'Cosmic', 'X-Men', 'Civil War', 'Initiative'] - Doorman\n",
        "['Deceased', 'Golden Age', 'Heroes'] - Nomad\n",
        "['Mutants', 'Villains', 'International', 'X-Men'] - Apocalypse\n",
        "['Villains', 'International', 'Thunderbolts', \"People who used to be dead but aren't anymore\"] - Baron Strucker\n",
        "['International', 'Mutants', 'X-Men'] - Omega Sentinel\n",
        "['Cosmic', 'Fantastic_Four', 'Villains'] - Psycho-Man\n",
        "['Iron Man', 'Villains'] - Mandarin\n",
        "['X-Men', 'Villains', 'Mutants', 'Deceased'] - Prism\n",
        "['Women', 'Heroes', 'Marvel Knights'] - White Tiger (Angela Del Toro)\n",
        "*\n",
        "['Avengers', 'Villains', 'International', \"People who used to be dead but aren't anymore\"] - Count Nefaria\n",
        "['Cosmic', 'Heroes'] - Vance Astro\n",
        "['Avengers', 'Villains', 'Mutants', 'Thunderbolts'] - Whirlwind\n",
        "['X-Men', 'Heroes', 'Deceased', 'Mutants'] - Bloke\n",
        "['X-Men', 'Heroes', 'Mutants', 'Reformed Villains'] - Gambit\n",
        "['Civil War', 'Spider-Man', 'Villains', 'Spider-Man Villains'] - Vulture (Adrian Toomes)\n",
        "['Villains', 'Avengers', 'Deceased', 'International'] - Baron Zemo (Heinrich Zemo)\n",
        "['Spider-Man', 'Civil War'] - J. Jonah Jameson\n",
        "['X-Men', 'Heroes', \"People who used to be dead but aren't anymore\", 'Mutants'] - Cypher\n",
        "['Cosmic'] - Stranger\n",
        "['Fantastic Four', 'Cosmic'] - Impossible Man\n",
        "['Heroes', 'Thunderbolts', 'Avengers'] - Ant-Man (Eric O Grady)\n",
        "['X-Men', 'Heroes', 'Reformed Villains', 'Mutants', 'Civil War', 'Deceased'] - Caliban\n",
        "['Women', 'X-Men', 'Cosmic', 'Heroes'] - Hepzibah\n",
        "*\n",
        "['Annihilation', 'Cosmic', 'Women'] - Skreet\n",
        "*\n",
        "['Mutants', 'Women', 'X-Men'] - Hope Summers\n",
        "*\n",
        "['Heroes', 'Hulk', 'Fantastic Four', 'Women'] - Thundra\n",
        "*\n",
        "['Marvel 1602'] - Beast (Earth-311)\n",
        "['Villains', 'Fantastic Four'] - Maximus\n",
        "['X-Men', 'Horror'] - Shiver Man\n",
        "['Avengers', 'Heroes', 'Gods', 'Magic', 'Civil War'] - Hercules\n",
        "['Cosmic', 'Annihilation'] - Glorian\n",
        "['Heroes', 'Women', 'Avengers', 'International', 'Magic', 'Civil War'] - Silverclaw\n",
        "*\n",
        "['Women', 'Heroes', 'Cosmic', 'International', 'Gods', 'Civil War'] - Thena\n",
        "*\n",
        "['X-Men', 'Heroes', 'Mutants'] - Rockslide\n",
        "['Avengers', 'Civil War', 'Heroes', 'Initiative', 'Iron Man', \"People who used to be dead but aren't anymore\"] - Iron Man\n",
        "['Deceased', 'International', 'Villains', 'X-Men'] - Slayback\n",
        "['Heroes', 'Golden Age', 'Deceased', 'Mutants'] - Toro (Thomas Raymond)\n",
        "['People', 'Villains', 'species', 'Cosmic'] - Deviants\n",
        "['Women', 'X-Men', 'Heroes', 'Reformed Villains', 'Mutants'] - Rogue\n",
        "*\n",
        "['Heroes', 'Women', 'Initiative'] - Scorpion (Carmilla Black)\n",
        "*\n",
        "['Cosmic', 'Fantastic Four', 'International', 'Villains'] - High Evolutionary\n",
        "[' Villains'] - Gladiator (Melvin Potter)\n",
        "['Civil War', 'Villains', 'Avengers'] - Nitro\n",
        "['Villains', 'X-Men', 'Deceased'] - Vargas\n",
        "['Annihilation', 'Cosmic', \"People who used to be dead but aren't anymore\"] - Death\n",
        "['X-Men', 'Villains', 'International', \"People who used to be dead but aren't anymore\", 'Mutants'] - Magneto\n",
        "['Heroes', 'Women', 'Horror', 'Magic', \"People who used to be dead but aren't anymore\"] - Satana\n",
        "*\n",
        "['Avengers', 'Deceased', 'Spider-Man', 'Spider-Man Villains', 'Villains', 'Cosmic', 'Horror'] - Carnage\n",
        "['Villains', 'Cosmic', 'Annihilation', 'Deceased'] - Red Shift\n",
        "['Women', 'Heroes', 'Avengers', 'Magic', \"People_who_used_to_be_dead_but_aren't_anymore\", 'Civil War', 'Initiative'] - Hellcat (Patsy Walker)\n",
        "*\n",
        "['Villains', 'Avengers'] - Vector\n",
        "['Avengers', 'Civil War', 'Heroes', 'Marvel Knights', \"People who used to be dead but aren't anymore\", 'Spider-Man'] - Spider-Man\n",
        "['Heroes', 'Avengers', 'Women', 'Reformed Villains'] - Echo\n",
        "*\n",
        "['Thunderbolts', 'Avengers', 'Heroes', 'Reformed Villains', \"People who used to be dead but aren't anymore\", 'Initiative', 'Civil War'] - Fixer (Paul Norbert Ebersol)\n",
        "['Avengers', 'Heroes', 'Cosmic', 'Annihilation'] - Quasar (Wendell Vaughn)\n",
        "['Fantastic Four', 'Heroes', 'Cosmic'] - Inhumans\n",
        "['Civil War', 'Heroes', 'Horror', 'Magic', 'Marvel Knights', \"People who used to be dead but aren't anymore\"] - Doctor Strange\n",
        "['Avengers', 'Fantastic Four', 'Villains'] - Kang\n",
        "['X-Men', 'Villains', 'Mutants'] - Cyber\n",
        "['Annihilation', 'Villains', 'Cosmic'] - Ravenous\n",
        "['X-Men', 'Heroes', 'International'] - Fantomex\n",
        "['Heroes', 'Women', 'Avengers', 'Civil War', 'Initiative'] - Tigra (Greer Nelson)\n",
        "*\n",
        "['Heroes', 'Women'] - Sharon Carter\n",
        "*\n",
        "['Heroes', 'X-Men', 'Villains', 'International', 'Mutants'] - Agent Zero\n",
        "['People', 'Heroes', 'International', 'Canadians', 'Deceased'] - Puck\n",
        "['Heroes', 'Mutants', 'Women', 'X-Men'] - Kitty Pryde\n",
        "*\n",
        "['X-Men', 'Villains', 'Mutants', 'Deceased'] - Wither\n",
        "['Thunderbolts', 'Avengers', 'Villains', 'Magic', 'Thor'] - Wrecker\n",
        "['X-Men', 'Heroes', 'Mutants'] - Professor X\n",
        "['Golden Age', 'Heroes', 'Magic'] - Gorilla Man\n",
        "['Cosmic'] - The Stranger\n",
        "['Annihilation', 'Cosmic', 'Fantastic Four', \"People who used to be dead but aren't anymore\", 'Villains'] - Super-Skrull\n",
        "['Women', 'Heroes', 'Spider-Man', 'Civil War', 'Initiative'] - Spider-Girl (Anya Corazon)\n",
        "*\n",
        "['Spider-Man', 'Villains'] - Tinkerer\n",
        "['X-Men', 'Villains', 'Mutants'] - Mastermind\n",
        "['Heroes', 'International', 'Magic'] - Wong\n",
        "['Villains', 'Fantastic Four', 'Golden Age'] - Hate-Monger (Adolf Hitler)\n",
        "['People', 'Heroes', 'Avengers', 'Spider-Man', 'Marvel_Knights', 'Civil War'] - Paladin\n",
        "['Horror', 'Magic', 'Villains'] - Nightmare\n",
        "['Cosmic', 'Heroes', 'International', 'Mutants', 'Women', 'X-Men'] - Lila Cheney\n",
        "*\n",
        "['Villains', 'Spider-Man', 'Deceased', 'Spider-Man Villains'] - Kraven the Hunter\n",
        "['X-Men', 'Heroes', 'International'] - Captain Britain\n",
        "['X-Men', 'Villains'] - Pretty Boy\n",
        "['Heroes', 'X-Men', 'Mutants', 'Deceased'] - Thunderbird (John Proudstar)\n",
        "['X-Men', 'Heroes', \"People who used to be dead but aren't anymore\", 'Mutants'] - Skin\n",
        "['Annihilation', 'Avengers', 'Cosmic', 'Heroes', \"People who used to be dead but aren't anymore\"] - Drax\n",
        "['X-Men', 'Women', 'Heroes', 'Mutants', \"People who used to be dead but aren't anymore\"] - Wallflower\n",
        "*\n",
        "['Annihilation', 'Cosmic', 'Deceased', 'Villains'] - Salo\n",
        "['Heroes', 'international'] - Union Jack (Joseph Chapman)\n",
        "['Heroes', 'Canadians', 'International', 'Deceased'] - Guardian\n",
        "['Heroes', 'X-Men', 'Mutants', 'International', \"People who used to be dead but aren't anymore\"] - Colossus\n",
        "['People', 'X-Men', 'Heroes', 'Women', 'Mutants', 'Cosmic'] - Phoenix\n",
        "*\n",
        "['Golden Age', 'International', 'Villains', 'Deceased'] - Yellow Claw\n",
        "['Heroes', 'Avengers'] - Darkhawk\n",
        "['X-Men', 'Heroes', 'Women', 'Mutants'] - X-23\n",
        "*\n",
        "['X-Men', 'Villains'] - Bastion\n",
        "['Villains', 'X-Men', 'International', 'Mutants'] - Black Tom\n",
        "['Civil War', 'Heroes', 'Women'] - Colleen Wing\n",
        "*\n",
        "['Spider-Man', 'Mutants', 'Spider-Man Villains', 'Deceased'] - Mindworm\n",
        "['Deceased', 'Iron Man', 'Iron Man', 'Villains'] - Iron Monger\n",
        "['Villains', 'Avengers', 'Thunderbolts'] - Crossbones\n",
        "['Villains', 'X-Men', 'Avengers'] - Cobalt Man\n",
        "['Cosmic', 'Villains', 'Women'] - Baroness S'Bak\n",
        "*\n",
        "['Avengers', 'Golden Age', 'Heroes', 'Initiative', 'Magic'] - Blazing Skull\n",
        "['Age of Apocalypse'] - Wild Child (Age of Apocalypse)\n",
        "['Heroes', 'Avengers', 'Exiles', 'Squadron Supreme'] - Hyperion (Earth-712)\n",
        "['Avengers', 'Gods', 'Heroes', 'Initiative', 'Reformed Villains', 'Deceased'] - Ares\n",
        "['Mutants', 'Heroes', 'X-Men', \"People who used to be dead but aren't anymore\", 'Cosmic'] - Warlock (Technarchy)\n",
        "['Reformed Villains', 'Civil War', 'Initiative'] - Armadillo\n",
        "['Heroes', 'X-Men', 'Cosmic', 'Deceased'] - Corsair\n",
        "['Villains'] - Cottonmouth\n",
        "['Heroes', 'Spider-Man', 'Civil War', 'Spider-Man Villains'] - Solo (James Bourne)\n",
        "['X-Men', 'Heroes', 'International', 'Mutants', 'Deceased'] - Gateway\n",
        "['Mutants', 'X-Men'] - Slipstream\n",
        "['Ultimate Marvel'] - Lizard (Ultimate)\n",
        "['Cosmic', 'International', 'Villains', \"People who used to be dead but aren't anymore\", 'Reformed Villains', 'Thunderbolts'] - Baron Zemo (Helmut Zemo)\n",
        "['X-Men', 'Villains', 'International', 'Mutants'] - Jamie Braddock\n",
        "['Women', 'X-Men'] - Cerise\n",
        "*\n",
        "['Villains', 'Cosmic'] - Ego\n",
        "['People', 'Women', 'Avengers', 'Heroes', 'Reformed Villains', 'Deceased'] - Yellowjacket (Rita DeMara)\n",
        "*\n",
        "['Hulk', 'Villains'] - Leader\n",
        "['X-Men', 'Women', 'Villains', 'Mutants', \"People who used to be dead but aren't anymore\"] - Arclight\n",
        "*\n",
        "['Heroes', 'Reformed Villains', 'Thunderbolts'] - Blacklash\n",
        "['People', 'Spider-Man', 'Avengers', 'Thunderbolts', 'Reformed Villains', 'Spider-Man Villains'] - Speed Demon\n",
        "['X-Men', 'Cosmic'] - Starbolt\n",
        "['X-Men', 'Villains'] - Sauron\n",
        "['Fantastic Four', 'International', 'Villains'] - Diablo\n",
        "['Women', 'Villains', 'Marvel Knights', 'Mutants', 'Initiative'] - Typhoid Mary\n",
        "*\n",
        "['X-Men', 'Heroes', 'Mutants'] - Leech\n",
        "['X-Men', 'Villains', 'Mutants', 'Deceased'] - Scrambler\n",
        "['Avengers', 'Heroes', 'Magic', 'Marvel Knights', \"People_who_used_to_be_dead_but_aren't_anymore\"] - Moon Knight\n",
        "['Avengers', 'Dark Reign', 'Mutants', 'Villains', 'X-Men'] - Daken\n",
        "['Heroes', 'Avengers', 'Civil War', 'Initiative'] - Living Lightning\n",
        "['Women', 'Deceased'] - Miss America\n",
        "*\n",
        "['Heroes', 'Women', 'Avengers'] - Jocasta\n",
        "*\n",
        "['Hulk', \"People who used to be dead but aren't anymore\"] - Red Hulk\n",
        "['Fantastic Four', 'Heroes', 'Cosmic', 'Annihilation', 'Deceased'] - Air-Walker (Gabriel Lan)\n",
        "['X-Men', 'Villains', 'International'] - Matsu'o Tsurayaba\n",
        "['X-Men', 'Cosmic', 'Women', 'Villains'] - Deathbird\n",
        "*\n",
        "['Heroes', 'Mutants', 'X-Men', 'International'] - Chamber\n",
        "['X-Men', 'Villains', \"People who used to be dead but aren't anymore \", 'Mutants'] - Fabian Cortez\n",
        "['Heroes', 'Marvel Knights', 'International', 'Civil War'] - Shang-Chi\n",
        "['X-Men', 'Heroes', 'International', 'Mutants', 'Deceased'] - Nightcrawler\n",
        "['Women', 'Heroes', 'Mutants', 'Civil War', 'Initiative', 'Avengers', 'X-Men'] - Squirrel Girl\n",
        "*\n",
        "['Villains', 'Mutants', 'X-Men'] - Orphan-Maker\n",
        "['Heroes', 'Marvel Knights', \"People who used to be dead but aren't anymore\", 'Civil War', 'Avengers'] - Iron Fist (Danny Rand)\n",
        "['Ultimate Marvel'] - Spider-Man (Ultimate)\n",
        "['X-Men', 'Women', 'Heroes', 'Mutants'] - Blindfold\n",
        "*\n",
        "['Ultimate Marvel', 'X-Men'] - Vanisher (Ultimate)\n",
        "['X-Men', 'Villains', 'Mutants', \"People who used to be dead but aren't anymore\"] - Lady Mastermind\n",
        "['Avengers', 'Civil War', 'Heroes', 'Initiative', 'Iron Man'] - Iron Patriot (James Rhodes)\n",
        "['People', 'Villains', 'Spider-Man', 'Spider-Man Villains'] - Vulture (Blackie Drago)\n",
        "['Thor'] - Ulik\n",
        "['X-Men'] - Cerebro\n",
        "['Mutants', 'Women', 'X-Men', 'Villains'] - Callisto\n",
        "*\n",
        "['X-Men', 'Heroes', 'International', 'Mutants', 'Magic'] - Kylun\n",
        "['Heroes', 'Avengers', 'Golden Age', 'Deceased'] - Human Torch (Jim Hammond)\n",
        "['Heroes', 'International', 'Mutants', 'Women', 'X-Men'] - Banshee (Theresa Rourke)\n",
        "*\n",
        "['Women', 'Villains', 'X-Men', 'Mutants'] - Cassandra Nova\n",
        "*\n",
        "['House of M'] - Mister Sinister (House of M)\n",
        "['Villains', 'Mutants'] - Mentallo\n",
        "['Heroes', 'Women', 'Marvel Knights', 'Spider-Man', 'Mutants', 'Civil War', 'X-Men'] - Dagger\n",
        "*\n",
        "['People', 'Women', 'Gods', 'Deceased', 'Thor'] - Sif\n",
        "*\n",
        "['Ultimate_Marvel'] - Invisible Woman (Ultimate)\n",
        "['X-Men', 'Heroes', \"People who used to be dead but aren't anymore\", 'Mutants'] - Synch\n",
        "['X-Men', 'Villains', 'Mutants'] - Shinobi Shaw\n",
        "['Avengers', 'Thunderbolts', 'Civil War', 'X-Men', 'Initiative'] - Henry Peter Gyrich\n",
        "['X-Men', 'Heroes', 'Mutants'] - Cannonball\n",
        "['Ultimate Marvel'] - Hawkeye (Ultimate)\n",
        "['Heroes', 'Avengers', 'Cosmic', 'Civil War'] - Ikaris\n",
        "[' People', ' Heroes', ' Avengers', 'Civil War', 'Initiative'] - Stingray (Walter Newell)\n",
        "['Cosmic'] - Celestials\n",
        "['Avengers', 'Cosmic', 'Deceased', 'Women', 'X-Men'] - Deathcry\n",
        "*\n",
        "['Canadians', 'International', 'Deceased', 'Magic'] - Shaman\n",
        "['People'] - Anita Blake\n",
        "['Avengers', 'International', 'Villains'] - Grey Gargoyle\n",
        "['X-Men', 'Heroes', 'Women', 'Mutants'] - Jubilee\n",
        "*\n",
        "['Heroes', 'Marvel Knights', 'Spider-Man', 'Mutants', 'Civil War', 'X-Men'] - Cloak\n",
        "['Heroes', 'Initiative', 'Women'] - Veda\n",
        "*\n",
        "['Realities', 'Marvel Zombies'] - Marvel Zombies\n",
        "['Heroes', 'Women', 'X-Men', 'International', 'Mutants'] - M (Monet St. Croix)\n",
        "*\n",
        "['Heroes', 'Initiative'] - Calamity\n",
        "['Women', 'Reformed Villains', 'Heroes', 'Thunderbolts', 'Civil War'] - Joystick\n",
        "*\n",
        "['Villains', 'Spider-Man', 'Civil War', 'Initiative', 'Thunderbolts', \"People who used to be dead but aren't anymore\", 'Spider-Man Villains'] - Norman Osborn\n",
        "['Heroes', 'Avengers', 'Gods', \"People who used to be dead but aren't anymore\", 'Magic', 'Thor'] - Donald Blake\n",
        "['Avengers', 'Civil War', 'Cosmic'] - Sprite\n",
        "['Heroes', 'Civil_War', 'Fantastic_Four', 'Deceased'] - Black Bolt\n",
        "[' Women', ' X-Men', ' Deceased'] - Revanche\n",
        "['Heroes', 'Thunderbolts'] - Ajaxis\n",
        "['Women', 'Cosmic', 'Annihilation'] - Gamora\n",
        "*\n",
        "['Heroes', 'X-Men', 'Exiles', 'Mutants'] - Beak\n",
        "['People', 'Heroes', 'Women', 'Magic', 'Marvel Knights'] - Clea\n",
        "*\n",
        "['Heroes', 'Horror', 'Spider-Man', 'Cosmic'] - Toxin\n",
        "['Ultimate Marvel'] - Captain Britain (Ultimate)\n",
        "['Villains', 'X-Men', 'Mutants', 'International', \"People who used to be dead but aren't anymore \", 'Deceased'] - Unus\n",
        "['Women', 'Spider-Man'] - Betty Brant\n",
        "*\n",
        "['Cosmic', 'Villains'] - Zarek\n",
        "['Heroes', 'Avengers', 'Civil War', 'Initiative'] - Hank Pym\n",
        "['People', 'Mutants', 'Villains'] - Puff Adder\n",
        "['Heroes', 'Women', 'Fantastic Four', 'Marvel Knights'] - Medusa\n",
        "*\n",
        "['X-Men', 'Heroes', 'Women', 'Mutants'] - Husk\n",
        "*\n",
        "['Golden Age', 'Heroes'] - Jimmy Woo\n",
        "['Heroes', 'Women', 'Deceased'] - Iron Fist (Wu Ao-Shi)\n",
        "*\n",
        "['Heroes', 'Women', 'Avengers', 'Cosmic', 'Civil War'] - Sersi\n",
        "*\n",
        "['Marvel_2099', 'Spider-Man'] - Spider-Man (2099)\n",
        "['X-Men', 'Avengers', 'International', 'Magic', 'Heroes', 'Women', \"People who used to be dead but aren't anymore\"] - Lionheart\n",
        "*\n",
        "['Spider-Man', 'Villains'] - Mysterio (Daniel Berkhart)\n",
        "['X-Men', 'Heroes', 'Mutants', 'Civil War'] - Shatterstar\n",
        "['Annihilation', 'Cosmic', 'Villains'] - Talos\n",
        "['Heroes', 'Women'] - Lightspeed\n",
        "*\n",
        "['Villains', 'Thunderbolts'] - Mathemanic\n",
        "[' Spider-Man'] - Ken Ellis\n",
        "['Heroes', 'Marvel Knights', 'Avengers', 'Fantastic Four', 'Civil War', 'Thunderbolts'] - Luke Cage\n",
        "['Heroes', 'Mutants', 'Women', 'X-Men', 'Initiative'] - Dani Moonstar\n",
        "*\n",
        "['Heroes', 'Civil War', 'Cosmic', 'Thunderbolts'] - Jack Flag\n",
        "['X-Men', 'Heroes', 'Mutants'] - Strong Guy\n",
        "['Cosmic', 'Hulk'] - Skaar\n",
        "['X-Men', 'Heroes', 'Reformed Villains', 'Mutants'] - Archangel\n",
        "['Spider-Man', 'Women'] - Carlie Cooper\n",
        "*\n",
        "['Spider-Man', 'Spider-Man Villains', 'Villains', 'Women'] - Paper Doll\n",
        "*\n",
        "['Annihilation', 'Cosmic', 'Fantastic Four', 'Villains'] - Annihilus\n",
        "['Women', 'Villains', 'Magic', 'X-Men'] - Spiral (Rita Wayword)\n",
        "*\n",
        "['Avengers', 'Golden Age', 'International', 'Villains'] - Red Skull\n",
        "['people', 'Spider-Man'] - Captain Stacy\n",
        "['Annihilation', 'Cosmic', 'Deceased', 'Villains'] - Lord Hawal\n",
        "['X-Men', 'International', 'Heroes', 'Mutants', 'Civil War'] - Micromax\n",
        "['Heroes', 'Avengers', 'Women', 'Civil War'] - Stature\n",
        "*\n",
        "['Horror', 'Magic', 'Women'] - Umar\n",
        "*\n",
        "['Ultimate_Marvel'] - Doctor Doom (Ultimate)\n",
        "['X-Men', 'Cosmic', 'Heroes'] - Lockheed\n",
        "['Villains', 'Fantastic Four', 'International'] - Red Ghost\n",
        "['Magic', 'Women'] - Talisman (Elizabeth Twoyoungmen)\n",
        "*\n",
        "['Heroes', 'Women', 'X-Men', 'Magic', 'Mutants'] - Meggan\n",
        "*\n",
        "['Villains', 'International', 'X-Men'] - Mister Sinister\n",
        "['Women', 'Heroes', 'Horror', 'Magic', 'Initiative'] - Elsa Bloodstone\n",
        "*\n",
        "['Age of Apocalypse', 'Deceased'] - Shadowcat (Age of Apocalypse)\n",
        "['X-Men', 'Heroes', 'International', 'Magic', 'Women', 'Mutants', \"People who used to be dead but aren't anymore\"] - Magik (Illyana Rasputin)\n",
        "*\n",
        "['Age of Apocalypse'] - Shadow King (Age of Apocalypse)\n",
        "['Heroes', 'Women', 'Avengers', 'Fantastic_Four', 'Civil War'] - Invisible Woman\n",
        "*\n",
        "['People', 'Villains', 'International', 'Canadians'] - Malcolm Colcord\n",
        "['Heroes', 'Avengers', 'Civil War', 'Deceased'] - Goliath (Bill Foster)\n",
        "['Heroes', 'Avengers', 'X-Men', 'International', 'Reformed Villains', 'Mutants', 'Civil War'] - Quicksilver\n",
        "['Villains', 'Women'] - Chimera\n",
        "*\n",
        "['People', 'Women', 'X-Men', 'Mutants'] - Marrow\n",
        "*\n",
        "['Cosmic', 'Heroes', 'Civil War'] - Hulkling\n",
        "['Villains', 'Spider-Man', \"People who used to be dead but aren't anymore\", 'Spider-Man Villains'] - Jackal\n",
        "['Deceased', 'Horror'] - Zodiak\n",
        "['Age of Apocalypse'] - Callisto (Age of Apocalypse)\n",
        "['Spider-Man', 'Villains'] - Scream (Donna Diego)\n",
        "['Deceased', 'Heroes', 'Magic', 'Mutants', 'X-Men'] - Forge\n",
        "['Spider-Man', 'Villains', 'X-Men'] - Arcade\n",
        "['Women', 'Gods', 'Heroes', 'Magic', 'Canadians', 'International', 'X-Men'] - Snowbird\n",
        "*\n",
        "['People', 'Spider-Man', 'Spider-Man Villains', 'Villains', 'Women'] - Hobgoblin (Robin Borne)\n",
        "*\n",
        "['Civil War', 'Fantastic Four', 'Heroes', 'Initiative', 'Thunderbolts'] - Texas Twister\n",
        "['Heroes'] - Vampiro\n",
        "['Women'] - Millie the Model\n",
        "*\n",
        "['Magic', \"People who used to be dead but aren't anymore\"] - Vengeance (Michael Badilino)\n",
        "['Thunderbolts', 'Avengers', 'Villains', 'Magic', 'Thor'] - Thunderball\n",
        "['Heroes', 'Civil War'] - Hindsight Lad\n",
        "['Villains', \"People who used to be dead but aren't anymore\"] - Nuke\n",
        "[' Heroes', ' International', ' Canadians', ' Deceased'] - Centennial\n",
        "['Heroes', 'International'] - Cap'n Oz\n",
        "['Heroes', 'International'] - Crimson Crusader\n",
        "['X-Men', 'Heroes', 'Mutants', 'Civil War'] - Cable\n",
        "['X-Men', 'Villains', 'Mutants'] - Exodus\n",
        "['Heroes', 'International', 'Magic'] - Adam Destine\n",
        "['Spider-Man'] - Crusher Hogan\n",
        "['Hulk', 'Villains'] - Gargoyle (Yuri Topolov)\n",
        "['Heroes', 'International', 'Women'] - Cuckoo\n",
        "*\n",
        "['Villains', 'X-Men', 'Mutants', 'Deceased'] - Blockbuster\n",
        "['Avengers', 'Cosmic'] - Epoch\n",
        "['Heroes', 'Avengers', 'Civil War', 'Cosmic'] - Ajak\n",
        "['People', \"People who used to be dead but aren't anymore\", 'Spider-Man', 'Spider-Man Villains', 'Villains'] - Harry Osborn\n",
        "['People', 'Heroes', 'Cosmic', 'Species'] - Eternals\n",
        "['Villains', 'Marvel Knights', 'Spider-Man', 'Deceased', 'Civil War'] - Stilt-Man (Wibur Day)\n",
        "['X-Men', 'Cosmic', 'Women', 'Deceased'] - Lilandra\n",
        "*\n",
        "['Avengers', 'Heroes', 'Cosmic'] - Starfox\n",
        "['X-Men', 'Villains', 'Women', 'Deceased', 'International', 'Canadians', 'Mutants'] - Silver Fox\n",
        "*\n",
        "['International', 'Women'] - Timeslip\n",
        "*\n",
        "['Heroes', 'Avengers', 'Gods', \"People who used to be dead but aren't anymore\", 'Magic', 'Thor'] - Thor\n",
        "['People', 'Women', 'X-Men', 'Heroes', 'Magic'] - Magik (Amanda Sefton)\n",
        "*\n",
        "['X-Men', 'Deceased', 'International'] - Moira MacTaggert\n",
        "['X-Men', 'Heroes', 'Mutants', 'Deceased'] - Wolf Cub\n",
        "['House of M'] - Mary Jane Watson (House of M)\n",
        "['Horror'] - Wallow\n",
        "['X-Men', 'Villains', 'Mutants'] - Blob\n",
        "['Age of Apocalypse'] - Silver Samurai (Age of Apocalypse)\n",
        "['Heroes', 'Reformed Villains', 'Thunderbolts', 'People_who_used_to_be_dead_but_aren%27t_anymore', 'Civil War', 'Initiative'] - Nighthawk\n",
        "['Heroes', 'Women', 'Avengers', 'Fantastic Four'] - Crystal\n",
        "*\n",
        "['Iron Man', 'Villains'] - Crimson Dynamo\n",
        "['Cosmic', 'X-Men'] - Brood\n",
        "['Mutants', 'Heroes', 'Women', 'International', \"People who used to be dead but aren't anymore\"] - Darkstar\n",
        "*\n",
        "['X-Men', 'Women', 'Villains', 'Mutants', 'Magic', 'Deceased'] - Selene\n",
        "*\n",
        "['Civil War', 'Heroes', 'Initiative'] - Slapstick\n",
        "['Civil War'] - The Initiative\n",
        "['X-Men', 'Women', 'Heroes', 'International', 'Mutants'] - Lifeguard\n",
        "*\n",
        "['Annihilation', 'Cosmic', 'Deceased', 'Villains'] - Thanos\n",
        "['Women', 'Villains'] - Sunset Bain\n",
        "*\n",
        "['Spider-Man'] - Vin Gonzales\n",
        "['Deceased', 'Gods', 'Magic', 'Thor'] - Odin\n",
        "[\"People who used to be dead but aren't anymore\", 'Spider-Man', 'Thunderbolts', 'Villains', 'Spider-Man_Villains'] - Doctor Octopus\n",
        "['Heroes', 'Mutants', 'X-Men'] - Darwin\n",
        "['Mutants', 'Women', 'X-Men'] - Cecilia Reyes\n",
        "*\n",
        "['Heroes', 'Women', 'Avengers', 'International', 'X-Men', 'Reformed Villains', 'Magic', 'Mutants'] - Scarlet Witch\n",
        "*\n",
        "['Civil War', 'Heroes', 'Deceased'] - Microbe\n",
        "['Initiative'] - Bengal\n",
        "['Avengers', 'Heroes', \"People who used to be dead but aren't anymore\", 'Reformed Villains', 'Thunderbolts'] - Hawkeye\n",
        "['Ultimate Marvel'] - Storm (Ultimate)\n",
        "['Cosmic', 'Fantastic Four'] - Skrulls\n",
        "['Women', 'Heroes', 'Marvel Knights'] - Shanna the She-Devil\n",
        "*\n",
        "['Ultimate Marvel', ' Deceased'] - Professor X (Ultimate)\n",
        "['X-Men', 'Mutants', 'Heroes'] - Warpath\n",
        "['Heroes', 'Magic', 'Civil War', 'Deceased'] - Aegis (Trey Rollins)\n",
        "['Cosmic'] - Living Tribunal\n",
        "['Deceased', 'Heroes', 'Mutants', 'X-Men'] - John Wraith\n",
        "['Marvel Knights', 'Spider-Man', 'Civil War'] - Ben Urich\n",
        "['Ultimate Marvel'] - Black Cat (Ultimate)\n",
        "['Ultimate Marvel', 'Deceased'] - Giant-Man (Ultimate)\n",
        "['Avengers', 'Civil War', 'Initiative', 'Spider-Man', 'Thunderbolts', 'Villains'] - Taskmaster\n",
        "['Ultimate Marvel', 'Mutants'] - Iceman (Ultimate)\n",
        "['Annihilation', 'Cosmic', 'Fantastic Four', 'Heroes', \"People who used to be dead but aren't anymore\"] - Silver Surfer\n",
        "['X-Men', 'Women', 'Heroes', 'Deceased', 'Mutants'] - U-Go Girl\n",
        "*\n",
        "['Ultimate Marvel', 'Deceased'] - Magneto (Ultimate)\n",
        "['Deceased'] - Joshua Kane\n",
        "['Deceased', 'Heroes', 'Spider-Man'] - Scarlet Spider (Ben Reilly)\n",
        "['Heroes', 'Women', 'International', 'X-Men', 'Mutants', \"People who used to be dead but aren't anymore\", 'Exiles'] - Psylocke\n",
        "*\n",
        "['Avengers', 'Magic', 'Women'] - Enchantress (Sylvie Lushton)\n",
        "*\n",
        "['X-Men', 'Villains', 'Mutants'] - Random\n",
        "['Heroes', 'International'] - Wallop\n",
        "['Cosmic', 'Deceased'] - Starhawk (Stakar Ogord)\n",
        "['X-Men', 'Women', 'Heroes', 'Deceased', 'Mutants'] - Shard\n",
        "*\n",
        "['X-Men', 'Villains', 'Deceased'] - Onslaught\n",
        "['House of M'] - Unus (House of M)\n",
        "['Heroes', 'Reformed Villains', 'Deceased', 'Avengers'] - Swordsman (Jaques Duquesne)\n",
        "['Avengers', 'Villains', \"People who used to be dead but aren't anymore\"] - Grim Reaper\n",
        "['X-Men', 'Heroes', 'Mutants', 'Women'] - Karma\n",
        "*\n",
        "['Avengers', 'Heroes', 'Initiative', 'Reformed Villains', 'Thunderbolts', 'Women'] - Moonstone\n",
        "*\n",
        "['Villains', 'International', 'Marvel Knights'] - Purple Man\n",
        "['Heroes', 'Avengers', 'Mutants', 'Civil War', 'Initiative'] - Justice\n",
        "['Heroes', 'Women', 'X-Men', 'International', 'Canadians', 'Mutants'] - Aurora\n",
        "*\n",
        "['Marvel_2099'] - Punisher 2099\n",
        "['Villains', 'Spider-Man', 'Spider-Man Villains'] - Shocker (Herman Schultz)\n",
        "['Heroes', 'Women', 'Avengers', 'International', 'Civil War', 'Initiative'] - Firebird\n",
        "*\n",
        "['Civil War', 'Initiative', 'Magic', 'Reformed Villains', 'Spider-Man', 'Spider-Man Villains', 'Villains'] - Puma\n",
        "['Annihilation', 'Cosmic', 'Heroes'] - Star-Lord (Peter Quill)\n",
        "['Civil War', 'Heroes', 'Women', 'Deceased'] - Namorita\n",
        "*\n",
        "['Avengers', 'Civil War', 'Heroes', 'Initiative', 'Mutants', 'X-Men'] - Beast\n",
        "['Heroes', 'Reformed Villains', 'Thunderbolts', 'Villains'] - Harrier\n",
        "['X-Men', 'International', 'Villains', 'Mutants'] - Avalanche\n",
        "['Civil War', 'Reformed Villains', 'Spider-Man'] - Big Wheel\n",
        "['Initiative', 'Women'] - Cloud 9\n",
        "*\n",
        "['X-Men', 'Villains', 'Mutants', 'International'] - Toad\n",
        "['Ultimate Marvel', 'X-Men'] - Unus (Ultimate)\n",
        "['Avengers', 'Villains', 'Cosmic', \"People who used to be dead but aren't anymore\"] - Grandmaster\n",
        "['People', 'Reformed Villains', 'Initiative'] - Constrictor\n",
        "['Heroes', 'Women', 'X-Men', 'Mutants'] - Wind Dancer\n",
        "*\n",
        "['Deceased', 'Iron Man'] - Happy Hogan\n",
        "['Heroes', 'Avengers', 'Civil War', 'Initiative'] - Rage\n",
        "['Fantastic Four', 'International', 'Magic', 'Villains'] - Doctor Doom\n",
        "['Deceased', 'Spider-Man', 'Villains', 'Spider-Man Villains', 'Horror', 'Magic'] - Mysterio\n",
        "['X-Men', 'Villains', 'Mutants', 'Deceased'] - Sabretooth\n",
        "['Heroes'] - Sleepwalker\n",
        "['Villains', 'Spider-Man', 'Spider-Man Villains'] - Mr. Negative\n",
        "['X-Men', 'Heroes', 'Mutants'] - Sage\n",
        "['Age of Apocalypse'] - Unus (Age of Apocalypse)\n",
        "['Heroes', 'X-Men', 'Deceased', 'Mutants'] - The Anarchist\n",
        "['Age of Apocalypse', 'Mutants', 'Villains', 'Deceased'] - Sugar Man\n",
        "['Heroes'] - Chase Stein\n",
        "['Horror', 'People_who_used_to_be_dead_but_aren%27t_anymore', 'Marvel Knights'] - Werewolf By Night\n",
        "['Ultimate Marvel', 'Deceased'] - Beast (Ultimate)\n",
        "['Spider-Man'] - Robbie Robertson\n",
        "['Civil War', 'Initiative', 'Iron Man', 'Women'] - Maria Hill\n",
        "*\n",
        "['X-Men', 'Mutants', 'Heroes'] - Risque\n",
        "['Age of Apocalypse'] - Mystique (Age of Apocalypse)\n",
        "['Villains', 'Fantastic Four'] - Dragon Man\n",
        "['Fantastic Four', 'Cosmic', 'Avengers'] - Kree\n",
        "['Ultimate Marvel', 'Deceased'] - Angel (Ultimate)\n",
        "['MC2'] - Spider-Girl (May Parker)\n",
        "['Civil War', 'Heroes', 'Reformed Villains', 'Spider-Man'] - Prowler\n",
        "['Heroes', 'Women', 'Avengers', 'Civil War', 'X-Men', 'Initiative', 'Cosmic'] - Captain Marvel (Carol Danvers)\n",
        "*\n",
        "['Villains', 'Fantastic Four'] - Quasimodo\n",
        "['X-Men', 'Women', 'Heroes', 'Mutants'] - Mercury\n",
        "*\n",
        "['Avengers', 'Civil War', 'Villains'] - Absorbing Man\n",
        "['Villains', 'Spider-Man', 'Spider-Man Villains'] - Tombstone\n",
        "['Villains', 'Spider-Man', 'Civil War'] - Molten Man\n",
        "['Gods', 'Magic', 'Reformed Villains', 'Women'] - Enchantress (Amora)\n",
        "*\n",
        "['Annihilation', 'Cosmic', \"People who used to be dead but aren't anymore\", 'Villains'] - Terrax\n",
        "['Marvel Zombies'] - Spider-Man (Marvel Zombies)\n",
        "['Villains', 'Fantastic Four', 'Avengers'] - Klaw\n",
        "['Canadians', 'International', 'Heroes', 'Initiative', 'X-Men', \"People who used to be dead but aren't anymore\"] - Sasquatch (Walter Langkowski)\n",
        "['International', 'Women'] - Expediter\n",
        "*\n",
        "['Hulk', 'Villains', \"People who used to be dead but aren't anymore\"] - Glenn Talbot\n",
        "['Heroes', 'Women', 'Magic', 'Gods'] - Valkyrie\n",
        "*\n",
        "['Heroes', 'Women'] - Turbo\n",
        "*\n",
        "['Deceased', 'Heroes', 'Spider-Man', 'Women'] - Spider-Woman (Mattie Franklin)\n",
        "*\n",
        "['Avengers', 'Civil War', 'Heroes'] - Patriot\n",
        "['Ultimate Marvel', 'Deceased'] - Wolverine (Ultimate)\n",
        "['Deceased', 'International', 'Marvel Knights', 'Villains'] - Russian\n",
        "['Mutants', 'Heroes', 'Women', 'Deceased'] - Venus Dee Milo\n",
        "*\n",
        "['Women', 'Heroes', 'X-Men', 'Mutants'] - Armor (Hisako Ichiki)\n",
        "*\n",
        "['People', 'Villains', 'Spider-Man', 'Spider-Man_Villains'] - Black Tarantula\n",
        "[' Villains', ' Golden Age', ' International', ' Thunderbolts'] - Arnim Zola\n",
        "['Fantastic Four', 'Spider-Man', 'Spider-Man Villains', 'Villains', 'Reformed Villains'] - Sandman\n",
        "['Avengers', 'Cosmic', 'Deceased', 'Fantastic Four', \"People who used to be dead but aren't anymore\", 'Villains'] - Maelstrom\n",
        "['Heroes', 'Fantastic Four'] - Triton\n",
        "[' People', ' X-Men', ' Deceased'] - GW Bridge\n",
        "['House of M'] - Sabretooth (House of M)\n",
        "['Cosmic', 'Heroes'] - Captain Universe\n",
        "['Avengers', 'Villains', 'Gods', 'Deceased', 'Magic', 'Thor'] - The Executioner\n",
        "['Women', 'Villains', 'Avengers'] - Vapor\n",
        "*\n",
        "['Teams'] - Damage Control\n",
        "['X-Men', 'Villains', 'Mutants'] - Scalphunter\n",
        "['Cosmic'] - Kronos\n",
        "['Civil War', 'Deceased', 'Heroes', 'Hulk', 'Initiative'] - Doc Samson\n",
        "['Avengers', 'Heroes', 'Reformed Villains', \" People who used to be dead but aren't anymore\", 'Civil War', 'Initiative'] - Wonder Man\n",
        "['Villains', 'Avengers', 'Women'] - Titania\n",
        "*\n",
        "['X-Men', 'Cosmic', 'Deceased'] - Smasher (Vril Rokk)\n",
        "['Fantastic Four', 'Avengers', 'Cosmic'] - Uatu The Watcher\n",
        "['Women', 'Reformed Villains', 'Avengers', 'Heroes', 'Civil War'] - Diamondback (Rachel Leighton)\n",
        "*\n",
        "['Heroes', 'X-Men', 'International', 'Canadians', 'Reformed Villains', \"People who used to be dead but aren't anymore\", 'Civil War'] - Deadpool\n",
        "['Women', 'Iron Man'] - Pepper Potts\n",
        "*\n",
        "['Heroes', 'X-Men', 'Deceased', 'Mutants'] - La Nuit\n",
        "['X-Men', 'Deceased'] - Senator Kelly\n",
        "['Heroes', 'International'] - Hex\n",
        "['People', 'Heroes', 'Women', 'Avengers', 'Reformed Villains', 'Spider-Man'] - Spider-Woman (Jessica Drew)\n",
        "*\n",
        "['People', 'Villains', 'Spider-Man', 'Spider-Man Villains'] - Spot\n",
        "['Heroes', 'Fantastic Four', 'Cosmic', 'Women', 'Reformed Villains'] - Lyja\n",
        "*\n",
        "['Villains', 'Fantastic Four', 'X-Men', 'Civil War'] - Mad Thinker\n",
        "['X-Men', 'Villains', 'Mutants'] - Sebastian Shaw\n",
        "['Villains', 'X-Men', 'Mutants', 'Women'] - Cargill\n",
        "*\n",
        "['Villains', 'X-Men'] - Mojo\n",
        "['Thunderbolts', 'Heroes', 'Reformed Villains'] - Blizzard\n",
        "['X-Men', 'International', 'Heroes', 'Canadians', 'Mutants', 'Reformed Villains', \"People who used to be dead but aren't anymore\"] - Northstar\n",
        "['X-Men', 'Villains', 'Reformed Villains'] - Juggernaut\n",
        "['Ultimate Marvel', 'Deceased'] - Longshot (Ultimate)\n",
        "['People', 'Deceased', 'Mutants', 'X-Men', 'International', 'Canadians'] - Weapon Omega\n",
        "['X-Men', 'Heroes'] - Doop\n",
        "['Civil War', 'Deceased', 'Heroes', 'Reformed Villains', 'Spider-Man', 'Villains'] - Humbug\n",
        "['X-Men', 'Villains', 'Mutants', 'International', 'Deceased'] - Omega Red\n",
        "['Avengers', 'X-Men', 'Heroes', 'Mutants', 'Civil War', 'Initiative'] - Mr. Immortal\n",
        "['Civil War', 'Cosmic', 'Gods', 'Heroes', 'Initiative', 'Magic', 'Thor'] - Beta-Ray Bill\n",
        "['X-Men', 'International', 'Villains', 'Reformed Villains', \"People who used to be dead but aren't anymore\", 'Mutants'] - Silver Samurai\n",
        "['Heroes'] - Angel (Golden Age)\n",
        "['Heroes', 'International', 'Spider-Man', 'Women'] - Silver Sable\n",
        "*\n",
        "['X-Men', 'Villains', 'Mutants'] - Emplate\n",
        "['International', 'Mutants', 'Deceased', 'Reformed Villains', 'Women', 'X-Men'] - Destiny\n",
        "*\n",
        "['Avengers', 'Squadron Supreme'] - Amphibian (Earth-712)\n",
        "['Civil War', 'Golden Age', 'Heroes', 'Reformed Villains'] - The Winter Soldier\n",
        "['Heroes', 'Horror', 'Magic'] - Terror\n",
        "['Hulk', 'Heroes'] - Korg\n",
        "['Heroes', 'Avengers', 'X-Men', 'Mutants', 'Civil War', 'Initiative'] - Flatman\n",
        "['Thunderbolts', 'Avengers', 'Villains', 'Magic', 'Thor'] - Piledriver\n",
        "['Civil War', 'Spider-Man', 'Women'] - Mary Jane Watson\n",
        "*\n",
        "['X-Men', 'Avengers', 'Fantastic Four', 'Heroes', 'International', 'Canadians'] - Wolverine\n",
        "['Villains', 'Spider-Man', 'Spider-Man Villains'] - Hobgoblin (Roderick Kingsley)\n",
        "['X-Men', 'International', 'Heroes', 'Mutants'] - Sunspot\n",
        "['Villains', 'X-Men', \"People who used to be dead but aren't anymore\", 'Mutants'] - Beef\n",
        "['Heroes', 'Civil War', 'Initiative', 'Thunderbolts'] - Penance (Robert Baldwin)\n",
        "['Heroes', 'Horror', 'Marvel Knights', 'Magic'] - Ghost Rider (Daniel Ketch)\n",
        "['Annihilation', 'Cosmic', 'Villains'] - Tenebrous\n",
        "['X-Men', 'International', 'Villains', 'Deceased', 'Mutants'] - Gideon\n",
        "['Reformed Villains', 'Avengers', \"People who used to be dead but aren't anymore\", 'Civil War'] - Speed\n",
        "['Heroes', 'Avengers', 'Civil War'] - Machine Man\n",
        "['Heroes', 'International', 'Mutants', 'Women', 'X-Men'] - Wolfsbane\n",
        "*\n",
        "['Heroes', 'Hulk', 'Avengers'] - Rick Jones\n",
        "['Women', 'Heroes', 'Avengers', \"People who used to be dead but aren't anymore\"] - Mockingbird\n",
        "*\n",
        "[' Fantastic Four', ' Avengers', ' Villains'] - Molecule Man\n",
        "['Heroes', 'Avengers', 'Cosmic', \"People who used to be dead but aren't anymore\", 'Civil War'] - Captain Marvel (Mar-Vell)\n",
        "['Avengers', 'Deceased', 'Heroes', 'Mutants', 'Women'] - Dinah Soar\n",
        "*\n",
        "['Cosmic', 'Magic'] - Talon (Fraternity of Raptors)\n",
        "['Heroes', 'Mutants', 'X-Men'] - Cyclops\n",
        "['Villains', 'Reformed Villains', 'Thunderbolts', 'Civil War'] - Mongoose\n",
        "['Heroes', 'Fantastic Four'] - Lockjaw\n",
        "['People', 'Heroes', 'Magic', 'Cosmic', 'Horror', 'Civil War'] - Howard The Duck\n",
        "['X-Men', 'Heroes', 'Deceased', 'Mutants'] - Battering Ram\n",
        "['Heroes', 'Mutants', 'Women'] - Molly Hayes\n",
        "*\n",
        "['Golden Age', 'Heroes'] - Human Robot\n",
        "['People', 'Deceased', 'Mutants', 'X-Men', 'International', 'Canadians'] - Wild Child\n",
        "['Heroes', 'International'] - Lucky Pierre\n",
        "['Avengers', 'Civil War', 'Fantastic Four', 'Heroes', \"People who used to be dead but aren't anymore\"] - Thing\n",
        "['Ultimate Marvel'] - Nick Fury (Ultimate)\n",
        "['Villains', 'Deceased'] - Whiplash (Mark Scarlotti)\n",
        "['House of M'] - Mystique (House of M)\n",
        "['Thunderbolts', 'Avengers', 'Villains', 'Magic', 'Thor'] - Bulldozer\n",
        "['Annihilation', 'Cosmic'] - Fallen One\n",
        "['Women', 'Villains', 'Gods', 'Magic', 'Thor'] - Asgardian\n",
        "*\n",
        "['Villains', 'Spider-Man', 'Spider-Man Villains'] - Lizard\n",
        "['X-Men', 'Mutants', \"People who used to be dead but aren't anymore\", 'Stubs'] - Legion\n",
        "['Heroes', 'Avengers', 'Civil War', 'Deceased'] - Sentry (Robert Reynolds)\n",
        "['People', 'Spider-Man', 'Villains', 'Deceased', 'Thunderbolts'] - Slyde\n",
        "['Heroes', 'Women', 'Fantastic Four', 'Civil War'] - Sharon Ventura\n",
        "*\n",
        "['Deceased', 'Women'] - Spirit\n",
        "*\n",
        "['Heroes', 'Spider-Man'] - Cardiac\n",
        "['X-Men', 'Heroes', \"People who used to be dead but aren't anymore\", 'Mutants'] - Maverick (Chris Bradley)\n",
        "['Heroes', 'Mutants', 'X-Men', 'Reformed Villains', \"People who used to be dead but aren't anymore\"] - Agent X (Nijo)\n",
        "['People', 'Villains', 'Spider-Man', 'International'] - Swarm\n",
        "['Annihilation', 'Women'] - Cammi\n",
        "*\n",
        "['Heroes', 'Horror', 'Marvel Knights', 'Magic'] - Ghost Rider (Johnny Blaze)\n",
        "['Ultimate Marvel'] - Colossus (Ultimate)\n",
        "['Civil War', 'Heroes', 'Initiative', 'Magic', 'Thor', 'Women'] - Thor Girl\n",
        "*\n",
        "['Women', 'Magic'] - Nico Minoru\n",
        "*\n",
        "['Heroes', 'Women', 'Deceased'] - Gertrude Yorkes\n",
        "*\n",
        "['Villains', 'Avengers'] - X-Ray (James Darnell)\n",
        "['X-Men', 'International', 'Women', 'Heroes', 'Mutants', 'Civil War'] - Sabra\n",
        "*\n",
        "['Heroes', 'Fantastic_Four'] - Karnak\n",
        "['Annihilation', 'Cosmic', 'Deceased', 'Women'] - Tana Nile\n",
        "*\n",
        "['Heroes', 'Women', 'Deceased'] - Old Lace\n",
        "*\n",
        "['Cosmic', 'Heroes', 'X-Men'] - Ch'od\n",
        "['X-Men', 'Women', 'Villains', 'Mutants'] - Mystique\n",
        "*\n",
        "['people', 'Spider-Man', 'women', 'deceased'] - Gwen Stacy\n",
        "['Cosmic'] - Eternity\n",
        "['Golden Age', 'Heroes', 'Women', 'Magic'] - Venus (Siren)\n",
        "*\n",
        "['X-Men', 'Heroes', 'Mutants'] - Iceman\n",
        "['Horror', 'Magic'] - Zombie (Simon_Garth)\n",
        "['Civil War', 'Heroes', 'Marvel Knights', \"People who used to be dead but aren't anymore\", 'Spider-Man'] - Punisher\n",
        "[' Villains', ' Mutants', ' Thunderbolts'] - Asylum\n",
        "['X-Men', 'Cosmic', 'Women'] - Manta\n",
        "*\n",
        "['Villains', 'Avengers'] - Ironclad\n",
        "['X-Men', 'Cosmic', 'Women'] - Oracle\n",
        "*\n",
        "['Villains', 'Spider-Man', 'Spider-Man Villains'] - Hammerhead\n",
        "['Heroes', 'Horror', 'International', 'Marvel Knights', 'Magic'] - Blade\n",
        "['Thunderbolts', 'Villains', 'International', 'Civil War', 'Initiative'] - Batroc the Leaper\n",
        "['Avengers', 'Civil War', 'Heroes', 'Initiative', 'International', 'Reformed Villains', 'Thunderbolts'] - Radioactive Man\n",
        "['Heroes', 'Thunderbolts'] - American Eagle (Jason Strongbow)\n",
        "['International', 'X-Men', 'Heroes', 'Mutants'] - Thunderbird (Neal Shaara)\n",
        "['X-Men', 'Heroes', 'Reformed Villains', 'Deceased', 'Mutants'] - Changeling\n",
        "['X-Men', 'Fantastic Four', 'Heroes', 'International', 'Women', 'Mutants', 'Civil War'] - Storm\n",
        "*\n"
       ]
      }
     ],
     "prompt_number": 25
    },
    {
     "cell_type": "code",
     "collapsed": false,
     "input": [
      "characters_with_data[1]['wiki']['categories']"
     ],
     "language": "python",
     "metadata": {},
     "outputs": [
      {
       "metadata": {},
       "output_type": "pyout",
       "prompt_number": 16,
       "text": [
        "['Women', 'Avengers', 'Heroes', 'Civil War']"
       ]
      }
     ],
     "prompt_number": 16
    },
    {
     "cell_type": "code",
     "collapsed": false,
     "input": [
      "pd.DataFrame(characters_with_data[1]['wiki'])"
     ],
     "language": "python",
     "metadata": {},
     "outputs": [
      {
       "html": [
        "<div style=\"max-height:1000px;max-width:1500px;overflow:auto;\">\n",
        "<table border=\"1\" class=\"dataframe\">\n",
        "  <thead>\n",
        "    <tr style=\"text-align: right;\">\n",
        "      <th></th>\n",
        "      <th>abilities</th>\n",
        "      <th>aliases</th>\n",
        "      <th>bio</th>\n",
        "      <th>bio_text</th>\n",
        "      <th>categories</th>\n",
        "      <th>citizenship</th>\n",
        "      <th>debut</th>\n",
        "      <th>education</th>\n",
        "      <th>eyes</th>\n",
        "      <th>groups</th>\n",
        "      <th>...</th>\n",
        "      <th>origin</th>\n",
        "      <th>paraphernalia</th>\n",
        "      <th>place_of_birth</th>\n",
        "      <th>powers</th>\n",
        "      <th>real_name</th>\n",
        "      <th>relatives</th>\n",
        "      <th>significant_issues</th>\n",
        "      <th>universe</th>\n",
        "      <th>weapons</th>\n",
        "      <th>weight</th>\n",
        "    </tr>\n",
        "  </thead>\n",
        "  <tbody>\n",
        "    <tr>\n",
        "      <th>0</th>\n",
        "      <td> Highly skilled at archery, fencing, sword figh...</td>\n",
        "      <td> None (briefly considered \"''Hawkingbird''\", \"'...</td>\n",
        "      <td> The daughter of rich publishing magnate Derek ...</td>\n",
        "      <td> The daughter of rich publishing magnate Derek ...</td>\n",
        "      <td>     Women</td>\n",
        "      <td> U.S.A.</td>\n",
        "      <td> (as Kate Bishop) Young Avengers #1 (2005); (as...</td>\n",
        "      <td> Still in high School</td>\n",
        "      <td> Blue</td>\n",
        "      <td> [[Secret Avengers]], [[Young Avengers]]</td>\n",
        "      <td>...</td>\n",
        "      <td> Young Avengers Special #1</td>\n",
        "      <td> </td>\n",
        "      <td> New York City, New York</td>\n",
        "      <td> None</td>\n",
        "      <td> Katherine \"Kate\" Elizabeth Bishop</td>\n",
        "      <td> Derek Bishop (father), Eleanor Bishop (mother,...</td>\n",
        "      <td> Young Avengers #1-9 (2005), Young Avengers Spe...</td>\n",
        "      <td> [[Marvel Universe]]</td>\n",
        "      <td> Carries two battle staves similar to those onc...</td>\n",
        "      <td> 120 lbs.</td>\n",
        "    </tr>\n",
        "    <tr>\n",
        "      <th>1</th>\n",
        "      <td> Highly skilled at archery, fencing, sword figh...</td>\n",
        "      <td> None (briefly considered \"''Hawkingbird''\", \"'...</td>\n",
        "      <td> The daughter of rich publishing magnate Derek ...</td>\n",
        "      <td> The daughter of rich publishing magnate Derek ...</td>\n",
        "      <td>  Avengers</td>\n",
        "      <td> U.S.A.</td>\n",
        "      <td> (as Kate Bishop) Young Avengers #1 (2005); (as...</td>\n",
        "      <td> Still in high School</td>\n",
        "      <td> Blue</td>\n",
        "      <td> [[Secret Avengers]], [[Young Avengers]]</td>\n",
        "      <td>...</td>\n",
        "      <td> Young Avengers Special #1</td>\n",
        "      <td> </td>\n",
        "      <td> New York City, New York</td>\n",
        "      <td> None</td>\n",
        "      <td> Katherine \"Kate\" Elizabeth Bishop</td>\n",
        "      <td> Derek Bishop (father), Eleanor Bishop (mother,...</td>\n",
        "      <td> Young Avengers #1-9 (2005), Young Avengers Spe...</td>\n",
        "      <td> [[Marvel Universe]]</td>\n",
        "      <td> Carries two battle staves similar to those onc...</td>\n",
        "      <td> 120 lbs.</td>\n",
        "    </tr>\n",
        "    <tr>\n",
        "      <th>2</th>\n",
        "      <td> Highly skilled at archery, fencing, sword figh...</td>\n",
        "      <td> None (briefly considered \"''Hawkingbird''\", \"'...</td>\n",
        "      <td> The daughter of rich publishing magnate Derek ...</td>\n",
        "      <td> The daughter of rich publishing magnate Derek ...</td>\n",
        "      <td>    Heroes</td>\n",
        "      <td> U.S.A.</td>\n",
        "      <td> (as Kate Bishop) Young Avengers #1 (2005); (as...</td>\n",
        "      <td> Still in high School</td>\n",
        "      <td> Blue</td>\n",
        "      <td> [[Secret Avengers]], [[Young Avengers]]</td>\n",
        "      <td>...</td>\n",
        "      <td> Young Avengers Special #1</td>\n",
        "      <td> </td>\n",
        "      <td> New York City, New York</td>\n",
        "      <td> None</td>\n",
        "      <td> Katherine \"Kate\" Elizabeth Bishop</td>\n",
        "      <td> Derek Bishop (father), Eleanor Bishop (mother,...</td>\n",
        "      <td> Young Avengers #1-9 (2005), Young Avengers Spe...</td>\n",
        "      <td> [[Marvel Universe]]</td>\n",
        "      <td> Carries two battle staves similar to those onc...</td>\n",
        "      <td> 120 lbs.</td>\n",
        "    </tr>\n",
        "    <tr>\n",
        "      <th>3</th>\n",
        "      <td> Highly skilled at archery, fencing, sword figh...</td>\n",
        "      <td> None (briefly considered \"''Hawkingbird''\", \"'...</td>\n",
        "      <td> The daughter of rich publishing magnate Derek ...</td>\n",
        "      <td> The daughter of rich publishing magnate Derek ...</td>\n",
        "      <td> Civil War</td>\n",
        "      <td> U.S.A.</td>\n",
        "      <td> (as Kate Bishop) Young Avengers #1 (2005); (as...</td>\n",
        "      <td> Still in high School</td>\n",
        "      <td> Blue</td>\n",
        "      <td> [[Secret Avengers]], [[Young Avengers]]</td>\n",
        "      <td>...</td>\n",
        "      <td> Young Avengers Special #1</td>\n",
        "      <td> </td>\n",
        "      <td> New York City, New York</td>\n",
        "      <td> None</td>\n",
        "      <td> Katherine \"Kate\" Elizabeth Bishop</td>\n",
        "      <td> Derek Bishop (father), Eleanor Bishop (mother,...</td>\n",
        "      <td> Young Avengers #1-9 (2005), Young Avengers Spe...</td>\n",
        "      <td> [[Marvel Universe]]</td>\n",
        "      <td> Carries two battle staves similar to those onc...</td>\n",
        "      <td> 120 lbs.</td>\n",
        "    </tr>\n",
        "  </tbody>\n",
        "</table>\n",
        "<p>4 rows \u00d7 25 columns</p>\n",
        "</div>"
       ],
       "metadata": {},
       "output_type": "pyout",
       "prompt_number": 15,
       "text": [
        "                                           abilities  \\\n",
        "0  Highly skilled at archery, fencing, sword figh...   \n",
        "1  Highly skilled at archery, fencing, sword figh...   \n",
        "2  Highly skilled at archery, fencing, sword figh...   \n",
        "3  Highly skilled at archery, fencing, sword figh...   \n",
        "\n",
        "                                             aliases  \\\n",
        "0  None (briefly considered \"''Hawkingbird''\", \"'...   \n",
        "1  None (briefly considered \"''Hawkingbird''\", \"'...   \n",
        "2  None (briefly considered \"''Hawkingbird''\", \"'...   \n",
        "3  None (briefly considered \"''Hawkingbird''\", \"'...   \n",
        "\n",
        "                                                 bio  \\\n",
        "0  The daughter of rich publishing magnate Derek ...   \n",
        "1  The daughter of rich publishing magnate Derek ...   \n",
        "2  The daughter of rich publishing magnate Derek ...   \n",
        "3  The daughter of rich publishing magnate Derek ...   \n",
        "\n",
        "                                            bio_text categories citizenship  \\\n",
        "0  The daughter of rich publishing magnate Derek ...      Women      U.S.A.   \n",
        "1  The daughter of rich publishing magnate Derek ...   Avengers      U.S.A.   \n",
        "2  The daughter of rich publishing magnate Derek ...     Heroes      U.S.A.   \n",
        "3  The daughter of rich publishing magnate Derek ...  Civil War      U.S.A.   \n",
        "\n",
        "                                               debut             education  \\\n",
        "0  (as Kate Bishop) Young Avengers #1 (2005); (as...  Still in high School   \n",
        "1  (as Kate Bishop) Young Avengers #1 (2005); (as...  Still in high School   \n",
        "2  (as Kate Bishop) Young Avengers #1 (2005); (as...  Still in high School   \n",
        "3  (as Kate Bishop) Young Avengers #1 (2005); (as...  Still in high School   \n",
        "\n",
        "   eyes                                   groups  \\\n",
        "0  Blue  [[Secret Avengers]], [[Young Avengers]]   \n",
        "1  Blue  [[Secret Avengers]], [[Young Avengers]]   \n",
        "2  Blue  [[Secret Avengers]], [[Young Avengers]]   \n",
        "3  Blue  [[Secret Avengers]], [[Young Avengers]]   \n",
        "\n",
        "                    ...                                        origin  \\\n",
        "0                   ...                     Young Avengers Special #1   \n",
        "1                   ...                     Young Avengers Special #1   \n",
        "2                   ...                     Young Avengers Special #1   \n",
        "3                   ...                     Young Avengers Special #1   \n",
        "\n",
        "  paraphernalia           place_of_birth powers  \\\n",
        "0                New York City, New York   None   \n",
        "1                New York City, New York   None   \n",
        "2                New York City, New York   None   \n",
        "3                New York City, New York   None   \n",
        "\n",
        "                           real_name  \\\n",
        "0  Katherine \"Kate\" Elizabeth Bishop   \n",
        "1  Katherine \"Kate\" Elizabeth Bishop   \n",
        "2  Katherine \"Kate\" Elizabeth Bishop   \n",
        "3  Katherine \"Kate\" Elizabeth Bishop   \n",
        "\n",
        "                                           relatives  \\\n",
        "0  Derek Bishop (father), Eleanor Bishop (mother,...   \n",
        "1  Derek Bishop (father), Eleanor Bishop (mother,...   \n",
        "2  Derek Bishop (father), Eleanor Bishop (mother,...   \n",
        "3  Derek Bishop (father), Eleanor Bishop (mother,...   \n",
        "\n",
        "                                  significant_issues             universe  \\\n",
        "0  Young Avengers #1-9 (2005), Young Avengers Spe...  [[Marvel Universe]]   \n",
        "1  Young Avengers #1-9 (2005), Young Avengers Spe...  [[Marvel Universe]]   \n",
        "2  Young Avengers #1-9 (2005), Young Avengers Spe...  [[Marvel Universe]]   \n",
        "3  Young Avengers #1-9 (2005), Young Avengers Spe...  [[Marvel Universe]]   \n",
        "\n",
        "                                             weapons    weight  \n",
        "0  Carries two battle staves similar to those onc...  120 lbs.  \n",
        "1  Carries two battle staves similar to those onc...  120 lbs.  \n",
        "2  Carries two battle staves similar to those onc...  120 lbs.  \n",
        "3  Carries two battle staves similar to those onc...  120 lbs.  \n",
        "\n",
        "[4 rows x 25 columns]"
       ]
      }
     ],
     "prompt_number": 15
    },
    {
     "cell_type": "code",
     "collapsed": false,
     "input": [
      "pd.DataFrame(characters_with_data[10]['wiki']\n",
      "             "
     ],
     "language": "python",
     "metadata": {},
     "outputs": [
      {
       "html": [
        "<div style=\"max-height:1000px;max-width:1500px;overflow:auto;\">\n",
        "<table border=\"1\" class=\"dataframe\">\n",
        "  <thead>\n",
        "    <tr style=\"text-align: right;\">\n",
        "      <th></th>\n",
        "      <th>abilities</th>\n",
        "      <th>aliases</th>\n",
        "      <th>bio</th>\n",
        "      <th>bio_text</th>\n",
        "      <th>blurb</th>\n",
        "      <th>categories</th>\n",
        "      <th>citizenship</th>\n",
        "      <th>debut</th>\n",
        "      <th>education</th>\n",
        "      <th>eyes</th>\n",
        "      <th>...</th>\n",
        "      <th>origin</th>\n",
        "      <th>paraphernalia</th>\n",
        "      <th>place_of_birth</th>\n",
        "      <th>powers</th>\n",
        "      <th>real_name</th>\n",
        "      <th>relatives</th>\n",
        "      <th>significant_issues</th>\n",
        "      <th>universe</th>\n",
        "      <th>weapons</th>\n",
        "      <th>weight</th>\n",
        "    </tr>\n",
        "  </thead>\n",
        "  <tbody>\n",
        "    <tr>\n",
        "      <th>0</th>\n",
        "      <td> </td>\n",
        "      <td> Tyranus</td>\n",
        "      <td> For more than a century, Romulus has been obse...</td>\n",
        "      <td> For more than a century, Romulus has been obse...</td>\n",
        "      <td> </td>\n",
        "      <td> Villains</td>\n",
        "      <td> Unrevealed</td>\n",
        "      <td> Wolverine #50 (2007)</td>\n",
        "      <td> Unrevealed, possible knowledge of genetics.</td>\n",
        "      <td> Brown</td>\n",
        "      <td>...</td>\n",
        "      <td> </td>\n",
        "      <td> </td>\n",
        "      <td> Unrevealed</td>\n",
        "      <td> </td>\n",
        "      <td> Romulus</td>\n",
        "      <td> None</td>\n",
        "      <td> </td>\n",
        "      <td> [[Marvel Universe]]</td>\n",
        "      <td> Romulus is an expert swordsman and has been se...</td>\n",
        "      <td> Unrevealed</td>\n",
        "    </tr>\n",
        "  </tbody>\n",
        "</table>\n",
        "<p>1 rows \u00d7 26 columns</p>\n",
        "</div>"
       ],
       "metadata": {},
       "output_type": "pyout",
       "prompt_number": 155,
       "text": [
        "  abilities  aliases                                                bio  \\\n",
        "0            Tyranus  For more than a century, Romulus has been obse...   \n",
        "\n",
        "                                            bio_text blurb categories  \\\n",
        "0  For more than a century, Romulus has been obse...         Villains   \n",
        "\n",
        "  citizenship                 debut  \\\n",
        "0  Unrevealed  Wolverine #50 (2007)   \n",
        "\n",
        "                                     education   eyes  ...   origin  \\\n",
        "0  Unrevealed, possible knowledge of genetics.  Brown  ...            \n",
        "\n",
        "  paraphernalia place_of_birth powers real_name relatives significant_issues  \\\n",
        "0                   Unrevealed          Romulus      None                      \n",
        "\n",
        "              universe                                            weapons  \\\n",
        "0  [[Marvel Universe]]  Romulus is an expert swordsman and has been se...   \n",
        "\n",
        "       weight  \n",
        "0  Unrevealed  \n",
        "\n",
        "[1 rows x 26 columns]"
       ]
      }
     ],
     "prompt_number": 155
    },
    {
     "cell_type": "code",
     "collapsed": false,
     "input": [
      "character_data_wrapper = m.get_characters(orderBy=\"-modified\", limit=\"100\",offset=\"100\")\n",
      "print(character_data_wrapper.status)\n"
     ],
     "language": "python",
     "metadata": {},
     "outputs": [
      {
       "output_type": "stream",
       "stream": "stdout",
       "text": [
        "Ok\n"
       ]
      }
     ],
     "prompt_number": 31
    },
    {
     "cell_type": "code",
     "collapsed": false,
     "input": [
      "from urllib.request import urlopen\n",
      "COMIC_VINE_URL = \"http://www.comicvine.com/api\"\n",
      "METHOD = \"search\""
     ],
     "language": "python",
     "metadata": {},
     "outputs": [],
     "prompt_number": 65
    },
    {
     "cell_type": "markdown",
     "metadata": {},
     "source": [
      "Entre par\u00e9ntesis pude estar su nombre real o el universo ?\n",
      "\n",
      "\u00a1Genial! Toca buscar con cuidado"
     ]
    },
    {
     "cell_type": "code",
     "collapsed": false,
     "input": [
      "#Generos: 0 es otro, 1 hombre y 2 mujer\n",
      "\n",
      "import re\n",
      "for c in characters_with_data:\n",
      "    c_name = re.sub(\"[\\(\\[].*?[\\)\\]]\", \"\", c['name']).rstrip()\n",
      "    values = {'api_key' : developer.get_comicvine_credentials(),\n",
      "              'format' : 'json',\n",
      "              'resources' : 'character',\n",
      "              'limit':'20',\n",
      "              'query':  c_name}\n",
      "\n",
      "    data = urlencode(values)\n",
      "    full_url = \"http://www.comicvine.com/api/search/\" + '?' + data\n",
      "\n",
      "    response = urlopen(full_url)\n",
      "    #the_page = response.read()\n",
      "\n",
      "\n",
      "    str_response = response.readall().decode('utf-8')\n",
      "    obj = json.loads(str_response)\n",
      "    \n",
      "    m = re.search('\\((.*?)\\)', c['name'])\n",
      "    if m:\n",
      "        disamb =  m.group(1)\n",
      "        #print(\"Con par\u00e9ntesis: \", m.group(1))\n",
      "        \n",
      "    # No hace falta desambig\u00fcar nada\n",
      "    if not m: \n",
      "        result = obj['results'][0]\n",
      "        if result['gender']:\n",
      "            #if 'Women' in c['wiki']['categories'] and result['gender']==2:\n",
      "            if result['gender']==2:\n",
      "                c['gender'] = \"Female\"\n",
      "                print(\"F \",result['name'], result['gender'])\n",
      "            elif result['gender']==1:\n",
      "                print(\"M \",result['name'], result['gender'], c['wiki']['categories'])\n",
      "                c['gender'] = \"Male\"\n",
      "            elif result['gender']==0:\n",
      "                print(\"O \", result['name'], result['gender'])\n",
      "                c['gender'] = \"Other\"\n",
      "            else:\n",
      "                print(\"???????????????????????\", result['name'], result['gender'])\n",
      "            \n",
      "    else:\n",
      "        #print(disamb, \"- \", c_name)\n",
      "        without_data = True\n",
      "        #Find the right one\n",
      "        for result in obj['results']:\n",
      "            # TODO: clean this up. There is an idiomatic way to do it\n",
      "            if 'publisher' in result.keys() and result['publisher']:\n",
      "                if result['publisher']['name'] == 'Marvel':\n",
      "                    if disamb == result['real_name'] or disamb == result['name']:\n",
      "                        aliases = result['aliases'].split()\n",
      "                        if c_name in aliases:\n",
      "                            #TODO double check if a woman it's actually a woman\n",
      "                            print(result['name'], result['gender'])\n",
      "                            without_data = False\n",
      "                            break\n",
      "\n",
      "        if without_data:\n",
      "            print(\"****************** Eliminar este personaje: \", c_name, \", \", disamb)\n",
      "            characters_with_data.remove(c)\n",
      "                # Cross validation, I'm sure it's a girl. \n",
      "                # Bajo apodos de chicos tb hay chicas. \n",
      "                #if 'Women' in c['wiki']['categories'] and result['gender']=='2':\n",
      "                #    print(\"F \",result['name'], result['gender'])\n",
      "                #    break\n",
      "                    \n",
      "                #elif result['gender']=='1':\n",
      "                #        print(\"M \",result['name']==c['name'], result['name'],c['name'])\n",
      "                #        print(\"M \",result['gender'], c['wiki']['categories'])\n",
      "                #        break\n",
      "                        \n",
      "    #print(c['name'], len(obj['results']))\n",
      "    #print()"
     ],
     "language": "python",
     "metadata": {},
     "outputs": [
      {
       "output_type": "stream",
       "stream": "stdout",
       "text": [
        "M  Justin Hammer 1 ['Villains', 'International', 'Deceased']\n",
        "Kate Bishop"
       ]
      },
      {
       "output_type": "stream",
       "stream": "stdout",
       "text": [
        " 2\n",
        "She-Hulk"
       ]
      },
      {
       "output_type": "stream",
       "stream": "stdout",
       "text": [
        " 2\n",
        "F "
       ]
      },
      {
       "output_type": "stream",
       "stream": "stdout",
       "text": [
        " Namora 2\n",
        "M "
       ]
      },
      {
       "output_type": "stream",
       "stream": "stdout",
       "text": [
        " Zuras 1 ['Avengers', 'Cosmic', 'Civil War', 'Heroes']\n",
        "M "
       ]
      },
      {
       "output_type": "stream",
       "stream": "stdout",
       "text": [
        " Fat Cobra 1 ['Heroes']\n",
        "M "
       ]
      },
      {
       "output_type": "stream",
       "stream": "stdout",
       "text": [
        " Romulus 1 ['Villains']\n",
        "F "
       ]
      },
      {
       "output_type": "stream",
       "stream": "stdout",
       "text": [
        " Rachel Grey 2\n",
        "M "
       ]
      },
      {
       "output_type": "stream",
       "stream": "stdout",
       "text": [
        " Shiver Man 1 ['X-Men', 'Horror']\n",
        "F "
       ]
      },
      {
       "output_type": "stream",
       "stream": "stdout",
       "text": [
        " Mariko Yashida 2\n",
        "M "
       ]
      },
      {
       "output_type": "stream",
       "stream": "stdout",
       "text": [
        " Aqueduct 1 [' Villains', ' Thunderbolts', 'Civil War']\n",
        "M "
       ]
      },
      {
       "output_type": "stream",
       "stream": "stdout",
       "text": [
        " Mr. Hyde 1 ['People', 'Marvel Knights', 'Villains']\n",
        "F "
       ]
      },
      {
       "output_type": "stream",
       "stream": "stdout",
       "text": [
        " Loa 2\n",
        "M "
       ]
      },
      {
       "output_type": "stream",
       "stream": "stdout",
       "text": [
        " Paibok The Power Skrull 1 ['Cosmic', 'Villains', 'Fantastic Four', 'Annihilation']\n",
        "M "
       ]
      },
      {
       "output_type": "stream",
       "stream": "stdout",
       "text": [
        " Shell 1 ['Cosmic', 'X-Men']\n",
        "M "
       ]
      },
      {
       "output_type": "stream",
       "stream": "stdout",
       "text": [
        " Boom Boom 1 ['X-Men', 'Heroes', 'Women', 'Mutants', \" People who used to be dead but aren't anymore\"]\n",
        "F "
       ]
      },
      {
       "output_type": "stream",
       "stream": "stdout",
       "text": [
        " Bloodaxe 2\n",
        "M "
       ]
      },
      {
       "output_type": "stream",
       "stream": "stdout",
       "text": [
        " Controller 1 ['People', 'Villains', 'Avengers']\n",
        "M "
       ]
      },
      {
       "output_type": "stream",
       "stream": "stdout",
       "text": [
        " Blackheart 1 ['Horror', 'Magic', 'Cosmic', 'Villains']\n",
        "M "
       ]
      },
      {
       "output_type": "stream",
       "stream": "stdout",
       "text": [
        " Anthem 1 ['Heroes', 'Initiative']\n",
        "M "
       ]
      },
      {
       "output_type": "stream",
       "stream": "stdout",
       "text": [
        " Daredevil 1 ['Heroes', 'Marvel Knights']\n",
        "M "
       ]
      },
      {
       "output_type": "stream",
       "stream": "stdout",
       "text": [
        " Rhino 1 ['People', 'Villains', 'Spider-Man', 'Spider-Man Villains']\n",
        "M "
       ]
      },
      {
       "output_type": "stream",
       "stream": "stdout",
       "text": [
        " Madrox 1 ['Heroes', 'X-Men', 'Mutants', 'Marvel Knights', 'Civil War']\n",
        "M "
       ]
      },
      {
       "output_type": "stream",
       "stream": "stdout",
       "text": [
        " Mantis 1 ['Heroes', 'Women', 'Avengers', 'Cosmic', 'International']\n",
        "M "
       ]
      },
      {
       "output_type": "stream",
       "stream": "stdout",
       "text": [
        " Dark Beast 1 ['Age of Apocalypse', 'X-Men', 'Villains', 'Mutants']\n",
        "M "
       ]
      },
      {
       "output_type": "stream",
       "stream": "stdout",
       "text": [
        " The Bug 1 ['Cosmic']\n",
        "M "
       ]
      },
      {
       "output_type": "stream",
       "stream": "stdout",
       "text": [
        " Dazzler 1 ['X-Men', 'Women', 'Heroes', 'Mutants', \"People who used to be dead but aren't anymore\"]\n",
        "M "
       ]
      },
      {
       "output_type": "stream",
       "stream": "stdout",
       "text": [
        " Junta 1 ['Heroes', 'International', 'Marvel Knights']\n",
        "M "
       ]
      },
      {
       "output_type": "stream",
       "stream": "stdout",
       "text": [
        " Delinquent 1 ['Cosmic', 'Villains', 'Fantastic Four']\n",
        "F "
       ]
      },
      {
       "output_type": "stream",
       "stream": "stdout",
       "text": [
        " Arachne 2\n",
        "M "
       ]
      },
      {
       "output_type": "stream",
       "stream": "stdout",
       "text": [
        " Genesis 1 ['X-Men', 'Villains', 'Deceased', 'Mutants']\n",
        "M "
       ]
      },
      {
       "output_type": "stream",
       "stream": "stdout",
       "text": [
        " Loki 1 ['Avengers', 'Gods', 'Magic', 'Villains', 'Thor']\n",
        "M "
       ]
      },
      {
       "output_type": "stream",
       "stream": "stdout",
       "text": [
        " Dracula 1 ['Villains', 'Horror', 'International', \"People who used to be dead but aren't anymore\", 'Magic']\n",
        "F "
       ]
      },
      {
       "output_type": "stream",
       "stream": "stdout",
       "text": [
        " Nekra 2\n",
        "M "
       ]
      },
      {
       "output_type": "stream",
       "stream": "stdout",
       "text": [
        " The Owl 1 ['people', 'villains', 'Marvel Knights']\n",
        "M "
       ]
      },
      {
       "output_type": "stream",
       "stream": "stdout",
       "text": [
        " Bishop 1 ['X-Men', 'Heroes', 'Mutants', 'Civil War', 'Initiative']\n",
        "M "
       ]
      },
      {
       "output_type": "stream",
       "stream": "stdout",
       "text": [
        " Imp 1 ['Heroes', 'Women', 'International']\n",
        "F "
       ]
      },
      {
       "output_type": "stream",
       "stream": "stdout",
       "text": [
        " Sway 2\n",
        "M "
       ]
      },
      {
       "output_type": "stream",
       "stream": "stdout",
       "text": [
        " Namor 1 ['Heroes', 'Avengers', 'Fantastic Four', 'International', 'Mutants', 'Civil War', 'X-Men']\n",
        "F "
       ]
      },
      {
       "output_type": "stream",
       "stream": "stdout",
       "text": [
        " Jane Foster 2\n",
        "M "
       ]
      },
      {
       "output_type": "stream",
       "stream": "stdout",
       "text": [
        " Prodigy 1 ['Heroes', 'Mutants', 'X-Men']\n",
        "M "
       ]
      },
      {
       "output_type": "stream",
       "stream": "stdout",
       "text": [
        " Dormammu 1 ['Horror', 'Magic', 'Villains']\n",
        "M "
       ]
      },
      {
       "output_type": "stream",
       "stream": "stdout",
       "text": [
        " Blue Shield 1 ['Heroes']\n",
        "M "
       ]
      },
      {
       "output_type": "stream",
       "stream": "stdout",
       "text": [
        " Puppet Master 1 ['Villains', 'Fantastic Four', 'X-Men', 'Civil War']\n",
        "F "
       ]
      },
      {
       "output_type": "stream",
       "stream": "stdout",
       "text": [
        " Karolina Dean 2\n",
        "F "
       ]
      },
      {
       "output_type": "stream",
       "stream": "stdout",
       "text": [
        " Photon 2\n",
        "Tarantula (Alvarez)"
       ]
      },
      {
       "output_type": "stream",
       "stream": "stdout",
       "text": [
        " 1\n",
        "M "
       ]
      },
      {
       "output_type": "stream",
       "stream": "stdout",
       "text": [
        " Quentin Quire 1 ['X-Men', 'Villains', 'Mutants']\n",
        "F "
       ]
      },
      {
       "output_type": "stream",
       "stream": "stdout",
       "text": [
        " Big Bertha 2\n",
        "F "
       ]
      },
      {
       "output_type": "stream",
       "stream": "stdout",
       "text": [
        " Unicorn 2\n",
        "M "
       ]
      },
      {
       "output_type": "stream",
       "stream": "stdout",
       "text": [
        " Vindicator 1 ['Heroes', 'Women', 'International', 'Canadians', 'Deceased']\n",
        "F "
       ]
      },
      {
       "output_type": "stream",
       "stream": "stdout",
       "text": [
        " Polaris 2\n",
        "M "
       ]
      },
      {
       "output_type": "stream",
       "stream": "stdout",
       "text": [
        " Warstar 1 ['X-Men', 'Cosmic', 'Deceased']\n",
        "F "
       ]
      },
      {
       "output_type": "stream",
       "stream": "stdout",
       "text": [
        " Layla Miller 2\n",
        "M "
       ]
      },
      {
       "output_type": "stream",
       "stream": "stdout",
       "text": [
        " Franklin Richards 1 ['X-Men', 'Fantastic Four', 'Mutants', 'Heroes']\n",
        "F "
       ]
      },
      {
       "output_type": "stream",
       "stream": "stdout",
       "text": [
        " Lady Bullseye 2\n",
        "F "
       ]
      },
      {
       "output_type": "stream",
       "stream": "stdout",
       "text": [
        " Lady Deathstrike 2\n",
        "M "
       ]
      },
      {
       "output_type": "stream",
       "stream": "stdout",
       "text": [
        " Pyro 1 ['X-Men', 'Villains', \"People who used to be dead but aren't anymore\", 'International', 'Mutants']\n",
        "M "
       ]
      },
      {
       "output_type": "stream",
       "stream": "stdout",
       "text": [
        " Silvermane 1 ['Villains', 'Spider-Man', \"People who used to be dead but aren't anymore\"]\n",
        "Eddie Brock"
       ]
      },
      {
       "output_type": "stream",
       "stream": "stdout",
       "text": [
        " 1\n",
        "M "
       ]
      },
      {
       "output_type": "stream",
       "stream": "stdout",
       "text": [
        " Mammon 1 ['Heroes', 'Avengers', 'Deceased']\n",
        "M "
       ]
      },
      {
       "output_type": "stream",
       "stream": "stdout",
       "text": [
        " Havok 1 ['Heroes', 'X-Men', 'Mutants']\n",
        "M "
       ]
      },
      {
       "output_type": "stream",
       "stream": "stdout",
       "text": [
        " Hydro-Man 1 ['Villains', 'Fantastic_Four', 'Spider-Man', 'Spider-Man Villains']\n",
        "M "
       ]
      },
      {
       "output_type": "stream",
       "stream": "stdout",
       "text": [
        " Catseye 1 ['X-Men', 'Villains', 'Women', \"People who used to be dead but aren't anymore\", 'Mutants']\n",
        "F "
       ]
      },
      {
       "output_type": "stream",
       "stream": "stdout",
       "text": [
        " Chameleon 2\n",
        "M "
       ]
      },
      {
       "output_type": "stream",
       "stream": "stdout",
       "text": [
        " U.S.Agent 1 ['Avengers', 'Civil War', 'Heroes', 'Thunderbolts', 'International']\n",
        "M "
       ]
      },
      {
       "output_type": "stream",
       "stream": "stdout",
       "text": [
        " The Abyss 1 ['Cosmic', 'Magic', 'Villains']\n",
        "F "
       ]
      },
      {
       "output_type": "stream",
       "stream": "stdout",
       "text": [
        " Moondragon 2\n",
        "M "
       ]
      },
      {
       "output_type": "stream",
       "stream": "stdout",
       "text": [
        " Morbius 1 ['Heroes', 'Horror', 'Spider-Man', 'Magic', 'Civil War', 'Initiative', 'Spider-Man Villains']\n",
        "F "
       ]
      },
      {
       "output_type": "stream",
       "stream": "stdout",
       "text": [
        " The Fury 2\n",
        "M "
       ]
      },
      {
       "output_type": "stream",
       "stream": "stdout",
       "text": [
        " Electro 1 ['Villains', 'Spider-Man', 'Spider-Man Villains']\n",
        "M "
       ]
      },
      {
       "output_type": "stream",
       "stream": "stdout",
       "text": [
        " Wiccan 1 ['Avengers', 'Civil War', 'Heroes', 'Initiative', 'Magic']\n",
        "M "
       ]
      },
      {
       "output_type": "stream",
       "stream": "stdout",
       "text": [
        " Blastaar 1 ['Annihilation', 'Avengers', 'Cosmic', 'Fantastic Four', 'Villains']\n",
        "M "
       ]
      },
      {
       "output_type": "stream",
       "stream": "stdout",
       "text": [
        " Adam Warlock 1 ['Avengers', 'Cosmic', 'Fantastic Four', 'Heroes', \"People who used to be dead but aren't anymore\"]\n",
        "M "
       ]
      },
      {
       "output_type": "stream",
       "stream": "stdout",
       "text": [
        " Kingpin 1 ['Villains', 'Spider-Man', 'Marvel Knights', 'Spider-Man Villains']\n",
        "M "
       ]
      },
      {
       "output_type": "stream",
       "stream": "stdout",
       "text": [
        " Korath the Pursuer 1 ['Cosmic', 'Deceased', 'Villains']\n",
        "M "
       ]
      },
      {
       "output_type": "stream",
       "stream": "stdout",
       "text": [
        " Galactus 1 ['Fantastic Four', 'Villains', 'Cosmic', \"People who used to be dead but aren't anymore\", 'Annihilation']\n",
        "F "
       ]
      },
      {
       "output_type": "stream",
       "stream": "stdout",
       "text": [
        " Pixie 2\n",
        "F "
       ]
      },
      {
       "output_type": "stream",
       "stream": "stdout",
       "text": [
        " Unuscione 2\n",
        "M "
       ]
      },
      {
       "output_type": "stream",
       "stream": "stdout",
       "text": [
        " Menace 1 ['Spider-Man', 'Spider-Man Villains', 'Villains', 'Women']\n",
        "M "
       ]
      },
      {
       "output_type": "stream",
       "stream": "stdout",
       "text": [
        " Hussar 1 ['X-Men', 'Cosmic', 'Women']\n",
        "M "
       ]
      },
      {
       "output_type": "stream",
       "stream": "stdout",
       "text": [
        " Geiger 1 ['Heroes', 'Hulk', 'Initiative', 'Women']\n",
        "F "
       ]
      },
      {
       "output_type": "stream",
       "stream": "stdout",
       "text": [
        " Jazinda 2\n",
        "M "
       ]
      },
      {
       "output_type": "stream",
       "stream": "stdout",
       "text": [
        " William Stryker 1 ['Villains', 'X-Men', 'Deceased']\n",
        "M "
       ]
      },
      {
       "output_type": "stream",
       "stream": "stdout",
       "text": [
        " War 1 ['Avengers', 'Civil War', 'Fantastic Four', 'Marvel Knights', 'Spider-Man', 'Thunderbolts', 'X-Men']\n",
        "F "
       ]
      },
      {
       "output_type": "stream",
       "stream": "stdout",
       "text": [
        " Debrii 2\n",
        "F "
       ]
      },
      {
       "output_type": "stream",
       "stream": "stdout",
       "text": [
        " Virginia Dare 2\n",
        "M "
       ]
      },
      {
       "output_type": "stream",
       "stream": "stdout",
       "text": [
        " The Wasp 1 ['Women', 'Heroes', 'Avengers', 'Civil War']\n",
        "****************** Eliminar este personaje: "
       ]
      },
      {
       "output_type": "stream",
       "stream": "stdout",
       "text": [
        " Hulk ,  Marvel Zombies\n",
        "M "
       ]
      },
      {
       "output_type": "stream",
       "stream": "stdout",
       "text": [
        " Hulk 1 ['Heroes', 'Hulk', 'Avengers']\n",
        "F "
       ]
      },
      {
       "output_type": "stream",
       "stream": "stdout",
       "text": [
        " Silhouette 2\n",
        "M "
       ]
      },
      {
       "output_type": "stream",
       "stream": "stdout",
       "text": [
        " Inertia 1 ['Squadron Supreme', 'Deceased']\n",
        "F "
       ]
      },
      {
       "output_type": "stream",
       "stream": "stdout",
       "text": [
        " Black Knight 2\n",
        "****************** Eliminar este personaje: "
       ]
      },
      {
       "output_type": "stream",
       "stream": "stdout",
       "text": [
        " Sunfire ,  Age of Apocalypse\n",
        "****************** Eliminar este personaje: "
       ]
      },
      {
       "output_type": "stream",
       "stream": "stdout",
       "text": [
        " War Machine ,  Parnell Jacobs\n",
        "M "
       ]
      },
      {
       "output_type": "stream",
       "stream": "stdout",
       "text": [
        " Josiah X 1 ['Heroes', 'Avengers']\n",
        "M "
       ]
      },
      {
       "output_type": "stream",
       "stream": "stdout",
       "text": [
        " Anole 1 ['X-Men', 'Heroes', 'Mutants']\n",
        "****************** Eliminar este personaje: "
       ]
      },
      {
       "output_type": "stream",
       "stream": "stdout",
       "text": [
        " Union Jack ,  Brian Falsworth\n",
        "M "
       ]
      },
      {
       "output_type": "stream",
       "stream": "stdout",
       "text": [
        " Pete Wisdom 1 ['X-Men', 'International', 'Heroes', 'Mutants']\n",
        "F "
       ]
      },
      {
       "output_type": "stream",
       "stream": "stdout",
       "text": [
        " Nebula 2\n",
        "M "
       ]
      },
      {
       "output_type": "stream",
       "stream": "stdout",
       "text": [
        " Swordsman 1 ['Civil War', 'Heroes', 'Initiative', 'International', 'Reformed Villains', 'Thunderbolts', 'Deceased']\n",
        "M "
       ]
      },
      {
       "output_type": "stream",
       "stream": "stdout",
       "text": [
        " Vision 1 ['Heroes', 'Avengers', \"People who used to be dead but aren't anymore\", 'Civil War']\n",
        "****************** Eliminar este personaje: "
       ]
      },
      {
       "output_type": "stream",
       "stream": "stdout",
       "text": [
        " Vanisher ,  Telford Porter\n",
        "****************** Eliminar este personaje: "
       ]
      },
      {
       "output_type": "stream",
       "stream": "stdout",
       "text": [
        " Sphinx ,  Anath-Na Mut\n",
        "M "
       ]
      },
      {
       "output_type": "stream",
       "stream": "stdout",
       "text": [
        " Mikhail Rasputin 1 ['X-Men', 'International', 'Villains', 'Mutants']\n",
        "F "
       ]
      },
      {
       "output_type": "stream",
       "stream": "stdout",
       "text": [
        " Shriek 2\n",
        "F "
       ]
      },
      {
       "output_type": "stream",
       "stream": "stdout",
       "text": [
        " Jessica Jones 2\n",
        "****************** Eliminar este personaje: "
       ]
      },
      {
       "output_type": "stream",
       "stream": "stdout",
       "text": [
        " Red Skull ,  Albert Malik\n",
        "****************** Eliminar este personaje: "
       ]
      },
      {
       "output_type": "stream",
       "stream": "stdout",
       "text": [
        " Nova ,  Frankie Raye\n",
        "M "
       ]
      },
      {
       "output_type": "stream",
       "stream": "stdout",
       "text": [
        " Bushwacker 1 ['People', 'Villains', 'Marvel Knights']\n",
        "M "
       ]
      },
      {
       "output_type": "stream",
       "stream": "stdout",
       "text": [
        " X-Man 1 ['X-Men', 'Heroes', \"People who used to be dead but aren't anymore \", 'Mutants', 'Age of Apocalypse']\n",
        "M "
       ]
      },
      {
       "output_type": "stream",
       "stream": "stdout",
       "text": [
        " Sunfire 1 ['X-Men', 'International', 'Heroes', 'Villains', 'Mutants']\n",
        "****************** Eliminar este personaje: "
       ]
      },
      {
       "output_type": "stream",
       "stream": "stdout",
       "text": [
        " Elektra Natchios ,  Ultimate\n",
        "M "
       ]
      },
      {
       "output_type": "stream",
       "stream": "stdout",
       "text": [
        " Mr. Fantastic 1 ['Avengers', 'Civil War', 'Fantastic Four', 'Heroes']\n",
        "F "
       ]
      },
      {
       "output_type": "stream",
       "stream": "stdout",
       "text": [
        " Elektra 2\n",
        "F "
       ]
      },
      {
       "output_type": "stream",
       "stream": "stdout",
       "text": [
        " Blink 2\n",
        "F "
       ]
      },
      {
       "output_type": "stream",
       "stream": "stdout",
       "text": [
        " Sin 2\n",
        "M "
       ]
      },
      {
       "output_type": "stream",
       "stream": "stdout",
       "text": [
        " Rocket Racer 1 ['Villains', 'Heroes', 'Spider-Man', 'Civil War', 'Initiative']\n",
        "F "
       ]
      },
      {
       "output_type": "stream",
       "stream": "stdout",
       "text": [
        " Emma Frost 2\n",
        "M "
       ]
      },
      {
       "output_type": "stream",
       "stream": "stdout",
       "text": [
        " Aginar 1 ['Heroes', 'Avengers', 'Civil War']\n",
        "M "
       ]
      },
      {
       "output_type": "stream",
       "stream": "stdout",
       "text": [
        " Shockwave 1 ['People', 'International', 'Villains', 'Civil War']\n",
        "M "
       ]
      },
      {
       "output_type": "stream",
       "stream": "stdout",
       "text": [
        " Longshot 1 ['Exiles', 'Heroes', 'X-Men']\n",
        "F "
       ]
      },
      {
       "output_type": "stream",
       "stream": "stdout",
       "text": [
        " Valeria Richards 2\n",
        "M "
       ]
      },
      {
       "output_type": "stream",
       "stream": "stdout",
       "text": [
        " Garrison Kane 1 ['People', 'X-Men', 'Villains', 'Heroes', 'Deceased']\n",
        "M "
       ]
      },
      {
       "output_type": "stream",
       "stream": "stdout",
       "text": [
        " Spectrum 1 ['Avengers', 'Women', 'Heroes', 'Civil War']\n",
        "****************** Eliminar este personaje: "
       ]
      },
      {
       "output_type": "stream",
       "stream": "stdout",
       "text": [
        " Union Jack ,  Montgomery Falsworth\n",
        "F "
       ]
      },
      {
       "output_type": "stream",
       "stream": "stdout",
       "text": [
        " Black Cat 2\n",
        "F "
       ]
      },
      {
       "output_type": "stream",
       "stream": "stdout",
       "text": [
        " Nocturne 2\n",
        "M "
       ]
      },
      {
       "output_type": "stream",
       "stream": "stdout",
       "text": [
        " Benjy Parker 1 ['Deceased']\n",
        "****************** Eliminar este personaje: "
       ]
      },
      {
       "output_type": "stream",
       "stream": "stdout",
       "text": [
        " Magma ,  Amara Aquilla\n",
        "M "
       ]
      },
      {
       "output_type": "stream",
       "stream": "stdout",
       "text": [
        " Supernaut 1 ['Heroes', 'Initiative']\n",
        "M "
       ]
      },
      {
       "output_type": "stream",
       "stream": "stdout",
       "text": [
        " The Black Panther 1 ['Marvel Knights', 'Heroes', 'Avengers', 'International', 'Civil War', 'Fantastic Four']\n",
        "M "
       ]
      },
      {
       "output_type": "stream",
       "stream": "stdout",
       "text": [
        " David Bank 1 ['Golden Age', 'Heroes', 'Cosmic']\n",
        "M "
       ]
      },
      {
       "output_type": "stream",
       "stream": "stdout",
       "text": [
        " Ord 1 ['X-Men', 'Villains', 'Cosmic']\n",
        "M "
       ]
      },
      {
       "output_type": "stream",
       "stream": "stdout",
       "text": [
        " M.O.D.O.K. 1 ['Avengers', 'Hulk', ' Villains', \" People who used to be dead but aren't anymore\"]\n",
        "M "
       ]
      },
      {
       "output_type": "stream",
       "stream": "stdout",
       "text": [
        " Star Brand 1 None\n",
        "F "
       ]
      },
      {
       "output_type": "stream",
       "stream": "stdout",
       "text": [
        " Human Torch 2\n",
        "****************** Eliminar este personaje: "
       ]
      },
      {
       "output_type": "stream",
       "stream": "stdout",
       "text": [
        " Ant-Man ,  Scott Lang\n",
        "****************** Eliminar este personaje: "
       ]
      },
      {
       "output_type": "stream",
       "stream": "stdout",
       "text": [
        " Magneto ,  Age of Apocalypse\n",
        "M "
       ]
      },
      {
       "output_type": "stream",
       "stream": "stdout",
       "text": [
        " Surge 1 ['X-Men', 'Women', 'Heroes', 'Mutants']\n",
        "M "
       ]
      },
      {
       "output_type": "stream",
       "stream": "stdout",
       "text": [
        " Bloodscream 1 ['X-Men', 'Villains', 'Magic', 'Horror']\n",
        "Francis Klum"
       ]
      },
      {
       "output_type": "stream",
       "stream": "stdout",
       "text": [
        " 1\n",
        "F "
       ]
      },
      {
       "output_type": "stream",
       "stream": "stdout",
       "text": [
        " Misty Knight 2\n",
        "M "
       ]
      },
      {
       "output_type": "stream",
       "stream": "stdout",
       "text": [
        " Cosmo 1 ['Cosmic', 'Heroes']\n",
        "F "
       ]
      },
      {
       "output_type": "stream",
       "stream": "stdout",
       "text": [
        " Alicia Masters 2\n",
        "M "
       ]
      },
      {
       "output_type": "stream",
       "stream": "stdout",
       "text": [
        " Hellion 1 ['X-Men', 'Heroes', 'Mutants']\n",
        "F "
       ]
      },
      {
       "output_type": "stream",
       "stream": "stdout",
       "text": [
        " Praxagora 2\n",
        "F "
       ]
      },
      {
       "output_type": "stream",
       "stream": "stdout",
       "text": [
        " Dust 2\n",
        "****************** Eliminar este personaje: "
       ]
      },
      {
       "output_type": "stream",
       "stream": "stdout",
       "text": [
        " Rogue ,  Age of Apocalypse\n",
        "****************** Eliminar este personaje: "
       ]
      },
      {
       "output_type": "stream",
       "stream": "stdout",
       "text": [
        " Spider-Man ,  1602\n",
        "****************** Eliminar este personaje: "
       ]
      },
      {
       "output_type": "stream",
       "stream": "stdout",
       "text": [
        " Captain America ,  Ultimate\n",
        "M "
       ]
      },
      {
       "output_type": "stream",
       "stream": "stdout",
       "text": [
        " Trauma 1 ['Avengers', 'Heroes', 'Initiative']\n",
        "****************** Eliminar este personaje: "
       ]
      },
      {
       "output_type": "stream",
       "stream": "stdout",
       "text": [
        " Moira MacTaggert ,  Ultimate\n",
        "M "
       ]
      },
      {
       "output_type": "stream",
       "stream": "stdout",
       "text": [
        " Meltdown 1 ['X-Men', 'Heroes', 'Women', 'Mutants', \" People who used to be dead but aren't anymore\"]\n",
        "****************** Eliminar este personaje: "
       ]
      },
      {
       "output_type": "stream",
       "stream": "stdout",
       "text": [
        " Whizzer ,  Stanley Stewart\n",
        "F "
       ]
      },
      {
       "output_type": "stream",
       "stream": "stdout",
       "text": [
        " Aunt May 2\n",
        "F "
       ]
      },
      {
       "ename": "AttributeError",
       "evalue": "'NoneType' object has no attribute 'split'",
       "output_type": "pyerr",
       "traceback": [
        "\u001b[1;31m---------------------------------------------------------------------------\u001b[0m\n\u001b[1;31mAttributeError\u001b[0m                            Traceback (most recent call last)",
        "\u001b[1;32m<ipython-input-241-03efe1832177>\u001b[0m in \u001b[0;36m<module>\u001b[1;34m()\u001b[0m\n\u001b[0;32m     51\u001b[0m                 \u001b[1;32mif\u001b[0m \u001b[0mresult\u001b[0m\u001b[1;33m[\u001b[0m\u001b[1;34m'publisher'\u001b[0m\u001b[1;33m]\u001b[0m\u001b[1;33m[\u001b[0m\u001b[1;34m'name'\u001b[0m\u001b[1;33m]\u001b[0m \u001b[1;33m==\u001b[0m \u001b[1;34m'Marvel'\u001b[0m\u001b[1;33m:\u001b[0m\u001b[1;33m\u001b[0m\u001b[0m\n\u001b[0;32m     52\u001b[0m                     \u001b[1;32mif\u001b[0m \u001b[0mdisamb\u001b[0m \u001b[1;33m==\u001b[0m \u001b[0mresult\u001b[0m\u001b[1;33m[\u001b[0m\u001b[1;34m'real_name'\u001b[0m\u001b[1;33m]\u001b[0m \u001b[1;32mor\u001b[0m \u001b[0mdisamb\u001b[0m \u001b[1;33m==\u001b[0m \u001b[0mresult\u001b[0m\u001b[1;33m[\u001b[0m\u001b[1;34m'name'\u001b[0m\u001b[1;33m]\u001b[0m\u001b[1;33m:\u001b[0m\u001b[1;33m\u001b[0m\u001b[0m\n\u001b[1;32m---> 53\u001b[1;33m                         \u001b[0maliases\u001b[0m \u001b[1;33m=\u001b[0m \u001b[0mresult\u001b[0m\u001b[1;33m[\u001b[0m\u001b[1;34m'aliases'\u001b[0m\u001b[1;33m]\u001b[0m\u001b[1;33m.\u001b[0m\u001b[0msplit\u001b[0m\u001b[1;33m(\u001b[0m\u001b[1;33m)\u001b[0m\u001b[1;33m\u001b[0m\u001b[0m\n\u001b[0m\u001b[0;32m     54\u001b[0m                         \u001b[1;32mif\u001b[0m \u001b[0mc_name\u001b[0m \u001b[1;32min\u001b[0m \u001b[0maliases\u001b[0m\u001b[1;33m:\u001b[0m\u001b[1;33m\u001b[0m\u001b[0m\n\u001b[0;32m     55\u001b[0m                             \u001b[1;31m#TODO double check if a woman it's actually a woman\u001b[0m\u001b[1;33m\u001b[0m\u001b[1;33m\u001b[0m\u001b[0m\n",
        "\u001b[1;31mAttributeError\u001b[0m: 'NoneType' object has no attribute 'split'"
       ]
      },
      {
       "output_type": "stream",
       "stream": "stdout",
       "text": [
        " Dead Girl 2\n"
       ]
      }
     ],
     "prompt_number": 241
    },
    {
     "cell_type": "code",
     "collapsed": false,
     "input": [
      "for c in characters_with_data:\n",
      "    if (\"Sunfire\" in c['name']):\n",
      "        print(c['name'])"
     ],
     "language": "python",
     "metadata": {},
     "outputs": [
      {
       "output_type": "stream",
       "stream": "stdout",
       "text": [
        "Sunfire\n"
       ]
      }
     ],
     "prompt_number": 244
    },
    {
     "cell_type": "code",
     "collapsed": false,
     "input": [
      "characters_with_data[0][\"wiki\"].keys()"
     ],
     "language": "python",
     "metadata": {},
     "outputs": [
      {
       "metadata": {},
       "output_type": "pyout",
       "prompt_number": 248,
       "text": [
        "dict_keys(['place_of_birth', 'paraphernalia', 'main_image', 'groups', 'aliases', 'powers', 'significant_issues', 'debut', 'bio', 'real_name', 'relatives', 'categories', 'abilities', 'weight', 'origin', 'height', 'citizenship', 'bio_text', 'weapons', 'hair', 'education', 'occupation', 'identity', 'universe', 'eyes'])"
       ]
      }
     ],
     "prompt_number": 248
    },
    {
     "cell_type": "code",
     "collapsed": false,
     "input": [
      "print(characters_with_data[0][\"name\"])\n",
      "print(characters_with_data[0][\"wiki\"][\"citizenship\"])\n",
      "print(characters_with_data[0][\"gender\"])"
     ],
     "language": "python",
     "metadata": {},
     "outputs": [
      {
       "output_type": "stream",
       "stream": "stdout",
       "text": [
        "Justin Hammer\n",
        "Citizen of Monaco\n",
        "Male\n"
       ]
      }
     ],
     "prompt_number": 251
    },
    {
     "cell_type": "code",
     "collapsed": false,
     "input": [
      "num_characters_with_gender = len(characters_with_data)\n",
      "print(\"Ten\u00edamos {} y nos quedamos con {}.\"\\\n",
      "      \" Un {:.4f}% menos\".format(num_characters_with_wiki, num_characters_with_gender,\n",
      "                            100-(num_characters_with_gender*100/num_characters_with_wiki)))"
     ],
     "language": "python",
     "metadata": {},
     "outputs": [
      {
       "output_type": "stream",
       "stream": "stdout",
       "text": [
        "Ten\u00edamos 762 y nos quedamos con 762. Un 0.0000% menos\n"
       ]
      }
     ],
     "prompt_number": 259
    },
    {
     "cell_type": "code",
     "collapsed": false,
     "input": [],
     "language": "python",
     "metadata": {},
     "outputs": []
    }
   ],
   "metadata": {}
  }
 ]
}